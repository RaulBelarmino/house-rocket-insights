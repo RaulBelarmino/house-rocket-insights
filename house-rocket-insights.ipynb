{
 "cells": [
  {
   "cell_type": "markdown",
   "metadata": {},
   "source": [
    "# 0.0. IMPORTS "
   ]
  },
  {
   "cell_type": "code",
   "execution_count": 2,
   "metadata": {
    "ExecuteTime": {
     "end_time": "2021-08-11T03:38:59.262713Z",
     "start_time": "2021-08-11T03:38:44.246257Z"
    }
   },
   "outputs": [],
   "source": [
    "import math\n",
    "import warnings\n",
    "import pandas             as pd\n",
    "import numpy              as np\n",
    "import seaborn            as sns\n",
    "import ipywidgets         as widgets\n",
    "import matplotlib.pyplot  as plt\n",
    "\n",
    "from tabulate             import tabulate\n",
    "from collections          import Counter\n",
    "from IPython.display      import Image\n",
    "from matplotlib           import gridspec\n",
    "from datetime             import date, datetime\n",
    "from geopy                import distance\n",
    "from geopy.distance       import great_circle"
   ]
  },
  {
   "cell_type": "markdown",
   "metadata": {},
   "source": [
    "## 0.1. Helper Functions"
   ]
  },
  {
   "cell_type": "code",
   "execution_count": 3,
   "metadata": {
    "ExecuteTime": {
     "end_time": "2021-08-11T03:38:59.297862Z",
     "start_time": "2021-08-11T03:38:59.262713Z"
    },
    "code_folding": []
   },
   "outputs": [],
   "source": [
    "def jupyter_settings():\n",
    "    %matplotlib inline\n",
    "\n",
    "    plt.style.use('ggplot')\n",
    "    plt.rcParams['figure.figsize'] = [20, 10]\n",
    "    plt.rcParams['font.size'] = 24\n",
    "\n",
    "    pd.options.display.max_columns = None\n",
    "    pd.options.display.max_rows = None\n",
    "    pd.options.display.float_format = '{:,.2f}'.format\n",
    "    pd.set_option('display.expand_frame_repr', False)\n",
    "    pd.set_option('display.max_columns', None)\n",
    "    pd.set_option('display.max_rows', 100)\n",
    "    \n",
    "    warnings.filterwarnings('ignore')\n",
    "    warnings.simplefilter('ignore')\n",
    "\n",
    "    sns.set()\n",
    "    \n",
    "jupyter_settings()"
   ]
  },
  {
   "cell_type": "markdown",
   "metadata": {},
   "source": [
    "## 0.2. Loading data"
   ]
  },
  {
   "cell_type": "code",
   "execution_count": 4,
   "metadata": {
    "ExecuteTime": {
     "end_time": "2021-08-11T03:38:59.635258Z",
     "start_time": "2021-08-11T03:38:59.307629Z"
    }
   },
   "outputs": [],
   "source": [
    "data_raw = pd.read_csv('kc_house_data.csv')"
   ]
  },
  {
   "cell_type": "markdown",
   "metadata": {
    "heading_collapsed": true
   },
   "source": [
    "# 1.0. DATA DESCRIPTION"
   ]
  },
  {
   "cell_type": "code",
   "execution_count": 5,
   "metadata": {
    "ExecuteTime": {
     "end_time": "2021-08-11T03:38:59.665529Z",
     "start_time": "2021-08-11T03:38:59.641117Z"
    },
    "hidden": true
   },
   "outputs": [],
   "source": [
    "data = data_raw.copy()"
   ]
  },
  {
   "cell_type": "markdown",
   "metadata": {
    "hidden": true
   },
   "source": [
    "## 1.1. Data Dimensions"
   ]
  },
  {
   "cell_type": "code",
   "execution_count": 6,
   "metadata": {
    "ExecuteTime": {
     "end_time": "2021-08-11T03:38:59.774889Z",
     "start_time": "2021-08-11T03:38:59.670404Z"
    },
    "hidden": true
   },
   "outputs": [
    {
     "name": "stdout",
     "output_type": "stream",
     "text": [
      "Number of rows: 21613\n",
      "Number of cols: 21\n"
     ]
    }
   ],
   "source": [
    "raw_size = data.shape\n",
    "print('Number of rows:', raw_size[0])\n",
    "print('Number of cols:', raw_size[1])"
   ]
  },
  {
   "cell_type": "markdown",
   "metadata": {
    "hidden": true
   },
   "source": [
    "## 1.2. Data Types"
   ]
  },
  {
   "cell_type": "code",
   "execution_count": 7,
   "metadata": {
    "ExecuteTime": {
     "end_time": "2021-08-11T03:38:59.899894Z",
     "start_time": "2021-08-11T03:38:59.788564Z"
    },
    "hidden": true
   },
   "outputs": [],
   "source": [
    "data['date'] = pd.to_datetime(data['date'])\n",
    "data['bathrooms'] = data['bathrooms'].astype('int64')"
   ]
  },
  {
   "cell_type": "code",
   "execution_count": 8,
   "metadata": {
    "ExecuteTime": {
     "end_time": "2021-08-11T03:39:00.009264Z",
     "start_time": "2021-08-11T03:38:59.905755Z"
    },
    "hidden": true
   },
   "outputs": [
    {
     "data": {
      "text/plain": [
       "id                        int64\n",
       "date             datetime64[ns]\n",
       "price                   float64\n",
       "bedrooms                  int64\n",
       "bathrooms                 int64\n",
       "sqft_living               int64\n",
       "sqft_lot                  int64\n",
       "floors                  float64\n",
       "waterfront                int64\n",
       "view                      int64\n",
       "condition                 int64\n",
       "grade                     int64\n",
       "sqft_above                int64\n",
       "sqft_basement             int64\n",
       "yr_built                  int64\n",
       "yr_renovated              int64\n",
       "zipcode                   int64\n",
       "lat                     float64\n",
       "long                    float64\n",
       "sqft_living15             int64\n",
       "sqft_lot15                int64\n",
       "dtype: object"
      ]
     },
     "execution_count": 8,
     "metadata": {},
     "output_type": "execute_result"
    }
   ],
   "source": [
    "data.dtypes"
   ]
  },
  {
   "cell_type": "markdown",
   "metadata": {
    "hidden": true
   },
   "source": [
    "## 1.3. Data Cleaning"
   ]
  },
  {
   "cell_type": "markdown",
   "metadata": {
    "hidden": true
   },
   "source": [
    "### 1.3.1 Checando Dados sem registro"
   ]
  },
  {
   "cell_type": "code",
   "execution_count": 9,
   "metadata": {
    "ExecuteTime": {
     "end_time": "2021-08-11T03:39:00.103003Z",
     "start_time": "2021-08-11T03:39:00.016095Z"
    },
    "hidden": true
   },
   "outputs": [
    {
     "data": {
      "text/plain": [
       "id               0\n",
       "date             0\n",
       "price            0\n",
       "bedrooms         0\n",
       "bathrooms        0\n",
       "sqft_living      0\n",
       "sqft_lot         0\n",
       "floors           0\n",
       "waterfront       0\n",
       "view             0\n",
       "condition        0\n",
       "grade            0\n",
       "sqft_above       0\n",
       "sqft_basement    0\n",
       "yr_built         0\n",
       "yr_renovated     0\n",
       "zipcode          0\n",
       "lat              0\n",
       "long             0\n",
       "sqft_living15    0\n",
       "sqft_lot15       0\n",
       "dtype: int64"
      ]
     },
     "execution_count": 9,
     "metadata": {},
     "output_type": "execute_result"
    }
   ],
   "source": [
    "data.isna().sum()"
   ]
  },
  {
   "cell_type": "markdown",
   "metadata": {
    "hidden": true
   },
   "source": [
    "### 1.3.2. Duplicate Data"
   ]
  },
  {
   "cell_type": "code",
   "execution_count": 10,
   "metadata": {
    "ExecuteTime": {
     "end_time": "2021-08-11T03:39:00.227028Z",
     "start_time": "2021-08-11T03:39:00.108864Z"
    },
    "hidden": true
   },
   "outputs": [],
   "source": [
    "data = data.drop_duplicates(subset=['id'],  keep = 'last')"
   ]
  },
  {
   "cell_type": "code",
   "execution_count": 11,
   "metadata": {
    "ExecuteTime": {
     "end_time": "2021-08-11T03:39:00.320776Z",
     "start_time": "2021-08-11T03:39:00.231900Z"
    },
    "hidden": true
   },
   "outputs": [
    {
     "name": "stdout",
     "output_type": "stream",
     "text": [
      "Número de linhas: 21436\n",
      "Número de colunas: 21\n",
      "Duplicatas removidas: 177\n"
     ]
    }
   ],
   "source": [
    "print('Número de linhas:', data.shape[0])\n",
    "print('Número de colunas:', data.shape[1])\n",
    "print('Duplicatas removidas:', raw_size[0] - data.shape[0])"
   ]
  },
  {
   "cell_type": "markdown",
   "metadata": {
    "hidden": true
   },
   "source": [
    "## 1.4. Check Data Types "
   ]
  },
  {
   "cell_type": "code",
   "execution_count": 12,
   "metadata": {
    "ExecuteTime": {
     "end_time": "2021-08-11T03:39:00.429169Z",
     "start_time": "2021-08-11T03:39:00.326626Z"
    },
    "hidden": true
   },
   "outputs": [
    {
     "data": {
      "text/plain": [
       "id                        int64\n",
       "date             datetime64[ns]\n",
       "price                   float64\n",
       "bedrooms                  int64\n",
       "bathrooms                 int64\n",
       "sqft_living               int64\n",
       "sqft_lot                  int64\n",
       "floors                  float64\n",
       "waterfront                int64\n",
       "view                      int64\n",
       "condition                 int64\n",
       "grade                     int64\n",
       "sqft_above                int64\n",
       "sqft_basement             int64\n",
       "yr_built                  int64\n",
       "yr_renovated              int64\n",
       "zipcode                   int64\n",
       "lat                     float64\n",
       "long                    float64\n",
       "sqft_living15             int64\n",
       "sqft_lot15                int64\n",
       "dtype: object"
      ]
     },
     "execution_count": 12,
     "metadata": {},
     "output_type": "execute_result"
    }
   ],
   "source": [
    "data.dtypes"
   ]
  },
  {
   "cell_type": "markdown",
   "metadata": {
    "hidden": true
   },
   "source": [
    "## 1.5. Descriptive Statistical"
   ]
  },
  {
   "cell_type": "code",
   "execution_count": 13,
   "metadata": {
    "ExecuteTime": {
     "end_time": "2021-08-11T03:39:00.538539Z",
     "start_time": "2021-08-11T03:39:00.435023Z"
    },
    "hidden": true,
    "scrolled": true
   },
   "outputs": [],
   "source": [
    "num_attributes = data.select_dtypes(include=['int64','float64'])"
   ]
  },
  {
   "cell_type": "markdown",
   "metadata": {
    "hidden": true
   },
   "source": [
    "### 1.5.1. Numerical Attributes "
   ]
  },
  {
   "cell_type": "code",
   "execution_count": 14,
   "metadata": {
    "ExecuteTime": {
     "end_time": "2021-08-11T03:39:01.020940Z",
     "start_time": "2021-08-11T03:39:00.543417Z"
    },
    "hidden": true
   },
   "outputs": [
    {
     "data": {
      "text/html": [
       "<div>\n",
       "<style scoped>\n",
       "    .dataframe tbody tr th:only-of-type {\n",
       "        vertical-align: middle;\n",
       "    }\n",
       "\n",
       "    .dataframe tbody tr th {\n",
       "        vertical-align: top;\n",
       "    }\n",
       "\n",
       "    .dataframe thead th {\n",
       "        text-align: right;\n",
       "    }\n",
       "</style>\n",
       "<table border=\"1\" class=\"dataframe\">\n",
       "  <thead>\n",
       "    <tr style=\"text-align: right;\">\n",
       "      <th></th>\n",
       "      <th>attributes</th>\n",
       "      <th>min</th>\n",
       "      <th>max</th>\n",
       "      <th>range</th>\n",
       "      <th>mean</th>\n",
       "      <th>median</th>\n",
       "      <th>std</th>\n",
       "      <th>skew</th>\n",
       "      <th>kurtosis</th>\n",
       "    </tr>\n",
       "  </thead>\n",
       "  <tbody>\n",
       "    <tr>\n",
       "      <th>0</th>\n",
       "      <td>id</td>\n",
       "      <td>1,000,102.00</td>\n",
       "      <td>9,900,000,190.00</td>\n",
       "      <td>9,899,000,088.00</td>\n",
       "      <td>4,580,765,328.18</td>\n",
       "      <td>3,904,921,185.00</td>\n",
       "      <td>2,876,522,535.73</td>\n",
       "      <td>0.24</td>\n",
       "      <td>-1.26</td>\n",
       "    </tr>\n",
       "    <tr>\n",
       "      <th>1</th>\n",
       "      <td>price</td>\n",
       "      <td>75,000.00</td>\n",
       "      <td>7,700,000.00</td>\n",
       "      <td>7,625,000.00</td>\n",
       "      <td>541,649.96</td>\n",
       "      <td>450,000.00</td>\n",
       "      <td>367,306.36</td>\n",
       "      <td>4.04</td>\n",
       "      <td>34.73</td>\n",
       "    </tr>\n",
       "    <tr>\n",
       "      <th>2</th>\n",
       "      <td>bedrooms</td>\n",
       "      <td>0.00</td>\n",
       "      <td>33.00</td>\n",
       "      <td>33.00</td>\n",
       "      <td>3.37</td>\n",
       "      <td>3.00</td>\n",
       "      <td>0.93</td>\n",
       "      <td>1.99</td>\n",
       "      <td>49.64</td>\n",
       "    </tr>\n",
       "    <tr>\n",
       "      <th>3</th>\n",
       "      <td>bathrooms</td>\n",
       "      <td>0.00</td>\n",
       "      <td>8.00</td>\n",
       "      <td>8.00</td>\n",
       "      <td>1.75</td>\n",
       "      <td>2.00</td>\n",
       "      <td>0.73</td>\n",
       "      <td>0.90</td>\n",
       "      <td>2.00</td>\n",
       "    </tr>\n",
       "    <tr>\n",
       "      <th>4</th>\n",
       "      <td>sqft_living</td>\n",
       "      <td>290.00</td>\n",
       "      <td>13,540.00</td>\n",
       "      <td>13,250.00</td>\n",
       "      <td>2,082.70</td>\n",
       "      <td>1,920.00</td>\n",
       "      <td>919.13</td>\n",
       "      <td>1.47</td>\n",
       "      <td>5.25</td>\n",
       "    </tr>\n",
       "    <tr>\n",
       "      <th>5</th>\n",
       "      <td>sqft_lot</td>\n",
       "      <td>520.00</td>\n",
       "      <td>1,651,359.00</td>\n",
       "      <td>1,650,839.00</td>\n",
       "      <td>15,135.64</td>\n",
       "      <td>7,614.00</td>\n",
       "      <td>41,537.65</td>\n",
       "      <td>13.04</td>\n",
       "      <td>284.08</td>\n",
       "    </tr>\n",
       "    <tr>\n",
       "      <th>6</th>\n",
       "      <td>floors</td>\n",
       "      <td>1.00</td>\n",
       "      <td>3.50</td>\n",
       "      <td>2.50</td>\n",
       "      <td>1.50</td>\n",
       "      <td>1.50</td>\n",
       "      <td>0.54</td>\n",
       "      <td>0.61</td>\n",
       "      <td>-0.49</td>\n",
       "    </tr>\n",
       "    <tr>\n",
       "      <th>7</th>\n",
       "      <td>waterfront</td>\n",
       "      <td>0.00</td>\n",
       "      <td>1.00</td>\n",
       "      <td>1.00</td>\n",
       "      <td>0.01</td>\n",
       "      <td>0.00</td>\n",
       "      <td>0.09</td>\n",
       "      <td>11.34</td>\n",
       "      <td>126.55</td>\n",
       "    </tr>\n",
       "    <tr>\n",
       "      <th>8</th>\n",
       "      <td>view</td>\n",
       "      <td>0.00</td>\n",
       "      <td>4.00</td>\n",
       "      <td>4.00</td>\n",
       "      <td>0.24</td>\n",
       "      <td>0.00</td>\n",
       "      <td>0.77</td>\n",
       "      <td>3.39</td>\n",
       "      <td>10.83</td>\n",
       "    </tr>\n",
       "    <tr>\n",
       "      <th>9</th>\n",
       "      <td>condition</td>\n",
       "      <td>1.00</td>\n",
       "      <td>5.00</td>\n",
       "      <td>4.00</td>\n",
       "      <td>3.41</td>\n",
       "      <td>3.00</td>\n",
       "      <td>0.65</td>\n",
       "      <td>1.04</td>\n",
       "      <td>0.52</td>\n",
       "    </tr>\n",
       "    <tr>\n",
       "      <th>10</th>\n",
       "      <td>grade</td>\n",
       "      <td>1.00</td>\n",
       "      <td>13.00</td>\n",
       "      <td>12.00</td>\n",
       "      <td>7.66</td>\n",
       "      <td>7.00</td>\n",
       "      <td>1.17</td>\n",
       "      <td>0.77</td>\n",
       "      <td>1.19</td>\n",
       "    </tr>\n",
       "    <tr>\n",
       "      <th>11</th>\n",
       "      <td>sqft_above</td>\n",
       "      <td>290.00</td>\n",
       "      <td>9,410.00</td>\n",
       "      <td>9,120.00</td>\n",
       "      <td>1,790.96</td>\n",
       "      <td>1,560.00</td>\n",
       "      <td>829.01</td>\n",
       "      <td>1.44</td>\n",
       "      <td>3.40</td>\n",
       "    </tr>\n",
       "    <tr>\n",
       "      <th>12</th>\n",
       "      <td>sqft_basement</td>\n",
       "      <td>0.00</td>\n",
       "      <td>4,820.00</td>\n",
       "      <td>4,820.00</td>\n",
       "      <td>291.74</td>\n",
       "      <td>0.00</td>\n",
       "      <td>442.77</td>\n",
       "      <td>1.58</td>\n",
       "      <td>2.71</td>\n",
       "    </tr>\n",
       "    <tr>\n",
       "      <th>13</th>\n",
       "      <td>yr_built</td>\n",
       "      <td>1,900.00</td>\n",
       "      <td>2,015.00</td>\n",
       "      <td>115.00</td>\n",
       "      <td>1,971.10</td>\n",
       "      <td>1,975.00</td>\n",
       "      <td>29.38</td>\n",
       "      <td>-0.47</td>\n",
       "      <td>-0.65</td>\n",
       "    </tr>\n",
       "    <tr>\n",
       "      <th>14</th>\n",
       "      <td>yr_renovated</td>\n",
       "      <td>0.00</td>\n",
       "      <td>2,015.00</td>\n",
       "      <td>2,015.00</td>\n",
       "      <td>84.73</td>\n",
       "      <td>0.00</td>\n",
       "      <td>402.42</td>\n",
       "      <td>4.54</td>\n",
       "      <td>18.61</td>\n",
       "    </tr>\n",
       "    <tr>\n",
       "      <th>15</th>\n",
       "      <td>zipcode</td>\n",
       "      <td>98,001.00</td>\n",
       "      <td>98,199.00</td>\n",
       "      <td>198.00</td>\n",
       "      <td>98,077.86</td>\n",
       "      <td>98,065.00</td>\n",
       "      <td>53.47</td>\n",
       "      <td>0.41</td>\n",
       "      <td>-0.85</td>\n",
       "    </tr>\n",
       "    <tr>\n",
       "      <th>16</th>\n",
       "      <td>lat</td>\n",
       "      <td>47.16</td>\n",
       "      <td>47.78</td>\n",
       "      <td>0.62</td>\n",
       "      <td>47.56</td>\n",
       "      <td>47.57</td>\n",
       "      <td>0.14</td>\n",
       "      <td>-0.49</td>\n",
       "      <td>-0.67</td>\n",
       "    </tr>\n",
       "    <tr>\n",
       "      <th>17</th>\n",
       "      <td>long</td>\n",
       "      <td>-122.52</td>\n",
       "      <td>-121.31</td>\n",
       "      <td>1.20</td>\n",
       "      <td>-122.21</td>\n",
       "      <td>-122.23</td>\n",
       "      <td>0.14</td>\n",
       "      <td>0.88</td>\n",
       "      <td>1.05</td>\n",
       "    </tr>\n",
       "    <tr>\n",
       "      <th>18</th>\n",
       "      <td>sqft_living15</td>\n",
       "      <td>399.00</td>\n",
       "      <td>6,210.00</td>\n",
       "      <td>5,811.00</td>\n",
       "      <td>1,988.31</td>\n",
       "      <td>1,840.00</td>\n",
       "      <td>685.68</td>\n",
       "      <td>1.11</td>\n",
       "      <td>1.59</td>\n",
       "    </tr>\n",
       "    <tr>\n",
       "      <th>19</th>\n",
       "      <td>sqft_lot15</td>\n",
       "      <td>651.00</td>\n",
       "      <td>871,200.00</td>\n",
       "      <td>870,549.00</td>\n",
       "      <td>12,785.96</td>\n",
       "      <td>7,620.00</td>\n",
       "      <td>27,374.83</td>\n",
       "      <td>9.50</td>\n",
       "      <td>150.32</td>\n",
       "    </tr>\n",
       "  </tbody>\n",
       "</table>\n",
       "</div>"
      ],
      "text/plain": [
       "       attributes          min              max            range             mean           median              std  skew  kurtosis\n",
       "0              id 1,000,102.00 9,900,000,190.00 9,899,000,088.00 4,580,765,328.18 3,904,921,185.00 2,876,522,535.73  0.24     -1.26\n",
       "1           price    75,000.00     7,700,000.00     7,625,000.00       541,649.96       450,000.00       367,306.36  4.04     34.73\n",
       "2        bedrooms         0.00            33.00            33.00             3.37             3.00             0.93  1.99     49.64\n",
       "3       bathrooms         0.00             8.00             8.00             1.75             2.00             0.73  0.90      2.00\n",
       "4     sqft_living       290.00        13,540.00        13,250.00         2,082.70         1,920.00           919.13  1.47      5.25\n",
       "5        sqft_lot       520.00     1,651,359.00     1,650,839.00        15,135.64         7,614.00        41,537.65 13.04    284.08\n",
       "6          floors         1.00             3.50             2.50             1.50             1.50             0.54  0.61     -0.49\n",
       "7      waterfront         0.00             1.00             1.00             0.01             0.00             0.09 11.34    126.55\n",
       "8            view         0.00             4.00             4.00             0.24             0.00             0.77  3.39     10.83\n",
       "9       condition         1.00             5.00             4.00             3.41             3.00             0.65  1.04      0.52\n",
       "10          grade         1.00            13.00            12.00             7.66             7.00             1.17  0.77      1.19\n",
       "11     sqft_above       290.00         9,410.00         9,120.00         1,790.96         1,560.00           829.01  1.44      3.40\n",
       "12  sqft_basement         0.00         4,820.00         4,820.00           291.74             0.00           442.77  1.58      2.71\n",
       "13       yr_built     1,900.00         2,015.00           115.00         1,971.10         1,975.00            29.38 -0.47     -0.65\n",
       "14   yr_renovated         0.00         2,015.00         2,015.00            84.73             0.00           402.42  4.54     18.61\n",
       "15        zipcode    98,001.00        98,199.00           198.00        98,077.86        98,065.00            53.47  0.41     -0.85\n",
       "16            lat        47.16            47.78             0.62            47.56            47.57             0.14 -0.49     -0.67\n",
       "17           long      -122.52          -121.31             1.20          -122.21          -122.23             0.14  0.88      1.05\n",
       "18  sqft_living15       399.00         6,210.00         5,811.00         1,988.31         1,840.00           685.68  1.11      1.59\n",
       "19     sqft_lot15       651.00       871,200.00       870,549.00        12,785.96         7,620.00        27,374.83  9.50    150.32"
      ]
     },
     "execution_count": 14,
     "metadata": {},
     "output_type": "execute_result"
    }
   ],
   "source": [
    "# central tedency\n",
    "ct1 = pd.DataFrame(num_attributes.apply(np.mean)).T\n",
    "ct2 = pd.DataFrame(num_attributes.apply(np.median)).T\n",
    "\n",
    "# dispersion\n",
    "d1 = pd.DataFrame(num_attributes.apply(np.std)).T\n",
    "d2 = pd.DataFrame(num_attributes.apply(min)).T\n",
    "d3 = pd.DataFrame(num_attributes.apply(max)).T\n",
    "d4 = pd.DataFrame(num_attributes.apply(lambda x: x.max() - x.min())).T\n",
    "d5 = pd.DataFrame(num_attributes.apply(lambda x: x.skew())).T\n",
    "d6 = pd.DataFrame(num_attributes.apply(lambda x: x.kurtosis())).T\n",
    "\n",
    "# concat\n",
    "\n",
    "m = pd.concat([d2, d3, d4, ct1, ct2, d1, d5, d6]).T.reset_index()\n",
    "m.columns = ['attributes','min','max','range','mean','median','std','skew','kurtosis']\n",
    "m"
   ]
  },
  {
   "cell_type": "markdown",
   "metadata": {
    "hidden": true
   },
   "source": [
    "## 1.6. Check Error or Outliers"
   ]
  },
  {
   "cell_type": "code",
   "execution_count": 15,
   "metadata": {
    "ExecuteTime": {
     "end_time": "2021-08-11T03:39:01.269953Z",
     "start_time": "2021-08-11T03:39:01.025816Z"
    },
    "hidden": true
   },
   "outputs": [
    {
     "data": {
      "text/html": [
       "<div>\n",
       "<style scoped>\n",
       "    .dataframe tbody tr th:only-of-type {\n",
       "        vertical-align: middle;\n",
       "    }\n",
       "\n",
       "    .dataframe tbody tr th {\n",
       "        vertical-align: top;\n",
       "    }\n",
       "\n",
       "    .dataframe thead th {\n",
       "        text-align: right;\n",
       "    }\n",
       "</style>\n",
       "<table border=\"1\" class=\"dataframe\">\n",
       "  <thead>\n",
       "    <tr style=\"text-align: right;\">\n",
       "      <th></th>\n",
       "      <th>id</th>\n",
       "      <th>price</th>\n",
       "      <th>bedrooms</th>\n",
       "      <th>bathrooms</th>\n",
       "      <th>sqft_living</th>\n",
       "      <th>sqft_lot</th>\n",
       "    </tr>\n",
       "  </thead>\n",
       "  <tbody>\n",
       "    <tr>\n",
       "      <th>15870</th>\n",
       "      <td>2402100895</td>\n",
       "      <td>640,000.00</td>\n",
       "      <td>33</td>\n",
       "      <td>1</td>\n",
       "      <td>1620</td>\n",
       "      <td>6000</td>\n",
       "    </tr>\n",
       "    <tr>\n",
       "      <th>8757</th>\n",
       "      <td>1773100755</td>\n",
       "      <td>520,000.00</td>\n",
       "      <td>11</td>\n",
       "      <td>3</td>\n",
       "      <td>3000</td>\n",
       "      <td>4960</td>\n",
       "    </tr>\n",
       "    <tr>\n",
       "      <th>13314</th>\n",
       "      <td>627300145</td>\n",
       "      <td>1,148,000.00</td>\n",
       "      <td>10</td>\n",
       "      <td>5</td>\n",
       "      <td>4590</td>\n",
       "      <td>10920</td>\n",
       "    </tr>\n",
       "    <tr>\n",
       "      <th>15161</th>\n",
       "      <td>5566100170</td>\n",
       "      <td>650,000.00</td>\n",
       "      <td>10</td>\n",
       "      <td>2</td>\n",
       "      <td>3610</td>\n",
       "      <td>11914</td>\n",
       "    </tr>\n",
       "    <tr>\n",
       "      <th>19254</th>\n",
       "      <td>8812401450</td>\n",
       "      <td>660,000.00</td>\n",
       "      <td>10</td>\n",
       "      <td>3</td>\n",
       "      <td>2920</td>\n",
       "      <td>3745</td>\n",
       "    </tr>\n",
       "    <tr>\n",
       "      <th>4096</th>\n",
       "      <td>1997200215</td>\n",
       "      <td>599,999.00</td>\n",
       "      <td>9</td>\n",
       "      <td>4</td>\n",
       "      <td>3830</td>\n",
       "      <td>6988</td>\n",
       "    </tr>\n",
       "    <tr>\n",
       "      <th>4235</th>\n",
       "      <td>2902200015</td>\n",
       "      <td>700,000.00</td>\n",
       "      <td>9</td>\n",
       "      <td>3</td>\n",
       "      <td>3680</td>\n",
       "      <td>4400</td>\n",
       "    </tr>\n",
       "    <tr>\n",
       "      <th>6079</th>\n",
       "      <td>9822700190</td>\n",
       "      <td>1,280,000.00</td>\n",
       "      <td>9</td>\n",
       "      <td>4</td>\n",
       "      <td>3650</td>\n",
       "      <td>5000</td>\n",
       "    </tr>\n",
       "    <tr>\n",
       "      <th>8546</th>\n",
       "      <td>424049043</td>\n",
       "      <td>450,000.00</td>\n",
       "      <td>9</td>\n",
       "      <td>7</td>\n",
       "      <td>4050</td>\n",
       "      <td>6504</td>\n",
       "    </tr>\n",
       "    <tr>\n",
       "      <th>16844</th>\n",
       "      <td>8823900290</td>\n",
       "      <td>1,400,000.00</td>\n",
       "      <td>9</td>\n",
       "      <td>4</td>\n",
       "      <td>4620</td>\n",
       "      <td>5508</td>\n",
       "    </tr>\n",
       "    <tr>\n",
       "      <th>18443</th>\n",
       "      <td>8823901445</td>\n",
       "      <td>934,000.00</td>\n",
       "      <td>9</td>\n",
       "      <td>3</td>\n",
       "      <td>2820</td>\n",
       "      <td>4480</td>\n",
       "    </tr>\n",
       "  </tbody>\n",
       "</table>\n",
       "</div>"
      ],
      "text/plain": [
       "               id        price  bedrooms  bathrooms  sqft_living  sqft_lot\n",
       "15870  2402100895   640,000.00        33          1         1620      6000\n",
       "8757   1773100755   520,000.00        11          3         3000      4960\n",
       "13314   627300145 1,148,000.00        10          5         4590     10920\n",
       "15161  5566100170   650,000.00        10          2         3610     11914\n",
       "19254  8812401450   660,000.00        10          3         2920      3745\n",
       "4096   1997200215   599,999.00         9          4         3830      6988\n",
       "4235   2902200015   700,000.00         9          3         3680      4400\n",
       "6079   9822700190 1,280,000.00         9          4         3650      5000\n",
       "8546    424049043   450,000.00         9          7         4050      6504\n",
       "16844  8823900290 1,400,000.00         9          4         4620      5508\n",
       "18443  8823901445   934,000.00         9          3         2820      4480"
      ]
     },
     "execution_count": 15,
     "metadata": {},
     "output_type": "execute_result"
    }
   ],
   "source": [
    "# checking house attributes with 33 bedrooms\n",
    "data[data['bedrooms'] > 8].sort_values('bedrooms',ascending=False)[['id','price','bedrooms','bathrooms','sqft_living','sqft_lot']]"
   ]
  },
  {
   "cell_type": "markdown",
   "metadata": {
    "hidden": true
   },
   "source": [
    "### 1.6.1 Remove data error"
   ]
  },
  {
   "cell_type": "code",
   "execution_count": 16,
   "metadata": {
    "ExecuteTime": {
     "end_time": "2021-08-11T03:39:01.301191Z",
     "start_time": "2021-08-11T03:39:01.274831Z"
    },
    "hidden": true
   },
   "outputs": [],
   "source": [
    "# house with 33 bedrooms considered as error\n",
    "data = data.drop(15870, axis=0)"
   ]
  },
  {
   "cell_type": "markdown",
   "metadata": {
    "heading_collapsed": true
   },
   "source": [
    "# 2.0. FEATURE ENGINEERING"
   ]
  },
  {
   "cell_type": "code",
   "execution_count": 17,
   "metadata": {
    "ExecuteTime": {
     "end_time": "2021-08-11T03:39:01.379317Z",
     "start_time": "2021-08-11T03:39:01.305100Z"
    },
    "hidden": true
   },
   "outputs": [],
   "source": [
    "df = data.copy()"
   ]
  },
  {
   "cell_type": "markdown",
   "metadata": {
    "hidden": true
   },
   "source": [
    "## 2.1. Mind Map Hypotheses"
   ]
  },
  {
   "cell_type": "code",
   "execution_count": 18,
   "metadata": {
    "ExecuteTime": {
     "end_time": "2021-08-11T03:39:01.565841Z",
     "start_time": "2021-08-11T03:39:01.384207Z"
    },
    "hidden": true,
    "hide_input": true
   },
   "outputs": [
    {
     "data": {
      "image/png": "[encoded data removed]",
      "text/plain": [
       "<IPython.core.display.Image object>"
      ]
     },
     "execution_count": 18,
     "metadata": {},
     "output_type": "execute_result"
    }
   ],
   "source": [
    "Image('images\\MindMapHypotheses.png')"
   ]
  },
  {
   "cell_type": "markdown",
   "metadata": {
    "hidden": true
   },
   "source": [
    "### 2.1.1. Hypotheses Localization"
   ]
  },
  {
   "cell_type": "markdown",
   "metadata": {
    "ExecuteTime": {
     "end_time": "2021-08-03T21:15:18.538893Z",
     "start_time": "2021-08-03T21:15:18.507979Z"
    },
    "hidden": true
   },
   "source": [
    "**1.** Imóveis próximo a shoppings são mais caros.\n",
    "\n",
    "**2.** Imóveis próximos ao centro são mais caros.\n",
    "\n",
    "**3.** Imóveis próximos a escolas são mais caros.\n",
    "\n",
    "**4.** Imóveis em bairros onde a taxa de criminalidade é alta são mais baratos.\n",
    "\n",
    "**5.** Imóveis próximos ao lago com vista para água, deveriam ser 50% mais caros, na média, que imóveis próximos ao lago sem vista."
   ]
  },
  {
   "cell_type": "markdown",
   "metadata": {
    "hidden": true
   },
   "source": [
    "### 2.1.2. Hypotheses house attributes"
   ]
  },
  {
   "cell_type": "markdown",
   "metadata": {
    "ExecuteTime": {
     "end_time": "2021-08-03T21:15:18.538893Z",
     "start_time": "2021-08-03T21:15:18.507979Z"
    },
    "hidden": true
   },
   "source": [
    "**1.** Imóveis que possuem vista para água deveriam ser mais caros na média.\n",
    "\n",
    "**2.** Imóveis com data de construção menor que 1955 sem renovação deveriam ser mais baratos, na média.\n",
    "\n",
    "**3.** A mediana de preço de imóveis com 2 andares ou mais, com vista para água deveria ser mais alta, que imóveis com 1 andar e com vista para água.\n",
    "\n",
    "**4.** Imóveis renovados são 20% mais caros.\n",
    "\n",
    "**5.** Imóveis em más condições devem ser mais baratos que imóveis com boas condições.\n",
    "\n",
    "**6.** Há um aumento do preço em média de 10% a cada banheiro adicional.\n",
    "\n",
    "**7.** Quanto maior o atributo grade do imóvel, a média de preço deve ser maior.\n",
    "\n",
    "**8.** Imóveis de 3 quartos e 2 banheiros devem ser 10% mais caros que imóveis de 3 quartos e 1 banheiro.\n",
    "\n",
    "**9.** Imóveis com porão deveriam ser mais caros que imóveis sem porão."
   ]
  },
  {
   "cell_type": "markdown",
   "metadata": {
    "hidden": true
   },
   "source": [
    "### 2.1.3. Hypotheses temporal"
   ]
  },
  {
   "cell_type": "markdown",
   "metadata": {
    "ExecuteTime": {
     "end_time": "2021-08-03T21:15:18.538893Z",
     "start_time": "2021-08-03T21:15:18.507979Z"
    },
    "hidden": true
   },
   "source": [
    "**1.** Imóveis com mais dias disponíveis para venda deveriam ser mais baratos que a médiana da região\n",
    "\n",
    "**2.** Em períodos com alta demanda de mercado os imóveis são 5% mais caros\n",
    "\n",
    "**3.** Imóveis disponíveis no inverno são 5% mais baratos que imóveis disponíveis no verão."
   ]
  },
  {
   "cell_type": "markdown",
   "metadata": {
    "hidden": true
   },
   "source": [
    "### 2.1.4. Final List Hypotheses"
   ]
  },
  {
   "cell_type": "markdown",
   "metadata": {
    "hidden": true
   },
   "source": [
    "**1.** Imóveis que possuem vista para água deveriam ser mais caros na média.\n",
    "\n",
    "**2.** Imóveis com vista para água, deveriam ser 50% mais caros, na média, que imóveis próximos ao lago sem vista.\n",
    "\n",
    "**3.** Imóveis com data de construção menor que 1955 sem renovação deveriam ser mais baratos, na média.\n",
    "\n",
    "**4.** A mediana de preço de imóveis com 2 andares ou mais, com vista para água deveria ser mais alta, que imóveis com 1 andar e com vista para água.\n",
    "\n",
    "**5.** Imóveis renovados são 20% mais caros.\n",
    "\n",
    "**6.** Imóveis em más condições devem ser mais baratos que imóveis com boas condições.\n",
    "\n",
    "**7.** Há um aumento do preço em 10% a cada banheiro adicional.\n",
    "\n",
    "**8.** Quanto maior o atributo grade do imóvel, a média de preço deve ser maior.\n",
    "\n",
    "**9.** Imóveis de 3 quartos e 2 banheiros devem ser 10% mais caros que imóveis de 3 quartos e 1 banheiro.\n",
    "\n",
    "**10.** Imóveis com porão deveriam ser mais caros que imóveis sem porão.\n"
   ]
  },
  {
   "cell_type": "markdown",
   "metadata": {
    "ExecuteTime": {
     "end_time": "2021-08-04T20:49:05.306667Z",
     "start_time": "2021-08-04T20:49:05.286720Z"
    },
    "hidden": true
   },
   "source": [
    "## 2.2. Feature Engineering"
   ]
  },
  {
   "cell_type": "code",
   "execution_count": 19,
   "metadata": {
    "ExecuteTime": {
     "end_time": "2021-08-11T03:39:31.393680Z",
     "start_time": "2021-08-11T03:39:01.571693Z"
    },
    "hidden": true
   },
   "outputs": [],
   "source": [
    "#built\n",
    "df['built'] = df['yr_built'].apply(lambda x: '<1955' if x <= 1955 else '>1955')\n",
    "#basement\n",
    "df['basement'] = df['sqft_basement'].apply(lambda x: True if x > 0 else False)\n",
    "#floor type\n",
    "df['floors_type'] = df['floors'].apply(lambda x: 'single-story' if x == 1 else 'two-story-or-more')\n",
    "#renovated\n",
    "df['renovated'] = df['yr_renovated'].apply(lambda x: 'yes' if x > 0 else 'no')\n",
    "#condition type\n",
    "df['condition_type'] = df['condition'].apply(lambda x: 'bad' if x <= 2 else 'good')\n",
    "#grade\n",
    "df['grade_design'] = df['grade'].apply(lambda x: 'bad' if x < 6 else 'good')\n",
    "\n",
    "#seasons\n",
    "def get_season(date):\n",
    "    year = str(date.year)\n",
    "    seasons = {'spring': pd.date_range(start='21/03/'+year, end='20/06/'+year),\n",
    "               'summer': pd.date_range(start='21/06/'+year, end='22/09/'+year),\n",
    "               'autumn': pd.date_range(start='23/09/'+year, end='20/12/'+year)}\n",
    "    if date in seasons['spring']:\n",
    "        return 'spring'\n",
    "    if date in seasons['summer']:\n",
    "        return 'summer'\n",
    "    if date in seasons['autumn']:\n",
    "        return 'autumn'\n",
    "    else:\n",
    "        return 'winter'\n",
    "    \n",
    "df['season'] = df.date.map(get_season)\n",
    "\n",
    "#sqft to m2\n",
    "#living\n",
    "df['m2_living'] = df['sqft_living'].apply(lambda x: x / 10.764)\n",
    "#lot\n",
    "df['m2_lot'] = df['sqft_lot'].apply(lambda x: x / 10.764)\n",
    "#above\n",
    "df['m2_above'] = df['sqft_above'].apply(lambda x: x / 10.764)\n",
    "#basement\n",
    "df['m2_basement'] = df['sqft_basement'].apply(lambda x: x / 10.764)\n",
    "\n",
    "#m2/price\n",
    "df['m2_price'] = df.apply(lambda x: x['price'] / x['m2_living'], axis=1)"
   ]
  },
  {
   "cell_type": "markdown",
   "metadata": {},
   "source": [
    "# 3.0. FILTERING VARIABLES"
   ]
  },
  {
   "cell_type": "code",
   "execution_count": 20,
   "metadata": {
    "ExecuteTime": {
     "end_time": "2021-08-11T03:39:31.423952Z",
     "start_time": "2021-08-11T03:39:31.393680Z"
    }
   },
   "outputs": [],
   "source": [
    "df1 = df.copy()"
   ]
  },
  {
   "cell_type": "code",
   "execution_count": 21,
   "metadata": {
    "ExecuteTime": {
     "end_time": "2021-08-11T03:39:31.486449Z",
     "start_time": "2021-08-11T03:39:31.429808Z"
    }
   },
   "outputs": [
    {
     "data": {
      "text/plain": [
       "Index(['id', 'date', 'price', 'bedrooms', 'bathrooms', 'sqft_living',\n",
       "       'sqft_lot', 'floors', 'waterfront', 'view', 'condition', 'grade',\n",
       "       'sqft_above', 'sqft_basement', 'yr_built', 'yr_renovated', 'zipcode',\n",
       "       'lat', 'long', 'sqft_living15', 'sqft_lot15', 'built', 'basement',\n",
       "       'floors_type', 'renovated', 'condition_type', 'grade_design', 'season',\n",
       "       'm2_living', 'm2_lot', 'm2_above', 'm2_basement', 'm2_price'],\n",
       "      dtype='object')"
      ]
     },
     "execution_count": 21,
     "metadata": {},
     "output_type": "execute_result"
    }
   ],
   "source": [
    "df1.columns"
   ]
  },
  {
   "cell_type": "markdown",
   "metadata": {},
   "source": [
    "## 3.1. Select columns"
   ]
  },
  {
   "cell_type": "code",
   "execution_count": 22,
   "metadata": {
    "ExecuteTime": {
     "end_time": "2021-08-11T03:39:31.580190Z",
     "start_time": "2021-08-11T03:39:31.491325Z"
    }
   },
   "outputs": [],
   "source": [
    "cols_drop = ['sqft_living','sqft_lot','sqft_basement','sqft_above','sqft_living15','sqft_lot15','view']\n",
    "df1 = df1.drop(cols_drop, axis=1)\n",
    "df1 = df1[['id', 'date', 'season', 'price', 'bedrooms', 'bathrooms', 'm2_living', 'm2_lot', \n",
    "          'm2_above', 'm2_basement', 'm2_price', 'floors', 'waterfront', 'condition', \n",
    "          'grade', 'yr_built', 'yr_renovated', 'zipcode', 'lat','long', 'built', 'basement',\n",
    "          'floors_type', 'renovated', 'condition_type', 'grade_design']]"
   ]
  },
  {
   "cell_type": "code",
   "execution_count": 23,
   "metadata": {
    "ExecuteTime": {
     "end_time": "2021-08-11T03:39:45.431166Z",
     "start_time": "2021-08-11T03:39:44.108469Z"
    }
   },
   "outputs": [],
   "source": [
    "# Export to csv\n",
    "#df1.to_csv('data_clean.csv', index=False)"
   ]
  },
  {
   "cell_type": "markdown",
   "metadata": {},
   "source": [
    "# 4.0. EXPLORATION DATA ANALISYS"
   ]
  },
  {
   "cell_type": "code",
   "execution_count": 25,
   "metadata": {
    "ExecuteTime": {
     "end_time": "2021-08-11T03:56:11.549383Z",
     "start_time": "2021-08-11T03:56:11.529857Z"
    }
   },
   "outputs": [],
   "source": [
    "df2 = df1.copy()"
   ]
  },
  {
   "cell_type": "markdown",
   "metadata": {},
   "source": [
    "## 4.1. Univariate Analysis"
   ]
  },
  {
   "cell_type": "markdown",
   "metadata": {
    "heading_collapsed": true
   },
   "source": [
    "### 4.1.1. Response Variable"
   ]
  },
  {
   "cell_type": "code",
   "execution_count": 23,
   "metadata": {
    "ExecuteTime": {
     "end_time": "2021-08-11T02:28:45.059852Z",
     "start_time": "2021-08-11T02:28:43.417336Z"
    },
    "hidden": true
   },
   "outputs": [
    {
     "data": {
      "image/png": "[encoded data removed]",
      "text/plain": [
       "<Figure size 1440x720 with 1 Axes>"
      ]
     },
     "metadata": {},
     "output_type": "display_data"
    }
   ],
   "source": [
    "sns.distplot(df2['price'], kde=False);"
   ]
  },
  {
   "cell_type": "markdown",
   "metadata": {
    "heading_collapsed": true
   },
   "source": [
    "### 4.1.2. Numerical Variable"
   ]
  },
  {
   "cell_type": "code",
   "execution_count": 24,
   "metadata": {
    "ExecuteTime": {
     "end_time": "2021-08-11T02:28:53.765531Z",
     "start_time": "2021-08-11T02:28:45.067661Z"
    },
    "hidden": true
   },
   "outputs": [
    {
     "data": {
      "image/png": "[encoded data removed]",
      "text/plain": [
       "<Figure size 1440x720 with 20 Axes>"
      ]
     },
     "metadata": {},
     "output_type": "display_data"
    }
   ],
   "source": [
    "num_attributes2 = df2.select_dtypes(include=['int64','float64'])\n",
    "num_attributes2.hist(bins=25);"
   ]
  },
  {
   "cell_type": "markdown",
   "metadata": {},
   "source": [
    "### 4.1.1. Categorical Variable"
   ]
  },
  {
   "cell_type": "markdown",
   "metadata": {},
   "source": [
    "## 4.2. Bivariate Analysis"
   ]
  },
  {
   "cell_type": "markdown",
   "metadata": {},
   "source": [
    "### H1. Imóveis que possuem vista para água deveriam ser mais caros na média.\n",
    "**True** Imóveis com vista para água são mais caros na média."
   ]
  },
  {
   "cell_type": "code",
   "execution_count": 25,
   "metadata": {
    "ExecuteTime": {
     "end_time": "2021-08-11T02:28:54.309942Z",
     "start_time": "2021-08-11T02:28:53.773341Z"
    },
    "hide_input": false
   },
   "outputs": [
    {
     "data": {
      "image/png": "[encoded data removed]",
      "text/plain": [
       "<Figure size 1440x720 with 1 Axes>"
      ]
     },
     "metadata": {},
     "output_type": "display_data"
    }
   ],
   "source": [
    "aux1 = df2[['waterfront','price']].groupby('waterfront').median().reset_index()\n",
    "\n",
    "sns.barplot(x='waterfront', y='price', data=aux1);"
   ]
  },
  {
   "cell_type": "markdown",
   "metadata": {},
   "source": [
    "### H2. Imóveis com vista para água deveriam ser 50% mais caros, na média, que imóveis próximos ao lago sem vista.\n",
    "\n",
    "*Para esta hipótese, irei realizar apenas a verificação de uma amostra dos dados, onde a amostra será baseada em imóveis mais próximos ao lake Washington. Nesse sentido foi realizado os seguintes passos:*\n",
    "1. Coleta de 4 pontos do lago em lat e long;\n",
    "2. realizar o cálculo de distância de todos os imóveis em relação ao lago (km);\n",
    "3. adotar premissas para verificar a distância mínima para comparação dos preços, **neste caso 5km**;\n",
    "4. realizar comparação de preço apenas dos imóveis com as premissas sendo respeitadas.\n",
    "\n",
    "**False,** apesar dos imóveis com vista serem mais caros, a diferença é cerca de 109%, na média, que imóveis próximos ao lago, porém sem vista."
   ]
  },
  {
   "cell_type": "code",
   "execution_count": 26,
   "metadata": {
    "ExecuteTime": {
     "end_time": "2021-08-11T02:28:59.579245Z",
     "start_time": "2021-08-11T02:28:54.317751Z"
    },
    "hide_input": false
   },
   "outputs": [],
   "source": [
    "aux1 = df2.copy()\n",
    "\n",
    "# create string lat + long\n",
    "aux1['lat_long'] = aux1[['lat','long']].apply(lambda x: str(x['lat']) + ',' + str(x['long']), axis=1)\n",
    "\n",
    "# lat and long of 4 spots of lake washington\n",
    "lake_tuple1 = 47.508853,-122.219156\n",
    "lake_tuple2 = 47.593199,-122.228501\n",
    "lake_tuple3 = 47.667237,-122.232624\n",
    "lake_tuple4 = 47.744864,-122.269727\n",
    "\n",
    "# distance from Lake in km\n",
    "aux1['dist_fromlake1'] = aux1['lat_long'].apply(lambda x: great_circle(lake_tuple1, x).km)\n",
    "aux1['dist_fromlake2'] = aux1['lat_long'].apply(lambda x: great_circle(lake_tuple2, x).km)\n",
    "aux1['dist_fromlake3'] = aux1['lat_long'].apply(lambda x: great_circle(lake_tuple3, x).km)\n",
    "aux1['dist_fromlake4'] = aux1['lat_long'].apply(lambda x: great_circle(lake_tuple4, x).km)\n",
    "\n",
    "aux2 = aux1[(aux1['dist_fromlake1'] < 5 ) | (aux1['dist_fromlake2'] < 5 ) | (aux1['dist_fromlake3'] < 5 ) | (aux1['dist_fromlake4'] < 5 ) ]"
   ]
  },
  {
   "cell_type": "code",
   "execution_count": 27,
   "metadata": {
    "ExecuteTime": {
     "end_time": "2021-08-11T02:29:00.067025Z",
     "start_time": "2021-08-11T02:28:59.579245Z"
    },
    "hide_input": false
   },
   "outputs": [
    {
     "data": {
      "image/png": "[encoded data removed]",
      "text/plain": [
       "<Figure size 1440x720 with 1 Axes>"
      ]
     },
     "metadata": {},
     "output_type": "display_data"
    }
   ],
   "source": [
    "aux3 = aux2[['waterfront','price']].groupby('waterfront').mean().reset_index()\n",
    "\n",
    "sns.barplot(x='waterfront',y='price',data=aux3);"
   ]
  },
  {
   "cell_type": "markdown",
   "metadata": {
    "hide_input": false
   },
   "source": [
    "### H3. Imóveis com data de construção menor que 1955 sem renovação deveriam ser mais baratos, na média.\n",
    "**True** Imóveis que foram construídos antes de 1955 e não foram renovados são mais baratos em comparação aos outros imóveis."
   ]
  },
  {
   "cell_type": "code",
   "execution_count": 26,
   "metadata": {
    "ExecuteTime": {
     "end_time": "2021-08-11T03:56:17.811332Z",
     "start_time": "2021-08-11T03:56:16.944174Z"
    },
    "hide_input": false
   },
   "outputs": [
    {
     "data": {
      "image/png": "[encoded data removed]",
      "text/plain": [
       "<Figure size 1440x720 with 1 Axes>"
      ]
     },
     "metadata": {},
     "output_type": "display_data"
    }
   ],
   "source": [
    "aux1 = df2[['built','renovated','price']].groupby(['built','renovated']).mean().reset_index()\n",
    "sns.barplot(x='built',y='price',hue='renovated',data=aux1);"
   ]
  },
  {
   "cell_type": "markdown",
   "metadata": {
    "hide_input": false
   },
   "source": [
    "### H4. A mediana de preço de imóveis com 2 andares ou mais, com vista para água deveria ser mais alta, que imóveis com 1 andar e com vista para água.\n",
    "**True** Imóveis com vista para água com 2 andares ou mais, tem o preço mediano maior."
   ]
  },
  {
   "cell_type": "code",
   "execution_count": 65,
   "metadata": {
    "ExecuteTime": {
     "end_time": "2021-08-11T02:47:15.813953Z",
     "start_time": "2021-08-11T02:47:15.371102Z"
    },
    "hide_input": true
   },
   "outputs": [
    {
     "data": {
      "image/png": "[encoded data removed]",
      "text/plain": [
       "<Figure size 1440x720 with 1 Axes>"
      ]
     },
     "metadata": {},
     "output_type": "display_data"
    }
   ],
   "source": [
    "aux1 = df2[df2['waterfront'] == 1]\n",
    "aux1 = aux1[['floors_type','waterfront','price']].groupby(['floors_type','waterfront']).median().reset_index()\n",
    "sns.barplot(x='floors_type',y='price', data=aux1);"
   ]
  },
  {
   "cell_type": "markdown",
   "metadata": {
    "heading_collapsed": true
   },
   "source": [
    "### H5. Imóveis renovados são 20% mais caros.\n",
    "**False** Imóveis renovados são aproximadamente 33% mais caros que imóveis não reformados, na mediana de preço."
   ]
  },
  {
   "cell_type": "code",
   "execution_count": 30,
   "metadata": {
    "ExecuteTime": {
     "end_time": "2021-08-11T02:29:02.111372Z",
     "start_time": "2021-08-11T02:29:01.456121Z"
    },
    "hidden": true,
    "hide_input": true
   },
   "outputs": [
    {
     "data": {
      "image/png": "[encoded data removed]",
      "text/plain": [
       "<Figure size 1440x720 with 1 Axes>"
      ]
     },
     "metadata": {},
     "output_type": "display_data"
    }
   ],
   "source": [
    "aux1 = df2[['renovated','price']].groupby('renovated').median().reset_index()\n",
    "sns.barplot(x='renovated',y='price', data=aux1);"
   ]
  },
  {
   "cell_type": "markdown",
   "metadata": {
    "heading_collapsed": true
   },
   "source": [
    "### H6. Imóveis em más condições devem ser mais baratos que imóveis com boas condições.\n",
    "**True** Imóveis em más condições apresentam uma média de preço menor que imóveis reformados."
   ]
  },
  {
   "cell_type": "code",
   "execution_count": 31,
   "metadata": {
    "ExecuteTime": {
     "end_time": "2021-08-11T02:29:02.499052Z",
     "start_time": "2021-08-11T02:29:02.117224Z"
    },
    "hidden": true,
    "hide_input": true
   },
   "outputs": [
    {
     "data": {
      "image/png": "[encoded data removed]",
      "text/plain": [
       "<Figure size 1440x720 with 1 Axes>"
      ]
     },
     "metadata": {},
     "output_type": "display_data"
    }
   ],
   "source": [
    "aux1 = df2[['condition_type','price']].groupby('condition_type').median().reset_index()\n",
    "sns.barplot(x='condition_type', y='price', data=aux1);"
   ]
  },
  {
   "cell_type": "markdown",
   "metadata": {
    "heading_collapsed": true
   },
   "source": [
    "### H7. Há um aumento do preço em média de 10% a cada banheiro adicional.\n",
    "**False** Por mais que exista um crescimento de preço por cada banheiro adicional, a porcentagem média é de aproximadamente 37%."
   ]
  },
  {
   "cell_type": "code",
   "execution_count": 32,
   "metadata": {
    "ExecuteTime": {
     "end_time": "2021-08-11T02:29:07.297675Z",
     "start_time": "2021-08-11T02:29:02.504903Z"
    },
    "hidden": true,
    "hide_input": true
   },
   "outputs": [
    {
     "data": {
      "image/png": "[encoded data removed]",
      "text/plain": [
       "<Figure size 1440x720 with 4 Axes>"
      ]
     },
     "metadata": {},
     "output_type": "display_data"
    }
   ],
   "source": [
    "aux1 = df2[['bathrooms', 'price']].groupby('bathrooms').mean().reset_index()\n",
    "X = aux1['bathrooms'].values\n",
    "Y = aux1['price'].values\n",
    "\n",
    "pct = aux1[['price']].pct_change().fillna(0).reset_index()\n",
    "pct.columns = ['bathrooms', 'price']\n",
    "p = round(pct['price'],2)\n",
    "\n",
    "plt.subplot(1,3,1)\n",
    "sns.barplot(X,Y)\n",
    "plt.xlabel(\"Bathrooms\")\n",
    "plt.ylabel(\"Price\")\n",
    "plt.title(\"Bar Plot with annotations\",fontsize=15)\n",
    "\n",
    "for i, label in enumerate(p):\n",
    "    plt.annotate(label, (X[i], Y[i]))\n",
    "\n",
    "plt.subplot(1,3,2)\n",
    "sns.regplot(x='bathrooms', y='price', data=aux1)\n",
    "    \n",
    "plt.subplot(1,3,3)\n",
    "sns.heatmap(aux1.corr(method='pearson'), annot=True, vmin=0)    \n",
    "\n",
    "plt.show()"
   ]
  },
  {
   "cell_type": "markdown",
   "metadata": {
    "heading_collapsed": true
   },
   "source": [
    "### H8. Quanto maior o atributo grade do imóvel, a média de preço deve ser maior.\n",
    "**True** Há um crescimento médio de aprox. 35% no preço em relação a nota, quanto maior, maior será o preço."
   ]
  },
  {
   "cell_type": "code",
   "execution_count": 33,
   "metadata": {
    "ExecuteTime": {
     "end_time": "2021-08-11T02:29:10.674478Z",
     "start_time": "2021-08-11T02:29:07.303528Z"
    },
    "hidden": true,
    "hide_input": true
   },
   "outputs": [
    {
     "data": {
      "image/png": "[encoded data removed]",
      "text/plain": [
       "<Figure size 1080x1080 with 5 Axes>"
      ]
     },
     "metadata": {},
     "output_type": "display_data"
    }
   ],
   "source": [
    "fig = plt.figure(figsize=(15,15))\n",
    "specs = gridspec.GridSpec(ncols= 2, nrows=2, figure=fig)\n",
    "\n",
    "ax1 = fig.add_subplot(specs[0,0])\n",
    "ax2 = fig.add_subplot(specs[0,1])\n",
    "ax3 = fig.add_subplot(specs[1,0]) \n",
    "ax4 = fig.add_subplot(specs[1,1]) \n",
    "\n",
    "aux1 = df2[['grade', 'price']].groupby('grade').mean().reset_index()\n",
    "aux1['grade'] = aux1['grade']\n",
    "sns.barplot(x='grade', y='price', data=aux1, ax=ax1)\n",
    "\n",
    "aux2 = df2[['grade', 'price']].groupby('grade').mean().reset_index()\n",
    "aux2['price'] = aux2['price'].pct_change()\n",
    "aux2['grade'] = aux2['grade'].astype(str)\n",
    "aux2['price'] = round(aux2['price'], 2) * 100\n",
    "aux2.columns = ['grade', 'porcentagem']\n",
    "sns.barplot(x='grade', y='porcentagem', data=aux2, ax=ax2)\n",
    "\n",
    "sns.heatmap(aux1.corr(method='pearson'),annot=True, vmin=0, ax=ax3)\n",
    "\n",
    "sns.regplot( x='grade', y='price', data=aux1, ax=ax4);"
   ]
  },
  {
   "cell_type": "markdown",
   "metadata": {
    "heading_collapsed": true
   },
   "source": [
    "### H9. Imóveis de 3 quartos e 2 banheiros devem ser 10% mais caros que imóveis de 3 quartos e 1 banheiro.\n",
    "**Falso** Os imóveis com 3 quartos e 2 banheiro são mais caros, porém aproximadamente 29%."
   ]
  },
  {
   "cell_type": "code",
   "execution_count": 34,
   "metadata": {
    "ExecuteTime": {
     "end_time": "2021-08-11T02:29:11.687618Z",
     "start_time": "2021-08-11T02:29:10.697913Z"
    },
    "hidden": true,
    "hide_input": true
   },
   "outputs": [
    {
     "data": {
      "image/png": "[encoded data removed]",
      "text/plain": [
       "<Figure size 1440x720 with 3 Axes>"
      ]
     },
     "metadata": {},
     "output_type": "display_data"
    }
   ],
   "source": [
    "aux1 = df2[(df2['bedrooms'] == 3) & (df2['bathrooms'] <= 2) ]\n",
    "aux1 = aux1[aux1['bathrooms'] != 0]\n",
    "aux1 = aux1[['bathrooms','price']].groupby('bathrooms').mean().reset_index()\n",
    "\n",
    "aux2 = df2[['bathrooms','price']].groupby('bathrooms').median().reset_index()\n",
    "\n",
    "\n",
    "plt.subplot(1,2,1)\n",
    "sns.barplot(x='bathrooms',y='price',data=aux1)\n",
    "\n",
    "plt.subplot(1,2,2)\n",
    "sns.heatmap(aux2.corr(method='pearson'), annot=True);"
   ]
  },
  {
   "cell_type": "markdown",
   "metadata": {
    "heading_collapsed": true
   },
   "source": [
    "### H10. Imóveis com porão deveriam ser mais caros que imóveis sem porão.\n",
    "**True**"
   ]
  },
  {
   "cell_type": "code",
   "execution_count": 35,
   "metadata": {
    "ExecuteTime": {
     "end_time": "2021-08-11T02:29:12.095810Z",
     "start_time": "2021-08-11T02:29:11.694940Z"
    },
    "hidden": true,
    "hide_input": true
   },
   "outputs": [
    {
     "data": {
      "image/png": "[encoded data removed]",
      "text/plain": [
       "<Figure size 1440x720 with 1 Axes>"
      ]
     },
     "metadata": {},
     "output_type": "display_data"
    }
   ],
   "source": [
    "aux1 = df2[['basement','price']].groupby('basement').mean().reset_index()\n",
    "\n",
    "plt.subplot(1,2,1)\n",
    "sns.barplot(x='basement', y='price', data=aux1);"
   ]
  },
  {
   "cell_type": "markdown",
   "metadata": {},
   "source": [
    "## 4.3. Multvariate Analysis"
   ]
  },
  {
   "cell_type": "markdown",
   "metadata": {},
   "source": [
    "### 4.3.1  Numerical Attributes  "
   ]
  },
  {
   "cell_type": "code",
   "execution_count": 36,
   "metadata": {
    "ExecuteTime": {
     "end_time": "2021-08-11T02:29:13.508347Z",
     "start_time": "2021-08-11T02:29:12.101662Z"
    },
    "hide_input": true
   },
   "outputs": [
    {
     "data": {
      "image/png": "[encoded data removed]",
      "text/plain": [
       "<Figure size 1440x720 with 2 Axes>"
      ]
     },
     "metadata": {},
     "output_type": "display_data"
    }
   ],
   "source": [
    "#Gerando matrix \n",
    "n = df2.select_dtypes(include=['int64','float64'])\n",
    "matrix = n.copy()\n",
    "matrix = matrix.drop(['id'], axis = 1)\n",
    "matrix = matrix.corr()\n",
    "\n",
    "#Gerando máscara\n",
    "mask = np.triu(np.ones_like(matrix, dtype=bool))\n",
    "\n",
    "#Gerando novo mapa de cores\n",
    "cmap = sns.diverging_palette(20, 220, 300, as_cmap=True)\n",
    "\n",
    "#Plotando matrix\n",
    "plt.subplot(1,2,1)\n",
    "sns.heatmap(matrix, mask=mask, cmap=cmap, vmin=-1, vmax=1, center=0,\n",
    "            square=True, linewidths=.5, cbar_kws={\"shrink\": .5});"
   ]
  },
  {
   "cell_type": "markdown",
   "metadata": {},
   "source": [
    "## 4.4. Hypotheses Overview"
   ]
  },
  {
   "cell_type": "code",
   "execution_count": 37,
   "metadata": {
    "ExecuteTime": {
     "end_time": "2021-08-11T02:29:13.539586Z",
     "start_time": "2021-08-11T02:29:13.514688Z"
    },
    "hide_input": true
   },
   "outputs": [
    {
     "name": "stdout",
     "output_type": "stream",
     "text": [
      "Hipóteses    Resultado    Relevância    Resumo\n",
      "-----------  -----------  ------------  ------------------------------------------------------------------------------------\n",
      "H1           Verdadeiro   Média         Imóveis com vista para água são mais caros na média.\n",
      "H2           Falsa        Alta          Apesar dos imóveis com vista serem mais caros, a diferença é cerca de 109%\n",
      "H3           Verdadeiro   Alta          Imóveis que foram construídos antes de 1955 e não foram renovados são mais baratos.\n",
      "H4           Verdadeiro   Média         Imóveis com vista para água com 2 andares ou mais, tem o preço mediano maior.\n",
      "H5           Falso        Média         Imóveis renovados são aproximadamente 33% mais caros na mediana de preço.\n",
      "H6           Verdadeira   Alta          Imóveis em más condições apresentam uma média de preço menor que imóveis reformados.\n",
      "H7           Falso        Baixa         Por mais que exista um crescimento a porcentagem média é de aproximadamente 37%.\n",
      "H8           Verdadeira   Baixa         Há um crescimento médio de aprox. 35% no preço em relação ao grade\n",
      "H9           Falsa        Média         Os imóveis com 3 quartos e 2 banheiro são mais caros, porém aproximadamente 29%.\n",
      "H10          Verdadeira   Baixa         Imóveis com porão são mais caros que imóveis sem porão\n"
     ]
    }
   ],
   "source": [
    "hipoteses = [['Hipóteses','Resultado','Relevância', 'Resumo'],\n",
    "['H1','Verdadeiro','Média', 'Imóveis com vista para água são mais caros na média.'],\n",
    "['H2','Falsa','Alta','Apesar dos imóveis com vista serem mais caros, a diferença é cerca de 109%'],\n",
    "['H3','Verdadeiro','Alta','Imóveis que foram construídos antes de 1955 e não foram renovados são mais baratos.'],\n",
    "['H4','Verdadeiro','Média', 'Imóveis com vista para água com 2 andares ou mais, tem o preço mediano maior.'],\n",
    "['H5','Falso','Média',' Imóveis renovados são aproximadamente 33% mais caros na mediana de preço.'],\n",
    "['H6','Verdadeira','Alta','Imóveis em más condições apresentam uma média de preço menor que imóveis reformados.'],\n",
    "['H7','Falso','Baixa','Por mais que exista um crescimento a porcentagem média é de aproximadamente 37%.'],\n",
    "['H8','Verdadeira','Baixa','Há um crescimento médio de aprox. 35% no preço em relação ao grade'],\n",
    "['H9','Falsa','Média','Os imóveis com 3 quartos e 2 banheiro são mais caros, porém aproximadamente 29%.'],\n",
    "['H10','Verdadeira','Baixa','Imóveis com porão são mais caros que imóveis sem porão']]\n",
    "\n",
    "print(tabulate(hipoteses,headers='firstrow'))"
   ]
  },
  {
   "cell_type": "markdown",
   "metadata": {},
   "source": [
    "# 5.0. SOLUTIONS FOR BUSINESS QUESTIONS"
   ]
  },
  {
   "cell_type": "code",
   "execution_count": 38,
   "metadata": {
    "ExecuteTime": {
     "end_time": "2021-08-11T02:29:13.646525Z",
     "start_time": "2021-08-11T02:29:13.547890Z"
    }
   },
   "outputs": [],
   "source": [
    "df3 = df2.copy()"
   ]
  },
  {
   "cell_type": "markdown",
   "metadata": {},
   "source": [
    "## 5.1. Quais são os imóveis que a House Rocket deveria comprar e por qual preço?"
   ]
  },
  {
   "cell_type": "markdown",
   "metadata": {
    "heading_collapsed": true
   },
   "source": [
    "### 5.1.1. New Features and Filters conditions"
   ]
  },
  {
   "cell_type": "code",
   "execution_count": 39,
   "metadata": {
    "ExecuteTime": {
     "end_time": "2021-08-11T02:32:26.687275Z",
     "start_time": "2021-08-11T02:29:13.652375Z"
    },
    "code_folding": [],
    "hidden": true
   },
   "outputs": [],
   "source": [
    "df4 = df3.copy()\n",
    "\n",
    "# median by zipcode\n",
    "df4 = df4[['zipcode','price']].groupby('zipcode').median().reset_index()\n",
    "df4.columns = ['zipcode','price_median']\n",
    "\n",
    "df5 = pd.merge(df3, df4, on='zipcode', how='inner')  \n",
    "\n",
    "# filter by price_median and condition \n",
    "df5['status'] = 'NA'\n",
    "for i in range(len(df5)):\n",
    "    if (df5.loc[i, 'price'] < df5.loc[i, 'price_median']) & (df5.loc[i, 'condition'] > 2):\n",
    "        df5.loc[i, 'status'] = 'buy'\n",
    "    else:\n",
    "        df5.loc[i, 'status'] = 'dont buy'\n",
    "\n",
    "df6 = df5.copy()\n",
    "\n",
    "# median price by zipcode + season of availability date to buy\n",
    "df6 = df6[['zipcode','season','price']].groupby(['zipcode','season']).median().reset_index()\n",
    "df6.columns = ['zipcode','season','season_median']\n",
    "\n",
    "df7 = pd.merge(df5, df6, on=['zipcode','season'], how='inner')\n",
    "\n",
    "# median price of season \n",
    "df8 = df7[['zipcode','season','price']].groupby(['zipcode','season']).median().reset_index()\n",
    "df8 = df8.pivot(index='zipcode', columns='season', values='price').reset_index()\n",
    "\n",
    "df9 = pd.merge(df7, df8, on='zipcode', how='inner')\n",
    "\n",
    "# calculate sell price of houses based on the median price of season\n",
    "for i in range(len(df9)):\n",
    "    if df9.loc[i, 'price'] >= df9.loc[i, 'season_median']:\n",
    "        df9.loc[i, 'sell_price'] = (df9.loc[i, 'price'] * 0.10) + df9.loc[i, 'price']\n",
    "    else:\n",
    "        df9.loc[i, 'sell_price'] = (df9.loc[i, 'price'] * 0.30) + df9.loc[i, 'price']\n",
    "\n",
    "# selecting the best season to sell houses, based on median price of each season\n",
    "i = 0\n",
    "df9['best_season'] = ''\n",
    "while i < len(df9):\n",
    "    cols = ['autumn','spring','summer','winter']\n",
    "    if df9.loc[i, cols[0]] >= df9.loc[i, 'sell_price']:\n",
    "        df9.loc[i, 'best_season'] = df9.loc[i, 'best_season'] + 'autumn'\n",
    "    if df9.loc[i, cols[1]] >= df9.loc[i, 'sell_price']:\n",
    "        df9.loc[i, 'best_season'] = df9.loc[i, 'best_season'] + ',' + 'spring'\n",
    "    if df9.loc[i, cols[2]] >= df9.loc[i, 'sell_price']:\n",
    "        df9.loc[i, 'best_season'] = df9.loc[i, 'best_season'] + ',' + 'summer'\n",
    "    if df9.loc[i, cols[3]] >= df9.loc[i, 'sell_price']:\n",
    "        df9.loc[i, 'best_season'] = df9.loc[i, 'best_season'] + ',' + 'winter'\n",
    "    if df9.loc[i, 'best_season'] == '':\n",
    "        df9.loc[i, 'best_season'] = 'no_season'\n",
    "    i = i + 1\n",
    "\n",
    "# remove first comma of string\n",
    "for i in range(len(df9)):\n",
    "    df9.loc[i, 'best_season'] = df9.loc[i, 'best_season'].lstrip(',')        \n",
    "\n",
    "# expected profit\n",
    "df9['profit'] = df9['sell_price'] - df9['price']\n",
    "\n",
    "# houses to buy\n",
    "report = df9[['id', 'zipcode', 'season', 'price', 'price_median', 'status', 'sell_price', 'profit', 'best_season']]\n",
    "report = report[(report['best_season'] != 'no_season') & (report['status'] == 'buy')].sort_values('id', ascending=True)\n",
    "report = report[['id', 'zipcode', 'season', 'price', 'price_median', 'status', 'sell_price', 'profit']].reset_index(drop=True)"
   ]
  },
  {
   "cell_type": "code",
   "execution_count": 40,
   "metadata": {
    "ExecuteTime": {
     "end_time": "2021-08-11T02:32:26.702404Z",
     "start_time": "2021-08-11T02:32:26.687275Z"
    },
    "code_folding": [],
    "hidden": true
   },
   "outputs": [],
   "source": [
    "#Exportar para CSV\n",
    "#df9.to_csv('kc_houses_solution.csv', index=False)"
   ]
  },
  {
   "cell_type": "markdown",
   "metadata": {},
   "source": [
    "### 5.1.2 Solution 1 - Report"
   ]
  },
  {
   "cell_type": "code",
   "execution_count": 58,
   "metadata": {
    "ExecuteTime": {
     "end_time": "2021-08-11T02:36:56.752771Z",
     "start_time": "2021-08-11T02:36:56.712728Z"
    },
    "code_folding": [],
    "hide_input": true,
    "scrolled": false
   },
   "outputs": [
    {
     "data": {
      "text/html": [
       "<div>\n",
       "<style scoped>\n",
       "    .dataframe tbody tr th:only-of-type {\n",
       "        vertical-align: middle;\n",
       "    }\n",
       "\n",
       "    .dataframe tbody tr th {\n",
       "        vertical-align: top;\n",
       "    }\n",
       "\n",
       "    .dataframe thead th {\n",
       "        text-align: right;\n",
       "    }\n",
       "</style>\n",
       "<table border=\"1\" class=\"dataframe\">\n",
       "  <thead>\n",
       "    <tr style=\"text-align: right;\">\n",
       "      <th></th>\n",
       "      <th>id</th>\n",
       "      <th>zipcode</th>\n",
       "      <th>season</th>\n",
       "      <th>price</th>\n",
       "      <th>price_median</th>\n",
       "      <th>status</th>\n",
       "      <th>sell_price</th>\n",
       "      <th>profit</th>\n",
       "    </tr>\n",
       "  </thead>\n",
       "  <tbody>\n",
       "    <tr>\n",
       "      <th>0</th>\n",
       "      <td>3800008</td>\n",
       "      <td>98178</td>\n",
       "      <td>winter</td>\n",
       "      <td>178,000.00</td>\n",
       "      <td>279,500.00</td>\n",
       "      <td>buy</td>\n",
       "      <td>231,400.00</td>\n",
       "      <td>53,400.00</td>\n",
       "    </tr>\n",
       "    <tr>\n",
       "      <th>1</th>\n",
       "      <td>7200179</td>\n",
       "      <td>98055</td>\n",
       "      <td>spring</td>\n",
       "      <td>175,000.00</td>\n",
       "      <td>297,225.00</td>\n",
       "      <td>buy</td>\n",
       "      <td>227,500.00</td>\n",
       "      <td>52,500.00</td>\n",
       "    </tr>\n",
       "    <tr>\n",
       "      <th>2</th>\n",
       "      <td>7400062</td>\n",
       "      <td>98118</td>\n",
       "      <td>spring</td>\n",
       "      <td>299,800.00</td>\n",
       "      <td>370,000.00</td>\n",
       "      <td>buy</td>\n",
       "      <td>389,740.00</td>\n",
       "      <td>89,940.00</td>\n",
       "    </tr>\n",
       "    <tr>\n",
       "      <th>3</th>\n",
       "      <td>7600065</td>\n",
       "      <td>98122</td>\n",
       "      <td>spring</td>\n",
       "      <td>465,000.00</td>\n",
       "      <td>574,000.00</td>\n",
       "      <td>buy</td>\n",
       "      <td>604,500.00</td>\n",
       "      <td>139,500.00</td>\n",
       "    </tr>\n",
       "    <tr>\n",
       "      <th>4</th>\n",
       "      <td>7600136</td>\n",
       "      <td>98122</td>\n",
       "      <td>summer</td>\n",
       "      <td>411,000.00</td>\n",
       "      <td>574,000.00</td>\n",
       "      <td>buy</td>\n",
       "      <td>534,300.00</td>\n",
       "      <td>123,300.00</td>\n",
       "    </tr>\n",
       "    <tr>\n",
       "      <th>...</th>\n",
       "      <td>...</td>\n",
       "      <td>...</td>\n",
       "      <td>...</td>\n",
       "      <td>...</td>\n",
       "      <td>...</td>\n",
       "      <td>...</td>\n",
       "      <td>...</td>\n",
       "      <td>...</td>\n",
       "    </tr>\n",
       "    <tr>\n",
       "      <th>5167</th>\n",
       "      <td>9834201215</td>\n",
       "      <td>98144</td>\n",
       "      <td>autumn</td>\n",
       "      <td>276,000.00</td>\n",
       "      <td>452,500.00</td>\n",
       "      <td>buy</td>\n",
       "      <td>358,800.00</td>\n",
       "      <td>82,800.00</td>\n",
       "    </tr>\n",
       "    <tr>\n",
       "      <th>5168</th>\n",
       "      <td>9834201366</td>\n",
       "      <td>98144</td>\n",
       "      <td>autumn</td>\n",
       "      <td>429,900.00</td>\n",
       "      <td>452,500.00</td>\n",
       "      <td>buy</td>\n",
       "      <td>472,890.00</td>\n",
       "      <td>42,990.00</td>\n",
       "    </tr>\n",
       "    <tr>\n",
       "      <th>5169</th>\n",
       "      <td>9834201470</td>\n",
       "      <td>98144</td>\n",
       "      <td>autumn</td>\n",
       "      <td>303,000.00</td>\n",
       "      <td>452,500.00</td>\n",
       "      <td>buy</td>\n",
       "      <td>393,900.00</td>\n",
       "      <td>90,900.00</td>\n",
       "    </tr>\n",
       "    <tr>\n",
       "      <th>5170</th>\n",
       "      <td>9895000040</td>\n",
       "      <td>98027</td>\n",
       "      <td>summer</td>\n",
       "      <td>399,900.00</td>\n",
       "      <td>571,000.00</td>\n",
       "      <td>buy</td>\n",
       "      <td>519,870.00</td>\n",
       "      <td>119,970.00</td>\n",
       "    </tr>\n",
       "    <tr>\n",
       "      <th>5171</th>\n",
       "      <td>9900000190</td>\n",
       "      <td>98166</td>\n",
       "      <td>autumn</td>\n",
       "      <td>268,950.00</td>\n",
       "      <td>392,500.00</td>\n",
       "      <td>buy</td>\n",
       "      <td>349,635.00</td>\n",
       "      <td>80,685.00</td>\n",
       "    </tr>\n",
       "  </tbody>\n",
       "</table>\n",
       "<p>5172 rows × 8 columns</p>\n",
       "</div>"
      ],
      "text/plain": [
       "              id  zipcode  season      price  price_median status  sell_price     profit\n",
       "0        3800008    98178  winter 178,000.00    279,500.00    buy  231,400.00  53,400.00\n",
       "1        7200179    98055  spring 175,000.00    297,225.00    buy  227,500.00  52,500.00\n",
       "2        7400062    98118  spring 299,800.00    370,000.00    buy  389,740.00  89,940.00\n",
       "3        7600065    98122  spring 465,000.00    574,000.00    buy  604,500.00 139,500.00\n",
       "4        7600136    98122  summer 411,000.00    574,000.00    buy  534,300.00 123,300.00\n",
       "...          ...      ...     ...        ...           ...    ...         ...        ...\n",
       "5167  9834201215    98144  autumn 276,000.00    452,500.00    buy  358,800.00  82,800.00\n",
       "5168  9834201366    98144  autumn 429,900.00    452,500.00    buy  472,890.00  42,990.00\n",
       "5169  9834201470    98144  autumn 303,000.00    452,500.00    buy  393,900.00  90,900.00\n",
       "5170  9895000040    98027  summer 399,900.00    571,000.00    buy  519,870.00 119,970.00\n",
       "5171  9900000190    98166  autumn 268,950.00    392,500.00    buy  349,635.00  80,685.00\n",
       "\n",
       "[5172 rows x 8 columns]"
      ]
     },
     "execution_count": 58,
     "metadata": {},
     "output_type": "execute_result"
    }
   ],
   "source": [
    "report"
   ]
  },
  {
   "cell_type": "markdown",
   "metadata": {},
   "source": [
    "## 5.2. Uma vez comprado, qual é o melhor momento para vendê-lo e por qual preço?"
   ]
  },
  {
   "cell_type": "markdown",
   "metadata": {},
   "source": [
    "### 5.2.1 Solution 2 - Report"
   ]
  },
  {
   "cell_type": "code",
   "execution_count": 57,
   "metadata": {
    "ExecuteTime": {
     "end_time": "2021-08-11T02:36:39.212002Z",
     "start_time": "2021-08-11T02:36:39.123131Z"
    },
    "hide_input": true
   },
   "outputs": [
    {
     "data": {
      "text/html": [
       "<div>\n",
       "<style scoped>\n",
       "    .dataframe tbody tr th:only-of-type {\n",
       "        vertical-align: middle;\n",
       "    }\n",
       "\n",
       "    .dataframe tbody tr th {\n",
       "        vertical-align: top;\n",
       "    }\n",
       "\n",
       "    .dataframe thead th {\n",
       "        text-align: right;\n",
       "    }\n",
       "</style>\n",
       "<table border=\"1\" class=\"dataframe\">\n",
       "  <thead>\n",
       "    <tr style=\"text-align: right;\">\n",
       "      <th></th>\n",
       "      <th>id</th>\n",
       "      <th>zipcode</th>\n",
       "      <th>season</th>\n",
       "      <th>price</th>\n",
       "      <th>price_median</th>\n",
       "      <th>status</th>\n",
       "      <th>sell_price</th>\n",
       "      <th>profit</th>\n",
       "      <th>best_season</th>\n",
       "    </tr>\n",
       "  </thead>\n",
       "  <tbody>\n",
       "    <tr>\n",
       "      <th>0</th>\n",
       "      <td>3800008</td>\n",
       "      <td>98178</td>\n",
       "      <td>winter</td>\n",
       "      <td>178,000.00</td>\n",
       "      <td>279,500.00</td>\n",
       "      <td>buy</td>\n",
       "      <td>231,400.00</td>\n",
       "      <td>53,400.00</td>\n",
       "      <td>autumn,spring,summer,winter</td>\n",
       "    </tr>\n",
       "    <tr>\n",
       "      <th>1</th>\n",
       "      <td>7200179</td>\n",
       "      <td>98055</td>\n",
       "      <td>spring</td>\n",
       "      <td>175,000.00</td>\n",
       "      <td>297,225.00</td>\n",
       "      <td>buy</td>\n",
       "      <td>227,500.00</td>\n",
       "      <td>52,500.00</td>\n",
       "      <td>autumn,spring,summer,winter</td>\n",
       "    </tr>\n",
       "    <tr>\n",
       "      <th>2</th>\n",
       "      <td>7400062</td>\n",
       "      <td>98118</td>\n",
       "      <td>spring</td>\n",
       "      <td>299,800.00</td>\n",
       "      <td>370,000.00</td>\n",
       "      <td>buy</td>\n",
       "      <td>389,740.00</td>\n",
       "      <td>89,940.00</td>\n",
       "      <td>spring</td>\n",
       "    </tr>\n",
       "    <tr>\n",
       "      <th>3</th>\n",
       "      <td>7600065</td>\n",
       "      <td>98122</td>\n",
       "      <td>spring</td>\n",
       "      <td>465,000.00</td>\n",
       "      <td>574,000.00</td>\n",
       "      <td>buy</td>\n",
       "      <td>604,500.00</td>\n",
       "      <td>139,500.00</td>\n",
       "      <td>spring</td>\n",
       "    </tr>\n",
       "    <tr>\n",
       "      <th>4</th>\n",
       "      <td>7600136</td>\n",
       "      <td>98122</td>\n",
       "      <td>summer</td>\n",
       "      <td>411,000.00</td>\n",
       "      <td>574,000.00</td>\n",
       "      <td>buy</td>\n",
       "      <td>534,300.00</td>\n",
       "      <td>123,300.00</td>\n",
       "      <td>autumn,spring,summer</td>\n",
       "    </tr>\n",
       "    <tr>\n",
       "      <th>...</th>\n",
       "      <td>...</td>\n",
       "      <td>...</td>\n",
       "      <td>...</td>\n",
       "      <td>...</td>\n",
       "      <td>...</td>\n",
       "      <td>...</td>\n",
       "      <td>...</td>\n",
       "      <td>...</td>\n",
       "      <td>...</td>\n",
       "    </tr>\n",
       "    <tr>\n",
       "      <th>5167</th>\n",
       "      <td>9834201215</td>\n",
       "      <td>98144</td>\n",
       "      <td>autumn</td>\n",
       "      <td>276,000.00</td>\n",
       "      <td>452,500.00</td>\n",
       "      <td>buy</td>\n",
       "      <td>358,800.00</td>\n",
       "      <td>82,800.00</td>\n",
       "      <td>autumn,spring,summer,winter</td>\n",
       "    </tr>\n",
       "    <tr>\n",
       "      <th>5168</th>\n",
       "      <td>9834201366</td>\n",
       "      <td>98144</td>\n",
       "      <td>autumn</td>\n",
       "      <td>429,900.00</td>\n",
       "      <td>452,500.00</td>\n",
       "      <td>buy</td>\n",
       "      <td>472,890.00</td>\n",
       "      <td>42,990.00</td>\n",
       "      <td>summer,winter</td>\n",
       "    </tr>\n",
       "    <tr>\n",
       "      <th>5169</th>\n",
       "      <td>9834201470</td>\n",
       "      <td>98144</td>\n",
       "      <td>autumn</td>\n",
       "      <td>303,000.00</td>\n",
       "      <td>452,500.00</td>\n",
       "      <td>buy</td>\n",
       "      <td>393,900.00</td>\n",
       "      <td>90,900.00</td>\n",
       "      <td>autumn,spring,summer,winter</td>\n",
       "    </tr>\n",
       "    <tr>\n",
       "      <th>5170</th>\n",
       "      <td>9895000040</td>\n",
       "      <td>98027</td>\n",
       "      <td>summer</td>\n",
       "      <td>399,900.00</td>\n",
       "      <td>571,000.00</td>\n",
       "      <td>buy</td>\n",
       "      <td>519,870.00</td>\n",
       "      <td>119,970.00</td>\n",
       "      <td>autumn,spring,summer,winter</td>\n",
       "    </tr>\n",
       "    <tr>\n",
       "      <th>5171</th>\n",
       "      <td>9900000190</td>\n",
       "      <td>98166</td>\n",
       "      <td>autumn</td>\n",
       "      <td>268,950.00</td>\n",
       "      <td>392,500.00</td>\n",
       "      <td>buy</td>\n",
       "      <td>349,635.00</td>\n",
       "      <td>80,685.00</td>\n",
       "      <td>spring,summer,winter</td>\n",
       "    </tr>\n",
       "  </tbody>\n",
       "</table>\n",
       "<p>5172 rows × 9 columns</p>\n",
       "</div>"
      ],
      "text/plain": [
       "              id  zipcode  season      price  price_median status  sell_price     profit                  best_season\n",
       "0        3800008    98178  winter 178,000.00    279,500.00    buy  231,400.00  53,400.00  autumn,spring,summer,winter\n",
       "1        7200179    98055  spring 175,000.00    297,225.00    buy  227,500.00  52,500.00  autumn,spring,summer,winter\n",
       "2        7400062    98118  spring 299,800.00    370,000.00    buy  389,740.00  89,940.00                       spring\n",
       "3        7600065    98122  spring 465,000.00    574,000.00    buy  604,500.00 139,500.00                       spring\n",
       "4        7600136    98122  summer 411,000.00    574,000.00    buy  534,300.00 123,300.00         autumn,spring,summer\n",
       "...          ...      ...     ...        ...           ...    ...         ...        ...                          ...\n",
       "5167  9834201215    98144  autumn 276,000.00    452,500.00    buy  358,800.00  82,800.00  autumn,spring,summer,winter\n",
       "5168  9834201366    98144  autumn 429,900.00    452,500.00    buy  472,890.00  42,990.00                summer,winter\n",
       "5169  9834201470    98144  autumn 303,000.00    452,500.00    buy  393,900.00  90,900.00  autumn,spring,summer,winter\n",
       "5170  9895000040    98027  summer 399,900.00    571,000.00    buy  519,870.00 119,970.00  autumn,spring,summer,winter\n",
       "5171  9900000190    98166  autumn 268,950.00    392,500.00    buy  349,635.00  80,685.00         spring,summer,winter\n",
       "\n",
       "[5172 rows x 9 columns]"
      ]
     },
     "execution_count": 57,
     "metadata": {},
     "output_type": "execute_result"
    }
   ],
   "source": [
    "# report with best season to sell\n",
    "report2 = df9[['id', 'zipcode', 'season', 'price', 'price_median', 'status', 'sell_price', 'profit', 'best_season']]\n",
    "report2 = report2[(report2['best_season'] != 'no_season') & (report2['status'] == 'buy')].sort_values('id', ascending=True)\n",
    "report2 = report2[['id', 'zipcode', 'season', 'price', 'price_median', 'status', 'sell_price', 'profit','best_season']].reset_index(drop=True)\n",
    "report2"
   ]
  },
  {
   "cell_type": "markdown",
   "metadata": {},
   "source": [
    "### 5.2.1 Solution 2 - Plot season frequency"
   ]
  },
  {
   "cell_type": "code",
   "execution_count": 43,
   "metadata": {
    "ExecuteTime": {
     "end_time": "2021-08-11T02:32:30.123163Z",
     "start_time": "2021-08-11T02:32:29.472807Z"
    },
    "hide_input": true
   },
   "outputs": [
    {
     "data": {
      "image/png": "[encoded data removed]",
      "text/plain": [
       "<Figure size 1440x720 with 1 Axes>"
      ]
     },
     "metadata": {},
     "output_type": "display_data"
    }
   ],
   "source": [
    "#Além da melhor season estar indicada na coluna best_season da tabela anterior, a seguirm plot das seasons com maior recorrência\n",
    "season = report2.copy()\n",
    "season = season['best_season'].tolist()\n",
    "season = ','.join(season)\n",
    "season = season.split(',')\n",
    "season_count = Counter(season)\n",
    "season_count = pd.DataFrame(([season_count]))\n",
    "season_count = season_count.melt().sort_values('value', ascending=False)\n",
    "sns.barplot(data=season_count, x='variable', y='value');"
   ]
  },
  {
   "cell_type": "markdown",
   "metadata": {},
   "source": [
    "## 5.3. Resultados para o negócio"
   ]
  },
  {
   "cell_type": "markdown",
   "metadata": {},
   "source": [
    "Também foi realizado um filtro para sugerir a compra dos Top 20 imóveis, por **lucratividade**, por **baixo investimento** e um Bônus de **imóveis para reforma com maior ganho**."
   ]
  },
  {
   "cell_type": "markdown",
   "metadata": {},
   "source": [
    "### 5.3.1 Top 20 Houses with best profits"
   ]
  },
  {
   "cell_type": "code",
   "execution_count": 59,
   "metadata": {
    "ExecuteTime": {
     "end_time": "2021-08-11T02:37:25.381450Z",
     "start_time": "2021-08-11T02:37:25.324805Z"
    },
    "code_folding": [],
    "hide_input": true
   },
   "outputs": [
    {
     "data": {
      "text/html": [
       "<div>\n",
       "<style scoped>\n",
       "    .dataframe tbody tr th:only-of-type {\n",
       "        vertical-align: middle;\n",
       "    }\n",
       "\n",
       "    .dataframe tbody tr th {\n",
       "        vertical-align: top;\n",
       "    }\n",
       "\n",
       "    .dataframe thead th {\n",
       "        text-align: right;\n",
       "    }\n",
       "</style>\n",
       "<table border=\"1\" class=\"dataframe\">\n",
       "  <thead>\n",
       "    <tr style=\"text-align: right;\">\n",
       "      <th></th>\n",
       "      <th>id</th>\n",
       "      <th>zipcode</th>\n",
       "      <th>season</th>\n",
       "      <th>price</th>\n",
       "      <th>price_median</th>\n",
       "      <th>status</th>\n",
       "      <th>sell_price</th>\n",
       "      <th>profit</th>\n",
       "      <th>best_season</th>\n",
       "    </tr>\n",
       "  </thead>\n",
       "  <tbody>\n",
       "    <tr>\n",
       "      <th>0</th>\n",
       "      <td>3262300322</td>\n",
       "      <td>98039</td>\n",
       "      <td>spring</td>\n",
       "      <td>1,651,000.00</td>\n",
       "      <td>1,905,000.00</td>\n",
       "      <td>buy</td>\n",
       "      <td>2,146,300.00</td>\n",
       "      <td>495,300.00</td>\n",
       "      <td>autumn,summer</td>\n",
       "    </tr>\n",
       "    <tr>\n",
       "      <th>1</th>\n",
       "      <td>3025300250</td>\n",
       "      <td>98039</td>\n",
       "      <td>spring</td>\n",
       "      <td>1,620,000.00</td>\n",
       "      <td>1,905,000.00</td>\n",
       "      <td>buy</td>\n",
       "      <td>2,106,000.00</td>\n",
       "      <td>486,000.00</td>\n",
       "      <td>autumn,summer</td>\n",
       "    </tr>\n",
       "    <tr>\n",
       "      <th>2</th>\n",
       "      <td>3262300235</td>\n",
       "      <td>98039</td>\n",
       "      <td>autumn</td>\n",
       "      <td>1,555,000.00</td>\n",
       "      <td>1,905,000.00</td>\n",
       "      <td>buy</td>\n",
       "      <td>2,021,500.00</td>\n",
       "      <td>466,500.00</td>\n",
       "      <td>autumn,summer</td>\n",
       "    </tr>\n",
       "    <tr>\n",
       "      <th>3</th>\n",
       "      <td>2525049246</td>\n",
       "      <td>98039</td>\n",
       "      <td>autumn</td>\n",
       "      <td>1,550,000.00</td>\n",
       "      <td>1,905,000.00</td>\n",
       "      <td>buy</td>\n",
       "      <td>2,015,000.00</td>\n",
       "      <td>465,000.00</td>\n",
       "      <td>autumn,summer</td>\n",
       "    </tr>\n",
       "    <tr>\n",
       "      <th>4</th>\n",
       "      <td>3025300225</td>\n",
       "      <td>98039</td>\n",
       "      <td>autumn</td>\n",
       "      <td>1,450,000.00</td>\n",
       "      <td>1,905,000.00</td>\n",
       "      <td>buy</td>\n",
       "      <td>1,885,000.00</td>\n",
       "      <td>435,000.00</td>\n",
       "      <td>autumn,summer</td>\n",
       "    </tr>\n",
       "    <tr>\n",
       "      <th>5</th>\n",
       "      <td>5427100150</td>\n",
       "      <td>98039</td>\n",
       "      <td>summer</td>\n",
       "      <td>1,410,000.00</td>\n",
       "      <td>1,905,000.00</td>\n",
       "      <td>buy</td>\n",
       "      <td>1,833,000.00</td>\n",
       "      <td>423,000.00</td>\n",
       "      <td>autumn,summer,winter</td>\n",
       "    </tr>\n",
       "    <tr>\n",
       "      <th>6</th>\n",
       "      <td>2525049133</td>\n",
       "      <td>98039</td>\n",
       "      <td>spring</td>\n",
       "      <td>1,398,000.00</td>\n",
       "      <td>1,905,000.00</td>\n",
       "      <td>buy</td>\n",
       "      <td>1,817,400.00</td>\n",
       "      <td>419,400.00</td>\n",
       "      <td>autumn,summer,winter</td>\n",
       "    </tr>\n",
       "    <tr>\n",
       "      <th>7</th>\n",
       "      <td>3625049079</td>\n",
       "      <td>98039</td>\n",
       "      <td>summer</td>\n",
       "      <td>1,350,000.00</td>\n",
       "      <td>1,905,000.00</td>\n",
       "      <td>buy</td>\n",
       "      <td>1,755,000.00</td>\n",
       "      <td>405,000.00</td>\n",
       "      <td>autumn,spring,summer,winter</td>\n",
       "    </tr>\n",
       "    <tr>\n",
       "      <th>8</th>\n",
       "      <td>3262301355</td>\n",
       "      <td>98039</td>\n",
       "      <td>summer</td>\n",
       "      <td>1,320,000.00</td>\n",
       "      <td>1,905,000.00</td>\n",
       "      <td>buy</td>\n",
       "      <td>1,716,000.00</td>\n",
       "      <td>396,000.00</td>\n",
       "      <td>autumn,spring,summer,winter</td>\n",
       "    </tr>\n",
       "    <tr>\n",
       "      <th>9</th>\n",
       "      <td>3835502815</td>\n",
       "      <td>98039</td>\n",
       "      <td>autumn</td>\n",
       "      <td>1,260,000.00</td>\n",
       "      <td>1,905,000.00</td>\n",
       "      <td>buy</td>\n",
       "      <td>1,638,000.00</td>\n",
       "      <td>378,000.00</td>\n",
       "      <td>autumn,spring,summer,winter</td>\n",
       "    </tr>\n",
       "    <tr>\n",
       "      <th>10</th>\n",
       "      <td>5427110040</td>\n",
       "      <td>98039</td>\n",
       "      <td>spring</td>\n",
       "      <td>1,225,000.00</td>\n",
       "      <td>1,905,000.00</td>\n",
       "      <td>buy</td>\n",
       "      <td>1,592,500.00</td>\n",
       "      <td>367,500.00</td>\n",
       "      <td>autumn,spring,summer,winter</td>\n",
       "    </tr>\n",
       "    <tr>\n",
       "      <th>11</th>\n",
       "      <td>3262300920</td>\n",
       "      <td>98039</td>\n",
       "      <td>spring</td>\n",
       "      <td>1,200,000.00</td>\n",
       "      <td>1,905,000.00</td>\n",
       "      <td>buy</td>\n",
       "      <td>1,560,000.00</td>\n",
       "      <td>360,000.00</td>\n",
       "      <td>autumn,spring,summer,winter</td>\n",
       "    </tr>\n",
       "    <tr>\n",
       "      <th>12</th>\n",
       "      <td>6447300345</td>\n",
       "      <td>98039</td>\n",
       "      <td>spring</td>\n",
       "      <td>1,160,000.00</td>\n",
       "      <td>1,905,000.00</td>\n",
       "      <td>buy</td>\n",
       "      <td>1,508,000.00</td>\n",
       "      <td>348,000.00</td>\n",
       "      <td>autumn,spring,summer,winter</td>\n",
       "    </tr>\n",
       "    <tr>\n",
       "      <th>13</th>\n",
       "      <td>4122500095</td>\n",
       "      <td>98004</td>\n",
       "      <td>spring</td>\n",
       "      <td>1,050,000.00</td>\n",
       "      <td>1,150,000.00</td>\n",
       "      <td>buy</td>\n",
       "      <td>1,365,000.00</td>\n",
       "      <td>315,000.00</td>\n",
       "      <td>winter</td>\n",
       "    </tr>\n",
       "    <tr>\n",
       "      <th>14</th>\n",
       "      <td>5536100010</td>\n",
       "      <td>98004</td>\n",
       "      <td>winter</td>\n",
       "      <td>1,050,000.00</td>\n",
       "      <td>1,150,000.00</td>\n",
       "      <td>buy</td>\n",
       "      <td>1,365,000.00</td>\n",
       "      <td>315,000.00</td>\n",
       "      <td>winter</td>\n",
       "    </tr>\n",
       "    <tr>\n",
       "      <th>15</th>\n",
       "      <td>3394100230</td>\n",
       "      <td>98004</td>\n",
       "      <td>spring</td>\n",
       "      <td>1,050,000.00</td>\n",
       "      <td>1,150,000.00</td>\n",
       "      <td>buy</td>\n",
       "      <td>1,365,000.00</td>\n",
       "      <td>315,000.00</td>\n",
       "      <td>winter</td>\n",
       "    </tr>\n",
       "    <tr>\n",
       "      <th>16</th>\n",
       "      <td>686800080</td>\n",
       "      <td>98004</td>\n",
       "      <td>spring</td>\n",
       "      <td>1,034,500.00</td>\n",
       "      <td>1,150,000.00</td>\n",
       "      <td>buy</td>\n",
       "      <td>1,344,850.00</td>\n",
       "      <td>310,350.00</td>\n",
       "      <td>winter</td>\n",
       "    </tr>\n",
       "    <tr>\n",
       "      <th>17</th>\n",
       "      <td>644200065</td>\n",
       "      <td>98004</td>\n",
       "      <td>winter</td>\n",
       "      <td>1,030,000.00</td>\n",
       "      <td>1,150,000.00</td>\n",
       "      <td>buy</td>\n",
       "      <td>1,339,000.00</td>\n",
       "      <td>309,000.00</td>\n",
       "      <td>winter</td>\n",
       "    </tr>\n",
       "    <tr>\n",
       "      <th>18</th>\n",
       "      <td>2344300180</td>\n",
       "      <td>98004</td>\n",
       "      <td>spring</td>\n",
       "      <td>1,027,000.00</td>\n",
       "      <td>1,150,000.00</td>\n",
       "      <td>buy</td>\n",
       "      <td>1,335,100.00</td>\n",
       "      <td>308,100.00</td>\n",
       "      <td>winter</td>\n",
       "    </tr>\n",
       "    <tr>\n",
       "      <th>19</th>\n",
       "      <td>2025059204</td>\n",
       "      <td>98004</td>\n",
       "      <td>summer</td>\n",
       "      <td>1,013,050.00</td>\n",
       "      <td>1,150,000.00</td>\n",
       "      <td>buy</td>\n",
       "      <td>1,316,965.00</td>\n",
       "      <td>303,915.00</td>\n",
       "      <td>winter</td>\n",
       "    </tr>\n",
       "    <tr>\n",
       "      <th>20</th>\n",
       "      <td>9808590310</td>\n",
       "      <td>98004</td>\n",
       "      <td>spring</td>\n",
       "      <td>1,000,750.00</td>\n",
       "      <td>1,150,000.00</td>\n",
       "      <td>buy</td>\n",
       "      <td>1,300,975.00</td>\n",
       "      <td>300,225.00</td>\n",
       "      <td>winter</td>\n",
       "    </tr>\n",
       "  </tbody>\n",
       "</table>\n",
       "</div>"
      ],
      "text/plain": [
       "            id  zipcode  season        price  price_median status   sell_price     profit                  best_season\n",
       "0   3262300322    98039  spring 1,651,000.00  1,905,000.00    buy 2,146,300.00 495,300.00                autumn,summer\n",
       "1   3025300250    98039  spring 1,620,000.00  1,905,000.00    buy 2,106,000.00 486,000.00                autumn,summer\n",
       "2   3262300235    98039  autumn 1,555,000.00  1,905,000.00    buy 2,021,500.00 466,500.00                autumn,summer\n",
       "3   2525049246    98039  autumn 1,550,000.00  1,905,000.00    buy 2,015,000.00 465,000.00                autumn,summer\n",
       "4   3025300225    98039  autumn 1,450,000.00  1,905,000.00    buy 1,885,000.00 435,000.00                autumn,summer\n",
       "5   5427100150    98039  summer 1,410,000.00  1,905,000.00    buy 1,833,000.00 423,000.00         autumn,summer,winter\n",
       "6   2525049133    98039  spring 1,398,000.00  1,905,000.00    buy 1,817,400.00 419,400.00         autumn,summer,winter\n",
       "7   3625049079    98039  summer 1,350,000.00  1,905,000.00    buy 1,755,000.00 405,000.00  autumn,spring,summer,winter\n",
       "8   3262301355    98039  summer 1,320,000.00  1,905,000.00    buy 1,716,000.00 396,000.00  autumn,spring,summer,winter\n",
       "9   3835502815    98039  autumn 1,260,000.00  1,905,000.00    buy 1,638,000.00 378,000.00  autumn,spring,summer,winter\n",
       "10  5427110040    98039  spring 1,225,000.00  1,905,000.00    buy 1,592,500.00 367,500.00  autumn,spring,summer,winter\n",
       "11  3262300920    98039  spring 1,200,000.00  1,905,000.00    buy 1,560,000.00 360,000.00  autumn,spring,summer,winter\n",
       "12  6447300345    98039  spring 1,160,000.00  1,905,000.00    buy 1,508,000.00 348,000.00  autumn,spring,summer,winter\n",
       "13  4122500095    98004  spring 1,050,000.00  1,150,000.00    buy 1,365,000.00 315,000.00                       winter\n",
       "14  5536100010    98004  winter 1,050,000.00  1,150,000.00    buy 1,365,000.00 315,000.00                       winter\n",
       "15  3394100230    98004  spring 1,050,000.00  1,150,000.00    buy 1,365,000.00 315,000.00                       winter\n",
       "16   686800080    98004  spring 1,034,500.00  1,150,000.00    buy 1,344,850.00 310,350.00                       winter\n",
       "17   644200065    98004  winter 1,030,000.00  1,150,000.00    buy 1,339,000.00 309,000.00                       winter\n",
       "18  2344300180    98004  spring 1,027,000.00  1,150,000.00    buy 1,335,100.00 308,100.00                       winter\n",
       "19  2025059204    98004  summer 1,013,050.00  1,150,000.00    buy 1,316,965.00 303,915.00                       winter\n",
       "20  9808590310    98004  spring 1,000,750.00  1,150,000.00    buy 1,300,975.00 300,225.00                       winter"
      ]
     },
     "execution_count": 59,
     "metadata": {},
     "output_type": "execute_result"
    }
   ],
   "source": [
    "#Por lucratividade\n",
    "sample = report2[(report2['best_season'] != 'no_season') & (report2['status'] == 'buy')].sort_values('profit', ascending=False)\n",
    "sample = sample.iloc[0:21,:].copy()\n",
    "sample.reset_index(drop=True)"
   ]
  },
  {
   "cell_type": "code",
   "execution_count": 60,
   "metadata": {
    "ExecuteTime": {
     "end_time": "2021-08-11T02:37:29.431073Z",
     "start_time": "2021-08-11T02:37:29.410574Z"
    },
    "code_folding": [],
    "hide_input": true
   },
   "outputs": [
    {
     "data": {
      "text/html": [
       "<div>\n",
       "<style scoped>\n",
       "    .dataframe tbody tr th:only-of-type {\n",
       "        vertical-align: middle;\n",
       "    }\n",
       "\n",
       "    .dataframe tbody tr th {\n",
       "        vertical-align: top;\n",
       "    }\n",
       "\n",
       "    .dataframe thead th {\n",
       "        text-align: right;\n",
       "    }\n",
       "</style>\n",
       "<table border=\"1\" class=\"dataframe\">\n",
       "  <thead>\n",
       "    <tr style=\"text-align: right;\">\n",
       "      <th></th>\n",
       "      <th>Valor USD</th>\n",
       "    </tr>\n",
       "  </thead>\n",
       "  <tbody>\n",
       "    <tr>\n",
       "      <th>Investimento Inicial</th>\n",
       "      <td>26,404,300.00</td>\n",
       "    </tr>\n",
       "    <tr>\n",
       "      <th>Lucro Esperado</th>\n",
       "      <td>7,921,290.00</td>\n",
       "    </tr>\n",
       "  </tbody>\n",
       "</table>\n",
       "</div>"
      ],
      "text/plain": [
       "                         Valor USD\n",
       "Investimento Inicial 26,404,300.00\n",
       "Lucro Esperado        7,921,290.00"
      ]
     },
     "execution_count": 60,
     "metadata": {},
     "output_type": "execute_result"
    }
   ],
   "source": [
    "#Lucratividade / Investimento e Lucro Esperado\n",
    "dic = {\"Investimento Inicial\": sample['price'].sum(), 'Lucro Esperado': sample['profit'].sum()}\n",
    "capital = pd.Series(dic).to_frame('Valor USD')\n",
    "capital"
   ]
  },
  {
   "cell_type": "markdown",
   "metadata": {},
   "source": [
    "### 5.3.2 Top 20 low-investment "
   ]
  },
  {
   "cell_type": "code",
   "execution_count": 61,
   "metadata": {
    "ExecuteTime": {
     "end_time": "2021-08-11T02:37:35.906880Z",
     "start_time": "2021-08-11T02:37:35.857571Z"
    },
    "code_folding": [],
    "hide_input": true
   },
   "outputs": [
    {
     "data": {
      "text/html": [
       "<div>\n",
       "<style scoped>\n",
       "    .dataframe tbody tr th:only-of-type {\n",
       "        vertical-align: middle;\n",
       "    }\n",
       "\n",
       "    .dataframe tbody tr th {\n",
       "        vertical-align: top;\n",
       "    }\n",
       "\n",
       "    .dataframe thead th {\n",
       "        text-align: right;\n",
       "    }\n",
       "</style>\n",
       "<table border=\"1\" class=\"dataframe\">\n",
       "  <thead>\n",
       "    <tr style=\"text-align: right;\">\n",
       "      <th></th>\n",
       "      <th>id</th>\n",
       "      <th>zipcode</th>\n",
       "      <th>season</th>\n",
       "      <th>price</th>\n",
       "      <th>price_median</th>\n",
       "      <th>status</th>\n",
       "      <th>sell_price</th>\n",
       "      <th>profit</th>\n",
       "      <th>best_season</th>\n",
       "    </tr>\n",
       "  </thead>\n",
       "  <tbody>\n",
       "    <tr>\n",
       "      <th>0</th>\n",
       "      <td>3421079032</td>\n",
       "      <td>98022</td>\n",
       "      <td>winter</td>\n",
       "      <td>75,000.00</td>\n",
       "      <td>279,500.00</td>\n",
       "      <td>buy</td>\n",
       "      <td>97,500.00</td>\n",
       "      <td>22,500.00</td>\n",
       "      <td>autumn,spring,summer,winter</td>\n",
       "    </tr>\n",
       "    <tr>\n",
       "      <th>1</th>\n",
       "      <td>7999600180</td>\n",
       "      <td>98168</td>\n",
       "      <td>spring</td>\n",
       "      <td>83,000.00</td>\n",
       "      <td>237,000.00</td>\n",
       "      <td>buy</td>\n",
       "      <td>107,900.00</td>\n",
       "      <td>24,900.00</td>\n",
       "      <td>autumn,spring,summer,winter</td>\n",
       "    </tr>\n",
       "    <tr>\n",
       "      <th>2</th>\n",
       "      <td>1523049188</td>\n",
       "      <td>98168</td>\n",
       "      <td>spring</td>\n",
       "      <td>84,000.00</td>\n",
       "      <td>237,000.00</td>\n",
       "      <td>buy</td>\n",
       "      <td>109,200.00</td>\n",
       "      <td>25,200.00</td>\n",
       "      <td>autumn,spring,summer,winter</td>\n",
       "    </tr>\n",
       "    <tr>\n",
       "      <th>3</th>\n",
       "      <td>1322049150</td>\n",
       "      <td>98032</td>\n",
       "      <td>winter</td>\n",
       "      <td>85,000.00</td>\n",
       "      <td>250,000.00</td>\n",
       "      <td>buy</td>\n",
       "      <td>110,500.00</td>\n",
       "      <td>25,500.00</td>\n",
       "      <td>autumn,spring,summer,winter</td>\n",
       "    </tr>\n",
       "    <tr>\n",
       "      <th>4</th>\n",
       "      <td>9320900420</td>\n",
       "      <td>98023</td>\n",
       "      <td>autumn</td>\n",
       "      <td>89,000.00</td>\n",
       "      <td>269,000.00</td>\n",
       "      <td>buy</td>\n",
       "      <td>115,700.00</td>\n",
       "      <td>26,700.00</td>\n",
       "      <td>autumn,spring,summer,winter</td>\n",
       "    </tr>\n",
       "    <tr>\n",
       "      <th>5</th>\n",
       "      <td>1721801591</td>\n",
       "      <td>98146</td>\n",
       "      <td>winter</td>\n",
       "      <td>89,950.00</td>\n",
       "      <td>312,000.00</td>\n",
       "      <td>buy</td>\n",
       "      <td>116,935.00</td>\n",
       "      <td>26,985.00</td>\n",
       "      <td>autumn,spring,summer,winter</td>\n",
       "    </tr>\n",
       "    <tr>\n",
       "      <th>6</th>\n",
       "      <td>2734100835</td>\n",
       "      <td>98108</td>\n",
       "      <td>winter</td>\n",
       "      <td>90,000.00</td>\n",
       "      <td>345,000.00</td>\n",
       "      <td>buy</td>\n",
       "      <td>117,000.00</td>\n",
       "      <td>27,000.00</td>\n",
       "      <td>autumn,spring,summer,winter</td>\n",
       "    </tr>\n",
       "    <tr>\n",
       "      <th>7</th>\n",
       "      <td>1049010620</td>\n",
       "      <td>98034</td>\n",
       "      <td>spring</td>\n",
       "      <td>90,000.00</td>\n",
       "      <td>446,000.00</td>\n",
       "      <td>buy</td>\n",
       "      <td>117,000.00</td>\n",
       "      <td>27,000.00</td>\n",
       "      <td>autumn,spring,summer,winter</td>\n",
       "    </tr>\n",
       "    <tr>\n",
       "      <th>8</th>\n",
       "      <td>4239400300</td>\n",
       "      <td>98092</td>\n",
       "      <td>autumn</td>\n",
       "      <td>90,000.00</td>\n",
       "      <td>309,780.00</td>\n",
       "      <td>buy</td>\n",
       "      <td>117,000.00</td>\n",
       "      <td>27,000.00</td>\n",
       "      <td>autumn,spring,summer,winter</td>\n",
       "    </tr>\n",
       "    <tr>\n",
       "      <th>9</th>\n",
       "      <td>2114700500</td>\n",
       "      <td>98106</td>\n",
       "      <td>spring</td>\n",
       "      <td>90,000.00</td>\n",
       "      <td>315,000.00</td>\n",
       "      <td>buy</td>\n",
       "      <td>117,000.00</td>\n",
       "      <td>27,000.00</td>\n",
       "      <td>autumn,spring,summer,winter</td>\n",
       "    </tr>\n",
       "    <tr>\n",
       "      <th>10</th>\n",
       "      <td>795000765</td>\n",
       "      <td>98168</td>\n",
       "      <td>spring</td>\n",
       "      <td>92,000.00</td>\n",
       "      <td>237,000.00</td>\n",
       "      <td>buy</td>\n",
       "      <td>119,600.00</td>\n",
       "      <td>27,600.00</td>\n",
       "      <td>autumn,spring,summer,winter</td>\n",
       "    </tr>\n",
       "    <tr>\n",
       "      <th>11</th>\n",
       "      <td>7335400215</td>\n",
       "      <td>98002</td>\n",
       "      <td>spring</td>\n",
       "      <td>95,000.00</td>\n",
       "      <td>235,000.00</td>\n",
       "      <td>buy</td>\n",
       "      <td>123,500.00</td>\n",
       "      <td>28,500.00</td>\n",
       "      <td>autumn,spring,summer,winter</td>\n",
       "    </tr>\n",
       "    <tr>\n",
       "      <th>12</th>\n",
       "      <td>2724200705</td>\n",
       "      <td>98198</td>\n",
       "      <td>autumn</td>\n",
       "      <td>95,000.00</td>\n",
       "      <td>266,750.00</td>\n",
       "      <td>buy</td>\n",
       "      <td>123,500.00</td>\n",
       "      <td>28,500.00</td>\n",
       "      <td>autumn,spring,summer,winter</td>\n",
       "    </tr>\n",
       "    <tr>\n",
       "      <th>13</th>\n",
       "      <td>6929602721</td>\n",
       "      <td>98198</td>\n",
       "      <td>spring</td>\n",
       "      <td>95,000.00</td>\n",
       "      <td>266,750.00</td>\n",
       "      <td>buy</td>\n",
       "      <td>123,500.00</td>\n",
       "      <td>28,500.00</td>\n",
       "      <td>autumn,spring,summer,winter</td>\n",
       "    </tr>\n",
       "    <tr>\n",
       "      <th>14</th>\n",
       "      <td>3751600030</td>\n",
       "      <td>98001</td>\n",
       "      <td>summer</td>\n",
       "      <td>100,000.00</td>\n",
       "      <td>260,000.00</td>\n",
       "      <td>buy</td>\n",
       "      <td>130,000.00</td>\n",
       "      <td>30,000.00</td>\n",
       "      <td>autumn,spring,summer,winter</td>\n",
       "    </tr>\n",
       "    <tr>\n",
       "      <th>15</th>\n",
       "      <td>6146600170</td>\n",
       "      <td>98032</td>\n",
       "      <td>summer</td>\n",
       "      <td>100,000.00</td>\n",
       "      <td>250,000.00</td>\n",
       "      <td>buy</td>\n",
       "      <td>130,000.00</td>\n",
       "      <td>30,000.00</td>\n",
       "      <td>autumn,spring,summer,winter</td>\n",
       "    </tr>\n",
       "    <tr>\n",
       "      <th>16</th>\n",
       "      <td>7224000980</td>\n",
       "      <td>98055</td>\n",
       "      <td>spring</td>\n",
       "      <td>100,000.00</td>\n",
       "      <td>297,225.00</td>\n",
       "      <td>buy</td>\n",
       "      <td>130,000.00</td>\n",
       "      <td>30,000.00</td>\n",
       "      <td>autumn,spring,summer,winter</td>\n",
       "    </tr>\n",
       "    <tr>\n",
       "      <th>17</th>\n",
       "      <td>7813200115</td>\n",
       "      <td>98178</td>\n",
       "      <td>summer</td>\n",
       "      <td>100,000.00</td>\n",
       "      <td>279,500.00</td>\n",
       "      <td>buy</td>\n",
       "      <td>130,000.00</td>\n",
       "      <td>30,000.00</td>\n",
       "      <td>autumn,spring,summer,winter</td>\n",
       "    </tr>\n",
       "    <tr>\n",
       "      <th>18</th>\n",
       "      <td>8856000545</td>\n",
       "      <td>98001</td>\n",
       "      <td>spring</td>\n",
       "      <td>100,000.00</td>\n",
       "      <td>260,000.00</td>\n",
       "      <td>buy</td>\n",
       "      <td>130,000.00</td>\n",
       "      <td>30,000.00</td>\n",
       "      <td>autumn,spring,summer,winter</td>\n",
       "    </tr>\n",
       "    <tr>\n",
       "      <th>19</th>\n",
       "      <td>123039604</td>\n",
       "      <td>98106</td>\n",
       "      <td>summer</td>\n",
       "      <td>102,500.00</td>\n",
       "      <td>315,000.00</td>\n",
       "      <td>buy</td>\n",
       "      <td>133,250.00</td>\n",
       "      <td>30,750.00</td>\n",
       "      <td>autumn,spring,summer,winter</td>\n",
       "    </tr>\n",
       "    <tr>\n",
       "      <th>20</th>\n",
       "      <td>4311700120</td>\n",
       "      <td>98042</td>\n",
       "      <td>winter</td>\n",
       "      <td>105,000.00</td>\n",
       "      <td>292,500.00</td>\n",
       "      <td>buy</td>\n",
       "      <td>136,500.00</td>\n",
       "      <td>31,500.00</td>\n",
       "      <td>autumn,spring,summer,winter</td>\n",
       "    </tr>\n",
       "  </tbody>\n",
       "</table>\n",
       "</div>"
      ],
      "text/plain": [
       "            id  zipcode  season      price  price_median status  sell_price    profit                  best_season\n",
       "0   3421079032    98022  winter  75,000.00    279,500.00    buy   97,500.00 22,500.00  autumn,spring,summer,winter\n",
       "1   7999600180    98168  spring  83,000.00    237,000.00    buy  107,900.00 24,900.00  autumn,spring,summer,winter\n",
       "2   1523049188    98168  spring  84,000.00    237,000.00    buy  109,200.00 25,200.00  autumn,spring,summer,winter\n",
       "3   1322049150    98032  winter  85,000.00    250,000.00    buy  110,500.00 25,500.00  autumn,spring,summer,winter\n",
       "4   9320900420    98023  autumn  89,000.00    269,000.00    buy  115,700.00 26,700.00  autumn,spring,summer,winter\n",
       "5   1721801591    98146  winter  89,950.00    312,000.00    buy  116,935.00 26,985.00  autumn,spring,summer,winter\n",
       "6   2734100835    98108  winter  90,000.00    345,000.00    buy  117,000.00 27,000.00  autumn,spring,summer,winter\n",
       "7   1049010620    98034  spring  90,000.00    446,000.00    buy  117,000.00 27,000.00  autumn,spring,summer,winter\n",
       "8   4239400300    98092  autumn  90,000.00    309,780.00    buy  117,000.00 27,000.00  autumn,spring,summer,winter\n",
       "9   2114700500    98106  spring  90,000.00    315,000.00    buy  117,000.00 27,000.00  autumn,spring,summer,winter\n",
       "10   795000765    98168  spring  92,000.00    237,000.00    buy  119,600.00 27,600.00  autumn,spring,summer,winter\n",
       "11  7335400215    98002  spring  95,000.00    235,000.00    buy  123,500.00 28,500.00  autumn,spring,summer,winter\n",
       "12  2724200705    98198  autumn  95,000.00    266,750.00    buy  123,500.00 28,500.00  autumn,spring,summer,winter\n",
       "13  6929602721    98198  spring  95,000.00    266,750.00    buy  123,500.00 28,500.00  autumn,spring,summer,winter\n",
       "14  3751600030    98001  summer 100,000.00    260,000.00    buy  130,000.00 30,000.00  autumn,spring,summer,winter\n",
       "15  6146600170    98032  summer 100,000.00    250,000.00    buy  130,000.00 30,000.00  autumn,spring,summer,winter\n",
       "16  7224000980    98055  spring 100,000.00    297,225.00    buy  130,000.00 30,000.00  autumn,spring,summer,winter\n",
       "17  7813200115    98178  summer 100,000.00    279,500.00    buy  130,000.00 30,000.00  autumn,spring,summer,winter\n",
       "18  8856000545    98001  spring 100,000.00    260,000.00    buy  130,000.00 30,000.00  autumn,spring,summer,winter\n",
       "19   123039604    98106  summer 102,500.00    315,000.00    buy  133,250.00 30,750.00  autumn,spring,summer,winter\n",
       "20  4311700120    98042  winter 105,000.00    292,500.00    buy  136,500.00 31,500.00  autumn,spring,summer,winter"
      ]
     },
     "execution_count": 61,
     "metadata": {},
     "output_type": "execute_result"
    }
   ],
   "source": [
    "#Baixo investimento\n",
    "sample2 = report2[(report2['best_season'] != 'no_season') & (report2['status'] == 'buy')].sort_values('price', ascending=True)\n",
    "sample2 = sample2.iloc[0:21,:].copy()\n",
    "sample2.reset_index(drop=True)"
   ]
  },
  {
   "cell_type": "code",
   "execution_count": 62,
   "metadata": {
    "ExecuteTime": {
     "end_time": "2021-08-11T02:37:37.036721Z",
     "start_time": "2021-08-11T02:37:37.008402Z"
    },
    "code_folding": [],
    "hide_input": true
   },
   "outputs": [
    {
     "data": {
      "text/html": [
       "<div>\n",
       "<style scoped>\n",
       "    .dataframe tbody tr th:only-of-type {\n",
       "        vertical-align: middle;\n",
       "    }\n",
       "\n",
       "    .dataframe tbody tr th {\n",
       "        vertical-align: top;\n",
       "    }\n",
       "\n",
       "    .dataframe thead th {\n",
       "        text-align: right;\n",
       "    }\n",
       "</style>\n",
       "<table border=\"1\" class=\"dataframe\">\n",
       "  <thead>\n",
       "    <tr style=\"text-align: right;\">\n",
       "      <th></th>\n",
       "      <th>Valor USD</th>\n",
       "    </tr>\n",
       "  </thead>\n",
       "  <tbody>\n",
       "    <tr>\n",
       "      <th>Investimento Inicial</th>\n",
       "      <td>1,950,450.00</td>\n",
       "    </tr>\n",
       "    <tr>\n",
       "      <th>Lucro Esperado</th>\n",
       "      <td>585,135.00</td>\n",
       "    </tr>\n",
       "  </tbody>\n",
       "</table>\n",
       "</div>"
      ],
      "text/plain": [
       "                        Valor USD\n",
       "Investimento Inicial 1,950,450.00\n",
       "Lucro Esperado         585,135.00"
      ]
     },
     "execution_count": 62,
     "metadata": {},
     "output_type": "execute_result"
    }
   ],
   "source": [
    "#Baixo investimento / Investimento e Lucro Esperado\n",
    "dic2 = {\"Investimento Inicial\": sample2['price'].sum(), 'Lucro Esperado': sample2['profit'].sum()}\n",
    "capital2 = pd.Series(dic2).to_frame('Valor USD')\n",
    "capital2"
   ]
  },
  {
   "cell_type": "markdown",
   "metadata": {},
   "source": [
    "### 5.3.3 Top 20 to renovated by profit\n",
    "*O valor da reforma calculado: 8% do valor da compra de imóveis em condição 2 e 10% para imóveis em condições 1*"
   ]
  },
  {
   "cell_type": "code",
   "execution_count": 63,
   "metadata": {
    "ExecuteTime": {
     "end_time": "2021-08-11T02:37:38.615751Z",
     "start_time": "2021-08-11T02:37:38.513215Z"
    },
    "code_folding": [],
    "hide_input": true,
    "scrolled": false
   },
   "outputs": [
    {
     "data": {
      "text/html": [
       "<div>\n",
       "<style scoped>\n",
       "    .dataframe tbody tr th:only-of-type {\n",
       "        vertical-align: middle;\n",
       "    }\n",
       "\n",
       "    .dataframe tbody tr th {\n",
       "        vertical-align: top;\n",
       "    }\n",
       "\n",
       "    .dataframe thead th {\n",
       "        text-align: right;\n",
       "    }\n",
       "</style>\n",
       "<table border=\"1\" class=\"dataframe\">\n",
       "  <thead>\n",
       "    <tr style=\"text-align: right;\">\n",
       "      <th></th>\n",
       "      <th>id</th>\n",
       "      <th>zipcode</th>\n",
       "      <th>season</th>\n",
       "      <th>price</th>\n",
       "      <th>condition</th>\n",
       "      <th>renovate_cost</th>\n",
       "      <th>sell_price</th>\n",
       "      <th>profit_adjusted</th>\n",
       "    </tr>\n",
       "  </thead>\n",
       "  <tbody>\n",
       "    <tr>\n",
       "      <th>0</th>\n",
       "      <td>3623500135</td>\n",
       "      <td>98040</td>\n",
       "      <td>spring</td>\n",
       "      <td>800,000.00</td>\n",
       "      <td>2</td>\n",
       "      <td>64,000.00</td>\n",
       "      <td>1,040,000.00</td>\n",
       "      <td>176,000.00</td>\n",
       "    </tr>\n",
       "    <tr>\n",
       "      <th>1</th>\n",
       "      <td>5459500165</td>\n",
       "      <td>98040</td>\n",
       "      <td>summer</td>\n",
       "      <td>623,000.00</td>\n",
       "      <td>2</td>\n",
       "      <td>49,840.00</td>\n",
       "      <td>809,900.00</td>\n",
       "      <td>137,060.00</td>\n",
       "    </tr>\n",
       "    <tr>\n",
       "      <th>2</th>\n",
       "      <td>6788200605</td>\n",
       "      <td>98112</td>\n",
       "      <td>winter</td>\n",
       "      <td>575,000.00</td>\n",
       "      <td>2</td>\n",
       "      <td>46,000.00</td>\n",
       "      <td>747,500.00</td>\n",
       "      <td>126,500.00</td>\n",
       "    </tr>\n",
       "    <tr>\n",
       "      <th>3</th>\n",
       "      <td>6072760390</td>\n",
       "      <td>98006</td>\n",
       "      <td>spring</td>\n",
       "      <td>547,500.00</td>\n",
       "      <td>2</td>\n",
       "      <td>43,800.00</td>\n",
       "      <td>711,750.00</td>\n",
       "      <td>120,450.00</td>\n",
       "    </tr>\n",
       "    <tr>\n",
       "      <th>4</th>\n",
       "      <td>3886902445</td>\n",
       "      <td>98033</td>\n",
       "      <td>winter</td>\n",
       "      <td>535,000.00</td>\n",
       "      <td>1</td>\n",
       "      <td>53,500.00</td>\n",
       "      <td>695,500.00</td>\n",
       "      <td>107,000.00</td>\n",
       "    </tr>\n",
       "    <tr>\n",
       "      <th>5</th>\n",
       "      <td>3578400950</td>\n",
       "      <td>98074</td>\n",
       "      <td>summer</td>\n",
       "      <td>492,450.00</td>\n",
       "      <td>2</td>\n",
       "      <td>39,396.00</td>\n",
       "      <td>640,185.00</td>\n",
       "      <td>108,339.00</td>\n",
       "    </tr>\n",
       "    <tr>\n",
       "      <th>6</th>\n",
       "      <td>9828701745</td>\n",
       "      <td>98112</td>\n",
       "      <td>winter</td>\n",
       "      <td>480,000.00</td>\n",
       "      <td>2</td>\n",
       "      <td>38,400.00</td>\n",
       "      <td>624,000.00</td>\n",
       "      <td>105,600.00</td>\n",
       "    </tr>\n",
       "    <tr>\n",
       "      <th>7</th>\n",
       "      <td>6205500030</td>\n",
       "      <td>98005</td>\n",
       "      <td>autumn</td>\n",
       "      <td>480,000.00</td>\n",
       "      <td>2</td>\n",
       "      <td>38,400.00</td>\n",
       "      <td>624,000.00</td>\n",
       "      <td>105,600.00</td>\n",
       "    </tr>\n",
       "    <tr>\n",
       "      <th>8</th>\n",
       "      <td>6672700120</td>\n",
       "      <td>98052</td>\n",
       "      <td>autumn</td>\n",
       "      <td>459,000.00</td>\n",
       "      <td>2</td>\n",
       "      <td>36,720.00</td>\n",
       "      <td>596,700.00</td>\n",
       "      <td>100,980.00</td>\n",
       "    </tr>\n",
       "    <tr>\n",
       "      <th>9</th>\n",
       "      <td>1868901275</td>\n",
       "      <td>98115</td>\n",
       "      <td>winter</td>\n",
       "      <td>455,000.00</td>\n",
       "      <td>2</td>\n",
       "      <td>36,400.00</td>\n",
       "      <td>591,500.00</td>\n",
       "      <td>100,100.00</td>\n",
       "    </tr>\n",
       "    <tr>\n",
       "      <th>10</th>\n",
       "      <td>9187200245</td>\n",
       "      <td>98122</td>\n",
       "      <td>winter</td>\n",
       "      <td>441,000.00</td>\n",
       "      <td>1</td>\n",
       "      <td>44,100.00</td>\n",
       "      <td>573,300.00</td>\n",
       "      <td>88,200.00</td>\n",
       "    </tr>\n",
       "    <tr>\n",
       "      <th>11</th>\n",
       "      <td>9187200095</td>\n",
       "      <td>98122</td>\n",
       "      <td>autumn</td>\n",
       "      <td>432,500.00</td>\n",
       "      <td>1</td>\n",
       "      <td>43,250.00</td>\n",
       "      <td>562,250.00</td>\n",
       "      <td>86,500.00</td>\n",
       "    </tr>\n",
       "    <tr>\n",
       "      <th>12</th>\n",
       "      <td>2767800065</td>\n",
       "      <td>98107</td>\n",
       "      <td>winter</td>\n",
       "      <td>429,000.00</td>\n",
       "      <td>2</td>\n",
       "      <td>34,320.00</td>\n",
       "      <td>557,700.00</td>\n",
       "      <td>94,380.00</td>\n",
       "    </tr>\n",
       "    <tr>\n",
       "      <th>13</th>\n",
       "      <td>2128000160</td>\n",
       "      <td>98033</td>\n",
       "      <td>autumn</td>\n",
       "      <td>429,000.00</td>\n",
       "      <td>2</td>\n",
       "      <td>34,320.00</td>\n",
       "      <td>557,700.00</td>\n",
       "      <td>94,380.00</td>\n",
       "    </tr>\n",
       "    <tr>\n",
       "      <th>14</th>\n",
       "      <td>5015001680</td>\n",
       "      <td>98112</td>\n",
       "      <td>spring</td>\n",
       "      <td>427,000.00</td>\n",
       "      <td>1</td>\n",
       "      <td>42,700.00</td>\n",
       "      <td>555,100.00</td>\n",
       "      <td>85,400.00</td>\n",
       "    </tr>\n",
       "    <tr>\n",
       "      <th>15</th>\n",
       "      <td>2425700022</td>\n",
       "      <td>98004</td>\n",
       "      <td>autumn</td>\n",
       "      <td>425,000.00</td>\n",
       "      <td>2</td>\n",
       "      <td>34,000.00</td>\n",
       "      <td>552,500.00</td>\n",
       "      <td>93,500.00</td>\n",
       "    </tr>\n",
       "    <tr>\n",
       "      <th>16</th>\n",
       "      <td>7518505160</td>\n",
       "      <td>98117</td>\n",
       "      <td>autumn</td>\n",
       "      <td>417,000.00</td>\n",
       "      <td>2</td>\n",
       "      <td>33,360.00</td>\n",
       "      <td>542,100.00</td>\n",
       "      <td>91,740.00</td>\n",
       "    </tr>\n",
       "    <tr>\n",
       "      <th>17</th>\n",
       "      <td>6817800330</td>\n",
       "      <td>98074</td>\n",
       "      <td>summer</td>\n",
       "      <td>405,000.00</td>\n",
       "      <td>2</td>\n",
       "      <td>32,400.00</td>\n",
       "      <td>526,500.00</td>\n",
       "      <td>89,100.00</td>\n",
       "    </tr>\n",
       "    <tr>\n",
       "      <th>18</th>\n",
       "      <td>6844702290</td>\n",
       "      <td>98115</td>\n",
       "      <td>spring</td>\n",
       "      <td>400,000.00</td>\n",
       "      <td>2</td>\n",
       "      <td>32,000.00</td>\n",
       "      <td>520,000.00</td>\n",
       "      <td>88,000.00</td>\n",
       "    </tr>\n",
       "    <tr>\n",
       "      <th>19</th>\n",
       "      <td>2206900065</td>\n",
       "      <td>98006</td>\n",
       "      <td>spring</td>\n",
       "      <td>380,000.00</td>\n",
       "      <td>1</td>\n",
       "      <td>38,000.00</td>\n",
       "      <td>494,000.00</td>\n",
       "      <td>76,000.00</td>\n",
       "    </tr>\n",
       "    <tr>\n",
       "      <th>20</th>\n",
       "      <td>5175800060</td>\n",
       "      <td>98006</td>\n",
       "      <td>summer</td>\n",
       "      <td>365,000.00</td>\n",
       "      <td>1</td>\n",
       "      <td>36,500.00</td>\n",
       "      <td>474,500.00</td>\n",
       "      <td>73,000.00</td>\n",
       "    </tr>\n",
       "  </tbody>\n",
       "</table>\n",
       "</div>"
      ],
      "text/plain": [
       "            id  zipcode  season      price  condition  renovate_cost   sell_price  profit_adjusted\n",
       "0   3623500135    98040  spring 800,000.00          2      64,000.00 1,040,000.00       176,000.00\n",
       "1   5459500165    98040  summer 623,000.00          2      49,840.00   809,900.00       137,060.00\n",
       "2   6788200605    98112  winter 575,000.00          2      46,000.00   747,500.00       126,500.00\n",
       "3   6072760390    98006  spring 547,500.00          2      43,800.00   711,750.00       120,450.00\n",
       "4   3886902445    98033  winter 535,000.00          1      53,500.00   695,500.00       107,000.00\n",
       "5   3578400950    98074  summer 492,450.00          2      39,396.00   640,185.00       108,339.00\n",
       "6   9828701745    98112  winter 480,000.00          2      38,400.00   624,000.00       105,600.00\n",
       "7   6205500030    98005  autumn 480,000.00          2      38,400.00   624,000.00       105,600.00\n",
       "8   6672700120    98052  autumn 459,000.00          2      36,720.00   596,700.00       100,980.00\n",
       "9   1868901275    98115  winter 455,000.00          2      36,400.00   591,500.00       100,100.00\n",
       "10  9187200245    98122  winter 441,000.00          1      44,100.00   573,300.00        88,200.00\n",
       "11  9187200095    98122  autumn 432,500.00          1      43,250.00   562,250.00        86,500.00\n",
       "12  2767800065    98107  winter 429,000.00          2      34,320.00   557,700.00        94,380.00\n",
       "13  2128000160    98033  autumn 429,000.00          2      34,320.00   557,700.00        94,380.00\n",
       "14  5015001680    98112  spring 427,000.00          1      42,700.00   555,100.00        85,400.00\n",
       "15  2425700022    98004  autumn 425,000.00          2      34,000.00   552,500.00        93,500.00\n",
       "16  7518505160    98117  autumn 417,000.00          2      33,360.00   542,100.00        91,740.00\n",
       "17  6817800330    98074  summer 405,000.00          2      32,400.00   526,500.00        89,100.00\n",
       "18  6844702290    98115  spring 400,000.00          2      32,000.00   520,000.00        88,000.00\n",
       "19  2206900065    98006  spring 380,000.00          1      38,000.00   494,000.00        76,000.00\n",
       "20  5175800060    98006  summer 365,000.00          1      36,500.00   474,500.00        73,000.00"
      ]
     },
     "execution_count": 63,
     "metadata": {},
     "output_type": "execute_result"
    }
   ],
   "source": [
    "#Imóveis para Reforma com maior ganho\n",
    "report3 = df9[(df9['best_season'] != 'no_season') & (df9['status'] == 'dont buy')]\n",
    "report3 = report3[report3['condition'] < 3].sort_values('profit',ascending=False)\n",
    "report3 = report3[['id', 'zipcode', 'season', 'price', 'price_median', 'condition', 'sell_price', 'profit', 'best_season']]\n",
    "sample3 = report3.iloc[0:21,:].copy().reset_index()\n",
    "sample3 = sample3.drop('index', axis=1)\n",
    "for i in range(len(sample3)):\n",
    "    if sample3.loc[i, 'condition'] == 2:\n",
    "        sample3.loc[i, 'renovate_cost'] = sample3.loc[i, 'price'] * 0.08\n",
    "    else:\n",
    "        sample3.loc[i, 'renovate_cost'] = sample3.loc[i, 'price'] * 0.10\n",
    "\n",
    "for i in range(len(sample3)):\n",
    "    sample3.loc[i, 'profit_adjusted'] = sample3.loc[i, 'profit'] - sample3.loc[i, 'renovate_cost']\n",
    "    \n",
    "sample3 = sample3[['id','zipcode','season','price','condition','renovate_cost','sell_price','profit_adjusted']]\n",
    "sample3"
   ]
  },
  {
   "cell_type": "code",
   "execution_count": 64,
   "metadata": {
    "ExecuteTime": {
     "end_time": "2021-08-11T02:37:38.755398Z",
     "start_time": "2021-08-11T02:37:38.730985Z"
    },
    "code_folding": [
     0
    ],
    "hide_input": true
   },
   "outputs": [
    {
     "data": {
      "text/html": [
       "<div>\n",
       "<style scoped>\n",
       "    .dataframe tbody tr th:only-of-type {\n",
       "        vertical-align: middle;\n",
       "    }\n",
       "\n",
       "    .dataframe tbody tr th {\n",
       "        vertical-align: top;\n",
       "    }\n",
       "\n",
       "    .dataframe thead th {\n",
       "        text-align: right;\n",
       "    }\n",
       "</style>\n",
       "<table border=\"1\" class=\"dataframe\">\n",
       "  <thead>\n",
       "    <tr style=\"text-align: right;\">\n",
       "      <th></th>\n",
       "      <th>Valor USD</th>\n",
       "    </tr>\n",
       "  </thead>\n",
       "  <tbody>\n",
       "    <tr>\n",
       "      <th>Investimento Inicial</th>\n",
       "      <td>9,997,450.00</td>\n",
       "    </tr>\n",
       "    <tr>\n",
       "      <th>Investimento em reforma</th>\n",
       "      <td>851,406.00</td>\n",
       "    </tr>\n",
       "    <tr>\n",
       "      <th>Lucro Esperado</th>\n",
       "      <td>2,147,829.00</td>\n",
       "    </tr>\n",
       "  </tbody>\n",
       "</table>\n",
       "</div>"
      ],
      "text/plain": [
       "                           Valor USD\n",
       "Investimento Inicial    9,997,450.00\n",
       "Investimento em reforma   851,406.00\n",
       "Lucro Esperado          2,147,829.00"
      ]
     },
     "execution_count": 64,
     "metadata": {},
     "output_type": "execute_result"
    }
   ],
   "source": [
    "#Imóveis para Reforma com maior ganho / Investimento e Lucro Esperado\n",
    "dic3 = {\"Investimento Inicial\": sample3['price'].sum(),\n",
    "            \"Investimento em reforma\": sample3['renovate_cost'].sum(), 'Lucro Esperado': sample3['profit_adjusted'].sum()}\n",
    "capital3 = pd.Series(dic3).to_frame('Valor USD')\n",
    "capital3"
   ]
  }
 ],
 "metadata": {
  "kernelspec": {
   "display_name": "Python 3",
   "language": "python",
   "name": "python3"
  },
  "language_info": {
   "codemirror_mode": {
    "name": "ipython",
    "version": 3
   },
   "file_extension": ".py",
   "mimetype": "text/x-python",
   "name": "python",
   "nbconvert_exporter": "python",
   "pygments_lexer": "ipython3",
   "version": "3.8.5"
  }
 },
 "nbformat": 4,
 "nbformat_minor": 4
}
