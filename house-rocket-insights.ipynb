{
 "cells": [
  {
   "cell_type": "markdown",
   "metadata": {
    "heading_collapsed": true
   },
   "source": [
    "# 0.0. IMPORTS "
   ]
  },
  {
   "cell_type": "code",
   "execution_count": 60,
   "metadata": {
    "ExecuteTime": {
     "end_time": "2021-08-04T21:43:06.717883Z",
     "start_time": "2021-08-04T21:43:06.694941Z"
    },
    "hidden": true
   },
   "outputs": [],
   "source": [
    "import pandas as pd\n",
    "import numpy as np\n",
    "import seaborn as sns\n",
    "import plotly.express as px\n",
    "import matplotlib.pyplot as plt\n",
    "import ipywidgets as widgets\n",
    "import warnings\n",
    "\n",
    "from tabulate import tabulate\n",
    "from collections import Counter\n",
    "from ipywidgets import interactive, interact, fixed, interact_manual\n",
    "from IPython.display import Image\n",
    "from matplotlib import gridspec\n",
    "from datetime import date, datetime"
   ]
  },
  {
   "cell_type": "markdown",
   "metadata": {
    "hidden": true
   },
   "source": [
    "## 0.1. Helper Functions"
   ]
  },
  {
   "cell_type": "code",
   "execution_count": 67,
   "metadata": {
    "ExecuteTime": {
     "end_time": "2021-08-04T21:45:29.202186Z",
     "start_time": "2021-08-04T21:45:29.176256Z"
    },
    "hidden": true
   },
   "outputs": [],
   "source": [
    "pd.set_option('display.float_format', lambda x: '%.2f' % x)\n",
    "plt.rcParams['figure.figsize'] = (20,10)\n",
    "\n",
    "warnings.filterwarnings('ignore')\n",
    "warnings.simplefilter('ignore')\n",
    "\n",
    "sns.set_theme(style='darkgrid')"
   ]
  },
  {
   "cell_type": "markdown",
   "metadata": {
    "hidden": true
   },
   "source": [
    "## 0.2. Loading data"
   ]
  },
  {
   "cell_type": "code",
   "execution_count": 3,
   "metadata": {
    "ExecuteTime": {
     "end_time": "2021-08-04T20:55:18.346602Z",
     "start_time": "2021-08-04T20:55:18.206265Z"
    },
    "hidden": true
   },
   "outputs": [],
   "source": [
    "data_raw = pd.read_csv('kc_house_data.csv')"
   ]
  },
  {
   "cell_type": "markdown",
   "metadata": {
    "heading_collapsed": true
   },
   "source": [
    "# 1.0. DATA DESCRIPTION"
   ]
  },
  {
   "cell_type": "code",
   "execution_count": 4,
   "metadata": {
    "ExecuteTime": {
     "end_time": "2021-08-04T20:55:19.223143Z",
     "start_time": "2021-08-04T20:55:19.209182Z"
    },
    "hidden": true
   },
   "outputs": [],
   "source": [
    "data = data_raw.copy()"
   ]
  },
  {
   "cell_type": "markdown",
   "metadata": {
    "hidden": true
   },
   "source": [
    "## 1.1. Data Dimensions"
   ]
  },
  {
   "cell_type": "code",
   "execution_count": 5,
   "metadata": {
    "ExecuteTime": {
     "end_time": "2021-08-04T20:55:20.042865Z",
     "start_time": "2021-08-04T20:55:20.025912Z"
    },
    "hidden": true
   },
   "outputs": [
    {
     "name": "stdout",
     "output_type": "stream",
     "text": [
      "Number of rows: 21613\n",
      "Number of cols: 21\n"
     ]
    }
   ],
   "source": [
    "raw_size = data.shape\n",
    "print('Number of rows:', raw_size[0])\n",
    "print('Number of cols:', raw_size[1])"
   ]
  },
  {
   "cell_type": "markdown",
   "metadata": {
    "hidden": true
   },
   "source": [
    "## 1.2. Data Types"
   ]
  },
  {
   "cell_type": "code",
   "execution_count": 6,
   "metadata": {
    "ExecuteTime": {
     "end_time": "2021-08-04T20:55:20.863666Z",
     "start_time": "2021-08-04T20:55:20.823780Z"
    },
    "hidden": true
   },
   "outputs": [],
   "source": [
    "data['date'] = pd.to_datetime(data['date'])\n",
    "data['bathrooms'] = data['bathrooms'].astype('int64')"
   ]
  },
  {
   "cell_type": "code",
   "execution_count": 7,
   "metadata": {
    "ExecuteTime": {
     "end_time": "2021-08-04T20:55:21.212129Z",
     "start_time": "2021-08-04T20:55:21.188193Z"
    },
    "hidden": true
   },
   "outputs": [
    {
     "data": {
      "text/plain": [
       "id                        int64\n",
       "date             datetime64[ns]\n",
       "price                   float64\n",
       "bedrooms                  int64\n",
       "bathrooms                 int64\n",
       "sqft_living               int64\n",
       "sqft_lot                  int64\n",
       "floors                  float64\n",
       "waterfront                int64\n",
       "view                      int64\n",
       "condition                 int64\n",
       "grade                     int64\n",
       "sqft_above                int64\n",
       "sqft_basement             int64\n",
       "yr_built                  int64\n",
       "yr_renovated              int64\n",
       "zipcode                   int64\n",
       "lat                     float64\n",
       "long                    float64\n",
       "sqft_living15             int64\n",
       "sqft_lot15                int64\n",
       "dtype: object"
      ]
     },
     "execution_count": 7,
     "metadata": {},
     "output_type": "execute_result"
    }
   ],
   "source": [
    "data.dtypes"
   ]
  },
  {
   "cell_type": "markdown",
   "metadata": {
    "hidden": true
   },
   "source": [
    "## 1.3. Data Cleaning"
   ]
  },
  {
   "cell_type": "markdown",
   "metadata": {
    "hidden": true
   },
   "source": [
    "### 1.3.1 Checando Dados sem registro"
   ]
  },
  {
   "cell_type": "code",
   "execution_count": 8,
   "metadata": {
    "ExecuteTime": {
     "end_time": "2021-08-04T20:55:22.295376Z",
     "start_time": "2021-08-04T20:55:22.260468Z"
    },
    "hidden": true
   },
   "outputs": [
    {
     "data": {
      "text/plain": [
       "id               0\n",
       "date             0\n",
       "price            0\n",
       "bedrooms         0\n",
       "bathrooms        0\n",
       "sqft_living      0\n",
       "sqft_lot         0\n",
       "floors           0\n",
       "waterfront       0\n",
       "view             0\n",
       "condition        0\n",
       "grade            0\n",
       "sqft_above       0\n",
       "sqft_basement    0\n",
       "yr_built         0\n",
       "yr_renovated     0\n",
       "zipcode          0\n",
       "lat              0\n",
       "long             0\n",
       "sqft_living15    0\n",
       "sqft_lot15       0\n",
       "dtype: int64"
      ]
     },
     "execution_count": 8,
     "metadata": {},
     "output_type": "execute_result"
    }
   ],
   "source": [
    "data.isna().sum()"
   ]
  },
  {
   "cell_type": "markdown",
   "metadata": {
    "hidden": true
   },
   "source": [
    "### 1.3.2. Duplicate Data"
   ]
  },
  {
   "cell_type": "code",
   "execution_count": 9,
   "metadata": {
    "ExecuteTime": {
     "end_time": "2021-08-04T20:55:22.961643Z",
     "start_time": "2021-08-04T20:55:22.930751Z"
    },
    "hidden": true
   },
   "outputs": [],
   "source": [
    "data = data.drop_duplicates(subset=['id'],  keep = 'last')"
   ]
  },
  {
   "cell_type": "code",
   "execution_count": 10,
   "metadata": {
    "ExecuteTime": {
     "end_time": "2021-08-04T20:55:23.385117Z",
     "start_time": "2021-08-04T20:55:23.365171Z"
    },
    "hidden": true
   },
   "outputs": [
    {
     "name": "stdout",
     "output_type": "stream",
     "text": [
      "Número de linhas: 21436\n",
      "Número de colunas: 21\n",
      "Duplicatas removidas: 177\n"
     ]
    }
   ],
   "source": [
    "print('Número de linhas:', data.shape[0])\n",
    "print('Número de colunas:', data.shape[1])\n",
    "print('Duplicatas removidas:', raw_size[0] - data.shape[0])"
   ]
  },
  {
   "cell_type": "markdown",
   "metadata": {
    "hidden": true
   },
   "source": [
    "## 1.4. Check Data Types "
   ]
  },
  {
   "cell_type": "code",
   "execution_count": 11,
   "metadata": {
    "ExecuteTime": {
     "end_time": "2021-08-04T20:55:24.258463Z",
     "start_time": "2021-08-04T20:55:24.244502Z"
    },
    "hidden": true
   },
   "outputs": [
    {
     "data": {
      "text/plain": [
       "id                        int64\n",
       "date             datetime64[ns]\n",
       "price                   float64\n",
       "bedrooms                  int64\n",
       "bathrooms                 int64\n",
       "sqft_living               int64\n",
       "sqft_lot                  int64\n",
       "floors                  float64\n",
       "waterfront                int64\n",
       "view                      int64\n",
       "condition                 int64\n",
       "grade                     int64\n",
       "sqft_above                int64\n",
       "sqft_basement             int64\n",
       "yr_built                  int64\n",
       "yr_renovated              int64\n",
       "zipcode                   int64\n",
       "lat                     float64\n",
       "long                    float64\n",
       "sqft_living15             int64\n",
       "sqft_lot15                int64\n",
       "dtype: object"
      ]
     },
     "execution_count": 11,
     "metadata": {},
     "output_type": "execute_result"
    }
   ],
   "source": [
    "data.dtypes"
   ]
  },
  {
   "cell_type": "markdown",
   "metadata": {
    "heading_collapsed": true,
    "hidden": true
   },
   "source": [
    "## 1.5. Descriptive Statistical"
   ]
  },
  {
   "cell_type": "code",
   "execution_count": 12,
   "metadata": {
    "ExecuteTime": {
     "end_time": "2021-08-04T20:55:25.158115Z",
     "start_time": "2021-08-04T20:55:25.141161Z"
    },
    "hidden": true,
    "scrolled": true
   },
   "outputs": [],
   "source": [
    "num_attributes = data.select_dtypes(include=['int64','float64'])"
   ]
  },
  {
   "cell_type": "markdown",
   "metadata": {
    "hidden": true
   },
   "source": [
    "### 1.5.1. Numerical Attributes "
   ]
  },
  {
   "cell_type": "code",
   "execution_count": 13,
   "metadata": {
    "ExecuteTime": {
     "end_time": "2021-08-04T20:55:26.446827Z",
     "start_time": "2021-08-04T20:55:26.127531Z"
    },
    "hidden": true
   },
   "outputs": [
    {
     "data": {
      "text/html": [
       "<div>\n",
       "<style scoped>\n",
       "    .dataframe tbody tr th:only-of-type {\n",
       "        vertical-align: middle;\n",
       "    }\n",
       "\n",
       "    .dataframe tbody tr th {\n",
       "        vertical-align: top;\n",
       "    }\n",
       "\n",
       "    .dataframe thead th {\n",
       "        text-align: right;\n",
       "    }\n",
       "</style>\n",
       "<table border=\"1\" class=\"dataframe\">\n",
       "  <thead>\n",
       "    <tr style=\"text-align: right;\">\n",
       "      <th></th>\n",
       "      <th>attributes</th>\n",
       "      <th>min</th>\n",
       "      <th>max</th>\n",
       "      <th>range</th>\n",
       "      <th>mean</th>\n",
       "      <th>median</th>\n",
       "      <th>std</th>\n",
       "      <th>skew</th>\n",
       "      <th>kurtosis</th>\n",
       "    </tr>\n",
       "  </thead>\n",
       "  <tbody>\n",
       "    <tr>\n",
       "      <th>0</th>\n",
       "      <td>id</td>\n",
       "      <td>1000102.00</td>\n",
       "      <td>9900000190.00</td>\n",
       "      <td>9899000088.00</td>\n",
       "      <td>4580765328.18</td>\n",
       "      <td>3904921185.00</td>\n",
       "      <td>2876522535.73</td>\n",
       "      <td>0.24</td>\n",
       "      <td>-1.26</td>\n",
       "    </tr>\n",
       "    <tr>\n",
       "      <th>1</th>\n",
       "      <td>price</td>\n",
       "      <td>75000.00</td>\n",
       "      <td>7700000.00</td>\n",
       "      <td>7625000.00</td>\n",
       "      <td>541649.96</td>\n",
       "      <td>450000.00</td>\n",
       "      <td>367306.36</td>\n",
       "      <td>4.04</td>\n",
       "      <td>34.73</td>\n",
       "    </tr>\n",
       "    <tr>\n",
       "      <th>2</th>\n",
       "      <td>bedrooms</td>\n",
       "      <td>0.00</td>\n",
       "      <td>33.00</td>\n",
       "      <td>33.00</td>\n",
       "      <td>3.37</td>\n",
       "      <td>3.00</td>\n",
       "      <td>0.93</td>\n",
       "      <td>1.99</td>\n",
       "      <td>49.64</td>\n",
       "    </tr>\n",
       "    <tr>\n",
       "      <th>3</th>\n",
       "      <td>bathrooms</td>\n",
       "      <td>0.00</td>\n",
       "      <td>8.00</td>\n",
       "      <td>8.00</td>\n",
       "      <td>1.75</td>\n",
       "      <td>2.00</td>\n",
       "      <td>0.73</td>\n",
       "      <td>0.90</td>\n",
       "      <td>2.00</td>\n",
       "    </tr>\n",
       "    <tr>\n",
       "      <th>4</th>\n",
       "      <td>sqft_living</td>\n",
       "      <td>290.00</td>\n",
       "      <td>13540.00</td>\n",
       "      <td>13250.00</td>\n",
       "      <td>2082.70</td>\n",
       "      <td>1920.00</td>\n",
       "      <td>919.13</td>\n",
       "      <td>1.47</td>\n",
       "      <td>5.25</td>\n",
       "    </tr>\n",
       "    <tr>\n",
       "      <th>5</th>\n",
       "      <td>sqft_lot</td>\n",
       "      <td>520.00</td>\n",
       "      <td>1651359.00</td>\n",
       "      <td>1650839.00</td>\n",
       "      <td>15135.64</td>\n",
       "      <td>7614.00</td>\n",
       "      <td>41537.65</td>\n",
       "      <td>13.04</td>\n",
       "      <td>284.08</td>\n",
       "    </tr>\n",
       "    <tr>\n",
       "      <th>6</th>\n",
       "      <td>floors</td>\n",
       "      <td>1.00</td>\n",
       "      <td>3.50</td>\n",
       "      <td>2.50</td>\n",
       "      <td>1.50</td>\n",
       "      <td>1.50</td>\n",
       "      <td>0.54</td>\n",
       "      <td>0.61</td>\n",
       "      <td>-0.49</td>\n",
       "    </tr>\n",
       "    <tr>\n",
       "      <th>7</th>\n",
       "      <td>waterfront</td>\n",
       "      <td>0.00</td>\n",
       "      <td>1.00</td>\n",
       "      <td>1.00</td>\n",
       "      <td>0.01</td>\n",
       "      <td>0.00</td>\n",
       "      <td>0.09</td>\n",
       "      <td>11.34</td>\n",
       "      <td>126.55</td>\n",
       "    </tr>\n",
       "    <tr>\n",
       "      <th>8</th>\n",
       "      <td>view</td>\n",
       "      <td>0.00</td>\n",
       "      <td>4.00</td>\n",
       "      <td>4.00</td>\n",
       "      <td>0.24</td>\n",
       "      <td>0.00</td>\n",
       "      <td>0.77</td>\n",
       "      <td>3.39</td>\n",
       "      <td>10.83</td>\n",
       "    </tr>\n",
       "    <tr>\n",
       "      <th>9</th>\n",
       "      <td>condition</td>\n",
       "      <td>1.00</td>\n",
       "      <td>5.00</td>\n",
       "      <td>4.00</td>\n",
       "      <td>3.41</td>\n",
       "      <td>3.00</td>\n",
       "      <td>0.65</td>\n",
       "      <td>1.04</td>\n",
       "      <td>0.52</td>\n",
       "    </tr>\n",
       "    <tr>\n",
       "      <th>10</th>\n",
       "      <td>grade</td>\n",
       "      <td>1.00</td>\n",
       "      <td>13.00</td>\n",
       "      <td>12.00</td>\n",
       "      <td>7.66</td>\n",
       "      <td>7.00</td>\n",
       "      <td>1.17</td>\n",
       "      <td>0.77</td>\n",
       "      <td>1.19</td>\n",
       "    </tr>\n",
       "    <tr>\n",
       "      <th>11</th>\n",
       "      <td>sqft_above</td>\n",
       "      <td>290.00</td>\n",
       "      <td>9410.00</td>\n",
       "      <td>9120.00</td>\n",
       "      <td>1790.96</td>\n",
       "      <td>1560.00</td>\n",
       "      <td>829.01</td>\n",
       "      <td>1.44</td>\n",
       "      <td>3.40</td>\n",
       "    </tr>\n",
       "    <tr>\n",
       "      <th>12</th>\n",
       "      <td>sqft_basement</td>\n",
       "      <td>0.00</td>\n",
       "      <td>4820.00</td>\n",
       "      <td>4820.00</td>\n",
       "      <td>291.74</td>\n",
       "      <td>0.00</td>\n",
       "      <td>442.77</td>\n",
       "      <td>1.58</td>\n",
       "      <td>2.71</td>\n",
       "    </tr>\n",
       "    <tr>\n",
       "      <th>13</th>\n",
       "      <td>yr_built</td>\n",
       "      <td>1900.00</td>\n",
       "      <td>2015.00</td>\n",
       "      <td>115.00</td>\n",
       "      <td>1971.10</td>\n",
       "      <td>1975.00</td>\n",
       "      <td>29.38</td>\n",
       "      <td>-0.47</td>\n",
       "      <td>-0.65</td>\n",
       "    </tr>\n",
       "    <tr>\n",
       "      <th>14</th>\n",
       "      <td>yr_renovated</td>\n",
       "      <td>0.00</td>\n",
       "      <td>2015.00</td>\n",
       "      <td>2015.00</td>\n",
       "      <td>84.73</td>\n",
       "      <td>0.00</td>\n",
       "      <td>402.42</td>\n",
       "      <td>4.54</td>\n",
       "      <td>18.61</td>\n",
       "    </tr>\n",
       "    <tr>\n",
       "      <th>15</th>\n",
       "      <td>zipcode</td>\n",
       "      <td>98001.00</td>\n",
       "      <td>98199.00</td>\n",
       "      <td>198.00</td>\n",
       "      <td>98077.86</td>\n",
       "      <td>98065.00</td>\n",
       "      <td>53.47</td>\n",
       "      <td>0.41</td>\n",
       "      <td>-0.85</td>\n",
       "    </tr>\n",
       "    <tr>\n",
       "      <th>16</th>\n",
       "      <td>lat</td>\n",
       "      <td>47.16</td>\n",
       "      <td>47.78</td>\n",
       "      <td>0.62</td>\n",
       "      <td>47.56</td>\n",
       "      <td>47.57</td>\n",
       "      <td>0.14</td>\n",
       "      <td>-0.49</td>\n",
       "      <td>-0.67</td>\n",
       "    </tr>\n",
       "    <tr>\n",
       "      <th>17</th>\n",
       "      <td>long</td>\n",
       "      <td>-122.52</td>\n",
       "      <td>-121.31</td>\n",
       "      <td>1.20</td>\n",
       "      <td>-122.21</td>\n",
       "      <td>-122.23</td>\n",
       "      <td>0.14</td>\n",
       "      <td>0.88</td>\n",
       "      <td>1.05</td>\n",
       "    </tr>\n",
       "    <tr>\n",
       "      <th>18</th>\n",
       "      <td>sqft_living15</td>\n",
       "      <td>399.00</td>\n",
       "      <td>6210.00</td>\n",
       "      <td>5811.00</td>\n",
       "      <td>1988.31</td>\n",
       "      <td>1840.00</td>\n",
       "      <td>685.68</td>\n",
       "      <td>1.11</td>\n",
       "      <td>1.59</td>\n",
       "    </tr>\n",
       "    <tr>\n",
       "      <th>19</th>\n",
       "      <td>sqft_lot15</td>\n",
       "      <td>651.00</td>\n",
       "      <td>871200.00</td>\n",
       "      <td>870549.00</td>\n",
       "      <td>12785.96</td>\n",
       "      <td>7620.00</td>\n",
       "      <td>27374.83</td>\n",
       "      <td>9.50</td>\n",
       "      <td>150.32</td>\n",
       "    </tr>\n",
       "  </tbody>\n",
       "</table>\n",
       "</div>"
      ],
      "text/plain": [
       "       attributes        min           max         range          mean  \\\n",
       "0              id 1000102.00 9900000190.00 9899000088.00 4580765328.18   \n",
       "1           price   75000.00    7700000.00    7625000.00     541649.96   \n",
       "2        bedrooms       0.00         33.00         33.00          3.37   \n",
       "3       bathrooms       0.00          8.00          8.00          1.75   \n",
       "4     sqft_living     290.00      13540.00      13250.00       2082.70   \n",
       "5        sqft_lot     520.00    1651359.00    1650839.00      15135.64   \n",
       "6          floors       1.00          3.50          2.50          1.50   \n",
       "7      waterfront       0.00          1.00          1.00          0.01   \n",
       "8            view       0.00          4.00          4.00          0.24   \n",
       "9       condition       1.00          5.00          4.00          3.41   \n",
       "10          grade       1.00         13.00         12.00          7.66   \n",
       "11     sqft_above     290.00       9410.00       9120.00       1790.96   \n",
       "12  sqft_basement       0.00       4820.00       4820.00        291.74   \n",
       "13       yr_built    1900.00       2015.00        115.00       1971.10   \n",
       "14   yr_renovated       0.00       2015.00       2015.00         84.73   \n",
       "15        zipcode   98001.00      98199.00        198.00      98077.86   \n",
       "16            lat      47.16         47.78          0.62         47.56   \n",
       "17           long    -122.52       -121.31          1.20       -122.21   \n",
       "18  sqft_living15     399.00       6210.00       5811.00       1988.31   \n",
       "19     sqft_lot15     651.00     871200.00     870549.00      12785.96   \n",
       "\n",
       "          median           std  skew  kurtosis  \n",
       "0  3904921185.00 2876522535.73  0.24     -1.26  \n",
       "1      450000.00     367306.36  4.04     34.73  \n",
       "2           3.00          0.93  1.99     49.64  \n",
       "3           2.00          0.73  0.90      2.00  \n",
       "4        1920.00        919.13  1.47      5.25  \n",
       "5        7614.00      41537.65 13.04    284.08  \n",
       "6           1.50          0.54  0.61     -0.49  \n",
       "7           0.00          0.09 11.34    126.55  \n",
       "8           0.00          0.77  3.39     10.83  \n",
       "9           3.00          0.65  1.04      0.52  \n",
       "10          7.00          1.17  0.77      1.19  \n",
       "11       1560.00        829.01  1.44      3.40  \n",
       "12          0.00        442.77  1.58      2.71  \n",
       "13       1975.00         29.38 -0.47     -0.65  \n",
       "14          0.00        402.42  4.54     18.61  \n",
       "15      98065.00         53.47  0.41     -0.85  \n",
       "16         47.57          0.14 -0.49     -0.67  \n",
       "17       -122.23          0.14  0.88      1.05  \n",
       "18       1840.00        685.68  1.11      1.59  \n",
       "19       7620.00      27374.83  9.50    150.32  "
      ]
     },
     "execution_count": 13,
     "metadata": {},
     "output_type": "execute_result"
    }
   ],
   "source": [
    "# central tedency\n",
    "ct1 = pd.DataFrame(num_attributes.apply(np.mean)).T\n",
    "ct2 = pd.DataFrame(num_attributes.apply(np.median)).T\n",
    "\n",
    "# dispersion\n",
    "d1 = pd.DataFrame(num_attributes.apply(np.std)).T\n",
    "d2 = pd.DataFrame(num_attributes.apply(min)).T\n",
    "d3 = pd.DataFrame(num_attributes.apply(max)).T\n",
    "d4 = pd.DataFrame(num_attributes.apply(lambda x: x.max() - x.min())).T\n",
    "d5 = pd.DataFrame(num_attributes.apply(lambda x: x.skew())).T\n",
    "d6 = pd.DataFrame(num_attributes.apply(lambda x: x.kurtosis())).T\n",
    "\n",
    "# concat\n",
    "\n",
    "m = pd.concat([d2, d3, d4, ct1, ct2, d1, d5, d6]).T.reset_index()\n",
    "m.columns = ['attributes','min','max','range','mean','median','std','skew','kurtosis']\n",
    "m"
   ]
  },
  {
   "cell_type": "markdown",
   "metadata": {
    "hidden": true
   },
   "source": [
    "## 1.6. Check Error or Outliers"
   ]
  },
  {
   "cell_type": "code",
   "execution_count": 14,
   "metadata": {
    "ExecuteTime": {
     "end_time": "2021-08-04T20:55:27.701549Z",
     "start_time": "2021-08-04T20:55:27.598823Z"
    },
    "hidden": true
   },
   "outputs": [
    {
     "data": {
      "text/html": [
       "<div>\n",
       "<style scoped>\n",
       "    .dataframe tbody tr th:only-of-type {\n",
       "        vertical-align: middle;\n",
       "    }\n",
       "\n",
       "    .dataframe tbody tr th {\n",
       "        vertical-align: top;\n",
       "    }\n",
       "\n",
       "    .dataframe thead th {\n",
       "        text-align: right;\n",
       "    }\n",
       "</style>\n",
       "<table border=\"1\" class=\"dataframe\">\n",
       "  <thead>\n",
       "    <tr style=\"text-align: right;\">\n",
       "      <th></th>\n",
       "      <th>id</th>\n",
       "      <th>price</th>\n",
       "      <th>bedrooms</th>\n",
       "      <th>bathrooms</th>\n",
       "      <th>sqft_living</th>\n",
       "      <th>sqft_lot</th>\n",
       "    </tr>\n",
       "  </thead>\n",
       "  <tbody>\n",
       "    <tr>\n",
       "      <th>15870</th>\n",
       "      <td>2402100895</td>\n",
       "      <td>640000.00</td>\n",
       "      <td>33</td>\n",
       "      <td>1</td>\n",
       "      <td>1620</td>\n",
       "      <td>6000</td>\n",
       "    </tr>\n",
       "    <tr>\n",
       "      <th>8757</th>\n",
       "      <td>1773100755</td>\n",
       "      <td>520000.00</td>\n",
       "      <td>11</td>\n",
       "      <td>3</td>\n",
       "      <td>3000</td>\n",
       "      <td>4960</td>\n",
       "    </tr>\n",
       "    <tr>\n",
       "      <th>13314</th>\n",
       "      <td>627300145</td>\n",
       "      <td>1148000.00</td>\n",
       "      <td>10</td>\n",
       "      <td>5</td>\n",
       "      <td>4590</td>\n",
       "      <td>10920</td>\n",
       "    </tr>\n",
       "    <tr>\n",
       "      <th>15161</th>\n",
       "      <td>5566100170</td>\n",
       "      <td>650000.00</td>\n",
       "      <td>10</td>\n",
       "      <td>2</td>\n",
       "      <td>3610</td>\n",
       "      <td>11914</td>\n",
       "    </tr>\n",
       "    <tr>\n",
       "      <th>19254</th>\n",
       "      <td>8812401450</td>\n",
       "      <td>660000.00</td>\n",
       "      <td>10</td>\n",
       "      <td>3</td>\n",
       "      <td>2920</td>\n",
       "      <td>3745</td>\n",
       "    </tr>\n",
       "    <tr>\n",
       "      <th>4096</th>\n",
       "      <td>1997200215</td>\n",
       "      <td>599999.00</td>\n",
       "      <td>9</td>\n",
       "      <td>4</td>\n",
       "      <td>3830</td>\n",
       "      <td>6988</td>\n",
       "    </tr>\n",
       "    <tr>\n",
       "      <th>4235</th>\n",
       "      <td>2902200015</td>\n",
       "      <td>700000.00</td>\n",
       "      <td>9</td>\n",
       "      <td>3</td>\n",
       "      <td>3680</td>\n",
       "      <td>4400</td>\n",
       "    </tr>\n",
       "    <tr>\n",
       "      <th>6079</th>\n",
       "      <td>9822700190</td>\n",
       "      <td>1280000.00</td>\n",
       "      <td>9</td>\n",
       "      <td>4</td>\n",
       "      <td>3650</td>\n",
       "      <td>5000</td>\n",
       "    </tr>\n",
       "    <tr>\n",
       "      <th>8546</th>\n",
       "      <td>424049043</td>\n",
       "      <td>450000.00</td>\n",
       "      <td>9</td>\n",
       "      <td>7</td>\n",
       "      <td>4050</td>\n",
       "      <td>6504</td>\n",
       "    </tr>\n",
       "    <tr>\n",
       "      <th>16844</th>\n",
       "      <td>8823900290</td>\n",
       "      <td>1400000.00</td>\n",
       "      <td>9</td>\n",
       "      <td>4</td>\n",
       "      <td>4620</td>\n",
       "      <td>5508</td>\n",
       "    </tr>\n",
       "    <tr>\n",
       "      <th>18443</th>\n",
       "      <td>8823901445</td>\n",
       "      <td>934000.00</td>\n",
       "      <td>9</td>\n",
       "      <td>3</td>\n",
       "      <td>2820</td>\n",
       "      <td>4480</td>\n",
       "    </tr>\n",
       "  </tbody>\n",
       "</table>\n",
       "</div>"
      ],
      "text/plain": [
       "               id      price  bedrooms  bathrooms  sqft_living  sqft_lot\n",
       "15870  2402100895  640000.00        33          1         1620      6000\n",
       "8757   1773100755  520000.00        11          3         3000      4960\n",
       "13314   627300145 1148000.00        10          5         4590     10920\n",
       "15161  5566100170  650000.00        10          2         3610     11914\n",
       "19254  8812401450  660000.00        10          3         2920      3745\n",
       "4096   1997200215  599999.00         9          4         3830      6988\n",
       "4235   2902200015  700000.00         9          3         3680      4400\n",
       "6079   9822700190 1280000.00         9          4         3650      5000\n",
       "8546    424049043  450000.00         9          7         4050      6504\n",
       "16844  8823900290 1400000.00         9          4         4620      5508\n",
       "18443  8823901445  934000.00         9          3         2820      4480"
      ]
     },
     "execution_count": 14,
     "metadata": {},
     "output_type": "execute_result"
    }
   ],
   "source": [
    "# checking house attributes with 33 bedrooms\n",
    "data[data['bedrooms'] > 8].sort_values('bedrooms',ascending=False)[['id','price','bedrooms','bathrooms','sqft_living','sqft_lot']]"
   ]
  },
  {
   "cell_type": "markdown",
   "metadata": {
    "hidden": true
   },
   "source": [
    "### 1.6.1 Remove data error"
   ]
  },
  {
   "cell_type": "code",
   "execution_count": 15,
   "metadata": {
    "ExecuteTime": {
     "end_time": "2021-08-04T20:55:29.058576Z",
     "start_time": "2021-08-04T20:55:29.036639Z"
    },
    "hidden": true
   },
   "outputs": [],
   "source": [
    "# house with 33 bedrooms considered as error\n",
    "data = data.drop(15870, axis=0)"
   ]
  },
  {
   "cell_type": "markdown",
   "metadata": {
    "heading_collapsed": true
   },
   "source": [
    "# 2.0. FEATURE ENGINEERING"
   ]
  },
  {
   "cell_type": "code",
   "execution_count": 46,
   "metadata": {
    "ExecuteTime": {
     "end_time": "2021-08-04T21:31:17.915726Z",
     "start_time": "2021-08-04T21:31:17.889795Z"
    },
    "hidden": true
   },
   "outputs": [],
   "source": [
    "df = data.copy()"
   ]
  },
  {
   "cell_type": "markdown",
   "metadata": {
    "hidden": true
   },
   "source": [
    "## 2.1. Mind Map Hypotheses"
   ]
  },
  {
   "cell_type": "code",
   "execution_count": 47,
   "metadata": {
    "ExecuteTime": {
     "end_time": "2021-08-04T21:31:18.743075Z",
     "start_time": "2021-08-04T21:31:18.722131Z"
    },
    "hidden": true,
    "hide_input": true
   },
   "outputs": [
    {
     "data": {
      "image/png": "[encoded data removed]",
      "text/plain": [
       "<IPython.core.display.Image object>"
      ]
     },
     "execution_count": 47,
     "metadata": {},
     "output_type": "execute_result"
    }
   ],
   "source": [
    "Image('images\\MindMapHypotheses.png')"
   ]
  },
  {
   "cell_type": "markdown",
   "metadata": {
    "hidden": true
   },
   "source": [
    "### 2.1.1. Hypotheses Localization"
   ]
  },
  {
   "cell_type": "markdown",
   "metadata": {
    "ExecuteTime": {
     "end_time": "2021-08-03T21:15:18.538893Z",
     "start_time": "2021-08-03T21:15:18.507979Z"
    },
    "hidden": true
   },
   "source": [
    "**1.** Imóveis próximo a shoppings são mais caros.\n",
    "\n",
    "**2.** Imóveis próximos ao centro são mais caros.\n",
    "\n",
    "**3.** Imóveis próximos a escolas são mais caros.\n",
    "\n",
    "**4.** Imóveis em bairros onde a taxa de criminalidade é alta são mais baratos.\n",
    "\n",
    "**5.** Imóveis próximos ao lago com vista para água, deveriam ser mais caros que imóveis próximos ao lago sem vista."
   ]
  },
  {
   "cell_type": "markdown",
   "metadata": {
    "hidden": true
   },
   "source": [
    "### 2.1.2. Hypotheses house attributes"
   ]
  },
  {
   "cell_type": "markdown",
   "metadata": {
    "ExecuteTime": {
     "end_time": "2021-08-03T21:15:18.538893Z",
     "start_time": "2021-08-03T21:15:18.507979Z"
    },
    "hidden": true
   },
   "source": [
    "**1.** Imóveis que possuem vista para água deveriam ser mais caros na média.\n",
    "\n",
    "**2.** Imóveis com data de construção menor que 1955 sem renovação deveriam ser mais baratos, na média.\n",
    "\n",
    "**3.** A mediana de preço de imóveis com 2 andares ou mais, com vista para água deveria ser mais alta, que imóveis com 1 andar e com vista para água.\n",
    "\n",
    "**4.** Imóveis renovados são 20% mais caros.\n",
    "\n",
    "**5.** Imóveis em más condições devem ser mais baratos que imóveis com boas condições.\n",
    "\n",
    "**6.** Há um aumento do preço em 10% a cada banheiro adicional.\n",
    "\n",
    "**7.** Quanto maior o atributo grade do imóvel, a média de preço deve ser maior.\n",
    "\n",
    "**8.** Imóveis de 3 quartos e 2 banheiros devem ser 10% mais caros que imóveis de 3 quartos e 1 banheiro.\n",
    "\n",
    "**9.** Imóveis com porão deveriam ser mais caros que imóveis sem porão."
   ]
  },
  {
   "cell_type": "markdown",
   "metadata": {
    "hidden": true
   },
   "source": [
    "### 2.1.3. Hypotheses temporal"
   ]
  },
  {
   "cell_type": "markdown",
   "metadata": {
    "ExecuteTime": {
     "end_time": "2021-08-03T21:15:18.538893Z",
     "start_time": "2021-08-03T21:15:18.507979Z"
    },
    "hidden": true
   },
   "source": [
    "**1.** Imóveis com mais dias disponíveis para venda deveriam ser mais baratos que a médiana da região\n",
    "\n",
    "**2.** Em períodos com alta demanda de mercado os imóveis são 5% mais caros\n",
    "\n",
    "**3.** Imóveis disponíveis no inverno são 5% mais baratos que imóveis disponíveis no verão."
   ]
  },
  {
   "cell_type": "markdown",
   "metadata": {
    "hidden": true
   },
   "source": [
    "### 2.1.4. Final List Hypotheses"
   ]
  },
  {
   "cell_type": "markdown",
   "metadata": {
    "hidden": true
   },
   "source": [
    "**1.** Imóveis próximos ao lago com vista para água, deveriam ser mais caros que imóveis próximos ao lago sem vista.\n",
    "\n",
    "**2.** Imóveis que possuem vista para água deveriam ser mais caros na média.\n",
    "\n",
    "**3.** Imóveis com data de construção menor que 1955 sem renovação deveriam ser mais baratos, na média.\n",
    "\n",
    "**4.** A mediana de preço de imóveis com 2 andares ou mais, com vista para água deveria ser mais alta, que imóveis com 1 andar e com vista para água.\n",
    "\n",
    "**5.** Imóveis renovados são 20% mais caros.\n",
    "\n",
    "**6.** Imóveis em más condições devem ser mais baratos que imóveis com boas condições.\n",
    "\n",
    "**7.** Há um aumento do preço em 10% a cada banheiro adicional.\n",
    "\n",
    "**8.** Quanto maior o atributo grade do imóvel, a média de preço deve ser maior.\n",
    "\n",
    "**9.** Imóveis de 3 quartos e 2 banheiros devem ser 10% mais caros que imóveis de 3 quartos e 1 banheiro.\n",
    "\n",
    "**10.** Imóveis com porão deveriam ser mais caros que imóveis sem porão.\n"
   ]
  },
  {
   "cell_type": "markdown",
   "metadata": {
    "ExecuteTime": {
     "end_time": "2021-08-04T20:49:05.306667Z",
     "start_time": "2021-08-04T20:49:05.286720Z"
    },
    "hidden": true
   },
   "source": [
    "## 2.2. Feature Engineering"
   ]
  },
  {
   "cell_type": "code",
   "execution_count": 48,
   "metadata": {
    "ExecuteTime": {
     "end_time": "2021-08-04T21:31:44.649519Z",
     "start_time": "2021-08-04T21:31:30.150307Z"
    },
    "hidden": true
   },
   "outputs": [],
   "source": [
    "#built\n",
    "df['built'] = df['yr_built'].apply(lambda x: '<1955' if x <= 1955 else '>1955')\n",
    "#basement\n",
    "df['basement'] = df['sqft_basement'].apply(lambda x: True if x > 0 else False)\n",
    "#floor type\n",
    "df['floors_type'] = df['floors'].apply(lambda x: 'single-story' if x == 1 else 'two-story-or-more')\n",
    "#renovated\n",
    "df['renovated'] = df['yr_renovated'].apply(lambda x: 'yes' if x > 0 else 'no')\n",
    "#condition type\n",
    "df['condition_type'] = df['condition'].apply(lambda x: 'bad' if x <= 2 else 'good')\n",
    "#grade\n",
    "df['grade_design'] = df['grade'].apply(lambda x: 'bad' if x < 6 else 'good')\n",
    "\n",
    "#seasons\n",
    "def get_season(date):\n",
    "    year = str(date.year)\n",
    "    seasons = {'spring': pd.date_range(start='21/03/'+year, end='20/06/'+year),\n",
    "               'summer': pd.date_range(start='21/06/'+year, end='22/09/'+year),\n",
    "               'autumn': pd.date_range(start='23/09/'+year, end='20/12/'+year)}\n",
    "    if date in seasons['spring']:\n",
    "        return 'spring'\n",
    "    if date in seasons['summer']:\n",
    "        return 'summer'\n",
    "    if date in seasons['autumn']:\n",
    "        return 'autumn'\n",
    "    else:\n",
    "        return 'winter'\n",
    "    \n",
    "df['season'] = df.date.map(get_season)\n",
    "\n",
    "#sqft to m2\n",
    "#living\n",
    "df['m2_living'] = df['sqft_living'].apply(lambda x: x / 10.764)\n",
    "#lot\n",
    "df['m2_lot'] = df['sqft_lot'].apply(lambda x: x / 10.764)\n",
    "#above\n",
    "df['m2_above'] = df['sqft_above'].apply(lambda x: x / 10.764)\n",
    "#basement\n",
    "df['m2_basement'] = df['sqft_basement'].apply(lambda x: x / 10.764)\n",
    "\n",
    "#m2/price\n",
    "df['m2_price'] = df.apply(lambda x: x['price'] / x['m2_living'], axis=1)"
   ]
  },
  {
   "cell_type": "markdown",
   "metadata": {
    "heading_collapsed": true
   },
   "source": [
    "# 3.0. FILTERING VARIABLES"
   ]
  },
  {
   "cell_type": "code",
   "execution_count": 49,
   "metadata": {
    "ExecuteTime": {
     "end_time": "2021-08-04T21:31:44.681543Z",
     "start_time": "2021-08-04T21:31:44.649519Z"
    },
    "hidden": true
   },
   "outputs": [],
   "source": [
    "df1 = df.copy()"
   ]
  },
  {
   "cell_type": "code",
   "execution_count": 50,
   "metadata": {
    "ExecuteTime": {
     "end_time": "2021-08-04T21:31:44.710466Z",
     "start_time": "2021-08-04T21:31:44.693511Z"
    },
    "hidden": true
   },
   "outputs": [
    {
     "data": {
      "text/plain": [
       "Index(['id', 'date', 'price', 'bedrooms', 'bathrooms', 'sqft_living',\n",
       "       'sqft_lot', 'floors', 'waterfront', 'view', 'condition', 'grade',\n",
       "       'sqft_above', 'sqft_basement', 'yr_built', 'yr_renovated', 'zipcode',\n",
       "       'lat', 'long', 'sqft_living15', 'sqft_lot15', 'built', 'basement',\n",
       "       'floors_type', 'renovated', 'condition_type', 'grade_design',\n",
       "       'year_mounth', 'season', 'm2_living', 'm2_lot', 'm2_above',\n",
       "       'm2_basement', 'm2_price'],\n",
       "      dtype='object')"
      ]
     },
     "execution_count": 50,
     "metadata": {},
     "output_type": "execute_result"
    }
   ],
   "source": [
    "df1.columns"
   ]
  },
  {
   "cell_type": "markdown",
   "metadata": {
    "hidden": true
   },
   "source": [
    "## 3.1. Select columns"
   ]
  },
  {
   "cell_type": "code",
   "execution_count": 51,
   "metadata": {
    "ExecuteTime": {
     "end_time": "2021-08-04T21:31:55.664504Z",
     "start_time": "2021-08-04T21:31:55.633586Z"
    },
    "hidden": true
   },
   "outputs": [],
   "source": [
    "cols_drop = ['sqft_living','sqft_lot','sqft_basement','sqft_above','sqft_living15','sqft_lot15','view']\n",
    "df1 = df1.drop(cols_drop, axis=1)\n",
    "df1 = df1[['id', 'date', 'season', 'price', 'bedrooms', 'bathrooms', 'm2_living', 'm2_lot', \n",
    "          'm2_above', 'm2_basement', 'm2_price', 'floors', 'waterfront', 'condition', \n",
    "          'grade', 'yr_built', 'yr_renovated', 'zipcode', 'lat','long', 'built', 'basement',\n",
    "          'floors_type', 'renovated', 'condition_type', 'grade_design']]"
   ]
  },
  {
   "cell_type": "markdown",
   "metadata": {},
   "source": [
    "# 4.0. EXPLORATION DATA ANALISYS"
   ]
  },
  {
   "cell_type": "code",
   "execution_count": 55,
   "metadata": {
    "ExecuteTime": {
     "end_time": "2021-08-04T21:37:46.958011Z",
     "start_time": "2021-08-04T21:37:46.934231Z"
    }
   },
   "outputs": [],
   "source": [
    "df2 = df1.copy()"
   ]
  },
  {
   "cell_type": "markdown",
   "metadata": {},
   "source": [
    "## 4.1. Univariate Analysis"
   ]
  },
  {
   "cell_type": "markdown",
   "metadata": {},
   "source": [
    "### 4.1.1. Response Variable"
   ]
  },
  {
   "cell_type": "code",
   "execution_count": 73,
   "metadata": {
    "ExecuteTime": {
     "end_time": "2021-08-04T21:46:21.462617Z",
     "start_time": "2021-08-04T21:46:20.903803Z"
    }
   },
   "outputs": [
    {
     "data": {
      "image/png": "[encoded data removed]",
      "text/plain": [
       "<Figure size 1440x720 with 1 Axes>"
      ]
     },
     "metadata": {},
     "output_type": "display_data"
    }
   ],
   "source": [
    "sns.distplot(df2['price'], kde=False);"
   ]
  },
  {
   "cell_type": "markdown",
   "metadata": {},
   "source": [
    "### 4.1.2. Numerical Variable"
   ]
  },
  {
   "cell_type": "code",
   "execution_count": 77,
   "metadata": {
    "ExecuteTime": {
     "end_time": "2021-08-04T21:48:51.054495Z",
     "start_time": "2021-08-04T21:48:46.087491Z"
    }
   },
   "outputs": [
    {
     "data": {
      "image/png": "[encoded data removed]",
      "text/plain": [
       "<Figure size 1440x720 with 20 Axes>"
      ]
     },
     "metadata": {},
     "output_type": "display_data"
    }
   ],
   "source": [
    "num_attributes2 = df2.select_dtypes(include=['int64','float64'])\n",
    "num_attributes2.hist(bins=25);"
   ]
  },
  {
   "cell_type": "markdown",
   "metadata": {},
   "source": [
    "### 4.1.1. Categorical Variable"
   ]
  },
  {
   "cell_type": "code",
   "execution_count": null,
   "metadata": {},
   "outputs": [],
   "source": []
  },
  {
   "cell_type": "markdown",
   "metadata": {
    "heading_collapsed": true
   },
   "source": [
    "## 4.1. Bivariate Analysis"
   ]
  },
  {
   "cell_type": "code",
   "execution_count": null,
   "metadata": {
    "hidden": true
   },
   "outputs": [],
   "source": []
  },
  {
   "cell_type": "markdown",
   "metadata": {},
   "source": [
    "## 4.1. Multvariate Analysis"
   ]
  },
  {
   "cell_type": "code",
   "execution_count": 29,
   "metadata": {
    "ExecuteTime": {
     "end_time": "2021-08-03T20:08:22.736231Z",
     "start_time": "2021-08-03T20:08:20.492641Z"
    }
   },
   "outputs": [
    {
     "data": {
      "image/png": "[encoded data removed]",
      "text/plain": [
       "<Figure size 432x360 with 2 Axes>"
      ]
     },
     "metadata": {
      "needs_background": "light"
     },
     "output_type": "display_data"
    }
   ],
   "source": [
    "#Gerando matrix \n",
    "matrix = data.copy()\n",
    "matrix = matrix.drop(['date','id'], axis = 1)\n",
    "matrix = matrix.corr()\n",
    "\n",
    "#Gerando máscara\n",
    "mask = np.triu(np.ones_like(matrix, dtype=bool))\n",
    "\n",
    "#Criando figura\n",
    "f, ax = plt.subplots(figsize=(6, 5))\n",
    "\n",
    "#Gerando novo mapa de cores\n",
    "cmap = sns.diverging_palette(20, 220, 300, as_cmap=True)\n",
    "\n",
    "#Plotando matrix\n",
    "sns.heatmap(matrix, mask=mask, cmap=cmap, vmin=-1, vmax=1, center=0,\n",
    "            square=True, linewidths=.5, cbar_kws={\"shrink\": .5});"
   ]
  },
  {
   "cell_type": "markdown",
   "metadata": {},
   "source": [
    "## 2.1 Hipóteses e Insights"
   ]
  },
  {
   "cell_type": "code",
   "execution_count": 91,
   "metadata": {
    "ExecuteTime": {
     "end_time": "2021-07-12T18:20:36.938038Z",
     "start_time": "2021-07-12T18:20:36.918506Z"
    }
   },
   "outputs": [],
   "source": [
    "df = data.copy()"
   ]
  },
  {
   "cell_type": "markdown",
   "metadata": {},
   "source": [
    "### H1: Imóveis que possuem vista para água, são 30% mais caros, na média."
   ]
  },
  {
   "cell_type": "code",
   "execution_count": 92,
   "metadata": {
    "ExecuteTime": {
     "end_time": "2021-07-12T18:20:38.255853Z",
     "start_time": "2021-07-12T18:20:37.855964Z"
    }
   },
   "outputs": [
    {
     "data": {
      "image/png": "[encoded data removed]",
      "text/plain": [
       "<Figure size 792x504 with 1 Axes>"
      ]
     },
     "metadata": {
      "needs_background": "light"
     },
     "output_type": "display_data"
    }
   ],
   "source": [
    "h1 = df[['waterfront', 'price']].groupby('waterfront').mean().reset_index()\n",
    "\n",
    "h1['waterfront'] = h1['waterfront'].apply(lambda x: 'yes' if x == 1 else 'no')\n",
    "\n",
    "sns.barplot(data=h1, x='waterfront', y='price');"
   ]
  },
  {
   "cell_type": "markdown",
   "metadata": {},
   "source": [
    "### H2: Imóveis com data de construção menor que 1955 são 50% mais baratos, na média."
   ]
  },
  {
   "cell_type": "code",
   "execution_count": 96,
   "metadata": {
    "ExecuteTime": {
     "end_time": "2021-07-12T18:21:18.958078Z",
     "start_time": "2021-07-12T18:21:18.624599Z"
    }
   },
   "outputs": [
    {
     "data": {
      "image/png": "[encoded data removed]",
      "text/plain": [
       "<Figure size 792x504 with 1 Axes>"
      ]
     },
     "metadata": {
      "needs_background": "light"
     },
     "output_type": "display_data"
    }
   ],
   "source": [
    "h2 = data[['built', 'price']].groupby('built').mean().reset_index()\n",
    "sns.barplot(data=h2, x='built',y='price');"
   ]
  },
  {
   "cell_type": "markdown",
   "metadata": {},
   "source": [
    "### H3: Imóveis sem porão (sqft_lot), são 40% maiores que os imóveis com porão"
   ]
  },
  {
   "cell_type": "code",
   "execution_count": 105,
   "metadata": {
    "ExecuteTime": {
     "end_time": "2021-07-12T18:23:23.758625Z",
     "start_time": "2021-07-12T18:23:23.335663Z"
    }
   },
   "outputs": [
    {
     "data": {
      "image/png": "[encoded data removed]",
      "text/plain": [
       "<Figure size 792x504 with 1 Axes>"
      ]
     },
     "metadata": {
      "needs_background": "light"
     },
     "output_type": "display_data"
    }
   ],
   "source": [
    "h3 = data[['basement', 'sqft_lot', 'price']].groupby('basement').median().reset_index()\n",
    "sns.barplot(data=h3, x='basement', y='sqft_lot');"
   ]
  },
  {
   "cell_type": "markdown",
   "metadata": {},
   "source": [
    "### H4: A mediana de preço de imóveis com 2 andares ou mais, com vista para água é 20% mais alta, que imóveis com 1 andar e com vista para água."
   ]
  },
  {
   "cell_type": "code",
   "execution_count": 109,
   "metadata": {
    "ExecuteTime": {
     "end_time": "2021-07-12T18:25:08.633073Z",
     "start_time": "2021-07-12T18:25:08.149202Z"
    }
   },
   "outputs": [
    {
     "data": {
      "image/png": "[encoded data removed]",
      "text/plain": [
       "<Figure size 792x504 with 1 Axes>"
      ]
     },
     "metadata": {
      "needs_background": "light"
     },
     "output_type": "display_data"
    }
   ],
   "source": [
    "h4 = data[['floors_type', 'waterfront', 'price']].groupby(['floors_type', 'waterfront']).median().reset_index()\n",
    "h4 = h4[h4['waterfront'] == 1]\n",
    "sns.barplot(data=h4, x='floors_type', y='price');"
   ]
  },
  {
   "cell_type": "markdown",
   "metadata": {},
   "source": [
    "### H5: Imóveis renovados são 20% mais caros"
   ]
  },
  {
   "cell_type": "code",
   "execution_count": 113,
   "metadata": {
    "ExecuteTime": {
     "end_time": "2021-07-12T19:26:04.215017Z",
     "start_time": "2021-07-12T19:26:03.853477Z"
    }
   },
   "outputs": [
    {
     "data": {
      "image/png": "[encoded data removed]",
      "text/plain": [
       "<Figure size 792x504 with 1 Axes>"
      ]
     },
     "metadata": {
      "needs_background": "light"
     },
     "output_type": "display_data"
    }
   ],
   "source": [
    "h5 = data[['renovated', 'price']].groupby('renovated').mean().reset_index()\n",
    "sns.barplot(data=h5, x='renovated', y='price');"
   ]
  },
  {
   "cell_type": "markdown",
   "metadata": {},
   "source": [
    "### H6: Imóveis em más condições são 30%, mais baratos que imóveis com boas condições"
   ]
  },
  {
   "cell_type": "code",
   "execution_count": 118,
   "metadata": {
    "ExecuteTime": {
     "end_time": "2021-07-12T19:28:01.978860Z",
     "start_time": "2021-07-12T19:28:01.677117Z"
    }
   },
   "outputs": [
    {
     "data": {
      "image/png": "[encoded data removed]",
      "text/plain": [
       "<Figure size 792x504 with 1 Axes>"
      ]
     },
     "metadata": {
      "needs_background": "light"
     },
     "output_type": "display_data"
    }
   ],
   "source": [
    "h6 = data[['condition_type', 'price']].groupby('condition_type').median().reset_index()\n",
    "sns.barplot(data=h6, x='condition_type', y='price');"
   ]
  },
  {
   "cell_type": "markdown",
   "metadata": {},
   "source": [
    "### H7: Imóveis com más condições e grade baixo são 50% mais baratos que imóveis com boas condições e grade alto."
   ]
  },
  {
   "cell_type": "code",
   "execution_count": 122,
   "metadata": {
    "ExecuteTime": {
     "end_time": "2021-07-12T19:30:31.910903Z",
     "start_time": "2021-07-12T19:30:31.568139Z"
    }
   },
   "outputs": [
    {
     "data": {
      "image/png": "[encoded data removed]",
      "text/plain": [
       "<Figure size 792x504 with 1 Axes>"
      ]
     },
     "metadata": {
      "needs_background": "light"
     },
     "output_type": "display_data"
    }
   ],
   "source": [
    "h7 = data[['grade_design', 'condition_type', 'price']].groupby(['condition_type', 'grade_design']).mean().reset_index()\n",
    "\n",
    "h7 = h7[(h7['condition_type'] == 'bad') & (h7['grade_design'] == 'bad') | (h7['condition_type'] == 'good') & \n",
    "        (h7['grade_design'] == 'good')]\n",
    "\n",
    "h7.columns = ['condition_type', 'grade_and_condition', 'price']\n",
    "\n",
    "sns.barplot(data=h7, x='grade_and_condition', y='price');"
   ]
  },
  {
   "cell_type": "markdown",
   "metadata": {},
   "source": [
    "### H8: Há um aumento do preço em 10% a cada banheiro adicional"
   ]
  },
  {
   "cell_type": "code",
   "execution_count": 133,
   "metadata": {
    "ExecuteTime": {
     "end_time": "2021-07-12T19:33:22.994813Z",
     "start_time": "2021-07-12T19:33:22.476281Z"
    }
   },
   "outputs": [
    {
     "data": {
      "image/png": "[encoded data removed]",
      "text/plain": [
       "<Figure size 792x504 with 1 Axes>"
      ]
     },
     "metadata": {
      "needs_background": "light"
     },
     "output_type": "display_data"
    }
   ],
   "source": [
    "h8 = data[['bathrooms', 'price']].groupby('bathrooms').mean().reset_index()\n",
    "p = h8[['price']].pct_change().fillna(0).reset_index()\n",
    "p.columns = ['bathrooms', 'price']\n",
    "sns.barplot(data=h8, x='bathrooms', y='price');"
   ]
  },
  {
   "cell_type": "markdown",
   "metadata": {},
   "source": [
    "### H9: Imóveis com 3 banheiros tem um crescimento Mounth over Mounth de 15%"
   ]
  },
  {
   "cell_type": "code",
   "execution_count": 140,
   "metadata": {
    "ExecuteTime": {
     "end_time": "2021-07-12T19:36:17.730434Z",
     "start_time": "2021-07-12T19:36:17.014640Z"
    }
   },
   "outputs": [
    {
     "data": {
      "image/png": "[encoded data removed]",
      "text/plain": [
       "<Figure size 792x504 with 1 Axes>"
      ]
     },
     "metadata": {
      "needs_background": "light"
     },
     "output_type": "display_data"
    }
   ],
   "source": [
    "h9 = data[data['bathrooms'] == 3][['price', 'year_mounth']]\n",
    "h9 = h9[['price', 'year_mounth']].groupby('year_mounth').sum()\n",
    "h9 = h9.pct_change(periods=1).fillna(0).reset_index()\n",
    "h9['price'] = round(h9['price'], 2) * 100\n",
    "h9.columns = ['mounth', 'pct']\n",
    "sns.lineplot(data=h9, x='mounth', y='pct');"
   ]
  },
  {
   "cell_type": "markdown",
   "metadata": {},
   "source": [
    "### 10: Quanto maior o atributo grade do imóvel, a média de preço cresce 20%"
   ]
  },
  {
   "cell_type": "code",
   "execution_count": 159,
   "metadata": {
    "ExecuteTime": {
     "end_time": "2021-07-12T19:45:25.822533Z",
     "start_time": "2021-07-12T19:45:24.757149Z"
    }
   },
   "outputs": [
    {
     "data": {
      "image/png": "[encoded data removed]",
      "text/plain": [
       "<Figure size 1080x1080 with 2 Axes>"
      ]
     },
     "metadata": {
      "needs_background": "light"
     },
     "output_type": "display_data"
    }
   ],
   "source": [
    "fig = plt.figure(figsize=(15,15))\n",
    "\n",
    "specs = gridspec.GridSpec(ncols= 2, nrows=2, figure=fig)\n",
    "\n",
    "ax1 = fig.add_subplot(specs[0,:])\n",
    "ax2 = fig.add_subplot(specs[1,:])\n",
    "\n",
    "h10 = data[['grade', 'price']].groupby('grade').mean().reset_index()\n",
    "h10['price'] = h10['price'].pct_change()\n",
    "h10['grade'] = h10['grade'].astype(str)\n",
    "h10['price'] = round(h10['price'], 2) * 100\n",
    "h10.columns = ['grade', 'pct']\n",
    "sns.lineplot(data=h10, x='grade', y='pct', ax=ax1)\n",
    "\n",
    "h11 = data[['grade', 'price']].groupby('grade').mean().reset_index()\n",
    "h11['grade'] = h11['grade'].astype(str)\n",
    "h10 = data[['grade', 'price']].groupby('grade').mean().reset_index()\n",
    "sns.barplot(data=h11, x='grade', y='price', ax=ax2);"
   ]
  },
  {
   "cell_type": "markdown",
   "metadata": {},
   "source": [
    "# Questões de negócio"
   ]
  },
  {
   "cell_type": "markdown",
   "metadata": {
    "heading_collapsed": true
   },
   "source": [
    "## 3.1 Quais são os imóveis que a House Rocket deveria comprar e por qual preço?"
   ]
  },
  {
   "cell_type": "code",
   "execution_count": 227,
   "metadata": {
    "ExecuteTime": {
     "end_time": "2021-07-12T20:46:24.740663Z",
     "start_time": "2021-07-12T20:42:48.713886Z"
    },
    "code_folding": [],
    "hidden": true
   },
   "outputs": [],
   "source": [
    "#Transformação dos dados\n",
    "df = data.copy()\n",
    "\n",
    "df = df[['zipcode','price']].groupby('zipcode').median().reset_index()\n",
    "df.columns = ['zipcode','price_median']\n",
    "\n",
    "df1 = pd.merge(data, df, on='zipcode', how='inner')\n",
    "\n",
    "def get_season(date):\n",
    "    year = str(date.year)\n",
    "    seasons = {'spring': pd.date_range(start='21/03/'+year, end='20/06/'+year),\n",
    "               'summer': pd.date_range(start='21/06/'+year, end='22/09/'+year),\n",
    "               'autumn': pd.date_range(start='23/09/'+year, end='20/12/'+year)}\n",
    "    if date in seasons['spring']:\n",
    "        return 'spring'\n",
    "    if date in seasons['summer']:\n",
    "        return 'summer'\n",
    "    if date in seasons['autumn']:\n",
    "        return 'autumn'\n",
    "    else:\n",
    "        return 'winter'\n",
    "    \n",
    "df1['season'] = df1.date.map(get_season)\n",
    "    \n",
    "df1['status'] = 'NA'\n",
    "for i in range(len(df1)):\n",
    "    if (df1.loc[i, 'price'] < df1.loc[i, 'price_median']) & (df1.loc[i, 'condition'] > 2):\n",
    "        df1.loc[i, 'status'] = 'buy'\n",
    "    else:\n",
    "        df1.loc[i, 'status'] = 'dont buy'\n",
    "\n",
    "df2 = df1.copy()\n",
    "\n",
    "df2 = df2[['zipcode','season','price']].groupby(['zipcode','season']).median().reset_index()\n",
    "df2.columns = ['zipcode','season','season_median']\n",
    "\n",
    "df3 = pd.merge(df1, df2, on=['zipcode','season'], how='inner')\n",
    "\n",
    "df4 = df3[['zipcode','season','price']].groupby(['zipcode','season']).median().reset_index()\n",
    "df4 = df4.pivot(index='zipcode', columns='season', values='price').reset_index()\n",
    "\n",
    "df5 = pd.merge(df3, df4, on='zipcode', how='inner')\n",
    "\n",
    "for i in range(len(df5)):\n",
    "    if df5.loc[i, 'price'] >= df5.loc[i, 'season_median']:\n",
    "        df5.loc[i, 'sell_price'] = (df5.loc[i, 'price'] * 0.10) + df5.loc[i, 'price']\n",
    "    else:\n",
    "        df5.loc[i, 'sell_price'] = (df5.loc[i, 'price'] * 0.30) + df5.loc[i, 'price']\n",
    "\n",
    "i = 0\n",
    "df5['best_season'] = ''\n",
    "while i < len(df5):\n",
    "    cols = ['autumn','spring','summer','winter']\n",
    "    if df5.loc[i, cols[0]] >= df5.loc[i, 'sell_price']:\n",
    "        df5.loc[i, 'best_season'] = df5.loc[i, 'best_season'] + 'autumn'\n",
    "    if df5.loc[i, cols[1]] >= df5.loc[i, 'sell_price']:\n",
    "        df5.loc[i, 'best_season'] = df5.loc[i, 'best_season'] + ',' + 'spring'\n",
    "    if df5.loc[i, cols[2]] >= df5.loc[i, 'sell_price']:\n",
    "        df5.loc[i, 'best_season'] = df5.loc[i, 'best_season'] + ',' + 'summer'\n",
    "    if df5.loc[i, cols[3]] >= df5.loc[i, 'sell_price']:\n",
    "        df5.loc[i, 'best_season'] = df5.loc[i, 'best_season'] + ',' + 'winter'\n",
    "    if df5.loc[i, 'best_season'] == '':\n",
    "        df5.loc[i, 'best_season'] = 'no_season'\n",
    "    i = i + 1\n",
    "\n",
    "for i in range(len(df5)):\n",
    "    df5.loc[i, 'best_season'] = df5.loc[i, 'best_season'].lstrip(',')\n",
    "\n",
    "df5['profit'] = df5['sell_price'] - df5['price']"
   ]
  },
  {
   "cell_type": "code",
   "execution_count": 231,
   "metadata": {
    "ExecuteTime": {
     "end_time": "2021-07-12T20:46:48.848936Z",
     "start_time": "2021-07-12T20:46:48.781560Z"
    },
    "code_folding": [
     0
    ],
    "hidden": true
   },
   "outputs": [
    {
     "data": {
      "text/html": [
       "<div>\n",
       "<style scoped>\n",
       "    .dataframe tbody tr th:only-of-type {\n",
       "        vertical-align: middle;\n",
       "    }\n",
       "\n",
       "    .dataframe tbody tr th {\n",
       "        vertical-align: top;\n",
       "    }\n",
       "\n",
       "    .dataframe thead th {\n",
       "        text-align: right;\n",
       "    }\n",
       "</style>\n",
       "<table border=\"1\" class=\"dataframe\">\n",
       "  <thead>\n",
       "    <tr style=\"text-align: right;\">\n",
       "      <th></th>\n",
       "      <th>id</th>\n",
       "      <th>zipcode</th>\n",
       "      <th>season</th>\n",
       "      <th>price</th>\n",
       "      <th>price_median</th>\n",
       "      <th>status</th>\n",
       "      <th>sell_price</th>\n",
       "      <th>profit</th>\n",
       "      <th>best_season</th>\n",
       "    </tr>\n",
       "  </thead>\n",
       "  <tbody>\n",
       "    <tr>\n",
       "      <th>20163</th>\n",
       "      <td>3800008</td>\n",
       "      <td>98178</td>\n",
       "      <td>winter</td>\n",
       "      <td>178000.00</td>\n",
       "      <td>279500.00</td>\n",
       "      <td>buy</td>\n",
       "      <td>231400.00</td>\n",
       "      <td>53400.00</td>\n",
       "      <td>autumn,spring,summer,winter</td>\n",
       "    </tr>\n",
       "    <tr>\n",
       "      <th>8475</th>\n",
       "      <td>7200179</td>\n",
       "      <td>98055</td>\n",
       "      <td>spring</td>\n",
       "      <td>175000.00</td>\n",
       "      <td>297225.00</td>\n",
       "      <td>buy</td>\n",
       "      <td>227500.00</td>\n",
       "      <td>52500.00</td>\n",
       "      <td>autumn,spring,summer,winter</td>\n",
       "    </tr>\n",
       "    <tr>\n",
       "      <th>16589</th>\n",
       "      <td>7400062</td>\n",
       "      <td>98118</td>\n",
       "      <td>spring</td>\n",
       "      <td>299800.00</td>\n",
       "      <td>370000.00</td>\n",
       "      <td>buy</td>\n",
       "      <td>389740.00</td>\n",
       "      <td>89940.00</td>\n",
       "      <td>spring</td>\n",
       "    </tr>\n",
       "    <tr>\n",
       "      <th>14340</th>\n",
       "      <td>7600065</td>\n",
       "      <td>98122</td>\n",
       "      <td>spring</td>\n",
       "      <td>465000.00</td>\n",
       "      <td>574000.00</td>\n",
       "      <td>buy</td>\n",
       "      <td>604500.00</td>\n",
       "      <td>139500.00</td>\n",
       "      <td>spring</td>\n",
       "    </tr>\n",
       "    <tr>\n",
       "      <th>14427</th>\n",
       "      <td>7600136</td>\n",
       "      <td>98122</td>\n",
       "      <td>summer</td>\n",
       "      <td>411000.00</td>\n",
       "      <td>574000.00</td>\n",
       "      <td>buy</td>\n",
       "      <td>534300.00</td>\n",
       "      <td>123300.00</td>\n",
       "      <td>autumn,spring,summer</td>\n",
       "    </tr>\n",
       "    <tr>\n",
       "      <th>...</th>\n",
       "      <td>...</td>\n",
       "      <td>...</td>\n",
       "      <td>...</td>\n",
       "      <td>...</td>\n",
       "      <td>...</td>\n",
       "      <td>...</td>\n",
       "      <td>...</td>\n",
       "      <td>...</td>\n",
       "      <td>...</td>\n",
       "    </tr>\n",
       "    <tr>\n",
       "      <th>17757</th>\n",
       "      <td>9834201215</td>\n",
       "      <td>98144</td>\n",
       "      <td>autumn</td>\n",
       "      <td>276000.00</td>\n",
       "      <td>452500.00</td>\n",
       "      <td>buy</td>\n",
       "      <td>358800.00</td>\n",
       "      <td>82800.00</td>\n",
       "      <td>autumn,spring,summer,winter</td>\n",
       "    </tr>\n",
       "    <tr>\n",
       "      <th>17810</th>\n",
       "      <td>9834201366</td>\n",
       "      <td>98144</td>\n",
       "      <td>autumn</td>\n",
       "      <td>429900.00</td>\n",
       "      <td>452500.00</td>\n",
       "      <td>buy</td>\n",
       "      <td>472890.00</td>\n",
       "      <td>42990.00</td>\n",
       "      <td>summer,winter</td>\n",
       "    </tr>\n",
       "    <tr>\n",
       "      <th>17811</th>\n",
       "      <td>9834201470</td>\n",
       "      <td>98144</td>\n",
       "      <td>autumn</td>\n",
       "      <td>303000.00</td>\n",
       "      <td>452500.00</td>\n",
       "      <td>buy</td>\n",
       "      <td>393900.00</td>\n",
       "      <td>90900.00</td>\n",
       "      <td>autumn,spring,summer,winter</td>\n",
       "    </tr>\n",
       "    <tr>\n",
       "      <th>165</th>\n",
       "      <td>9895000040</td>\n",
       "      <td>98027</td>\n",
       "      <td>summer</td>\n",
       "      <td>399900.00</td>\n",
       "      <td>571000.00</td>\n",
       "      <td>buy</td>\n",
       "      <td>519870.00</td>\n",
       "      <td>119970.00</td>\n",
       "      <td>autumn,spring,summer,winter</td>\n",
       "    </tr>\n",
       "    <tr>\n",
       "      <th>1482</th>\n",
       "      <td>9900000190</td>\n",
       "      <td>98166</td>\n",
       "      <td>autumn</td>\n",
       "      <td>268950.00</td>\n",
       "      <td>392500.00</td>\n",
       "      <td>buy</td>\n",
       "      <td>349635.00</td>\n",
       "      <td>80685.00</td>\n",
       "      <td>spring,summer,winter</td>\n",
       "    </tr>\n",
       "  </tbody>\n",
       "</table>\n",
       "<p>5172 rows × 9 columns</p>\n",
       "</div>"
      ],
      "text/plain": [
       "               id  zipcode  season     price  price_median status  sell_price  \\\n",
       "20163     3800008    98178  winter 178000.00     279500.00    buy   231400.00   \n",
       "8475      7200179    98055  spring 175000.00     297225.00    buy   227500.00   \n",
       "16589     7400062    98118  spring 299800.00     370000.00    buy   389740.00   \n",
       "14340     7600065    98122  spring 465000.00     574000.00    buy   604500.00   \n",
       "14427     7600136    98122  summer 411000.00     574000.00    buy   534300.00   \n",
       "...           ...      ...     ...       ...           ...    ...         ...   \n",
       "17757  9834201215    98144  autumn 276000.00     452500.00    buy   358800.00   \n",
       "17810  9834201366    98144  autumn 429900.00     452500.00    buy   472890.00   \n",
       "17811  9834201470    98144  autumn 303000.00     452500.00    buy   393900.00   \n",
       "165    9895000040    98027  summer 399900.00     571000.00    buy   519870.00   \n",
       "1482   9900000190    98166  autumn 268950.00     392500.00    buy   349635.00   \n",
       "\n",
       "         profit                  best_season  \n",
       "20163  53400.00  autumn,spring,summer,winter  \n",
       "8475   52500.00  autumn,spring,summer,winter  \n",
       "16589  89940.00                       spring  \n",
       "14340 139500.00                       spring  \n",
       "14427 123300.00         autumn,spring,summer  \n",
       "...         ...                          ...  \n",
       "17757  82800.00  autumn,spring,summer,winter  \n",
       "17810  42990.00                summer,winter  \n",
       "17811  90900.00  autumn,spring,summer,winter  \n",
       "165   119970.00  autumn,spring,summer,winter  \n",
       "1482   80685.00         spring,summer,winter  \n",
       "\n",
       "[5172 rows x 9 columns]"
      ]
     },
     "execution_count": 231,
     "metadata": {},
     "output_type": "execute_result"
    }
   ],
   "source": [
    "#Casa para comprar\n",
    "report = df5[['id', 'zipcode', 'season', 'price', 'price_median', 'status', 'sell_price', 'profit', 'best_season']]\n",
    "report = report[(report['best_season'] != 'no_season') & (report['status'] == 'buy')].sort_values('id', ascending=True)\n",
    "report"
   ]
  },
  {
   "cell_type": "code",
   "execution_count": null,
   "metadata": {
    "code_folding": [
     0
    ],
    "hidden": true
   },
   "outputs": [],
   "source": [
    "#Exportar para CSV\n",
    "#df5.to_csv(path, index=False)"
   ]
  },
  {
   "cell_type": "markdown",
   "metadata": {},
   "source": [
    "## 3.2 Uma vez comprado, qual é o melhor momento para vendê-lo e por qual preço?"
   ]
  },
  {
   "cell_type": "code",
   "execution_count": 218,
   "metadata": {
    "ExecuteTime": {
     "end_time": "2021-07-12T20:35:18.587553Z",
     "start_time": "2021-07-12T20:35:17.597358Z"
    }
   },
   "outputs": [
    {
     "data": {
      "image/png": "[encoded data removed]",
      "text/plain": [
       "<Figure size 792x504 with 1 Axes>"
      ]
     },
     "metadata": {
      "needs_background": "light"
     },
     "output_type": "display_data"
    }
   ],
   "source": [
    "#Além da melhor season estar indicada na coluna best_season da tabela anterior, a seguir>\n",
    "#Plot das seasons com maior recorrência\n",
    "season = report.copy()\n",
    "season = season['best_season'].tolist()\n",
    "season = ','.join(season)\n",
    "season = season.split(',')\n",
    "season_count = Counter(season)\n",
    "season_count = pd.DataFrame(([season_count]))\n",
    "season_count = season_count.melt().sort_values('value', ascending=False)\n",
    "sns.barplot(data=season_count, x='variable', y='value');"
   ]
  },
  {
   "cell_type": "markdown",
   "metadata": {},
   "source": [
    "## 3.3 Resultado do negócio"
   ]
  },
  {
   "cell_type": "markdown",
   "metadata": {},
   "source": [
    "Também foi realizado um filtro para sugerir a compra dos Top 20 imóveis, por **lucratividade**, por **baixo investimento** e um Bônus de **imóveis para reforma com maior ganho**."
   ]
  },
  {
   "cell_type": "code",
   "execution_count": 229,
   "metadata": {
    "ExecuteTime": {
     "end_time": "2021-07-12T20:46:34.176760Z",
     "start_time": "2021-07-12T20:46:34.125000Z"
    },
    "code_folding": [
     0
    ]
   },
   "outputs": [
    {
     "data": {
      "text/html": [
       "<div>\n",
       "<style scoped>\n",
       "    .dataframe tbody tr th:only-of-type {\n",
       "        vertical-align: middle;\n",
       "    }\n",
       "\n",
       "    .dataframe tbody tr th {\n",
       "        vertical-align: top;\n",
       "    }\n",
       "\n",
       "    .dataframe thead th {\n",
       "        text-align: right;\n",
       "    }\n",
       "</style>\n",
       "<table border=\"1\" class=\"dataframe\">\n",
       "  <thead>\n",
       "    <tr style=\"text-align: right;\">\n",
       "      <th></th>\n",
       "      <th>id</th>\n",
       "      <th>zipcode</th>\n",
       "      <th>season</th>\n",
       "      <th>price</th>\n",
       "      <th>price_median</th>\n",
       "      <th>status</th>\n",
       "      <th>sell_price</th>\n",
       "      <th>profit</th>\n",
       "      <th>best_season</th>\n",
       "    </tr>\n",
       "  </thead>\n",
       "  <tbody>\n",
       "    <tr>\n",
       "      <th>0</th>\n",
       "      <td>3262300322</td>\n",
       "      <td>98039</td>\n",
       "      <td>spring</td>\n",
       "      <td>1651000.00</td>\n",
       "      <td>1905000.00</td>\n",
       "      <td>buy</td>\n",
       "      <td>2146300.00</td>\n",
       "      <td>495300.00</td>\n",
       "      <td>autumn,summer</td>\n",
       "    </tr>\n",
       "    <tr>\n",
       "      <th>1</th>\n",
       "      <td>3025300250</td>\n",
       "      <td>98039</td>\n",
       "      <td>spring</td>\n",
       "      <td>1620000.00</td>\n",
       "      <td>1905000.00</td>\n",
       "      <td>buy</td>\n",
       "      <td>2106000.00</td>\n",
       "      <td>486000.00</td>\n",
       "      <td>autumn,summer</td>\n",
       "    </tr>\n",
       "    <tr>\n",
       "      <th>2</th>\n",
       "      <td>3262300235</td>\n",
       "      <td>98039</td>\n",
       "      <td>autumn</td>\n",
       "      <td>1555000.00</td>\n",
       "      <td>1905000.00</td>\n",
       "      <td>buy</td>\n",
       "      <td>2021500.00</td>\n",
       "      <td>466500.00</td>\n",
       "      <td>autumn,summer</td>\n",
       "    </tr>\n",
       "    <tr>\n",
       "      <th>3</th>\n",
       "      <td>2525049246</td>\n",
       "      <td>98039</td>\n",
       "      <td>autumn</td>\n",
       "      <td>1550000.00</td>\n",
       "      <td>1905000.00</td>\n",
       "      <td>buy</td>\n",
       "      <td>2015000.00</td>\n",
       "      <td>465000.00</td>\n",
       "      <td>autumn,summer</td>\n",
       "    </tr>\n",
       "    <tr>\n",
       "      <th>4</th>\n",
       "      <td>3025300225</td>\n",
       "      <td>98039</td>\n",
       "      <td>autumn</td>\n",
       "      <td>1450000.00</td>\n",
       "      <td>1905000.00</td>\n",
       "      <td>buy</td>\n",
       "      <td>1885000.00</td>\n",
       "      <td>435000.00</td>\n",
       "      <td>autumn,summer</td>\n",
       "    </tr>\n",
       "    <tr>\n",
       "      <th>5</th>\n",
       "      <td>5427100150</td>\n",
       "      <td>98039</td>\n",
       "      <td>summer</td>\n",
       "      <td>1410000.00</td>\n",
       "      <td>1905000.00</td>\n",
       "      <td>buy</td>\n",
       "      <td>1833000.00</td>\n",
       "      <td>423000.00</td>\n",
       "      <td>autumn,summer,winter</td>\n",
       "    </tr>\n",
       "    <tr>\n",
       "      <th>6</th>\n",
       "      <td>2525049133</td>\n",
       "      <td>98039</td>\n",
       "      <td>spring</td>\n",
       "      <td>1398000.00</td>\n",
       "      <td>1905000.00</td>\n",
       "      <td>buy</td>\n",
       "      <td>1817400.00</td>\n",
       "      <td>419400.00</td>\n",
       "      <td>autumn,summer,winter</td>\n",
       "    </tr>\n",
       "    <tr>\n",
       "      <th>7</th>\n",
       "      <td>3625049079</td>\n",
       "      <td>98039</td>\n",
       "      <td>summer</td>\n",
       "      <td>1350000.00</td>\n",
       "      <td>1905000.00</td>\n",
       "      <td>buy</td>\n",
       "      <td>1755000.00</td>\n",
       "      <td>405000.00</td>\n",
       "      <td>autumn,spring,summer,winter</td>\n",
       "    </tr>\n",
       "    <tr>\n",
       "      <th>8</th>\n",
       "      <td>3262301355</td>\n",
       "      <td>98039</td>\n",
       "      <td>summer</td>\n",
       "      <td>1320000.00</td>\n",
       "      <td>1905000.00</td>\n",
       "      <td>buy</td>\n",
       "      <td>1716000.00</td>\n",
       "      <td>396000.00</td>\n",
       "      <td>autumn,spring,summer,winter</td>\n",
       "    </tr>\n",
       "    <tr>\n",
       "      <th>9</th>\n",
       "      <td>3835502815</td>\n",
       "      <td>98039</td>\n",
       "      <td>autumn</td>\n",
       "      <td>1260000.00</td>\n",
       "      <td>1905000.00</td>\n",
       "      <td>buy</td>\n",
       "      <td>1638000.00</td>\n",
       "      <td>378000.00</td>\n",
       "      <td>autumn,spring,summer,winter</td>\n",
       "    </tr>\n",
       "    <tr>\n",
       "      <th>10</th>\n",
       "      <td>5427110040</td>\n",
       "      <td>98039</td>\n",
       "      <td>spring</td>\n",
       "      <td>1225000.00</td>\n",
       "      <td>1905000.00</td>\n",
       "      <td>buy</td>\n",
       "      <td>1592500.00</td>\n",
       "      <td>367500.00</td>\n",
       "      <td>autumn,spring,summer,winter</td>\n",
       "    </tr>\n",
       "    <tr>\n",
       "      <th>11</th>\n",
       "      <td>3262300920</td>\n",
       "      <td>98039</td>\n",
       "      <td>spring</td>\n",
       "      <td>1200000.00</td>\n",
       "      <td>1905000.00</td>\n",
       "      <td>buy</td>\n",
       "      <td>1560000.00</td>\n",
       "      <td>360000.00</td>\n",
       "      <td>autumn,spring,summer,winter</td>\n",
       "    </tr>\n",
       "    <tr>\n",
       "      <th>12</th>\n",
       "      <td>6447300345</td>\n",
       "      <td>98039</td>\n",
       "      <td>spring</td>\n",
       "      <td>1160000.00</td>\n",
       "      <td>1905000.00</td>\n",
       "      <td>buy</td>\n",
       "      <td>1508000.00</td>\n",
       "      <td>348000.00</td>\n",
       "      <td>autumn,spring,summer,winter</td>\n",
       "    </tr>\n",
       "    <tr>\n",
       "      <th>13</th>\n",
       "      <td>4122500095</td>\n",
       "      <td>98004</td>\n",
       "      <td>spring</td>\n",
       "      <td>1050000.00</td>\n",
       "      <td>1150000.00</td>\n",
       "      <td>buy</td>\n",
       "      <td>1365000.00</td>\n",
       "      <td>315000.00</td>\n",
       "      <td>winter</td>\n",
       "    </tr>\n",
       "    <tr>\n",
       "      <th>14</th>\n",
       "      <td>5536100010</td>\n",
       "      <td>98004</td>\n",
       "      <td>winter</td>\n",
       "      <td>1050000.00</td>\n",
       "      <td>1150000.00</td>\n",
       "      <td>buy</td>\n",
       "      <td>1365000.00</td>\n",
       "      <td>315000.00</td>\n",
       "      <td>winter</td>\n",
       "    </tr>\n",
       "    <tr>\n",
       "      <th>15</th>\n",
       "      <td>3394100230</td>\n",
       "      <td>98004</td>\n",
       "      <td>spring</td>\n",
       "      <td>1050000.00</td>\n",
       "      <td>1150000.00</td>\n",
       "      <td>buy</td>\n",
       "      <td>1365000.00</td>\n",
       "      <td>315000.00</td>\n",
       "      <td>winter</td>\n",
       "    </tr>\n",
       "    <tr>\n",
       "      <th>16</th>\n",
       "      <td>686800080</td>\n",
       "      <td>98004</td>\n",
       "      <td>spring</td>\n",
       "      <td>1034500.00</td>\n",
       "      <td>1150000.00</td>\n",
       "      <td>buy</td>\n",
       "      <td>1344850.00</td>\n",
       "      <td>310350.00</td>\n",
       "      <td>winter</td>\n",
       "    </tr>\n",
       "    <tr>\n",
       "      <th>17</th>\n",
       "      <td>644200065</td>\n",
       "      <td>98004</td>\n",
       "      <td>winter</td>\n",
       "      <td>1030000.00</td>\n",
       "      <td>1150000.00</td>\n",
       "      <td>buy</td>\n",
       "      <td>1339000.00</td>\n",
       "      <td>309000.00</td>\n",
       "      <td>winter</td>\n",
       "    </tr>\n",
       "    <tr>\n",
       "      <th>18</th>\n",
       "      <td>2344300180</td>\n",
       "      <td>98004</td>\n",
       "      <td>spring</td>\n",
       "      <td>1027000.00</td>\n",
       "      <td>1150000.00</td>\n",
       "      <td>buy</td>\n",
       "      <td>1335100.00</td>\n",
       "      <td>308100.00</td>\n",
       "      <td>winter</td>\n",
       "    </tr>\n",
       "    <tr>\n",
       "      <th>19</th>\n",
       "      <td>2025059204</td>\n",
       "      <td>98004</td>\n",
       "      <td>summer</td>\n",
       "      <td>1013050.00</td>\n",
       "      <td>1150000.00</td>\n",
       "      <td>buy</td>\n",
       "      <td>1316965.00</td>\n",
       "      <td>303915.00</td>\n",
       "      <td>winter</td>\n",
       "    </tr>\n",
       "    <tr>\n",
       "      <th>20</th>\n",
       "      <td>9808590310</td>\n",
       "      <td>98004</td>\n",
       "      <td>spring</td>\n",
       "      <td>1000750.00</td>\n",
       "      <td>1150000.00</td>\n",
       "      <td>buy</td>\n",
       "      <td>1300975.00</td>\n",
       "      <td>300225.00</td>\n",
       "      <td>winter</td>\n",
       "    </tr>\n",
       "  </tbody>\n",
       "</table>\n",
       "</div>"
      ],
      "text/plain": [
       "            id  zipcode  season      price  price_median status  sell_price  \\\n",
       "0   3262300322    98039  spring 1651000.00    1905000.00    buy  2146300.00   \n",
       "1   3025300250    98039  spring 1620000.00    1905000.00    buy  2106000.00   \n",
       "2   3262300235    98039  autumn 1555000.00    1905000.00    buy  2021500.00   \n",
       "3   2525049246    98039  autumn 1550000.00    1905000.00    buy  2015000.00   \n",
       "4   3025300225    98039  autumn 1450000.00    1905000.00    buy  1885000.00   \n",
       "5   5427100150    98039  summer 1410000.00    1905000.00    buy  1833000.00   \n",
       "6   2525049133    98039  spring 1398000.00    1905000.00    buy  1817400.00   \n",
       "7   3625049079    98039  summer 1350000.00    1905000.00    buy  1755000.00   \n",
       "8   3262301355    98039  summer 1320000.00    1905000.00    buy  1716000.00   \n",
       "9   3835502815    98039  autumn 1260000.00    1905000.00    buy  1638000.00   \n",
       "10  5427110040    98039  spring 1225000.00    1905000.00    buy  1592500.00   \n",
       "11  3262300920    98039  spring 1200000.00    1905000.00    buy  1560000.00   \n",
       "12  6447300345    98039  spring 1160000.00    1905000.00    buy  1508000.00   \n",
       "13  4122500095    98004  spring 1050000.00    1150000.00    buy  1365000.00   \n",
       "14  5536100010    98004  winter 1050000.00    1150000.00    buy  1365000.00   \n",
       "15  3394100230    98004  spring 1050000.00    1150000.00    buy  1365000.00   \n",
       "16   686800080    98004  spring 1034500.00    1150000.00    buy  1344850.00   \n",
       "17   644200065    98004  winter 1030000.00    1150000.00    buy  1339000.00   \n",
       "18  2344300180    98004  spring 1027000.00    1150000.00    buy  1335100.00   \n",
       "19  2025059204    98004  summer 1013050.00    1150000.00    buy  1316965.00   \n",
       "20  9808590310    98004  spring 1000750.00    1150000.00    buy  1300975.00   \n",
       "\n",
       "      profit                  best_season  \n",
       "0  495300.00                autumn,summer  \n",
       "1  486000.00                autumn,summer  \n",
       "2  466500.00                autumn,summer  \n",
       "3  465000.00                autumn,summer  \n",
       "4  435000.00                autumn,summer  \n",
       "5  423000.00         autumn,summer,winter  \n",
       "6  419400.00         autumn,summer,winter  \n",
       "7  405000.00  autumn,spring,summer,winter  \n",
       "8  396000.00  autumn,spring,summer,winter  \n",
       "9  378000.00  autumn,spring,summer,winter  \n",
       "10 367500.00  autumn,spring,summer,winter  \n",
       "11 360000.00  autumn,spring,summer,winter  \n",
       "12 348000.00  autumn,spring,summer,winter  \n",
       "13 315000.00                       winter  \n",
       "14 315000.00                       winter  \n",
       "15 315000.00                       winter  \n",
       "16 310350.00                       winter  \n",
       "17 309000.00                       winter  \n",
       "18 308100.00                       winter  \n",
       "19 303915.00                       winter  \n",
       "20 300225.00                       winter  "
      ]
     },
     "execution_count": 229,
     "metadata": {},
     "output_type": "execute_result"
    }
   ],
   "source": [
    "#Por lucratividade\n",
    "sample = report[(report['best_season'] != 'no_season') & (report['status'] == 'buy')].sort_values('profit', ascending=False)\n",
    "sample = sample.iloc[0:21,:].copy()\n",
    "sample.reset_index(drop=True)"
   ]
  },
  {
   "cell_type": "code",
   "execution_count": 255,
   "metadata": {
    "ExecuteTime": {
     "end_time": "2021-07-12T20:59:31.773765Z",
     "start_time": "2021-07-12T20:59:31.746423Z"
    },
    "code_folding": [
     0
    ]
   },
   "outputs": [
    {
     "data": {
      "text/html": [
       "<div>\n",
       "<style scoped>\n",
       "    .dataframe tbody tr th:only-of-type {\n",
       "        vertical-align: middle;\n",
       "    }\n",
       "\n",
       "    .dataframe tbody tr th {\n",
       "        vertical-align: top;\n",
       "    }\n",
       "\n",
       "    .dataframe thead th {\n",
       "        text-align: right;\n",
       "    }\n",
       "</style>\n",
       "<table border=\"1\" class=\"dataframe\">\n",
       "  <thead>\n",
       "    <tr style=\"text-align: right;\">\n",
       "      <th></th>\n",
       "      <th>Valor USD</th>\n",
       "    </tr>\n",
       "  </thead>\n",
       "  <tbody>\n",
       "    <tr>\n",
       "      <th>Investimento Inicial</th>\n",
       "      <td>26404300.00</td>\n",
       "    </tr>\n",
       "    <tr>\n",
       "      <th>Lucro Esperado</th>\n",
       "      <td>7921290.00</td>\n",
       "    </tr>\n",
       "  </tbody>\n",
       "</table>\n",
       "</div>"
      ],
      "text/plain": [
       "                       Valor USD\n",
       "Investimento Inicial 26404300.00\n",
       "Lucro Esperado        7921290.00"
      ]
     },
     "execution_count": 255,
     "metadata": {},
     "output_type": "execute_result"
    }
   ],
   "source": [
    "#Lucratividade / Investimento e Lucro Esperado\n",
    "dic = {\"Investimento Inicial\": sample['price'].sum(), 'Lucro Esperado': sample['profit'].sum()}\n",
    "capital = pd.Series(dic).to_frame('Valor USD')\n",
    "capital"
   ]
  },
  {
   "cell_type": "code",
   "execution_count": 238,
   "metadata": {
    "ExecuteTime": {
     "end_time": "2021-07-12T20:49:49.570251Z",
     "start_time": "2021-07-12T20:49:49.522406Z"
    },
    "code_folding": [
     0
    ]
   },
   "outputs": [
    {
     "data": {
      "text/html": [
       "<div>\n",
       "<style scoped>\n",
       "    .dataframe tbody tr th:only-of-type {\n",
       "        vertical-align: middle;\n",
       "    }\n",
       "\n",
       "    .dataframe tbody tr th {\n",
       "        vertical-align: top;\n",
       "    }\n",
       "\n",
       "    .dataframe thead th {\n",
       "        text-align: right;\n",
       "    }\n",
       "</style>\n",
       "<table border=\"1\" class=\"dataframe\">\n",
       "  <thead>\n",
       "    <tr style=\"text-align: right;\">\n",
       "      <th></th>\n",
       "      <th>id</th>\n",
       "      <th>zipcode</th>\n",
       "      <th>season</th>\n",
       "      <th>price</th>\n",
       "      <th>price_median</th>\n",
       "      <th>status</th>\n",
       "      <th>sell_price</th>\n",
       "      <th>profit</th>\n",
       "      <th>best_season</th>\n",
       "    </tr>\n",
       "  </thead>\n",
       "  <tbody>\n",
       "    <tr>\n",
       "      <th>0</th>\n",
       "      <td>3421079032</td>\n",
       "      <td>98022</td>\n",
       "      <td>winter</td>\n",
       "      <td>75000.00</td>\n",
       "      <td>279500.00</td>\n",
       "      <td>buy</td>\n",
       "      <td>97500.00</td>\n",
       "      <td>22500.00</td>\n",
       "      <td>autumn,spring,summer,winter</td>\n",
       "    </tr>\n",
       "    <tr>\n",
       "      <th>1</th>\n",
       "      <td>7999600180</td>\n",
       "      <td>98168</td>\n",
       "      <td>spring</td>\n",
       "      <td>83000.00</td>\n",
       "      <td>237000.00</td>\n",
       "      <td>buy</td>\n",
       "      <td>107900.00</td>\n",
       "      <td>24900.00</td>\n",
       "      <td>autumn,spring,summer,winter</td>\n",
       "    </tr>\n",
       "    <tr>\n",
       "      <th>2</th>\n",
       "      <td>1523049188</td>\n",
       "      <td>98168</td>\n",
       "      <td>spring</td>\n",
       "      <td>84000.00</td>\n",
       "      <td>237000.00</td>\n",
       "      <td>buy</td>\n",
       "      <td>109200.00</td>\n",
       "      <td>25200.00</td>\n",
       "      <td>autumn,spring,summer,winter</td>\n",
       "    </tr>\n",
       "    <tr>\n",
       "      <th>3</th>\n",
       "      <td>1322049150</td>\n",
       "      <td>98032</td>\n",
       "      <td>winter</td>\n",
       "      <td>85000.00</td>\n",
       "      <td>250000.00</td>\n",
       "      <td>buy</td>\n",
       "      <td>110500.00</td>\n",
       "      <td>25500.00</td>\n",
       "      <td>autumn,spring,summer,winter</td>\n",
       "    </tr>\n",
       "    <tr>\n",
       "      <th>4</th>\n",
       "      <td>9320900420</td>\n",
       "      <td>98023</td>\n",
       "      <td>autumn</td>\n",
       "      <td>89000.00</td>\n",
       "      <td>269000.00</td>\n",
       "      <td>buy</td>\n",
       "      <td>115700.00</td>\n",
       "      <td>26700.00</td>\n",
       "      <td>autumn,spring,summer,winter</td>\n",
       "    </tr>\n",
       "    <tr>\n",
       "      <th>5</th>\n",
       "      <td>1721801591</td>\n",
       "      <td>98146</td>\n",
       "      <td>winter</td>\n",
       "      <td>89950.00</td>\n",
       "      <td>312000.00</td>\n",
       "      <td>buy</td>\n",
       "      <td>116935.00</td>\n",
       "      <td>26985.00</td>\n",
       "      <td>autumn,spring,summer,winter</td>\n",
       "    </tr>\n",
       "    <tr>\n",
       "      <th>6</th>\n",
       "      <td>2734100835</td>\n",
       "      <td>98108</td>\n",
       "      <td>winter</td>\n",
       "      <td>90000.00</td>\n",
       "      <td>345000.00</td>\n",
       "      <td>buy</td>\n",
       "      <td>117000.00</td>\n",
       "      <td>27000.00</td>\n",
       "      <td>autumn,spring,summer,winter</td>\n",
       "    </tr>\n",
       "    <tr>\n",
       "      <th>7</th>\n",
       "      <td>1049010620</td>\n",
       "      <td>98034</td>\n",
       "      <td>spring</td>\n",
       "      <td>90000.00</td>\n",
       "      <td>446000.00</td>\n",
       "      <td>buy</td>\n",
       "      <td>117000.00</td>\n",
       "      <td>27000.00</td>\n",
       "      <td>autumn,spring,summer,winter</td>\n",
       "    </tr>\n",
       "    <tr>\n",
       "      <th>8</th>\n",
       "      <td>4239400300</td>\n",
       "      <td>98092</td>\n",
       "      <td>autumn</td>\n",
       "      <td>90000.00</td>\n",
       "      <td>309780.00</td>\n",
       "      <td>buy</td>\n",
       "      <td>117000.00</td>\n",
       "      <td>27000.00</td>\n",
       "      <td>autumn,spring,summer,winter</td>\n",
       "    </tr>\n",
       "    <tr>\n",
       "      <th>9</th>\n",
       "      <td>2114700500</td>\n",
       "      <td>98106</td>\n",
       "      <td>spring</td>\n",
       "      <td>90000.00</td>\n",
       "      <td>315000.00</td>\n",
       "      <td>buy</td>\n",
       "      <td>117000.00</td>\n",
       "      <td>27000.00</td>\n",
       "      <td>autumn,spring,summer,winter</td>\n",
       "    </tr>\n",
       "    <tr>\n",
       "      <th>10</th>\n",
       "      <td>795000765</td>\n",
       "      <td>98168</td>\n",
       "      <td>spring</td>\n",
       "      <td>92000.00</td>\n",
       "      <td>237000.00</td>\n",
       "      <td>buy</td>\n",
       "      <td>119600.00</td>\n",
       "      <td>27600.00</td>\n",
       "      <td>autumn,spring,summer,winter</td>\n",
       "    </tr>\n",
       "    <tr>\n",
       "      <th>11</th>\n",
       "      <td>7335400215</td>\n",
       "      <td>98002</td>\n",
       "      <td>spring</td>\n",
       "      <td>95000.00</td>\n",
       "      <td>235000.00</td>\n",
       "      <td>buy</td>\n",
       "      <td>123500.00</td>\n",
       "      <td>28500.00</td>\n",
       "      <td>autumn,spring,summer,winter</td>\n",
       "    </tr>\n",
       "    <tr>\n",
       "      <th>12</th>\n",
       "      <td>2724200705</td>\n",
       "      <td>98198</td>\n",
       "      <td>autumn</td>\n",
       "      <td>95000.00</td>\n",
       "      <td>266750.00</td>\n",
       "      <td>buy</td>\n",
       "      <td>123500.00</td>\n",
       "      <td>28500.00</td>\n",
       "      <td>autumn,spring,summer,winter</td>\n",
       "    </tr>\n",
       "    <tr>\n",
       "      <th>13</th>\n",
       "      <td>6929602721</td>\n",
       "      <td>98198</td>\n",
       "      <td>spring</td>\n",
       "      <td>95000.00</td>\n",
       "      <td>266750.00</td>\n",
       "      <td>buy</td>\n",
       "      <td>123500.00</td>\n",
       "      <td>28500.00</td>\n",
       "      <td>autumn,spring,summer,winter</td>\n",
       "    </tr>\n",
       "    <tr>\n",
       "      <th>14</th>\n",
       "      <td>3751600030</td>\n",
       "      <td>98001</td>\n",
       "      <td>summer</td>\n",
       "      <td>100000.00</td>\n",
       "      <td>260000.00</td>\n",
       "      <td>buy</td>\n",
       "      <td>130000.00</td>\n",
       "      <td>30000.00</td>\n",
       "      <td>autumn,spring,summer,winter</td>\n",
       "    </tr>\n",
       "    <tr>\n",
       "      <th>15</th>\n",
       "      <td>6146600170</td>\n",
       "      <td>98032</td>\n",
       "      <td>summer</td>\n",
       "      <td>100000.00</td>\n",
       "      <td>250000.00</td>\n",
       "      <td>buy</td>\n",
       "      <td>130000.00</td>\n",
       "      <td>30000.00</td>\n",
       "      <td>autumn,spring,summer,winter</td>\n",
       "    </tr>\n",
       "    <tr>\n",
       "      <th>16</th>\n",
       "      <td>7224000980</td>\n",
       "      <td>98055</td>\n",
       "      <td>spring</td>\n",
       "      <td>100000.00</td>\n",
       "      <td>297225.00</td>\n",
       "      <td>buy</td>\n",
       "      <td>130000.00</td>\n",
       "      <td>30000.00</td>\n",
       "      <td>autumn,spring,summer,winter</td>\n",
       "    </tr>\n",
       "    <tr>\n",
       "      <th>17</th>\n",
       "      <td>7813200115</td>\n",
       "      <td>98178</td>\n",
       "      <td>summer</td>\n",
       "      <td>100000.00</td>\n",
       "      <td>279500.00</td>\n",
       "      <td>buy</td>\n",
       "      <td>130000.00</td>\n",
       "      <td>30000.00</td>\n",
       "      <td>autumn,spring,summer,winter</td>\n",
       "    </tr>\n",
       "    <tr>\n",
       "      <th>18</th>\n",
       "      <td>8856000545</td>\n",
       "      <td>98001</td>\n",
       "      <td>spring</td>\n",
       "      <td>100000.00</td>\n",
       "      <td>260000.00</td>\n",
       "      <td>buy</td>\n",
       "      <td>130000.00</td>\n",
       "      <td>30000.00</td>\n",
       "      <td>autumn,spring,summer,winter</td>\n",
       "    </tr>\n",
       "    <tr>\n",
       "      <th>19</th>\n",
       "      <td>123039604</td>\n",
       "      <td>98106</td>\n",
       "      <td>summer</td>\n",
       "      <td>102500.00</td>\n",
       "      <td>315000.00</td>\n",
       "      <td>buy</td>\n",
       "      <td>133250.00</td>\n",
       "      <td>30750.00</td>\n",
       "      <td>autumn,spring,summer,winter</td>\n",
       "    </tr>\n",
       "    <tr>\n",
       "      <th>20</th>\n",
       "      <td>4311700120</td>\n",
       "      <td>98042</td>\n",
       "      <td>winter</td>\n",
       "      <td>105000.00</td>\n",
       "      <td>292500.00</td>\n",
       "      <td>buy</td>\n",
       "      <td>136500.00</td>\n",
       "      <td>31500.00</td>\n",
       "      <td>autumn,spring,summer,winter</td>\n",
       "    </tr>\n",
       "  </tbody>\n",
       "</table>\n",
       "</div>"
      ],
      "text/plain": [
       "            id  zipcode  season     price  price_median status  sell_price  \\\n",
       "0   3421079032    98022  winter  75000.00     279500.00    buy    97500.00   \n",
       "1   7999600180    98168  spring  83000.00     237000.00    buy   107900.00   \n",
       "2   1523049188    98168  spring  84000.00     237000.00    buy   109200.00   \n",
       "3   1322049150    98032  winter  85000.00     250000.00    buy   110500.00   \n",
       "4   9320900420    98023  autumn  89000.00     269000.00    buy   115700.00   \n",
       "5   1721801591    98146  winter  89950.00     312000.00    buy   116935.00   \n",
       "6   2734100835    98108  winter  90000.00     345000.00    buy   117000.00   \n",
       "7   1049010620    98034  spring  90000.00     446000.00    buy   117000.00   \n",
       "8   4239400300    98092  autumn  90000.00     309780.00    buy   117000.00   \n",
       "9   2114700500    98106  spring  90000.00     315000.00    buy   117000.00   \n",
       "10   795000765    98168  spring  92000.00     237000.00    buy   119600.00   \n",
       "11  7335400215    98002  spring  95000.00     235000.00    buy   123500.00   \n",
       "12  2724200705    98198  autumn  95000.00     266750.00    buy   123500.00   \n",
       "13  6929602721    98198  spring  95000.00     266750.00    buy   123500.00   \n",
       "14  3751600030    98001  summer 100000.00     260000.00    buy   130000.00   \n",
       "15  6146600170    98032  summer 100000.00     250000.00    buy   130000.00   \n",
       "16  7224000980    98055  spring 100000.00     297225.00    buy   130000.00   \n",
       "17  7813200115    98178  summer 100000.00     279500.00    buy   130000.00   \n",
       "18  8856000545    98001  spring 100000.00     260000.00    buy   130000.00   \n",
       "19   123039604    98106  summer 102500.00     315000.00    buy   133250.00   \n",
       "20  4311700120    98042  winter 105000.00     292500.00    buy   136500.00   \n",
       "\n",
       "     profit                  best_season  \n",
       "0  22500.00  autumn,spring,summer,winter  \n",
       "1  24900.00  autumn,spring,summer,winter  \n",
       "2  25200.00  autumn,spring,summer,winter  \n",
       "3  25500.00  autumn,spring,summer,winter  \n",
       "4  26700.00  autumn,spring,summer,winter  \n",
       "5  26985.00  autumn,spring,summer,winter  \n",
       "6  27000.00  autumn,spring,summer,winter  \n",
       "7  27000.00  autumn,spring,summer,winter  \n",
       "8  27000.00  autumn,spring,summer,winter  \n",
       "9  27000.00  autumn,spring,summer,winter  \n",
       "10 27600.00  autumn,spring,summer,winter  \n",
       "11 28500.00  autumn,spring,summer,winter  \n",
       "12 28500.00  autumn,spring,summer,winter  \n",
       "13 28500.00  autumn,spring,summer,winter  \n",
       "14 30000.00  autumn,spring,summer,winter  \n",
       "15 30000.00  autumn,spring,summer,winter  \n",
       "16 30000.00  autumn,spring,summer,winter  \n",
       "17 30000.00  autumn,spring,summer,winter  \n",
       "18 30000.00  autumn,spring,summer,winter  \n",
       "19 30750.00  autumn,spring,summer,winter  \n",
       "20 31500.00  autumn,spring,summer,winter  "
      ]
     },
     "execution_count": 238,
     "metadata": {},
     "output_type": "execute_result"
    }
   ],
   "source": [
    "#Baixo investimento\n",
    "sample2 = report[(report['best_season'] != 'no_season') & (report['status'] == 'buy')].sort_values('price', ascending=True)\n",
    "sample2 = sample2.iloc[0:21,:].copy()\n",
    "sample2.reset_index(drop=True)"
   ]
  },
  {
   "cell_type": "code",
   "execution_count": 254,
   "metadata": {
    "ExecuteTime": {
     "end_time": "2021-07-12T20:58:52.876619Z",
     "start_time": "2021-07-12T20:58:52.859041Z"
    },
    "code_folding": [
     0
    ]
   },
   "outputs": [
    {
     "data": {
      "text/html": [
       "<div>\n",
       "<style scoped>\n",
       "    .dataframe tbody tr th:only-of-type {\n",
       "        vertical-align: middle;\n",
       "    }\n",
       "\n",
       "    .dataframe tbody tr th {\n",
       "        vertical-align: top;\n",
       "    }\n",
       "\n",
       "    .dataframe thead th {\n",
       "        text-align: right;\n",
       "    }\n",
       "</style>\n",
       "<table border=\"1\" class=\"dataframe\">\n",
       "  <thead>\n",
       "    <tr style=\"text-align: right;\">\n",
       "      <th></th>\n",
       "      <th>Valor USD</th>\n",
       "    </tr>\n",
       "  </thead>\n",
       "  <tbody>\n",
       "    <tr>\n",
       "      <th>Investimento Inicial</th>\n",
       "      <td>1950450.00</td>\n",
       "    </tr>\n",
       "    <tr>\n",
       "      <th>Lucro Esperado</th>\n",
       "      <td>585135.00</td>\n",
       "    </tr>\n",
       "  </tbody>\n",
       "</table>\n",
       "</div>"
      ],
      "text/plain": [
       "                      Valor USD\n",
       "Investimento Inicial 1950450.00\n",
       "Lucro Esperado        585135.00"
      ]
     },
     "execution_count": 254,
     "metadata": {},
     "output_type": "execute_result"
    }
   ],
   "source": [
    "#Baixo investimento / Investimento e Lucro Esperado\n",
    "dic2 = {\"Investimento Inicial\": sample2['price'].sum(), 'Lucro Esperado': sample2['profit'].sum()}\n",
    "capital2 = pd.Series(dic2).to_frame('Valor USD')\n",
    "capital2"
   ]
  },
  {
   "cell_type": "code",
   "execution_count": 256,
   "metadata": {
    "ExecuteTime": {
     "end_time": "2021-07-12T21:00:39.807757Z",
     "start_time": "2021-07-12T21:00:39.702297Z"
    },
    "code_folding": [
     0
    ]
   },
   "outputs": [
    {
     "data": {
      "text/html": [
       "<div>\n",
       "<style scoped>\n",
       "    .dataframe tbody tr th:only-of-type {\n",
       "        vertical-align: middle;\n",
       "    }\n",
       "\n",
       "    .dataframe tbody tr th {\n",
       "        vertical-align: top;\n",
       "    }\n",
       "\n",
       "    .dataframe thead th {\n",
       "        text-align: right;\n",
       "    }\n",
       "</style>\n",
       "<table border=\"1\" class=\"dataframe\">\n",
       "  <thead>\n",
       "    <tr style=\"text-align: right;\">\n",
       "      <th></th>\n",
       "      <th>id</th>\n",
       "      <th>zipcode</th>\n",
       "      <th>season</th>\n",
       "      <th>price</th>\n",
       "      <th>condition</th>\n",
       "      <th>renovate_cost</th>\n",
       "      <th>sell_price</th>\n",
       "      <th>profit_adjusted</th>\n",
       "    </tr>\n",
       "  </thead>\n",
       "  <tbody>\n",
       "    <tr>\n",
       "      <th>0</th>\n",
       "      <td>3623500135</td>\n",
       "      <td>98040</td>\n",
       "      <td>spring</td>\n",
       "      <td>800000.00</td>\n",
       "      <td>2</td>\n",
       "      <td>64000.00</td>\n",
       "      <td>1040000.00</td>\n",
       "      <td>176000.00</td>\n",
       "    </tr>\n",
       "    <tr>\n",
       "      <th>1</th>\n",
       "      <td>5459500165</td>\n",
       "      <td>98040</td>\n",
       "      <td>summer</td>\n",
       "      <td>623000.00</td>\n",
       "      <td>2</td>\n",
       "      <td>49840.00</td>\n",
       "      <td>809900.00</td>\n",
       "      <td>137060.00</td>\n",
       "    </tr>\n",
       "    <tr>\n",
       "      <th>2</th>\n",
       "      <td>6788200605</td>\n",
       "      <td>98112</td>\n",
       "      <td>winter</td>\n",
       "      <td>575000.00</td>\n",
       "      <td>2</td>\n",
       "      <td>46000.00</td>\n",
       "      <td>747500.00</td>\n",
       "      <td>126500.00</td>\n",
       "    </tr>\n",
       "    <tr>\n",
       "      <th>3</th>\n",
       "      <td>6072760390</td>\n",
       "      <td>98006</td>\n",
       "      <td>spring</td>\n",
       "      <td>547500.00</td>\n",
       "      <td>2</td>\n",
       "      <td>43800.00</td>\n",
       "      <td>711750.00</td>\n",
       "      <td>120450.00</td>\n",
       "    </tr>\n",
       "    <tr>\n",
       "      <th>4</th>\n",
       "      <td>3886902445</td>\n",
       "      <td>98033</td>\n",
       "      <td>winter</td>\n",
       "      <td>535000.00</td>\n",
       "      <td>1</td>\n",
       "      <td>53500.00</td>\n",
       "      <td>695500.00</td>\n",
       "      <td>107000.00</td>\n",
       "    </tr>\n",
       "    <tr>\n",
       "      <th>5</th>\n",
       "      <td>3578400950</td>\n",
       "      <td>98074</td>\n",
       "      <td>summer</td>\n",
       "      <td>492450.00</td>\n",
       "      <td>2</td>\n",
       "      <td>39396.00</td>\n",
       "      <td>640185.00</td>\n",
       "      <td>108339.00</td>\n",
       "    </tr>\n",
       "    <tr>\n",
       "      <th>6</th>\n",
       "      <td>6205500030</td>\n",
       "      <td>98005</td>\n",
       "      <td>autumn</td>\n",
       "      <td>480000.00</td>\n",
       "      <td>2</td>\n",
       "      <td>38400.00</td>\n",
       "      <td>624000.00</td>\n",
       "      <td>105600.00</td>\n",
       "    </tr>\n",
       "    <tr>\n",
       "      <th>7</th>\n",
       "      <td>9828701745</td>\n",
       "      <td>98112</td>\n",
       "      <td>winter</td>\n",
       "      <td>480000.00</td>\n",
       "      <td>2</td>\n",
       "      <td>38400.00</td>\n",
       "      <td>624000.00</td>\n",
       "      <td>105600.00</td>\n",
       "    </tr>\n",
       "    <tr>\n",
       "      <th>8</th>\n",
       "      <td>6672700120</td>\n",
       "      <td>98052</td>\n",
       "      <td>autumn</td>\n",
       "      <td>459000.00</td>\n",
       "      <td>2</td>\n",
       "      <td>36720.00</td>\n",
       "      <td>596700.00</td>\n",
       "      <td>100980.00</td>\n",
       "    </tr>\n",
       "    <tr>\n",
       "      <th>9</th>\n",
       "      <td>1868901275</td>\n",
       "      <td>98115</td>\n",
       "      <td>winter</td>\n",
       "      <td>455000.00</td>\n",
       "      <td>2</td>\n",
       "      <td>36400.00</td>\n",
       "      <td>591500.00</td>\n",
       "      <td>100100.00</td>\n",
       "    </tr>\n",
       "    <tr>\n",
       "      <th>10</th>\n",
       "      <td>9187200245</td>\n",
       "      <td>98122</td>\n",
       "      <td>winter</td>\n",
       "      <td>441000.00</td>\n",
       "      <td>1</td>\n",
       "      <td>44100.00</td>\n",
       "      <td>573300.00</td>\n",
       "      <td>88200.00</td>\n",
       "    </tr>\n",
       "    <tr>\n",
       "      <th>11</th>\n",
       "      <td>9187200095</td>\n",
       "      <td>98122</td>\n",
       "      <td>autumn</td>\n",
       "      <td>432500.00</td>\n",
       "      <td>1</td>\n",
       "      <td>43250.00</td>\n",
       "      <td>562250.00</td>\n",
       "      <td>86500.00</td>\n",
       "    </tr>\n",
       "    <tr>\n",
       "      <th>12</th>\n",
       "      <td>2767800065</td>\n",
       "      <td>98107</td>\n",
       "      <td>winter</td>\n",
       "      <td>429000.00</td>\n",
       "      <td>2</td>\n",
       "      <td>34320.00</td>\n",
       "      <td>557700.00</td>\n",
       "      <td>94380.00</td>\n",
       "    </tr>\n",
       "    <tr>\n",
       "      <th>13</th>\n",
       "      <td>2128000160</td>\n",
       "      <td>98033</td>\n",
       "      <td>autumn</td>\n",
       "      <td>429000.00</td>\n",
       "      <td>2</td>\n",
       "      <td>34320.00</td>\n",
       "      <td>557700.00</td>\n",
       "      <td>94380.00</td>\n",
       "    </tr>\n",
       "    <tr>\n",
       "      <th>14</th>\n",
       "      <td>5015001680</td>\n",
       "      <td>98112</td>\n",
       "      <td>spring</td>\n",
       "      <td>427000.00</td>\n",
       "      <td>1</td>\n",
       "      <td>42700.00</td>\n",
       "      <td>555100.00</td>\n",
       "      <td>85400.00</td>\n",
       "    </tr>\n",
       "    <tr>\n",
       "      <th>15</th>\n",
       "      <td>2425700022</td>\n",
       "      <td>98004</td>\n",
       "      <td>autumn</td>\n",
       "      <td>425000.00</td>\n",
       "      <td>2</td>\n",
       "      <td>34000.00</td>\n",
       "      <td>552500.00</td>\n",
       "      <td>93500.00</td>\n",
       "    </tr>\n",
       "    <tr>\n",
       "      <th>16</th>\n",
       "      <td>7518505160</td>\n",
       "      <td>98117</td>\n",
       "      <td>autumn</td>\n",
       "      <td>417000.00</td>\n",
       "      <td>2</td>\n",
       "      <td>33360.00</td>\n",
       "      <td>542100.00</td>\n",
       "      <td>91740.00</td>\n",
       "    </tr>\n",
       "    <tr>\n",
       "      <th>17</th>\n",
       "      <td>6817800330</td>\n",
       "      <td>98074</td>\n",
       "      <td>summer</td>\n",
       "      <td>405000.00</td>\n",
       "      <td>2</td>\n",
       "      <td>32400.00</td>\n",
       "      <td>526500.00</td>\n",
       "      <td>89100.00</td>\n",
       "    </tr>\n",
       "    <tr>\n",
       "      <th>18</th>\n",
       "      <td>6844702290</td>\n",
       "      <td>98115</td>\n",
       "      <td>spring</td>\n",
       "      <td>400000.00</td>\n",
       "      <td>2</td>\n",
       "      <td>32000.00</td>\n",
       "      <td>520000.00</td>\n",
       "      <td>88000.00</td>\n",
       "    </tr>\n",
       "    <tr>\n",
       "      <th>19</th>\n",
       "      <td>2206900065</td>\n",
       "      <td>98006</td>\n",
       "      <td>spring</td>\n",
       "      <td>380000.00</td>\n",
       "      <td>1</td>\n",
       "      <td>38000.00</td>\n",
       "      <td>494000.00</td>\n",
       "      <td>76000.00</td>\n",
       "    </tr>\n",
       "    <tr>\n",
       "      <th>20</th>\n",
       "      <td>5175800060</td>\n",
       "      <td>98006</td>\n",
       "      <td>summer</td>\n",
       "      <td>365000.00</td>\n",
       "      <td>1</td>\n",
       "      <td>36500.00</td>\n",
       "      <td>474500.00</td>\n",
       "      <td>73000.00</td>\n",
       "    </tr>\n",
       "  </tbody>\n",
       "</table>\n",
       "</div>"
      ],
      "text/plain": [
       "            id  zipcode  season     price  condition  renovate_cost  \\\n",
       "0   3623500135    98040  spring 800000.00          2       64000.00   \n",
       "1   5459500165    98040  summer 623000.00          2       49840.00   \n",
       "2   6788200605    98112  winter 575000.00          2       46000.00   \n",
       "3   6072760390    98006  spring 547500.00          2       43800.00   \n",
       "4   3886902445    98033  winter 535000.00          1       53500.00   \n",
       "5   3578400950    98074  summer 492450.00          2       39396.00   \n",
       "6   6205500030    98005  autumn 480000.00          2       38400.00   \n",
       "7   9828701745    98112  winter 480000.00          2       38400.00   \n",
       "8   6672700120    98052  autumn 459000.00          2       36720.00   \n",
       "9   1868901275    98115  winter 455000.00          2       36400.00   \n",
       "10  9187200245    98122  winter 441000.00          1       44100.00   \n",
       "11  9187200095    98122  autumn 432500.00          1       43250.00   \n",
       "12  2767800065    98107  winter 429000.00          2       34320.00   \n",
       "13  2128000160    98033  autumn 429000.00          2       34320.00   \n",
       "14  5015001680    98112  spring 427000.00          1       42700.00   \n",
       "15  2425700022    98004  autumn 425000.00          2       34000.00   \n",
       "16  7518505160    98117  autumn 417000.00          2       33360.00   \n",
       "17  6817800330    98074  summer 405000.00          2       32400.00   \n",
       "18  6844702290    98115  spring 400000.00          2       32000.00   \n",
       "19  2206900065    98006  spring 380000.00          1       38000.00   \n",
       "20  5175800060    98006  summer 365000.00          1       36500.00   \n",
       "\n",
       "    sell_price  profit_adjusted  \n",
       "0   1040000.00        176000.00  \n",
       "1    809900.00        137060.00  \n",
       "2    747500.00        126500.00  \n",
       "3    711750.00        120450.00  \n",
       "4    695500.00        107000.00  \n",
       "5    640185.00        108339.00  \n",
       "6    624000.00        105600.00  \n",
       "7    624000.00        105600.00  \n",
       "8    596700.00        100980.00  \n",
       "9    591500.00        100100.00  \n",
       "10   573300.00         88200.00  \n",
       "11   562250.00         86500.00  \n",
       "12   557700.00         94380.00  \n",
       "13   557700.00         94380.00  \n",
       "14   555100.00         85400.00  \n",
       "15   552500.00         93500.00  \n",
       "16   542100.00         91740.00  \n",
       "17   526500.00         89100.00  \n",
       "18   520000.00         88000.00  \n",
       "19   494000.00         76000.00  \n",
       "20   474500.00         73000.00  "
      ]
     },
     "execution_count": 256,
     "metadata": {},
     "output_type": "execute_result"
    }
   ],
   "source": [
    "#Imóveis para Reforma com maior ganho\n",
    "#O valor da reforma calculado: 8% do valor da compra de imóveis em condição 2 e 10% para imóveis em condições 1\n",
    "report3 = df5[(df5['best_season'] != 'no_season') & (df5['status'] == 'dont buy')]\n",
    "report3 = report3[report3['condition'] < 3].sort_values('profit',ascending=False)\n",
    "report3 = report3[['id', 'zipcode', 'season', 'price', 'price_median', 'condition', 'sell_price', 'profit', 'best_season']]\n",
    "sample3 = report3.iloc[0:21,:].copy().reset_index()\n",
    "sample3 = sample3.drop('index', axis=1)\n",
    "for i in range(len(sample3)):\n",
    "    if sample3.loc[i, 'condition'] == 2:\n",
    "        sample3.loc[i, 'renovate_cost'] = sample3.loc[i, 'price'] * 0.08\n",
    "    else:\n",
    "        sample3.loc[i, 'renovate_cost'] = sample3.loc[i, 'price'] * 0.10\n",
    "\n",
    "for i in range(len(sample3)):\n",
    "    sample3.loc[i, 'profit_adjusted'] = sample3.loc[i, 'profit'] - sample3.loc[i, 'renovate_cost']\n",
    "    \n",
    "sample3 = sample3[['id','zipcode','season','price','condition','renovate_cost','sell_price','profit_adjusted']]\n",
    "sample3"
   ]
  },
  {
   "cell_type": "code",
   "execution_count": 251,
   "metadata": {
    "ExecuteTime": {
     "end_time": "2021-07-12T20:57:44.710788Z",
     "start_time": "2021-07-12T20:57:44.683449Z"
    },
    "code_folding": [
     0
    ]
   },
   "outputs": [
    {
     "data": {
      "text/html": [
       "<div>\n",
       "<style scoped>\n",
       "    .dataframe tbody tr th:only-of-type {\n",
       "        vertical-align: middle;\n",
       "    }\n",
       "\n",
       "    .dataframe tbody tr th {\n",
       "        vertical-align: top;\n",
       "    }\n",
       "\n",
       "    .dataframe thead th {\n",
       "        text-align: right;\n",
       "    }\n",
       "</style>\n",
       "<table border=\"1\" class=\"dataframe\">\n",
       "  <thead>\n",
       "    <tr style=\"text-align: right;\">\n",
       "      <th></th>\n",
       "      <th>Valor USD</th>\n",
       "    </tr>\n",
       "  </thead>\n",
       "  <tbody>\n",
       "    <tr>\n",
       "      <th>Investimento Inicial</th>\n",
       "      <td>9997450.00</td>\n",
       "    </tr>\n",
       "    <tr>\n",
       "      <th>Investimento em reforma</th>\n",
       "      <td>851406.00</td>\n",
       "    </tr>\n",
       "    <tr>\n",
       "      <th>Lucro Esperado</th>\n",
       "      <td>2147829.00</td>\n",
       "    </tr>\n",
       "  </tbody>\n",
       "</table>\n",
       "</div>"
      ],
      "text/plain": [
       "                         Valor USD\n",
       "Investimento Inicial    9997450.00\n",
       "Investimento em reforma  851406.00\n",
       "Lucro Esperado          2147829.00"
      ]
     },
     "execution_count": 251,
     "metadata": {},
     "output_type": "execute_result"
    }
   ],
   "source": [
    "#Imóveis para Reforma com maior ganho / Investimento e Lucro Esperado\n",
    "dic3 = {\"Investimento Inicial\": sample3['price'].sum(),\n",
    "            \"Investimento em reforma\": sample3['renovate_cost'].sum(), 'Lucro Esperado': sample3['profit_adjusted'].sum()}\n",
    "capital3 = pd.Series(dic3).to_frame('Valor USD')\n",
    "capital3"
   ]
  },
  {
   "cell_type": "markdown",
   "metadata": {},
   "source": [
    "### 3.3.1 Hipóteses de negócio"
   ]
  },
  {
   "cell_type": "code",
   "execution_count": 269,
   "metadata": {
    "ExecuteTime": {
     "end_time": "2021-07-12T21:13:32.011190Z",
     "start_time": "2021-07-12T21:13:31.983848Z"
    }
   },
   "outputs": [
    {
     "name": "stdout",
     "output_type": "stream",
     "text": [
      "Hipóteses    Resultado    Tradução para negócio\n",
      "-----------  -----------  -------------------------------------------------------------------------------------\n",
      "H1           Verdadeiro   Investir em imóveis com vista para água.\n",
      "H2           Falsa        Investir em imóveis independente da data de construção.\n",
      "H3           Falsa        Investir em imóveis independente da existência ou não de porão.\n",
      "H4           Verdadeiro   Investir em imóveis com dois andares ou mais, caso tenha vista para água.\n",
      "H5           Verdadeira   Investir em imóveis reformados.\n",
      "H6           Verdadeira   Não investir em imóveis em más condições.\n",
      "H7           Verdadeira   Investir em imóveis com boas condições e grade alto.\n",
      "H8           Verdadeira   Há uma valorização de imóveis, quanto mais banheiros, demonstrando-se um bom negócio.\n",
      "H9           Falsa        Investir em meses onde o preço do imóvel é menor.\n",
      "H10          Verdadeira   Investir em imóveis com grade alto.\n"
     ]
    }
   ],
   "source": [
    "hipoteses = [['Hipóteses','Resultado','Tradução para negócio'],\n",
    "['H1','Verdadeiro','Investir em imóveis com vista para água.'],\n",
    "['H2','Falsa','Investir em imóveis independente da data de construção.'],\n",
    "['H3','Falsa','Investir em imóveis independente da existência ou não de porão.'],\n",
    "['H4','Verdadeiro','Investir em imóveis com dois andares ou mais, caso tenha vista para água.'],\n",
    "['H5','Verdadeira','Investir em imóveis reformados.'],\n",
    "['H6','Verdadeira','Não investir em imóveis em más condições.'],\n",
    "['H7','Verdadeira','Investir em imóveis com boas condições e grade alto.'],\n",
    "['H8','Verdadeira','Há uma valorização de imóveis, quanto mais banheiros, demonstrando-se um bom negócio.'],\n",
    "['H9','Falsa','Investir em meses onde o preço do imóvel é menor.'],\n",
    "['H10','Verdadeira','Investir em imóveis com grade alto.']]\n",
    "\n",
    "print(tabulate(hipoteses,headers='firstrow'))"
   ]
  }
 ],
 "metadata": {
  "kernelspec": {
   "display_name": "Python 3 (ipykernel)",
   "language": "python",
   "name": "python3"
  },
  "language_info": {
   "codemirror_mode": {
    "name": "ipython",
    "version": 3
   },
   "file_extension": ".py",
   "mimetype": "text/x-python",
   "name": "python",
   "nbconvert_exporter": "python",
   "pygments_lexer": "ipython3",
   "version": "3.8.5"
  }
 },
 "nbformat": 4,
 "nbformat_minor": 4
}
