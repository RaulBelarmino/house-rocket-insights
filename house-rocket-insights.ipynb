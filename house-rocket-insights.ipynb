{
 "cells": [
  {
   "cell_type": "markdown",
   "metadata": {},
   "source": [
    "# 0.0. IMPORTS "
   ]
  },
  {
   "cell_type": "code",
   "execution_count": 191,
   "metadata": {
    "ExecuteTime": {
     "end_time": "2021-08-10T21:23:12.306718Z",
     "start_time": "2021-08-10T21:23:12.285237Z"
    }
   },
   "outputs": [],
   "source": [
    "import math\n",
    "import warnings\n",
    "import pandas             as pd\n",
    "import numpy              as np\n",
    "import seaborn            as sns\n",
    "import ipywidgets         as widgets\n",
    "import matplotlib.pyplot  as plt\n",
    "\n",
    "from tabulate             import tabulate\n",
    "from collections          import Counter\n",
    "from IPython.display      import Image\n",
    "from matplotlib           import gridspec\n",
    "from datetime             import date, datetime\n",
    "from geopy                import distance\n",
    "from geopy.distance       import great_circle"
   ]
  },
  {
   "cell_type": "markdown",
   "metadata": {},
   "source": [
    "## 0.1. Helper Functions"
   ]
  },
  {
   "cell_type": "code",
   "execution_count": 190,
   "metadata": {
    "ExecuteTime": {
     "end_time": "2021-08-10T21:22:17.680726Z",
     "start_time": "2021-08-10T21:22:17.651425Z"
    },
    "code_folding": [
     0
    ]
   },
   "outputs": [],
   "source": [
    "def jupyter_settings():\n",
    "    %matplotlib inline\n",
    "\n",
    "    plt.style.use('ggplot')\n",
    "    plt.rcParams['figure.figsize'] = [20, 10]\n",
    "    plt.rcParams['font.size'] = 24\n",
    "\n",
    "    pd.options.display.max_columns = None\n",
    "    pd.options.display.max_rows = None\n",
    "    pd.options.display.float_format = '{:,.2f}'.format\n",
    "    pd.set_option('display.expand_frame_repr', False)\n",
    "    pd.set_option('display.max_columns', None)\n",
    "    pd.set_option('display.max_rows', None)\n",
    "    \n",
    "    warnings.filterwarnings('ignore')\n",
    "    warnings.simplefilter('ignore')\n",
    "\n",
    "    sns.set()\n",
    "    \n",
    "jupyter_settings()"
   ]
  },
  {
   "cell_type": "markdown",
   "metadata": {},
   "source": [
    "## 0.2. Loading data"
   ]
  },
  {
   "cell_type": "code",
   "execution_count": 3,
   "metadata": {
    "ExecuteTime": {
     "end_time": "2021-08-10T16:29:29.232377Z",
     "start_time": "2021-08-10T16:29:28.842744Z"
    }
   },
   "outputs": [],
   "source": [
    "data_raw = pd.read_csv('kc_house_data.csv')"
   ]
  },
  {
   "cell_type": "markdown",
   "metadata": {
    "heading_collapsed": true
   },
   "source": [
    "# 1.0. DATA DESCRIPTION"
   ]
  },
  {
   "cell_type": "code",
   "execution_count": 4,
   "metadata": {
    "ExecuteTime": {
     "end_time": "2021-08-10T16:29:29.263621Z",
     "start_time": "2021-08-10T16:29:29.238235Z"
    },
    "hidden": true
   },
   "outputs": [],
   "source": [
    "data = data_raw.copy()"
   ]
  },
  {
   "cell_type": "markdown",
   "metadata": {
    "hidden": true
   },
   "source": [
    "## 1.1. Data Dimensions"
   ]
  },
  {
   "cell_type": "code",
   "execution_count": 5,
   "metadata": {
    "ExecuteTime": {
     "end_time": "2021-08-10T16:29:29.418404Z",
     "start_time": "2021-08-10T16:29:29.270458Z"
    },
    "hidden": true
   },
   "outputs": [
    {
     "name": "stdout",
     "output_type": "stream",
     "text": [
      "Number of rows: 21613\n",
      "Number of cols: 21\n"
     ]
    }
   ],
   "source": [
    "raw_size = data.shape\n",
    "print('Number of rows:', raw_size[0])\n",
    "print('Number of cols:', raw_size[1])"
   ]
  },
  {
   "cell_type": "markdown",
   "metadata": {
    "hidden": true
   },
   "source": [
    "## 1.2. Data Types"
   ]
  },
  {
   "cell_type": "code",
   "execution_count": 6,
   "metadata": {
    "ExecuteTime": {
     "end_time": "2021-08-10T16:29:29.527290Z",
     "start_time": "2021-08-10T16:29:29.423282Z"
    },
    "hidden": true
   },
   "outputs": [],
   "source": [
    "data['date'] = pd.to_datetime(data['date'])\n",
    "data['bathrooms'] = data['bathrooms'].astype('int64')"
   ]
  },
  {
   "cell_type": "code",
   "execution_count": 7,
   "metadata": {
    "ExecuteTime": {
     "end_time": "2021-08-10T16:29:29.605404Z",
     "start_time": "2021-08-10T16:29:29.532166Z"
    },
    "hidden": true
   },
   "outputs": [
    {
     "data": {
      "text/plain": [
       "id                        int64\n",
       "date             datetime64[ns]\n",
       "price                   float64\n",
       "bedrooms                  int64\n",
       "bathrooms                 int64\n",
       "sqft_living               int64\n",
       "sqft_lot                  int64\n",
       "floors                  float64\n",
       "waterfront                int64\n",
       "view                      int64\n",
       "condition                 int64\n",
       "grade                     int64\n",
       "sqft_above                int64\n",
       "sqft_basement             int64\n",
       "yr_built                  int64\n",
       "yr_renovated              int64\n",
       "zipcode                   int64\n",
       "lat                     float64\n",
       "long                    float64\n",
       "sqft_living15             int64\n",
       "sqft_lot15                int64\n",
       "dtype: object"
      ]
     },
     "execution_count": 7,
     "metadata": {},
     "output_type": "execute_result"
    }
   ],
   "source": [
    "data.dtypes"
   ]
  },
  {
   "cell_type": "markdown",
   "metadata": {
    "hidden": true
   },
   "source": [
    "## 1.3. Data Cleaning"
   ]
  },
  {
   "cell_type": "markdown",
   "metadata": {
    "hidden": true
   },
   "source": [
    "### 1.3.1 Checando Dados sem registro"
   ]
  },
  {
   "cell_type": "code",
   "execution_count": 8,
   "metadata": {
    "ExecuteTime": {
     "end_time": "2021-08-10T16:29:29.683528Z",
     "start_time": "2021-08-10T16:29:29.612240Z"
    },
    "hidden": true
   },
   "outputs": [
    {
     "data": {
      "text/plain": [
       "id               0\n",
       "date             0\n",
       "price            0\n",
       "bedrooms         0\n",
       "bathrooms        0\n",
       "sqft_living      0\n",
       "sqft_lot         0\n",
       "floors           0\n",
       "waterfront       0\n",
       "view             0\n",
       "condition        0\n",
       "grade            0\n",
       "sqft_above       0\n",
       "sqft_basement    0\n",
       "yr_built         0\n",
       "yr_renovated     0\n",
       "zipcode          0\n",
       "lat              0\n",
       "long             0\n",
       "sqft_living15    0\n",
       "sqft_lot15       0\n",
       "dtype: int64"
      ]
     },
     "execution_count": 8,
     "metadata": {},
     "output_type": "execute_result"
    }
   ],
   "source": [
    "data.isna().sum()"
   ]
  },
  {
   "cell_type": "markdown",
   "metadata": {
    "hidden": true
   },
   "source": [
    "### 1.3.2. Duplicate Data"
   ]
  },
  {
   "cell_type": "code",
   "execution_count": 9,
   "metadata": {
    "ExecuteTime": {
     "end_time": "2021-08-10T16:29:29.839288Z",
     "start_time": "2021-08-10T16:29:29.690362Z"
    },
    "hidden": true
   },
   "outputs": [],
   "source": [
    "data = data.drop_duplicates(subset=['id'],  keep = 'last')"
   ]
  },
  {
   "cell_type": "code",
   "execution_count": 10,
   "metadata": {
    "ExecuteTime": {
     "end_time": "2021-08-10T16:29:29.901786Z",
     "start_time": "2021-08-10T16:29:29.844164Z"
    },
    "hidden": true
   },
   "outputs": [
    {
     "name": "stdout",
     "output_type": "stream",
     "text": [
      "Número de linhas: 21436\n",
      "Número de colunas: 21\n",
      "Duplicatas removidas: 177\n"
     ]
    }
   ],
   "source": [
    "print('Número de linhas:', data.shape[0])\n",
    "print('Número de colunas:', data.shape[1])\n",
    "print('Duplicatas removidas:', raw_size[0] - data.shape[0])"
   ]
  },
  {
   "cell_type": "markdown",
   "metadata": {
    "hidden": true
   },
   "source": [
    "## 1.4. Check Data Types "
   ]
  },
  {
   "cell_type": "code",
   "execution_count": 11,
   "metadata": {
    "ExecuteTime": {
     "end_time": "2021-08-10T16:29:30.011151Z",
     "start_time": "2021-08-10T16:29:29.909592Z"
    },
    "hidden": true
   },
   "outputs": [
    {
     "data": {
      "text/plain": [
       "id                        int64\n",
       "date             datetime64[ns]\n",
       "price                   float64\n",
       "bedrooms                  int64\n",
       "bathrooms                 int64\n",
       "sqft_living               int64\n",
       "sqft_lot                  int64\n",
       "floors                  float64\n",
       "waterfront                int64\n",
       "view                      int64\n",
       "condition                 int64\n",
       "grade                     int64\n",
       "sqft_above                int64\n",
       "sqft_basement             int64\n",
       "yr_built                  int64\n",
       "yr_renovated              int64\n",
       "zipcode                   int64\n",
       "lat                     float64\n",
       "long                    float64\n",
       "sqft_living15             int64\n",
       "sqft_lot15                int64\n",
       "dtype: object"
      ]
     },
     "execution_count": 11,
     "metadata": {},
     "output_type": "execute_result"
    }
   ],
   "source": [
    "data.dtypes"
   ]
  },
  {
   "cell_type": "markdown",
   "metadata": {
    "hidden": true
   },
   "source": [
    "## 1.5. Descriptive Statistical"
   ]
  },
  {
   "cell_type": "code",
   "execution_count": 12,
   "metadata": {
    "ExecuteTime": {
     "end_time": "2021-08-10T16:29:30.104902Z",
     "start_time": "2021-08-10T16:29:30.016031Z"
    },
    "hidden": true,
    "scrolled": true
   },
   "outputs": [],
   "source": [
    "num_attributes = data.select_dtypes(include=['int64','float64'])"
   ]
  },
  {
   "cell_type": "markdown",
   "metadata": {
    "hidden": true
   },
   "source": [
    "### 1.5.1. Numerical Attributes "
   ]
  },
  {
   "cell_type": "code",
   "execution_count": 13,
   "metadata": {
    "ExecuteTime": {
     "end_time": "2021-08-10T16:29:30.663959Z",
     "start_time": "2021-08-10T16:29:30.109780Z"
    },
    "hidden": true
   },
   "outputs": [
    {
     "data": {
      "text/html": [
       "<div>\n",
       "<style scoped>\n",
       "    .dataframe tbody tr th:only-of-type {\n",
       "        vertical-align: middle;\n",
       "    }\n",
       "\n",
       "    .dataframe tbody tr th {\n",
       "        vertical-align: top;\n",
       "    }\n",
       "\n",
       "    .dataframe thead th {\n",
       "        text-align: right;\n",
       "    }\n",
       "</style>\n",
       "<table border=\"1\" class=\"dataframe\">\n",
       "  <thead>\n",
       "    <tr style=\"text-align: right;\">\n",
       "      <th></th>\n",
       "      <th>attributes</th>\n",
       "      <th>min</th>\n",
       "      <th>max</th>\n",
       "      <th>range</th>\n",
       "      <th>mean</th>\n",
       "      <th>median</th>\n",
       "      <th>std</th>\n",
       "      <th>skew</th>\n",
       "      <th>kurtosis</th>\n",
       "    </tr>\n",
       "  </thead>\n",
       "  <tbody>\n",
       "    <tr>\n",
       "      <th>0</th>\n",
       "      <td>id</td>\n",
       "      <td>1000102.00</td>\n",
       "      <td>9900000190.00</td>\n",
       "      <td>9899000088.00</td>\n",
       "      <td>4580765328.18</td>\n",
       "      <td>3904921185.00</td>\n",
       "      <td>2876522535.73</td>\n",
       "      <td>0.24</td>\n",
       "      <td>-1.26</td>\n",
       "    </tr>\n",
       "    <tr>\n",
       "      <th>1</th>\n",
       "      <td>price</td>\n",
       "      <td>75000.00</td>\n",
       "      <td>7700000.00</td>\n",
       "      <td>7625000.00</td>\n",
       "      <td>541649.96</td>\n",
       "      <td>450000.00</td>\n",
       "      <td>367306.36</td>\n",
       "      <td>4.04</td>\n",
       "      <td>34.73</td>\n",
       "    </tr>\n",
       "    <tr>\n",
       "      <th>2</th>\n",
       "      <td>bedrooms</td>\n",
       "      <td>0.00</td>\n",
       "      <td>33.00</td>\n",
       "      <td>33.00</td>\n",
       "      <td>3.37</td>\n",
       "      <td>3.00</td>\n",
       "      <td>0.93</td>\n",
       "      <td>1.99</td>\n",
       "      <td>49.64</td>\n",
       "    </tr>\n",
       "    <tr>\n",
       "      <th>3</th>\n",
       "      <td>bathrooms</td>\n",
       "      <td>0.00</td>\n",
       "      <td>8.00</td>\n",
       "      <td>8.00</td>\n",
       "      <td>1.75</td>\n",
       "      <td>2.00</td>\n",
       "      <td>0.73</td>\n",
       "      <td>0.90</td>\n",
       "      <td>2.00</td>\n",
       "    </tr>\n",
       "    <tr>\n",
       "      <th>4</th>\n",
       "      <td>sqft_living</td>\n",
       "      <td>290.00</td>\n",
       "      <td>13540.00</td>\n",
       "      <td>13250.00</td>\n",
       "      <td>2082.70</td>\n",
       "      <td>1920.00</td>\n",
       "      <td>919.13</td>\n",
       "      <td>1.47</td>\n",
       "      <td>5.25</td>\n",
       "    </tr>\n",
       "    <tr>\n",
       "      <th>5</th>\n",
       "      <td>sqft_lot</td>\n",
       "      <td>520.00</td>\n",
       "      <td>1651359.00</td>\n",
       "      <td>1650839.00</td>\n",
       "      <td>15135.64</td>\n",
       "      <td>7614.00</td>\n",
       "      <td>41537.65</td>\n",
       "      <td>13.04</td>\n",
       "      <td>284.08</td>\n",
       "    </tr>\n",
       "    <tr>\n",
       "      <th>6</th>\n",
       "      <td>floors</td>\n",
       "      <td>1.00</td>\n",
       "      <td>3.50</td>\n",
       "      <td>2.50</td>\n",
       "      <td>1.50</td>\n",
       "      <td>1.50</td>\n",
       "      <td>0.54</td>\n",
       "      <td>0.61</td>\n",
       "      <td>-0.49</td>\n",
       "    </tr>\n",
       "    <tr>\n",
       "      <th>7</th>\n",
       "      <td>waterfront</td>\n",
       "      <td>0.00</td>\n",
       "      <td>1.00</td>\n",
       "      <td>1.00</td>\n",
       "      <td>0.01</td>\n",
       "      <td>0.00</td>\n",
       "      <td>0.09</td>\n",
       "      <td>11.34</td>\n",
       "      <td>126.55</td>\n",
       "    </tr>\n",
       "    <tr>\n",
       "      <th>8</th>\n",
       "      <td>view</td>\n",
       "      <td>0.00</td>\n",
       "      <td>4.00</td>\n",
       "      <td>4.00</td>\n",
       "      <td>0.24</td>\n",
       "      <td>0.00</td>\n",
       "      <td>0.77</td>\n",
       "      <td>3.39</td>\n",
       "      <td>10.83</td>\n",
       "    </tr>\n",
       "    <tr>\n",
       "      <th>9</th>\n",
       "      <td>condition</td>\n",
       "      <td>1.00</td>\n",
       "      <td>5.00</td>\n",
       "      <td>4.00</td>\n",
       "      <td>3.41</td>\n",
       "      <td>3.00</td>\n",
       "      <td>0.65</td>\n",
       "      <td>1.04</td>\n",
       "      <td>0.52</td>\n",
       "    </tr>\n",
       "    <tr>\n",
       "      <th>10</th>\n",
       "      <td>grade</td>\n",
       "      <td>1.00</td>\n",
       "      <td>13.00</td>\n",
       "      <td>12.00</td>\n",
       "      <td>7.66</td>\n",
       "      <td>7.00</td>\n",
       "      <td>1.17</td>\n",
       "      <td>0.77</td>\n",
       "      <td>1.19</td>\n",
       "    </tr>\n",
       "    <tr>\n",
       "      <th>11</th>\n",
       "      <td>sqft_above</td>\n",
       "      <td>290.00</td>\n",
       "      <td>9410.00</td>\n",
       "      <td>9120.00</td>\n",
       "      <td>1790.96</td>\n",
       "      <td>1560.00</td>\n",
       "      <td>829.01</td>\n",
       "      <td>1.44</td>\n",
       "      <td>3.40</td>\n",
       "    </tr>\n",
       "    <tr>\n",
       "      <th>12</th>\n",
       "      <td>sqft_basement</td>\n",
       "      <td>0.00</td>\n",
       "      <td>4820.00</td>\n",
       "      <td>4820.00</td>\n",
       "      <td>291.74</td>\n",
       "      <td>0.00</td>\n",
       "      <td>442.77</td>\n",
       "      <td>1.58</td>\n",
       "      <td>2.71</td>\n",
       "    </tr>\n",
       "    <tr>\n",
       "      <th>13</th>\n",
       "      <td>yr_built</td>\n",
       "      <td>1900.00</td>\n",
       "      <td>2015.00</td>\n",
       "      <td>115.00</td>\n",
       "      <td>1971.10</td>\n",
       "      <td>1975.00</td>\n",
       "      <td>29.38</td>\n",
       "      <td>-0.47</td>\n",
       "      <td>-0.65</td>\n",
       "    </tr>\n",
       "    <tr>\n",
       "      <th>14</th>\n",
       "      <td>yr_renovated</td>\n",
       "      <td>0.00</td>\n",
       "      <td>2015.00</td>\n",
       "      <td>2015.00</td>\n",
       "      <td>84.73</td>\n",
       "      <td>0.00</td>\n",
       "      <td>402.42</td>\n",
       "      <td>4.54</td>\n",
       "      <td>18.61</td>\n",
       "    </tr>\n",
       "    <tr>\n",
       "      <th>15</th>\n",
       "      <td>zipcode</td>\n",
       "      <td>98001.00</td>\n",
       "      <td>98199.00</td>\n",
       "      <td>198.00</td>\n",
       "      <td>98077.86</td>\n",
       "      <td>98065.00</td>\n",
       "      <td>53.47</td>\n",
       "      <td>0.41</td>\n",
       "      <td>-0.85</td>\n",
       "    </tr>\n",
       "    <tr>\n",
       "      <th>16</th>\n",
       "      <td>lat</td>\n",
       "      <td>47.16</td>\n",
       "      <td>47.78</td>\n",
       "      <td>0.62</td>\n",
       "      <td>47.56</td>\n",
       "      <td>47.57</td>\n",
       "      <td>0.14</td>\n",
       "      <td>-0.49</td>\n",
       "      <td>-0.67</td>\n",
       "    </tr>\n",
       "    <tr>\n",
       "      <th>17</th>\n",
       "      <td>long</td>\n",
       "      <td>-122.52</td>\n",
       "      <td>-121.31</td>\n",
       "      <td>1.20</td>\n",
       "      <td>-122.21</td>\n",
       "      <td>-122.23</td>\n",
       "      <td>0.14</td>\n",
       "      <td>0.88</td>\n",
       "      <td>1.05</td>\n",
       "    </tr>\n",
       "    <tr>\n",
       "      <th>18</th>\n",
       "      <td>sqft_living15</td>\n",
       "      <td>399.00</td>\n",
       "      <td>6210.00</td>\n",
       "      <td>5811.00</td>\n",
       "      <td>1988.31</td>\n",
       "      <td>1840.00</td>\n",
       "      <td>685.68</td>\n",
       "      <td>1.11</td>\n",
       "      <td>1.59</td>\n",
       "    </tr>\n",
       "    <tr>\n",
       "      <th>19</th>\n",
       "      <td>sqft_lot15</td>\n",
       "      <td>651.00</td>\n",
       "      <td>871200.00</td>\n",
       "      <td>870549.00</td>\n",
       "      <td>12785.96</td>\n",
       "      <td>7620.00</td>\n",
       "      <td>27374.83</td>\n",
       "      <td>9.50</td>\n",
       "      <td>150.32</td>\n",
       "    </tr>\n",
       "  </tbody>\n",
       "</table>\n",
       "</div>"
      ],
      "text/plain": [
       "       attributes        min           max         range          mean  \\\n",
       "0              id 1000102.00 9900000190.00 9899000088.00 4580765328.18   \n",
       "1           price   75000.00    7700000.00    7625000.00     541649.96   \n",
       "2        bedrooms       0.00         33.00         33.00          3.37   \n",
       "3       bathrooms       0.00          8.00          8.00          1.75   \n",
       "4     sqft_living     290.00      13540.00      13250.00       2082.70   \n",
       "5        sqft_lot     520.00    1651359.00    1650839.00      15135.64   \n",
       "6          floors       1.00          3.50          2.50          1.50   \n",
       "7      waterfront       0.00          1.00          1.00          0.01   \n",
       "8            view       0.00          4.00          4.00          0.24   \n",
       "9       condition       1.00          5.00          4.00          3.41   \n",
       "10          grade       1.00         13.00         12.00          7.66   \n",
       "11     sqft_above     290.00       9410.00       9120.00       1790.96   \n",
       "12  sqft_basement       0.00       4820.00       4820.00        291.74   \n",
       "13       yr_built    1900.00       2015.00        115.00       1971.10   \n",
       "14   yr_renovated       0.00       2015.00       2015.00         84.73   \n",
       "15        zipcode   98001.00      98199.00        198.00      98077.86   \n",
       "16            lat      47.16         47.78          0.62         47.56   \n",
       "17           long    -122.52       -121.31          1.20       -122.21   \n",
       "18  sqft_living15     399.00       6210.00       5811.00       1988.31   \n",
       "19     sqft_lot15     651.00     871200.00     870549.00      12785.96   \n",
       "\n",
       "          median           std  skew  kurtosis  \n",
       "0  3904921185.00 2876522535.73  0.24     -1.26  \n",
       "1      450000.00     367306.36  4.04     34.73  \n",
       "2           3.00          0.93  1.99     49.64  \n",
       "3           2.00          0.73  0.90      2.00  \n",
       "4        1920.00        919.13  1.47      5.25  \n",
       "5        7614.00      41537.65 13.04    284.08  \n",
       "6           1.50          0.54  0.61     -0.49  \n",
       "7           0.00          0.09 11.34    126.55  \n",
       "8           0.00          0.77  3.39     10.83  \n",
       "9           3.00          0.65  1.04      0.52  \n",
       "10          7.00          1.17  0.77      1.19  \n",
       "11       1560.00        829.01  1.44      3.40  \n",
       "12          0.00        442.77  1.58      2.71  \n",
       "13       1975.00         29.38 -0.47     -0.65  \n",
       "14          0.00        402.42  4.54     18.61  \n",
       "15      98065.00         53.47  0.41     -0.85  \n",
       "16         47.57          0.14 -0.49     -0.67  \n",
       "17       -122.23          0.14  0.88      1.05  \n",
       "18       1840.00        685.68  1.11      1.59  \n",
       "19       7620.00      27374.83  9.50    150.32  "
      ]
     },
     "execution_count": 13,
     "metadata": {},
     "output_type": "execute_result"
    }
   ],
   "source": [
    "# central tedency\n",
    "ct1 = pd.DataFrame(num_attributes.apply(np.mean)).T\n",
    "ct2 = pd.DataFrame(num_attributes.apply(np.median)).T\n",
    "\n",
    "# dispersion\n",
    "d1 = pd.DataFrame(num_attributes.apply(np.std)).T\n",
    "d2 = pd.DataFrame(num_attributes.apply(min)).T\n",
    "d3 = pd.DataFrame(num_attributes.apply(max)).T\n",
    "d4 = pd.DataFrame(num_attributes.apply(lambda x: x.max() - x.min())).T\n",
    "d5 = pd.DataFrame(num_attributes.apply(lambda x: x.skew())).T\n",
    "d6 = pd.DataFrame(num_attributes.apply(lambda x: x.kurtosis())).T\n",
    "\n",
    "# concat\n",
    "\n",
    "m = pd.concat([d2, d3, d4, ct1, ct2, d1, d5, d6]).T.reset_index()\n",
    "m.columns = ['attributes','min','max','range','mean','median','std','skew','kurtosis']\n",
    "m"
   ]
  },
  {
   "cell_type": "markdown",
   "metadata": {
    "hidden": true
   },
   "source": [
    "## 1.6. Check Error or Outliers"
   ]
  },
  {
   "cell_type": "code",
   "execution_count": 14,
   "metadata": {
    "ExecuteTime": {
     "end_time": "2021-08-10T16:29:30.959838Z",
     "start_time": "2021-08-10T16:29:30.669324Z"
    },
    "hidden": true
   },
   "outputs": [
    {
     "data": {
      "text/html": [
       "<div>\n",
       "<style scoped>\n",
       "    .dataframe tbody tr th:only-of-type {\n",
       "        vertical-align: middle;\n",
       "    }\n",
       "\n",
       "    .dataframe tbody tr th {\n",
       "        vertical-align: top;\n",
       "    }\n",
       "\n",
       "    .dataframe thead th {\n",
       "        text-align: right;\n",
       "    }\n",
       "</style>\n",
       "<table border=\"1\" class=\"dataframe\">\n",
       "  <thead>\n",
       "    <tr style=\"text-align: right;\">\n",
       "      <th></th>\n",
       "      <th>id</th>\n",
       "      <th>price</th>\n",
       "      <th>bedrooms</th>\n",
       "      <th>bathrooms</th>\n",
       "      <th>sqft_living</th>\n",
       "      <th>sqft_lot</th>\n",
       "    </tr>\n",
       "  </thead>\n",
       "  <tbody>\n",
       "    <tr>\n",
       "      <th>15870</th>\n",
       "      <td>2402100895</td>\n",
       "      <td>640000.00</td>\n",
       "      <td>33</td>\n",
       "      <td>1</td>\n",
       "      <td>1620</td>\n",
       "      <td>6000</td>\n",
       "    </tr>\n",
       "    <tr>\n",
       "      <th>8757</th>\n",
       "      <td>1773100755</td>\n",
       "      <td>520000.00</td>\n",
       "      <td>11</td>\n",
       "      <td>3</td>\n",
       "      <td>3000</td>\n",
       "      <td>4960</td>\n",
       "    </tr>\n",
       "    <tr>\n",
       "      <th>13314</th>\n",
       "      <td>627300145</td>\n",
       "      <td>1148000.00</td>\n",
       "      <td>10</td>\n",
       "      <td>5</td>\n",
       "      <td>4590</td>\n",
       "      <td>10920</td>\n",
       "    </tr>\n",
       "    <tr>\n",
       "      <th>15161</th>\n",
       "      <td>5566100170</td>\n",
       "      <td>650000.00</td>\n",
       "      <td>10</td>\n",
       "      <td>2</td>\n",
       "      <td>3610</td>\n",
       "      <td>11914</td>\n",
       "    </tr>\n",
       "    <tr>\n",
       "      <th>19254</th>\n",
       "      <td>8812401450</td>\n",
       "      <td>660000.00</td>\n",
       "      <td>10</td>\n",
       "      <td>3</td>\n",
       "      <td>2920</td>\n",
       "      <td>3745</td>\n",
       "    </tr>\n",
       "    <tr>\n",
       "      <th>4096</th>\n",
       "      <td>1997200215</td>\n",
       "      <td>599999.00</td>\n",
       "      <td>9</td>\n",
       "      <td>4</td>\n",
       "      <td>3830</td>\n",
       "      <td>6988</td>\n",
       "    </tr>\n",
       "    <tr>\n",
       "      <th>4235</th>\n",
       "      <td>2902200015</td>\n",
       "      <td>700000.00</td>\n",
       "      <td>9</td>\n",
       "      <td>3</td>\n",
       "      <td>3680</td>\n",
       "      <td>4400</td>\n",
       "    </tr>\n",
       "    <tr>\n",
       "      <th>6079</th>\n",
       "      <td>9822700190</td>\n",
       "      <td>1280000.00</td>\n",
       "      <td>9</td>\n",
       "      <td>4</td>\n",
       "      <td>3650</td>\n",
       "      <td>5000</td>\n",
       "    </tr>\n",
       "    <tr>\n",
       "      <th>8546</th>\n",
       "      <td>424049043</td>\n",
       "      <td>450000.00</td>\n",
       "      <td>9</td>\n",
       "      <td>7</td>\n",
       "      <td>4050</td>\n",
       "      <td>6504</td>\n",
       "    </tr>\n",
       "    <tr>\n",
       "      <th>16844</th>\n",
       "      <td>8823900290</td>\n",
       "      <td>1400000.00</td>\n",
       "      <td>9</td>\n",
       "      <td>4</td>\n",
       "      <td>4620</td>\n",
       "      <td>5508</td>\n",
       "    </tr>\n",
       "    <tr>\n",
       "      <th>18443</th>\n",
       "      <td>8823901445</td>\n",
       "      <td>934000.00</td>\n",
       "      <td>9</td>\n",
       "      <td>3</td>\n",
       "      <td>2820</td>\n",
       "      <td>4480</td>\n",
       "    </tr>\n",
       "  </tbody>\n",
       "</table>\n",
       "</div>"
      ],
      "text/plain": [
       "               id      price  bedrooms  bathrooms  sqft_living  sqft_lot\n",
       "15870  2402100895  640000.00        33          1         1620      6000\n",
       "8757   1773100755  520000.00        11          3         3000      4960\n",
       "13314   627300145 1148000.00        10          5         4590     10920\n",
       "15161  5566100170  650000.00        10          2         3610     11914\n",
       "19254  8812401450  660000.00        10          3         2920      3745\n",
       "4096   1997200215  599999.00         9          4         3830      6988\n",
       "4235   2902200015  700000.00         9          3         3680      4400\n",
       "6079   9822700190 1280000.00         9          4         3650      5000\n",
       "8546    424049043  450000.00         9          7         4050      6504\n",
       "16844  8823900290 1400000.00         9          4         4620      5508\n",
       "18443  8823901445  934000.00         9          3         2820      4480"
      ]
     },
     "execution_count": 14,
     "metadata": {},
     "output_type": "execute_result"
    }
   ],
   "source": [
    "# checking house attributes with 33 bedrooms\n",
    "data[data['bedrooms'] > 8].sort_values('bedrooms',ascending=False)[['id','price','bedrooms','bathrooms','sqft_living','sqft_lot']]"
   ]
  },
  {
   "cell_type": "markdown",
   "metadata": {
    "hidden": true
   },
   "source": [
    "### 1.6.1 Remove data error"
   ]
  },
  {
   "cell_type": "code",
   "execution_count": 15,
   "metadata": {
    "ExecuteTime": {
     "end_time": "2021-08-10T16:29:31.006717Z",
     "start_time": "2021-08-10T16:29:30.965700Z"
    },
    "hidden": true
   },
   "outputs": [],
   "source": [
    "# house with 33 bedrooms considered as error\n",
    "data = data.drop(15870, axis=0)"
   ]
  },
  {
   "cell_type": "markdown",
   "metadata": {
    "heading_collapsed": true
   },
   "source": [
    "# 2.0. FEATURE ENGINEERING"
   ]
  },
  {
   "cell_type": "code",
   "execution_count": 16,
   "metadata": {
    "ExecuteTime": {
     "end_time": "2021-08-10T16:29:31.084838Z",
     "start_time": "2021-08-10T16:29:31.011593Z"
    },
    "hidden": true
   },
   "outputs": [],
   "source": [
    "df = data.copy()"
   ]
  },
  {
   "cell_type": "markdown",
   "metadata": {
    "hidden": true
   },
   "source": [
    "## 2.1. Mind Map Hypotheses"
   ]
  },
  {
   "cell_type": "code",
   "execution_count": 17,
   "metadata": {
    "ExecuteTime": {
     "end_time": "2021-08-10T16:29:31.286483Z",
     "start_time": "2021-08-10T16:29:31.090692Z"
    },
    "hidden": true,
    "hide_input": true
   },
   "outputs": [
    {
     "data": {
      "image/png": "[encoded data removed]",
      "text/plain": [
       "<IPython.core.display.Image object>"
      ]
     },
     "execution_count": 17,
     "metadata": {},
     "output_type": "execute_result"
    }
   ],
   "source": [
    "Image('images\\MindMapHypotheses.png')"
   ]
  },
  {
   "cell_type": "markdown",
   "metadata": {
    "hidden": true
   },
   "source": [
    "### 2.1.1. Hypotheses Localization"
   ]
  },
  {
   "cell_type": "markdown",
   "metadata": {
    "ExecuteTime": {
     "end_time": "2021-08-03T21:15:18.538893Z",
     "start_time": "2021-08-03T21:15:18.507979Z"
    },
    "hidden": true
   },
   "source": [
    "**1.** Imóveis próximo a shoppings são mais caros.\n",
    "\n",
    "**2.** Imóveis próximos ao centro são mais caros.\n",
    "\n",
    "**3.** Imóveis próximos a escolas são mais caros.\n",
    "\n",
    "**4.** Imóveis em bairros onde a taxa de criminalidade é alta são mais baratos.\n",
    "\n",
    "**5.** Imóveis próximos ao lago com vista para água, deveriam ser 50% mais caros, na média, que imóveis próximos ao lago sem vista."
   ]
  },
  {
   "cell_type": "markdown",
   "metadata": {
    "hidden": true
   },
   "source": [
    "### 2.1.2. Hypotheses house attributes"
   ]
  },
  {
   "cell_type": "markdown",
   "metadata": {
    "ExecuteTime": {
     "end_time": "2021-08-03T21:15:18.538893Z",
     "start_time": "2021-08-03T21:15:18.507979Z"
    },
    "hidden": true
   },
   "source": [
    "**1.** Imóveis que possuem vista para água deveriam ser mais caros na média.\n",
    "\n",
    "**2.** Imóveis com data de construção menor que 1955 sem renovação deveriam ser mais baratos, na média.\n",
    "\n",
    "**3.** A mediana de preço de imóveis com 2 andares ou mais, com vista para água deveria ser mais alta, que imóveis com 1 andar e com vista para água.\n",
    "\n",
    "**4.** Imóveis renovados são 20% mais caros.\n",
    "\n",
    "**5.** Imóveis em más condições devem ser mais baratos que imóveis com boas condições.\n",
    "\n",
    "**6.** Há um aumento do preço em média de 10% a cada banheiro adicional.\n",
    "\n",
    "**7.** Quanto maior o atributo grade do imóvel, a média de preço deve ser maior.\n",
    "\n",
    "**8.** Imóveis de 3 quartos e 2 banheiros devem ser 10% mais caros que imóveis de 3 quartos e 1 banheiro.\n",
    "\n",
    "**9.** Imóveis com porão deveriam ser mais caros que imóveis sem porão."
   ]
  },
  {
   "cell_type": "markdown",
   "metadata": {
    "hidden": true
   },
   "source": [
    "### 2.1.3. Hypotheses temporal"
   ]
  },
  {
   "cell_type": "markdown",
   "metadata": {
    "ExecuteTime": {
     "end_time": "2021-08-03T21:15:18.538893Z",
     "start_time": "2021-08-03T21:15:18.507979Z"
    },
    "hidden": true
   },
   "source": [
    "**1.** Imóveis com mais dias disponíveis para venda deveriam ser mais baratos que a médiana da região\n",
    "\n",
    "**2.** Em períodos com alta demanda de mercado os imóveis são 5% mais caros\n",
    "\n",
    "**3.** Imóveis disponíveis no inverno são 5% mais baratos que imóveis disponíveis no verão."
   ]
  },
  {
   "cell_type": "markdown",
   "metadata": {
    "hidden": true
   },
   "source": [
    "### 2.1.4. Final List Hypotheses"
   ]
  },
  {
   "cell_type": "markdown",
   "metadata": {
    "hidden": true
   },
   "source": [
    "**1.** Imóveis que possuem vista para água deveriam ser mais caros na média.\n",
    "\n",
    "**2.** Imóveis com vista para água, deveriam ser 50% mais caros, na média, que imóveis próximos ao lago sem vista.\n",
    "\n",
    "**3.** Imóveis com data de construção menor que 1955 sem renovação deveriam ser mais baratos, na média.\n",
    "\n",
    "**4.** A mediana de preço de imóveis com 2 andares ou mais, com vista para água deveria ser mais alta, que imóveis com 1 andar e com vista para água.\n",
    "\n",
    "**5.** Imóveis renovados são 20% mais caros.\n",
    "\n",
    "**6.** Imóveis em más condições devem ser mais baratos que imóveis com boas condições.\n",
    "\n",
    "**7.** Há um aumento do preço em 10% a cada banheiro adicional.\n",
    "\n",
    "**8.** Quanto maior o atributo grade do imóvel, a média de preço deve ser maior.\n",
    "\n",
    "**9.** Imóveis de 3 quartos e 2 banheiros devem ser 10% mais caros que imóveis de 3 quartos e 1 banheiro.\n",
    "\n",
    "**10.** Imóveis com porão deveriam ser mais caros que imóveis sem porão.\n"
   ]
  },
  {
   "cell_type": "markdown",
   "metadata": {
    "ExecuteTime": {
     "end_time": "2021-08-04T20:49:05.306667Z",
     "start_time": "2021-08-04T20:49:05.286720Z"
    },
    "heading_collapsed": true,
    "hidden": true
   },
   "source": [
    "## 2.2. Feature Engineering"
   ]
  },
  {
   "cell_type": "code",
   "execution_count": 18,
   "metadata": {
    "ExecuteTime": {
     "end_time": "2021-08-10T16:29:58.716398Z",
     "start_time": "2021-08-10T16:29:31.292342Z"
    },
    "hidden": true
   },
   "outputs": [],
   "source": [
    "#built\n",
    "df['built'] = df['yr_built'].apply(lambda x: '<1955' if x <= 1955 else '>1955')\n",
    "#basement\n",
    "df['basement'] = df['sqft_basement'].apply(lambda x: True if x > 0 else False)\n",
    "#floor type\n",
    "df['floors_type'] = df['floors'].apply(lambda x: 'single-story' if x == 1 else 'two-story-or-more')\n",
    "#renovated\n",
    "df['renovated'] = df['yr_renovated'].apply(lambda x: 'yes' if x > 0 else 'no')\n",
    "#condition type\n",
    "df['condition_type'] = df['condition'].apply(lambda x: 'bad' if x <= 2 else 'good')\n",
    "#grade\n",
    "df['grade_design'] = df['grade'].apply(lambda x: 'bad' if x < 6 else 'good')\n",
    "\n",
    "#seasons\n",
    "def get_season(date):\n",
    "    year = str(date.year)\n",
    "    seasons = {'spring': pd.date_range(start='21/03/'+year, end='20/06/'+year),\n",
    "               'summer': pd.date_range(start='21/06/'+year, end='22/09/'+year),\n",
    "               'autumn': pd.date_range(start='23/09/'+year, end='20/12/'+year)}\n",
    "    if date in seasons['spring']:\n",
    "        return 'spring'\n",
    "    if date in seasons['summer']:\n",
    "        return 'summer'\n",
    "    if date in seasons['autumn']:\n",
    "        return 'autumn'\n",
    "    else:\n",
    "        return 'winter'\n",
    "    \n",
    "df['season'] = df.date.map(get_season)\n",
    "\n",
    "#sqft to m2\n",
    "#living\n",
    "df['m2_living'] = df['sqft_living'].apply(lambda x: x / 10.764)\n",
    "#lot\n",
    "df['m2_lot'] = df['sqft_lot'].apply(lambda x: x / 10.764)\n",
    "#above\n",
    "df['m2_above'] = df['sqft_above'].apply(lambda x: x / 10.764)\n",
    "#basement\n",
    "df['m2_basement'] = df['sqft_basement'].apply(lambda x: x / 10.764)\n",
    "\n",
    "#m2/price\n",
    "df['m2_price'] = df.apply(lambda x: x['price'] / x['m2_living'], axis=1)"
   ]
  },
  {
   "cell_type": "markdown",
   "metadata": {
    "heading_collapsed": true
   },
   "source": [
    "# 3.0. FILTERING VARIABLES"
   ]
  },
  {
   "cell_type": "code",
   "execution_count": 19,
   "metadata": {
    "ExecuteTime": {
     "end_time": "2021-08-10T16:29:58.747153Z",
     "start_time": "2021-08-10T16:29:58.716398Z"
    },
    "hidden": true
   },
   "outputs": [],
   "source": [
    "df1 = df.copy()"
   ]
  },
  {
   "cell_type": "code",
   "execution_count": 20,
   "metadata": {
    "ExecuteTime": {
     "end_time": "2021-08-10T16:29:58.809168Z",
     "start_time": "2021-08-10T16:29:58.753013Z"
    },
    "hidden": true
   },
   "outputs": [
    {
     "data": {
      "text/plain": [
       "Index(['id', 'date', 'price', 'bedrooms', 'bathrooms', 'sqft_living',\n",
       "       'sqft_lot', 'floors', 'waterfront', 'view', 'condition', 'grade',\n",
       "       'sqft_above', 'sqft_basement', 'yr_built', 'yr_renovated', 'zipcode',\n",
       "       'lat', 'long', 'sqft_living15', 'sqft_lot15', 'built', 'basement',\n",
       "       'floors_type', 'renovated', 'condition_type', 'grade_design', 'season',\n",
       "       'm2_living', 'm2_lot', 'm2_above', 'm2_basement', 'm2_price'],\n",
       "      dtype='object')"
      ]
     },
     "execution_count": 20,
     "metadata": {},
     "output_type": "execute_result"
    }
   ],
   "source": [
    "df1.columns"
   ]
  },
  {
   "cell_type": "markdown",
   "metadata": {
    "heading_collapsed": true,
    "hidden": true
   },
   "source": [
    "## 3.1. Select columns"
   ]
  },
  {
   "cell_type": "code",
   "execution_count": 21,
   "metadata": {
    "ExecuteTime": {
     "end_time": "2021-08-10T16:29:58.915602Z",
     "start_time": "2021-08-10T16:29:58.814530Z"
    },
    "hidden": true
   },
   "outputs": [],
   "source": [
    "cols_drop = ['sqft_living','sqft_lot','sqft_basement','sqft_above','sqft_living15','sqft_lot15','view']\n",
    "df1 = df1.drop(cols_drop, axis=1)\n",
    "df1 = df1[['id', 'date', 'season', 'price', 'bedrooms', 'bathrooms', 'm2_living', 'm2_lot', \n",
    "          'm2_above', 'm2_basement', 'm2_price', 'floors', 'waterfront', 'condition', \n",
    "          'grade', 'yr_built', 'yr_renovated', 'zipcode', 'lat','long', 'built', 'basement',\n",
    "          'floors_type', 'renovated', 'condition_type', 'grade_design']]"
   ]
  },
  {
   "cell_type": "markdown",
   "metadata": {},
   "source": [
    "# 4.0. EXPLORATION DATA ANALISYS"
   ]
  },
  {
   "cell_type": "code",
   "execution_count": 22,
   "metadata": {
    "ExecuteTime": {
     "end_time": "2021-08-10T16:29:58.992752Z",
     "start_time": "2021-08-10T16:29:58.922438Z"
    }
   },
   "outputs": [],
   "source": [
    "df2 = df1.copy()"
   ]
  },
  {
   "cell_type": "markdown",
   "metadata": {},
   "source": [
    "## 4.1. Univariate Analysis"
   ]
  },
  {
   "cell_type": "markdown",
   "metadata": {
    "heading_collapsed": true
   },
   "source": [
    "### 4.1.1. Response Variable"
   ]
  },
  {
   "cell_type": "code",
   "execution_count": 23,
   "metadata": {
    "ExecuteTime": {
     "end_time": "2021-08-10T16:30:00.336442Z",
     "start_time": "2021-08-10T16:29:59.001042Z"
    },
    "hidden": true
   },
   "outputs": [
    {
     "data": {
      "image/png": "[encoded data removed]",
      "text/plain": [
       "<Figure size 1440x720 with 1 Axes>"
      ]
     },
     "metadata": {},
     "output_type": "display_data"
    }
   ],
   "source": [
    "sns.distplot(df2['price'], kde=False);"
   ]
  },
  {
   "cell_type": "markdown",
   "metadata": {
    "heading_collapsed": true
   },
   "source": [
    "### 4.1.2. Numerical Variable"
   ]
  },
  {
   "cell_type": "code",
   "execution_count": 24,
   "metadata": {
    "ExecuteTime": {
     "end_time": "2021-08-10T16:30:09.400973Z",
     "start_time": "2021-08-10T16:30:00.343271Z"
    },
    "hidden": true
   },
   "outputs": [
    {
     "data": {
      "image/png": "[encoded data removed]",
      "text/plain": [
       "<Figure size 1440x720 with 20 Axes>"
      ]
     },
     "metadata": {},
     "output_type": "display_data"
    }
   ],
   "source": [
    "num_attributes2 = df2.select_dtypes(include=['int64','float64'])\n",
    "num_attributes2.hist(bins=25);"
   ]
  },
  {
   "cell_type": "markdown",
   "metadata": {},
   "source": [
    "### 4.1.1. Categorical Variable"
   ]
  },
  {
   "cell_type": "markdown",
   "metadata": {},
   "source": [
    "## 4.2. Bivariate Analysis"
   ]
  },
  {
   "cell_type": "markdown",
   "metadata": {
    "heading_collapsed": true
   },
   "source": [
    "### H1. Imóveis que possuem vista para água deveriam ser mais caros na média.\n",
    "**True** Imóveis com vista para água são mais caros na média."
   ]
  },
  {
   "cell_type": "code",
   "execution_count": 124,
   "metadata": {
    "ExecuteTime": {
     "end_time": "2021-08-10T18:38:11.161250Z",
     "start_time": "2021-08-10T18:38:10.604149Z"
    },
    "hidden": true,
    "hide_input": true
   },
   "outputs": [
    {
     "data": {
      "image/png": "[encoded data removed]",
      "text/plain": [
       "<Figure size 1440x720 with 1 Axes>"
      ]
     },
     "metadata": {},
     "output_type": "display_data"
    }
   ],
   "source": [
    "aux1 = df2[['waterfront','price']].groupby('waterfront').median().reset_index()\n",
    "\n",
    "sns.barplot(x='waterfront', y='price', data=aux1);"
   ]
  },
  {
   "cell_type": "markdown",
   "metadata": {
    "heading_collapsed": true
   },
   "source": [
    "### H2. Imóveis com vista para água deveriam ser 50% mais caros, na média, que imóveis próximos ao lago sem vista.\n",
    "\n",
    "*Para esta hipótese, irei realizar apenas a verificação de uma amostra dos dados, onde a amostra será baseada em imóveis mais próximos ao lake Washington. Nesse sentido foi realizado os seguintes passos:*\n",
    "1. Coleta de 4 pontos do lago em lat e long;\n",
    "2. realizar o cálculo de distância de todos os imóveis em relação ao lago (km);\n",
    "3. adotar premissas para verificar a distância mínima para comparação dos preços, **neste caso 5km**;\n",
    "4. realizar comparação de preço apenas dos imóveis com as premissas sendo respeitadas.\n",
    "\n",
    "**False,** apesar dos imóveis com vista serem mais caros, a diferença é cerca de 109%, na média, que imóveis próximos ao lago, porém sem vista."
   ]
  },
  {
   "cell_type": "code",
   "execution_count": 122,
   "metadata": {
    "ExecuteTime": {
     "end_time": "2021-08-10T18:35:38.187078Z",
     "start_time": "2021-08-10T18:35:32.650208Z"
    },
    "hidden": true,
    "hide_input": true
   },
   "outputs": [],
   "source": [
    "aux1 = df2.copy()\n",
    "\n",
    "# create string lat + long\n",
    "aux1['lat_long'] = aux1[['lat','long']].apply(lambda x: str(x['lat']) + ',' + str(x['long']), axis=1)\n",
    "\n",
    "# lat and long of 4 spots of lake washington\n",
    "lake_tuple1 = 47.508853,-122.219156\n",
    "lake_tuple2 = 47.593199,-122.228501\n",
    "lake_tuple3 = 47.667237,-122.232624\n",
    "lake_tuple4 = 47.744864,-122.269727\n",
    "\n",
    "# distance from Lake in km\n",
    "aux1['dist_fromlake1'] = aux1['lat_long'].apply(lambda x: great_circle(lake_tuple1, x).km)\n",
    "aux1['dist_fromlake2'] = aux1['lat_long'].apply(lambda x: great_circle(lake_tuple2, x).km)\n",
    "aux1['dist_fromlake3'] = aux1['lat_long'].apply(lambda x: great_circle(lake_tuple3, x).km)\n",
    "aux1['dist_fromlake4'] = aux1['lat_long'].apply(lambda x: great_circle(lake_tuple4, x).km)\n",
    "\n",
    "aux2 = aux1[(aux1['dist_fromlake1'] < 5 ) | (aux1['dist_fromlake2'] < 5 ) | (aux1['dist_fromlake3'] < 5 ) | (aux1['dist_fromlake4'] < 5 ) ]"
   ]
  },
  {
   "cell_type": "code",
   "execution_count": 123,
   "metadata": {
    "ExecuteTime": {
     "end_time": "2021-08-10T18:36:31.960570Z",
     "start_time": "2021-08-10T18:36:31.588999Z"
    },
    "hidden": true,
    "hide_input": true
   },
   "outputs": [
    {
     "data": {
      "image/png": "[encoded data removed]",
      "text/plain": [
       "<Figure size 1440x720 with 1 Axes>"
      ]
     },
     "metadata": {},
     "output_type": "display_data"
    }
   ],
   "source": [
    "aux3 = aux2[['waterfront','price']].groupby('waterfront').mean().reset_index()\n",
    "\n",
    "sns.barplot(x='waterfront',y='price',data=aux3);"
   ]
  },
  {
   "cell_type": "markdown",
   "metadata": {
    "heading_collapsed": true
   },
   "source": [
    "### H3. Imóveis com data de construção menor que 1955 sem renovação deveriam ser mais baratos, na média.\n",
    "**True** Imóveis que foram construídos antes de 1955 e não foram renovados são mais baratos em comparação aos outros imóveis."
   ]
  },
  {
   "cell_type": "code",
   "execution_count": 26,
   "metadata": {
    "ExecuteTime": {
     "end_time": "2021-08-10T16:30:10.505904Z",
     "start_time": "2021-08-10T16:30:09.842353Z"
    },
    "hidden": true,
    "hide_input": true
   },
   "outputs": [
    {
     "data": {
      "image/png": "[encoded data removed]",
      "text/plain": [
       "<Figure size 1440x720 with 1 Axes>"
      ]
     },
     "metadata": {},
     "output_type": "display_data"
    }
   ],
   "source": [
    "aux1 = df2[['built','renovated','price']].groupby(['built','renovated']).mean().reset_index()\n",
    "sns.barplot(x='built',y='price',hue='renovated',data=aux1);"
   ]
  },
  {
   "cell_type": "markdown",
   "metadata": {
    "heading_collapsed": true
   },
   "source": [
    "### H4. A mediana de preço de imóveis com 2 andares ou mais, com vista para água deveria ser mais alta, que imóveis com 1 andar e com vista para água.\n",
    "**True** Imóveis com vista para água com 2 andares ou mais, tem o preço mediano maior."
   ]
  },
  {
   "cell_type": "code",
   "execution_count": 27,
   "metadata": {
    "ExecuteTime": {
     "end_time": "2021-08-10T16:30:10.988784Z",
     "start_time": "2021-08-10T16:30:10.511756Z"
    },
    "hidden": true,
    "hide_input": true
   },
   "outputs": [
    {
     "data": {
      "image/png": "[encoded data removed]",
      "text/plain": [
       "<Figure size 1440x720 with 1 Axes>"
      ]
     },
     "metadata": {},
     "output_type": "display_data"
    }
   ],
   "source": [
    "aux1 = df2[df2['waterfront'] == 1]\n",
    "aux1 = aux1[['floors_type','waterfront','price']].groupby(['floors_type','waterfront']).median().reset_index()\n",
    "sns.barplot(x='floors_type',y='price', data=aux1);"
   ]
  },
  {
   "cell_type": "markdown",
   "metadata": {
    "heading_collapsed": true
   },
   "source": [
    "### H5. Imóveis renovados são 20% mais caros.\n",
    "**False** Imóveis renovados são aproximadamente 33% mais caros que imóveis não reformados, na mediana de preço."
   ]
  },
  {
   "cell_type": "code",
   "execution_count": 28,
   "metadata": {
    "ExecuteTime": {
     "end_time": "2021-08-10T16:30:11.424807Z",
     "start_time": "2021-08-10T16:30:10.996596Z"
    },
    "hidden": true,
    "hide_input": true
   },
   "outputs": [
    {
     "data": {
      "image/png": "[encoded data removed]",
      "text/plain": [
       "<Figure size 1440x720 with 1 Axes>"
      ]
     },
     "metadata": {},
     "output_type": "display_data"
    }
   ],
   "source": [
    "aux1 = df2[['renovated','price']].groupby('renovated').median().reset_index()\n",
    "sns.barplot(x='renovated',y='price', data=aux1);"
   ]
  },
  {
   "cell_type": "markdown",
   "metadata": {
    "heading_collapsed": true
   },
   "source": [
    "### H6. Imóveis em más condições devem ser mais baratos que imóveis com boas condições.\n",
    "**True** Imóveis em más condições apresentam uma média de preço menor que imóveis reformados."
   ]
  },
  {
   "cell_type": "code",
   "execution_count": 29,
   "metadata": {
    "ExecuteTime": {
     "end_time": "2021-08-10T16:30:11.813455Z",
     "start_time": "2021-08-10T16:30:11.429686Z"
    },
    "hidden": true,
    "hide_input": true
   },
   "outputs": [
    {
     "data": {
      "image/png": "[encoded data removed]",
      "text/plain": [
       "<Figure size 1440x720 with 1 Axes>"
      ]
     },
     "metadata": {},
     "output_type": "display_data"
    }
   ],
   "source": [
    "aux1 = df2[['condition_type','price']].groupby('condition_type').median().reset_index()\n",
    "sns.barplot(x='condition_type', y='price', data=aux1);"
   ]
  },
  {
   "cell_type": "markdown",
   "metadata": {
    "heading_collapsed": true
   },
   "source": [
    "### H7. Há um aumento do preço em média de 10% a cada banheiro adicional.\n",
    "**False** Por mais que exista um crescimento de preço por cada banheiro adicional, a porcentagem média é de aproximadamente 37%."
   ]
  },
  {
   "cell_type": "code",
   "execution_count": 30,
   "metadata": {
    "ExecuteTime": {
     "end_time": "2021-08-10T16:30:14.425647Z",
     "start_time": "2021-08-10T16:30:11.820298Z"
    },
    "hidden": true,
    "hide_input": true
   },
   "outputs": [
    {
     "data": {
      "image/png": "[encoded data removed]",
      "text/plain": [
       "<Figure size 1440x720 with 4 Axes>"
      ]
     },
     "metadata": {},
     "output_type": "display_data"
    }
   ],
   "source": [
    "aux1 = df2[['bathrooms', 'price']].groupby('bathrooms').mean().reset_index()\n",
    "X = aux1['bathrooms'].values\n",
    "Y = aux1['price'].values\n",
    "\n",
    "pct = aux1[['price']].pct_change().fillna(0).reset_index()\n",
    "pct.columns = ['bathrooms', 'price']\n",
    "p = round(pct['price'],2)\n",
    "\n",
    "plt.subplot(1,3,1)\n",
    "sns.barplot(X,Y)\n",
    "plt.xlabel(\"Bathrooms\")\n",
    "plt.ylabel(\"Price\")\n",
    "plt.title(\"Bar Plot with annotations\",fontsize=15)\n",
    "\n",
    "for i, label in enumerate(p):\n",
    "    plt.annotate(label, (X[i], Y[i]))\n",
    "\n",
    "plt.subplot(1,3,2)\n",
    "sns.regplot(x='bathrooms', y='price', data=aux1)\n",
    "    \n",
    "plt.subplot(1,3,3)\n",
    "sns.heatmap(aux1.corr(method='pearson'), annot=True, vmin=0)    \n",
    "\n",
    "plt.show()"
   ]
  },
  {
   "cell_type": "markdown",
   "metadata": {
    "heading_collapsed": true
   },
   "source": [
    "### H8. Quanto maior o atributo grade do imóvel, a média de preço deve ser maior.\n",
    "**True** Há um crescimento médio de aprox. 35% no preço em relação a nota, quanto maior, maior será o preço."
   ]
  },
  {
   "cell_type": "code",
   "execution_count": 188,
   "metadata": {
    "ExecuteTime": {
     "end_time": "2021-08-10T21:21:33.911173Z",
     "start_time": "2021-08-10T21:21:30.261928Z"
    },
    "hidden": true,
    "hide_input": true
   },
   "outputs": [
    {
     "data": {
      "image/png": "[encoded data removed]",
      "text/plain": [
       "<Figure size 1080x1080 with 5 Axes>"
      ]
     },
     "metadata": {},
     "output_type": "display_data"
    }
   ],
   "source": [
    "fig = plt.figure(figsize=(15,15))\n",
    "specs = gridspec.GridSpec(ncols= 2, nrows=2, figure=fig)\n",
    "\n",
    "ax1 = fig.add_subplot(specs[0,0])\n",
    "ax2 = fig.add_subplot(specs[0,1])\n",
    "ax3 = fig.add_subplot(specs[1,0]) \n",
    "ax4 = fig.add_subplot(specs[1,1]) \n",
    "\n",
    "aux1 = df2[['grade', 'price']].groupby('grade').mean().reset_index()\n",
    "aux1['grade'] = aux1['grade']\n",
    "sns.barplot(x='grade', y='price', data=aux1, ax=ax1)\n",
    "\n",
    "aux2 = df2[['grade', 'price']].groupby('grade').mean().reset_index()\n",
    "aux2['price'] = aux2['price'].pct_change()\n",
    "aux2['grade'] = aux2['grade'].astype(str)\n",
    "aux2['price'] = round(aux2['price'], 2) * 100\n",
    "aux2.columns = ['grade', 'porcentagem']\n",
    "sns.barplot(x='grade', y='porcentagem', data=aux2, ax=ax2)\n",
    "\n",
    "sns.heatmap(aux1.corr(method='pearson'),annot=True, vmin=0, ax=ax3)\n",
    "\n",
    "sns.regplot( x='grade', y='price', data=aux1, ax=ax4);"
   ]
  },
  {
   "cell_type": "markdown",
   "metadata": {},
   "source": [
    "### H9. Imóveis de 3 quartos e 2 banheiros devem ser 10% mais caros que imóveis de 3 quartos e 1 banheiro.\n",
    "**Falso** Os imóveis com 3 quartos e 2 banheiro são mais caros, porém aproximadamente 29%."
   ]
  },
  {
   "cell_type": "code",
   "execution_count": 189,
   "metadata": {
    "ExecuteTime": {
     "end_time": "2021-08-10T21:21:49.967597Z",
     "start_time": "2021-08-10T21:21:49.041846Z"
    },
    "hide_input": true
   },
   "outputs": [
    {
     "data": {
      "image/png": "[encoded data removed]",
      "text/plain": [
       "<Figure size 1440x720 with 3 Axes>"
      ]
     },
     "metadata": {},
     "output_type": "display_data"
    }
   ],
   "source": [
    "aux1 = df2[(df2['bedrooms'] == 3) & (df2['bathrooms'] <= 2) ]\n",
    "aux1 = aux1[aux1['bathrooms'] != 0]\n",
    "aux1 = aux1[['bathrooms','price']].groupby('bathrooms').mean().reset_index()\n",
    "\n",
    "aux2 = df2[['bathrooms','price']].groupby('bathrooms').median().reset_index()\n",
    "\n",
    "\n",
    "plt.subplot(1,2,1)\n",
    "sns.barplot(x='bathrooms',y='price',data=aux1)\n",
    "\n",
    "plt.subplot(1,2,2)\n",
    "sns.heatmap(aux2.corr(method='pearson'), annot=True);"
   ]
  },
  {
   "cell_type": "markdown",
   "metadata": {
    "heading_collapsed": true
   },
   "source": [
    "### H10. Imóveis com porão deveriam ser mais caros que imóveis sem porão.\n",
    "**True**"
   ]
  },
  {
   "cell_type": "code",
   "execution_count": 33,
   "metadata": {
    "ExecuteTime": {
     "end_time": "2021-08-10T16:30:19.290175Z",
     "start_time": "2021-08-10T16:30:18.876614Z"
    },
    "hidden": true,
    "hide_input": true
   },
   "outputs": [
    {
     "data": {
      "image/png": "[encoded data removed]",
      "text/plain": [
       "<Figure size 1440x720 with 1 Axes>"
      ]
     },
     "metadata": {},
     "output_type": "display_data"
    }
   ],
   "source": [
    "aux1 = df2[['basement','price']].groupby('basement').mean().reset_index()\n",
    "\n",
    "plt.subplot(1,2,1)\n",
    "sns.barplot(x='basement', y='price', data=aux1);"
   ]
  },
  {
   "cell_type": "markdown",
   "metadata": {},
   "source": [
    "## 4.3. Multvariate Analysis"
   ]
  },
  {
   "cell_type": "markdown",
   "metadata": {
    "heading_collapsed": true
   },
   "source": [
    "### 4.3.1  Numerical Attributes  "
   ]
  },
  {
   "cell_type": "code",
   "execution_count": 34,
   "metadata": {
    "ExecuteTime": {
     "end_time": "2021-08-10T16:30:20.747131Z",
     "start_time": "2021-08-10T16:30:19.296028Z"
    },
    "hidden": true,
    "hide_input": true
   },
   "outputs": [
    {
     "data": {
      "image/png": "[encoded data removed]",
      "text/plain": [
       "<Figure size 1440x720 with 2 Axes>"
      ]
     },
     "metadata": {},
     "output_type": "display_data"
    }
   ],
   "source": [
    "#Gerando matrix \n",
    "n = df2.select_dtypes(include=['int64','float64'])\n",
    "matrix = n.copy()\n",
    "matrix = matrix.drop(['id'], axis = 1)\n",
    "matrix = matrix.corr()\n",
    "\n",
    "#Gerando máscara\n",
    "mask = np.triu(np.ones_like(matrix, dtype=bool))\n",
    "\n",
    "#Gerando novo mapa de cores\n",
    "cmap = sns.diverging_palette(20, 220, 300, as_cmap=True)\n",
    "\n",
    "#Plotando matrix\n",
    "plt.subplot(1,2,1)\n",
    "sns.heatmap(matrix, mask=mask, cmap=cmap, vmin=-1, vmax=1, center=0,\n",
    "            square=True, linewidths=.5, cbar_kws={\"shrink\": .5});"
   ]
  },
  {
   "cell_type": "markdown",
   "metadata": {},
   "source": [
    "## 4.4. Hypotheses Overview"
   ]
  },
  {
   "cell_type": "code",
   "execution_count": 184,
   "metadata": {
    "ExecuteTime": {
     "end_time": "2021-08-10T20:11:31.855645Z",
     "start_time": "2021-08-10T20:11:31.825048Z"
    },
    "hide_input": true
   },
   "outputs": [
    {
     "name": "stdout",
     "output_type": "stream",
     "text": [
      "Hipóteses    Resultado    Relevância    Resumo\n",
      "-----------  -----------  ------------  ------------------------------------------------------------------------------------\n",
      "H1           Verdadeiro   Média         Imóveis com vista para água são mais caros na média.\n",
      "H2           Falsa        Alta          Apesar dos imóveis com vista serem mais caros, a diferença é cerca de 109%\n",
      "H3           Verdadeiro   Alta          Imóveis que foram construídos antes de 1955 e não foram renovados são mais baratos.\n",
      "H4           Verdadeiro   Média         Imóveis com vista para água com 2 andares ou mais, tem o preço mediano maior.\n",
      "H5           Falso        Média         Imóveis renovados são aproximadamente 33% mais caros na mediana de preço.\n",
      "H6           Verdadeira   Alta          Imóveis em más condições apresentam uma média de preço menor que imóveis reformados.\n",
      "H7           Falso        Baixa         Por mais que exista um crescimento a porcentagem média é de aproximadamente 37%.\n",
      "H8           Verdadeira   Baixa         Há um crescimento médio de aprox. 35% no preço em relação ao grade\n",
      "H9           Falsa        Média         Os imóveis com 3 quartos e 2 banheiro são mais caros, porém aproximadamente 29%.\n",
      "H10          Verdadeira   Baixa         Imóveis com porão são mais caros que imóveis sem porão\n"
     ]
    }
   ],
   "source": [
    "hipoteses = [['Hipóteses','Resultado','Relevância', 'Resumo'],\n",
    "['H1','Verdadeiro','Média', 'Imóveis com vista para água são mais caros na média.'],\n",
    "['H2','Falsa','Alta','Apesar dos imóveis com vista serem mais caros, a diferença é cerca de 109%'],\n",
    "['H3','Verdadeiro','Alta','Imóveis que foram construídos antes de 1955 e não foram renovados são mais baratos.'],\n",
    "['H4','Verdadeiro','Média', 'Imóveis com vista para água com 2 andares ou mais, tem o preço mediano maior.'],\n",
    "['H5','Falso','Média',' Imóveis renovados são aproximadamente 33% mais caros na mediana de preço.'],\n",
    "['H6','Verdadeira','Alta','Imóveis em más condições apresentam uma média de preço menor que imóveis reformados.'],\n",
    "['H7','Falso','Baixa','Por mais que exista um crescimento a porcentagem média é de aproximadamente 37%.'],\n",
    "['H8','Verdadeira','Baixa','Há um crescimento médio de aprox. 35% no preço em relação ao grade'],\n",
    "['H9','Falsa','Média','Os imóveis com 3 quartos e 2 banheiro são mais caros, porém aproximadamente 29%.'],\n",
    "['H10','Verdadeira','Baixa','Imóveis com porão são mais caros que imóveis sem porão']]\n",
    "\n",
    "print(tabulate(hipoteses,headers='firstrow'))"
   ]
  },
  {
   "cell_type": "markdown",
   "metadata": {
    "heading_collapsed": true
   },
   "source": [
    "# 5.0. SOLUTIONS FOR BUSINESS QUESTIONS"
   ]
  },
  {
   "cell_type": "code",
   "execution_count": 136,
   "metadata": {
    "ExecuteTime": {
     "end_time": "2021-08-10T19:14:36.591925Z",
     "start_time": "2021-08-10T19:14:36.581181Z"
    },
    "hidden": true
   },
   "outputs": [],
   "source": [
    "df3 = df2.copy()"
   ]
  },
  {
   "cell_type": "markdown",
   "metadata": {
    "hidden": true
   },
   "source": [
    "## 5.1. Quais são os imóveis que a House Rocket deveria comprar e por qual preço?"
   ]
  },
  {
   "cell_type": "markdown",
   "metadata": {
    "heading_collapsed": true,
    "hidden": true
   },
   "source": [
    "### 5.1.1. New Features and Filters conditions"
   ]
  },
  {
   "cell_type": "code",
   "execution_count": 155,
   "metadata": {
    "ExecuteTime": {
     "end_time": "2021-08-10T19:41:13.447237Z",
     "start_time": "2021-08-10T19:37:48.061296Z"
    },
    "code_folding": [],
    "hidden": true
   },
   "outputs": [],
   "source": [
    "df4 = df3.copy()\n",
    "\n",
    "# median by zipcode\n",
    "df4 = df4[['zipcode','price']].groupby('zipcode').median().reset_index()\n",
    "df4.columns = ['zipcode','price_median']\n",
    "\n",
    "df5 = pd.merge(df3, df4, on='zipcode', how='inner')  \n",
    "\n",
    "# filter by price_median and condition \n",
    "df5['status'] = 'NA'\n",
    "for i in range(len(df5)):\n",
    "    if (df5.loc[i, 'price'] < df5.loc[i, 'price_median']) & (df5.loc[i, 'condition'] > 2):\n",
    "        df5.loc[i, 'status'] = 'buy'\n",
    "    else:\n",
    "        df5.loc[i, 'status'] = 'dont buy'\n",
    "\n",
    "df6 = df5.copy()\n",
    "\n",
    "# median price by zipcode + season of availability date to buy\n",
    "df6 = df6[['zipcode','season','price']].groupby(['zipcode','season']).median().reset_index()\n",
    "df6.columns = ['zipcode','season','season_median']\n",
    "\n",
    "df7 = pd.merge(df5, df6, on=['zipcode','season'], how='inner')\n",
    "\n",
    "# median price of season \n",
    "df8 = df7[['zipcode','season','price']].groupby(['zipcode','season']).median().reset_index()\n",
    "df8 = df8.pivot(index='zipcode', columns='season', values='price').reset_index()\n",
    "\n",
    "df9 = pd.merge(df7, df8, on='zipcode', how='inner')\n",
    "\n",
    "# calculate sell price of houses based on the median price of season\n",
    "for i in range(len(df9)):\n",
    "    if df9.loc[i, 'price'] >= df9.loc[i, 'season_median']:\n",
    "        df9.loc[i, 'sell_price'] = (df9.loc[i, 'price'] * 0.10) + df9.loc[i, 'price']\n",
    "    else:\n",
    "        df9.loc[i, 'sell_price'] = (df9.loc[i, 'price'] * 0.30) + df9.loc[i, 'price']\n",
    "\n",
    "# selecting the best season to sell houses, based on median price of each season\n",
    "i = 0\n",
    "df9['best_season'] = ''\n",
    "while i < len(df9):\n",
    "    cols = ['autumn','spring','summer','winter']\n",
    "    if df9.loc[i, cols[0]] >= df9.loc[i, 'sell_price']:\n",
    "        df9.loc[i, 'best_season'] = df9.loc[i, 'best_season'] + 'autumn'\n",
    "    if df9.loc[i, cols[1]] >= df9.loc[i, 'sell_price']:\n",
    "        df9.loc[i, 'best_season'] = df9.loc[i, 'best_season'] + ',' + 'spring'\n",
    "    if df9.loc[i, cols[2]] >= df9.loc[i, 'sell_price']:\n",
    "        df9.loc[i, 'best_season'] = df9.loc[i, 'best_season'] + ',' + 'summer'\n",
    "    if df9.loc[i, cols[3]] >= df9.loc[i, 'sell_price']:\n",
    "        df9.loc[i, 'best_season'] = df9.loc[i, 'best_season'] + ',' + 'winter'\n",
    "    if df9.loc[i, 'best_season'] == '':\n",
    "        df9.loc[i, 'best_season'] = 'no_season'\n",
    "    i = i + 1\n",
    "\n",
    "# remove first comma of string\n",
    "for i in range(len(df9)):\n",
    "    df9.loc[i, 'best_season'] = df9.loc[i, 'best_season'].lstrip(',')        \n",
    "\n",
    "# expected profit\n",
    "df9['profit'] = df9['sell_price'] - df9['price']\n",
    "\n",
    "# houses to buy\n",
    "report = df9[['id', 'zipcode', 'season', 'price', 'price_median', 'status', 'sell_price', 'profit', 'best_season']]\n",
    "report = report[(report['best_season'] != 'no_season') & (report['status'] == 'buy')].sort_values('id', ascending=True)\n",
    "report = report[['id', 'zipcode', 'season', 'price', 'price_median', 'status', 'sell_price', 'profit']].reset_index(drop=True)"
   ]
  },
  {
   "cell_type": "code",
   "execution_count": 160,
   "metadata": {
    "ExecuteTime": {
     "end_time": "2021-08-10T19:42:54.884716Z",
     "start_time": "2021-08-10T19:42:53.092305Z"
    },
    "code_folding": [
     0
    ],
    "hidden": true
   },
   "outputs": [],
   "source": [
    "#Exportar para CSV\n",
    "#df9.to_csv('kc_houses_solution.csv', index=False)"
   ]
  },
  {
   "cell_type": "markdown",
   "metadata": {
    "hidden": true
   },
   "source": [
    "### 5.1.2 Solution 1 - Report"
   ]
  },
  {
   "cell_type": "code",
   "execution_count": 156,
   "metadata": {
    "ExecuteTime": {
     "end_time": "2021-08-10T19:41:13.522423Z",
     "start_time": "2021-08-10T19:41:13.447237Z"
    },
    "code_folding": [],
    "hidden": true,
    "hide_input": true,
    "scrolled": false
   },
   "outputs": [
    {
     "data": {
      "text/html": [
       "<div>\n",
       "<style scoped>\n",
       "    .dataframe tbody tr th:only-of-type {\n",
       "        vertical-align: middle;\n",
       "    }\n",
       "\n",
       "    .dataframe tbody tr th {\n",
       "        vertical-align: top;\n",
       "    }\n",
       "\n",
       "    .dataframe thead th {\n",
       "        text-align: right;\n",
       "    }\n",
       "</style>\n",
       "<table border=\"1\" class=\"dataframe\">\n",
       "  <thead>\n",
       "    <tr style=\"text-align: right;\">\n",
       "      <th></th>\n",
       "      <th>id</th>\n",
       "      <th>zipcode</th>\n",
       "      <th>season</th>\n",
       "      <th>price</th>\n",
       "      <th>price_median</th>\n",
       "      <th>status</th>\n",
       "      <th>sell_price</th>\n",
       "      <th>profit</th>\n",
       "    </tr>\n",
       "  </thead>\n",
       "  <tbody>\n",
       "    <tr>\n",
       "      <th>0</th>\n",
       "      <td>3800008</td>\n",
       "      <td>98178</td>\n",
       "      <td>winter</td>\n",
       "      <td>178000.00</td>\n",
       "      <td>279500.00</td>\n",
       "      <td>buy</td>\n",
       "      <td>231400.00</td>\n",
       "      <td>53400.00</td>\n",
       "    </tr>\n",
       "    <tr>\n",
       "      <th>1</th>\n",
       "      <td>7200179</td>\n",
       "      <td>98055</td>\n",
       "      <td>spring</td>\n",
       "      <td>175000.00</td>\n",
       "      <td>297225.00</td>\n",
       "      <td>buy</td>\n",
       "      <td>227500.00</td>\n",
       "      <td>52500.00</td>\n",
       "    </tr>\n",
       "    <tr>\n",
       "      <th>2</th>\n",
       "      <td>7400062</td>\n",
       "      <td>98118</td>\n",
       "      <td>spring</td>\n",
       "      <td>299800.00</td>\n",
       "      <td>370000.00</td>\n",
       "      <td>buy</td>\n",
       "      <td>389740.00</td>\n",
       "      <td>89940.00</td>\n",
       "    </tr>\n",
       "    <tr>\n",
       "      <th>3</th>\n",
       "      <td>7600065</td>\n",
       "      <td>98122</td>\n",
       "      <td>spring</td>\n",
       "      <td>465000.00</td>\n",
       "      <td>574000.00</td>\n",
       "      <td>buy</td>\n",
       "      <td>604500.00</td>\n",
       "      <td>139500.00</td>\n",
       "    </tr>\n",
       "    <tr>\n",
       "      <th>4</th>\n",
       "      <td>7600136</td>\n",
       "      <td>98122</td>\n",
       "      <td>summer</td>\n",
       "      <td>411000.00</td>\n",
       "      <td>574000.00</td>\n",
       "      <td>buy</td>\n",
       "      <td>534300.00</td>\n",
       "      <td>123300.00</td>\n",
       "    </tr>\n",
       "    <tr>\n",
       "      <th>...</th>\n",
       "      <td>...</td>\n",
       "      <td>...</td>\n",
       "      <td>...</td>\n",
       "      <td>...</td>\n",
       "      <td>...</td>\n",
       "      <td>...</td>\n",
       "      <td>...</td>\n",
       "      <td>...</td>\n",
       "    </tr>\n",
       "    <tr>\n",
       "      <th>5167</th>\n",
       "      <td>9834201215</td>\n",
       "      <td>98144</td>\n",
       "      <td>autumn</td>\n",
       "      <td>276000.00</td>\n",
       "      <td>452500.00</td>\n",
       "      <td>buy</td>\n",
       "      <td>358800.00</td>\n",
       "      <td>82800.00</td>\n",
       "    </tr>\n",
       "    <tr>\n",
       "      <th>5168</th>\n",
       "      <td>9834201366</td>\n",
       "      <td>98144</td>\n",
       "      <td>autumn</td>\n",
       "      <td>429900.00</td>\n",
       "      <td>452500.00</td>\n",
       "      <td>buy</td>\n",
       "      <td>472890.00</td>\n",
       "      <td>42990.00</td>\n",
       "    </tr>\n",
       "    <tr>\n",
       "      <th>5169</th>\n",
       "      <td>9834201470</td>\n",
       "      <td>98144</td>\n",
       "      <td>autumn</td>\n",
       "      <td>303000.00</td>\n",
       "      <td>452500.00</td>\n",
       "      <td>buy</td>\n",
       "      <td>393900.00</td>\n",
       "      <td>90900.00</td>\n",
       "    </tr>\n",
       "    <tr>\n",
       "      <th>5170</th>\n",
       "      <td>9895000040</td>\n",
       "      <td>98027</td>\n",
       "      <td>summer</td>\n",
       "      <td>399900.00</td>\n",
       "      <td>571000.00</td>\n",
       "      <td>buy</td>\n",
       "      <td>519870.00</td>\n",
       "      <td>119970.00</td>\n",
       "    </tr>\n",
       "    <tr>\n",
       "      <th>5171</th>\n",
       "      <td>9900000190</td>\n",
       "      <td>98166</td>\n",
       "      <td>autumn</td>\n",
       "      <td>268950.00</td>\n",
       "      <td>392500.00</td>\n",
       "      <td>buy</td>\n",
       "      <td>349635.00</td>\n",
       "      <td>80685.00</td>\n",
       "    </tr>\n",
       "  </tbody>\n",
       "</table>\n",
       "<p>5172 rows × 8 columns</p>\n",
       "</div>"
      ],
      "text/plain": [
       "              id  zipcode  season     price  price_median status  sell_price  \\\n",
       "0        3800008    98178  winter 178000.00     279500.00    buy   231400.00   \n",
       "1        7200179    98055  spring 175000.00     297225.00    buy   227500.00   \n",
       "2        7400062    98118  spring 299800.00     370000.00    buy   389740.00   \n",
       "3        7600065    98122  spring 465000.00     574000.00    buy   604500.00   \n",
       "4        7600136    98122  summer 411000.00     574000.00    buy   534300.00   \n",
       "...          ...      ...     ...       ...           ...    ...         ...   \n",
       "5167  9834201215    98144  autumn 276000.00     452500.00    buy   358800.00   \n",
       "5168  9834201366    98144  autumn 429900.00     452500.00    buy   472890.00   \n",
       "5169  9834201470    98144  autumn 303000.00     452500.00    buy   393900.00   \n",
       "5170  9895000040    98027  summer 399900.00     571000.00    buy   519870.00   \n",
       "5171  9900000190    98166  autumn 268950.00     392500.00    buy   349635.00   \n",
       "\n",
       "        profit  \n",
       "0     53400.00  \n",
       "1     52500.00  \n",
       "2     89940.00  \n",
       "3    139500.00  \n",
       "4    123300.00  \n",
       "...        ...  \n",
       "5167  82800.00  \n",
       "5168  42990.00  \n",
       "5169  90900.00  \n",
       "5170 119970.00  \n",
       "5171  80685.00  \n",
       "\n",
       "[5172 rows x 8 columns]"
      ]
     },
     "execution_count": 156,
     "metadata": {},
     "output_type": "execute_result"
    }
   ],
   "source": [
    "report"
   ]
  },
  {
   "cell_type": "markdown",
   "metadata": {
    "hidden": true
   },
   "source": [
    "## 5.2. Uma vez comprado, qual é o melhor momento para vendê-lo e por qual preço?"
   ]
  },
  {
   "cell_type": "markdown",
   "metadata": {
    "hidden": true
   },
   "source": [
    "### 5.2.1 Solution 2 - Report"
   ]
  },
  {
   "cell_type": "code",
   "execution_count": 164,
   "metadata": {
    "ExecuteTime": {
     "end_time": "2021-08-10T19:45:18.142632Z",
     "start_time": "2021-08-10T19:45:18.061570Z"
    },
    "hidden": true,
    "hide_input": true
   },
   "outputs": [
    {
     "data": {
      "text/html": [
       "<div>\n",
       "<style scoped>\n",
       "    .dataframe tbody tr th:only-of-type {\n",
       "        vertical-align: middle;\n",
       "    }\n",
       "\n",
       "    .dataframe tbody tr th {\n",
       "        vertical-align: top;\n",
       "    }\n",
       "\n",
       "    .dataframe thead th {\n",
       "        text-align: right;\n",
       "    }\n",
       "</style>\n",
       "<table border=\"1\" class=\"dataframe\">\n",
       "  <thead>\n",
       "    <tr style=\"text-align: right;\">\n",
       "      <th></th>\n",
       "      <th>id</th>\n",
       "      <th>zipcode</th>\n",
       "      <th>season</th>\n",
       "      <th>price</th>\n",
       "      <th>price_median</th>\n",
       "      <th>status</th>\n",
       "      <th>sell_price</th>\n",
       "      <th>profit</th>\n",
       "      <th>best_season</th>\n",
       "    </tr>\n",
       "  </thead>\n",
       "  <tbody>\n",
       "    <tr>\n",
       "      <th>0</th>\n",
       "      <td>3800008</td>\n",
       "      <td>98178</td>\n",
       "      <td>winter</td>\n",
       "      <td>178000.00</td>\n",
       "      <td>279500.00</td>\n",
       "      <td>buy</td>\n",
       "      <td>231400.00</td>\n",
       "      <td>53400.00</td>\n",
       "      <td>autumn,spring,summer,winter</td>\n",
       "    </tr>\n",
       "    <tr>\n",
       "      <th>1</th>\n",
       "      <td>34000005</td>\n",
       "      <td>98136</td>\n",
       "      <td>spring</td>\n",
       "      <td>343566.00</td>\n",
       "      <td>489950.00</td>\n",
       "      <td>buy</td>\n",
       "      <td>446635.80</td>\n",
       "      <td>103069.80</td>\n",
       "      <td>autumn,spring,summer,winter</td>\n",
       "    </tr>\n",
       "    <tr>\n",
       "      <th>2</th>\n",
       "      <td>66000070</td>\n",
       "      <td>98126</td>\n",
       "      <td>spring</td>\n",
       "      <td>315000.00</td>\n",
       "      <td>396587.50</td>\n",
       "      <td>buy</td>\n",
       "      <td>409500.00</td>\n",
       "      <td>94500.00</td>\n",
       "      <td>spring,winter</td>\n",
       "    </tr>\n",
       "    <tr>\n",
       "      <th>3</th>\n",
       "      <td>66000140</td>\n",
       "      <td>98126</td>\n",
       "      <td>autumn</td>\n",
       "      <td>398000.00</td>\n",
       "      <td>396587.50</td>\n",
       "      <td>dont buy</td>\n",
       "      <td>437800.00</td>\n",
       "      <td>39800.00</td>\n",
       "      <td>winter</td>\n",
       "    </tr>\n",
       "    <tr>\n",
       "      <th>4</th>\n",
       "      <td>84000105</td>\n",
       "      <td>98146</td>\n",
       "      <td>spring</td>\n",
       "      <td>255000.00</td>\n",
       "      <td>312000.00</td>\n",
       "      <td>buy</td>\n",
       "      <td>331500.00</td>\n",
       "      <td>76500.00</td>\n",
       "      <td>spring</td>\n",
       "    </tr>\n",
       "    <tr>\n",
       "      <th>...</th>\n",
       "      <td>...</td>\n",
       "      <td>...</td>\n",
       "      <td>...</td>\n",
       "      <td>...</td>\n",
       "      <td>...</td>\n",
       "      <td>...</td>\n",
       "      <td>...</td>\n",
       "      <td>...</td>\n",
       "      <td>...</td>\n",
       "    </tr>\n",
       "    <tr>\n",
       "      <th>1208</th>\n",
       "      <td>9528104360</td>\n",
       "      <td>98115</td>\n",
       "      <td>summer</td>\n",
       "      <td>435000.00</td>\n",
       "      <td>570000.00</td>\n",
       "      <td>buy</td>\n",
       "      <td>565500.00</td>\n",
       "      <td>130500.00</td>\n",
       "      <td>spring,winter</td>\n",
       "    </tr>\n",
       "    <tr>\n",
       "      <th>1209</th>\n",
       "      <td>9536601996</td>\n",
       "      <td>98198</td>\n",
       "      <td>spring</td>\n",
       "      <td>149500.00</td>\n",
       "      <td>266750.00</td>\n",
       "      <td>buy</td>\n",
       "      <td>194350.00</td>\n",
       "      <td>44850.00</td>\n",
       "      <td>autumn,spring,summer,winter</td>\n",
       "    </tr>\n",
       "    <tr>\n",
       "      <th>1210</th>\n",
       "      <td>9547201850</td>\n",
       "      <td>98115</td>\n",
       "      <td>summer</td>\n",
       "      <td>420000.00</td>\n",
       "      <td>570000.00</td>\n",
       "      <td>buy</td>\n",
       "      <td>546000.00</td>\n",
       "      <td>126000.00</td>\n",
       "      <td>autumn,spring,summer,winter</td>\n",
       "    </tr>\n",
       "    <tr>\n",
       "      <th>1211</th>\n",
       "      <td>9553200052</td>\n",
       "      <td>98115</td>\n",
       "      <td>spring</td>\n",
       "      <td>345000.00</td>\n",
       "      <td>570000.00</td>\n",
       "      <td>buy</td>\n",
       "      <td>448500.00</td>\n",
       "      <td>103500.00</td>\n",
       "      <td>autumn,spring,summer,winter</td>\n",
       "    </tr>\n",
       "    <tr>\n",
       "      <th>1212</th>\n",
       "      <td>9557200090</td>\n",
       "      <td>98136</td>\n",
       "      <td>autumn</td>\n",
       "      <td>399000.00</td>\n",
       "      <td>489950.00</td>\n",
       "      <td>buy</td>\n",
       "      <td>518700.00</td>\n",
       "      <td>119700.00</td>\n",
       "      <td>winter</td>\n",
       "    </tr>\n",
       "  </tbody>\n",
       "</table>\n",
       "<p>1213 rows × 9 columns</p>\n",
       "</div>"
      ],
      "text/plain": [
       "              id  zipcode  season     price  price_median    status  \\\n",
       "0        3800008    98178  winter 178000.00     279500.00       buy   \n",
       "1       34000005    98136  spring 343566.00     489950.00       buy   \n",
       "2       66000070    98126  spring 315000.00     396587.50       buy   \n",
       "3       66000140    98126  autumn 398000.00     396587.50  dont buy   \n",
       "4       84000105    98146  spring 255000.00     312000.00       buy   \n",
       "...          ...      ...     ...       ...           ...       ...   \n",
       "1208  9528104360    98115  summer 435000.00     570000.00       buy   \n",
       "1209  9536601996    98198  spring 149500.00     266750.00       buy   \n",
       "1210  9547201850    98115  summer 420000.00     570000.00       buy   \n",
       "1211  9553200052    98115  spring 345000.00     570000.00       buy   \n",
       "1212  9557200090    98136  autumn 399000.00     489950.00       buy   \n",
       "\n",
       "      sell_price    profit                  best_season  \n",
       "0      231400.00  53400.00  autumn,spring,summer,winter  \n",
       "1      446635.80 103069.80  autumn,spring,summer,winter  \n",
       "2      409500.00  94500.00                spring,winter  \n",
       "3      437800.00  39800.00                       winter  \n",
       "4      331500.00  76500.00                       spring  \n",
       "...          ...       ...                          ...  \n",
       "1208   565500.00 130500.00                spring,winter  \n",
       "1209   194350.00  44850.00  autumn,spring,summer,winter  \n",
       "1210   546000.00 126000.00  autumn,spring,summer,winter  \n",
       "1211   448500.00 103500.00  autumn,spring,summer,winter  \n",
       "1212   518700.00 119700.00                       winter  \n",
       "\n",
       "[1213 rows x 9 columns]"
      ]
     },
     "execution_count": 164,
     "metadata": {},
     "output_type": "execute_result"
    }
   ],
   "source": [
    "# report with best season to sell\n",
    "report2 = df9[['id', 'zipcode', 'season', 'price', 'price_median', 'status', 'sell_price', 'profit', 'best_season']]\n",
    "report2 = report2[(report2['best_season'] != 'no_season') & (report['status'] == 'buy')].sort_values('id', ascending=True)\n",
    "report2 = report2[['id', 'zipcode', 'season', 'price', 'price_median', 'status', 'sell_price', 'profit','best_season']].reset_index(drop=True)\n",
    "report2"
   ]
  },
  {
   "cell_type": "markdown",
   "metadata": {
    "hidden": true
   },
   "source": [
    "### 5.2.1 Solution 2 - Plot season frequency"
   ]
  },
  {
   "cell_type": "code",
   "execution_count": 166,
   "metadata": {
    "ExecuteTime": {
     "end_time": "2021-08-10T19:46:13.130953Z",
     "start_time": "2021-08-10T19:46:12.517201Z"
    },
    "hidden": true,
    "hide_input": true
   },
   "outputs": [
    {
     "data": {
      "image/png": "[encoded data removed]",
      "text/plain": [
       "<Figure size 1440x720 with 1 Axes>"
      ]
     },
     "metadata": {},
     "output_type": "display_data"
    }
   ],
   "source": [
    "#Além da melhor season estar indicada na coluna best_season da tabela anterior, a seguirm plot das seasons com maior recorrência\n",
    "season = report2.copy()\n",
    "season = season['best_season'].tolist()\n",
    "season = ','.join(season)\n",
    "season = season.split(',')\n",
    "season_count = Counter(season)\n",
    "season_count = pd.DataFrame(([season_count]))\n",
    "season_count = season_count.melt().sort_values('value', ascending=False)\n",
    "sns.barplot(data=season_count, x='variable', y='value');"
   ]
  },
  {
   "cell_type": "markdown",
   "metadata": {
    "hidden": true
   },
   "source": [
    "## 5.3. Resultados para o negócio"
   ]
  },
  {
   "cell_type": "markdown",
   "metadata": {
    "hidden": true
   },
   "source": [
    "Também foi realizado um filtro para sugerir a compra dos Top 20 imóveis, por **lucratividade**, por **baixo investimento** e um Bônus de **imóveis para reforma com maior ganho**."
   ]
  },
  {
   "cell_type": "markdown",
   "metadata": {
    "hidden": true
   },
   "source": [
    "### 5.3.1 Top 20 Houses with best profits"
   ]
  },
  {
   "cell_type": "code",
   "execution_count": 168,
   "metadata": {
    "ExecuteTime": {
     "end_time": "2021-08-10T19:50:00.281641Z",
     "start_time": "2021-08-10T19:50:00.236714Z"
    },
    "code_folding": [],
    "hidden": true,
    "hide_input": true
   },
   "outputs": [
    {
     "data": {
      "text/html": [
       "<div>\n",
       "<style scoped>\n",
       "    .dataframe tbody tr th:only-of-type {\n",
       "        vertical-align: middle;\n",
       "    }\n",
       "\n",
       "    .dataframe tbody tr th {\n",
       "        vertical-align: top;\n",
       "    }\n",
       "\n",
       "    .dataframe thead th {\n",
       "        text-align: right;\n",
       "    }\n",
       "</style>\n",
       "<table border=\"1\" class=\"dataframe\">\n",
       "  <thead>\n",
       "    <tr style=\"text-align: right;\">\n",
       "      <th></th>\n",
       "      <th>id</th>\n",
       "      <th>zipcode</th>\n",
       "      <th>season</th>\n",
       "      <th>price</th>\n",
       "      <th>price_median</th>\n",
       "      <th>status</th>\n",
       "      <th>sell_price</th>\n",
       "      <th>profit</th>\n",
       "      <th>best_season</th>\n",
       "    </tr>\n",
       "  </thead>\n",
       "  <tbody>\n",
       "    <tr>\n",
       "      <th>0</th>\n",
       "      <td>7511200020</td>\n",
       "      <td>98053</td>\n",
       "      <td>summer</td>\n",
       "      <td>509900.00</td>\n",
       "      <td>635000.00</td>\n",
       "      <td>buy</td>\n",
       "      <td>662870.00</td>\n",
       "      <td>152970.00</td>\n",
       "      <td>autumn,spring</td>\n",
       "    </tr>\n",
       "    <tr>\n",
       "      <th>1</th>\n",
       "      <td>8682282180</td>\n",
       "      <td>98053</td>\n",
       "      <td>autumn</td>\n",
       "      <td>509000.00</td>\n",
       "      <td>635000.00</td>\n",
       "      <td>buy</td>\n",
       "      <td>661700.00</td>\n",
       "      <td>152700.00</td>\n",
       "      <td>autumn,spring</td>\n",
       "    </tr>\n",
       "    <tr>\n",
       "      <th>2</th>\n",
       "      <td>8682250350</td>\n",
       "      <td>98053</td>\n",
       "      <td>autumn</td>\n",
       "      <td>507000.00</td>\n",
       "      <td>635000.00</td>\n",
       "      <td>buy</td>\n",
       "      <td>659100.00</td>\n",
       "      <td>152100.00</td>\n",
       "      <td>autumn,spring</td>\n",
       "    </tr>\n",
       "    <tr>\n",
       "      <th>3</th>\n",
       "      <td>8562901010</td>\n",
       "      <td>98074</td>\n",
       "      <td>autumn</td>\n",
       "      <td>505000.00</td>\n",
       "      <td>645000.00</td>\n",
       "      <td>buy</td>\n",
       "      <td>656500.00</td>\n",
       "      <td>151500.00</td>\n",
       "      <td>spring</td>\n",
       "    </tr>\n",
       "    <tr>\n",
       "      <th>4</th>\n",
       "      <td>8078430360</td>\n",
       "      <td>98074</td>\n",
       "      <td>autumn</td>\n",
       "      <td>505000.00</td>\n",
       "      <td>645000.00</td>\n",
       "      <td>buy</td>\n",
       "      <td>656500.00</td>\n",
       "      <td>151500.00</td>\n",
       "      <td>spring</td>\n",
       "    </tr>\n",
       "    <tr>\n",
       "      <th>5</th>\n",
       "      <td>2525069041</td>\n",
       "      <td>98053</td>\n",
       "      <td>summer</td>\n",
       "      <td>505000.00</td>\n",
       "      <td>635000.00</td>\n",
       "      <td>buy</td>\n",
       "      <td>656500.00</td>\n",
       "      <td>151500.00</td>\n",
       "      <td>autumn,spring</td>\n",
       "    </tr>\n",
       "    <tr>\n",
       "      <th>6</th>\n",
       "      <td>8682262240</td>\n",
       "      <td>98053</td>\n",
       "      <td>spring</td>\n",
       "      <td>505000.00</td>\n",
       "      <td>635000.00</td>\n",
       "      <td>buy</td>\n",
       "      <td>656500.00</td>\n",
       "      <td>151500.00</td>\n",
       "      <td>autumn,spring</td>\n",
       "    </tr>\n",
       "    <tr>\n",
       "      <th>7</th>\n",
       "      <td>8682260850</td>\n",
       "      <td>98053</td>\n",
       "      <td>summer</td>\n",
       "      <td>504975.00</td>\n",
       "      <td>635000.00</td>\n",
       "      <td>buy</td>\n",
       "      <td>656467.50</td>\n",
       "      <td>151492.50</td>\n",
       "      <td>autumn,spring</td>\n",
       "    </tr>\n",
       "    <tr>\n",
       "      <th>8</th>\n",
       "      <td>7715800430</td>\n",
       "      <td>98074</td>\n",
       "      <td>autumn</td>\n",
       "      <td>502000.00</td>\n",
       "      <td>645000.00</td>\n",
       "      <td>buy</td>\n",
       "      <td>652600.00</td>\n",
       "      <td>150600.00</td>\n",
       "      <td>spring</td>\n",
       "    </tr>\n",
       "    <tr>\n",
       "      <th>9</th>\n",
       "      <td>6902000100</td>\n",
       "      <td>98074</td>\n",
       "      <td>summer</td>\n",
       "      <td>500000.00</td>\n",
       "      <td>645000.00</td>\n",
       "      <td>buy</td>\n",
       "      <td>650000.00</td>\n",
       "      <td>150000.00</td>\n",
       "      <td>spring</td>\n",
       "    </tr>\n",
       "    <tr>\n",
       "      <th>10</th>\n",
       "      <td>1785400770</td>\n",
       "      <td>98074</td>\n",
       "      <td>summer</td>\n",
       "      <td>500000.00</td>\n",
       "      <td>645000.00</td>\n",
       "      <td>buy</td>\n",
       "      <td>650000.00</td>\n",
       "      <td>150000.00</td>\n",
       "      <td>spring</td>\n",
       "    </tr>\n",
       "    <tr>\n",
       "      <th>11</th>\n",
       "      <td>2413910190</td>\n",
       "      <td>98053</td>\n",
       "      <td>winter</td>\n",
       "      <td>500000.00</td>\n",
       "      <td>635000.00</td>\n",
       "      <td>buy</td>\n",
       "      <td>650000.00</td>\n",
       "      <td>150000.00</td>\n",
       "      <td>autumn,spring,summer</td>\n",
       "    </tr>\n",
       "    <tr>\n",
       "      <th>12</th>\n",
       "      <td>7504460200</td>\n",
       "      <td>98074</td>\n",
       "      <td>summer</td>\n",
       "      <td>500000.00</td>\n",
       "      <td>645000.00</td>\n",
       "      <td>buy</td>\n",
       "      <td>650000.00</td>\n",
       "      <td>150000.00</td>\n",
       "      <td>spring</td>\n",
       "    </tr>\n",
       "    <tr>\n",
       "      <th>13</th>\n",
       "      <td>3325069025</td>\n",
       "      <td>98074</td>\n",
       "      <td>spring</td>\n",
       "      <td>500000.00</td>\n",
       "      <td>645000.00</td>\n",
       "      <td>buy</td>\n",
       "      <td>650000.00</td>\n",
       "      <td>150000.00</td>\n",
       "      <td>spring</td>\n",
       "    </tr>\n",
       "    <tr>\n",
       "      <th>14</th>\n",
       "      <td>1939050110</td>\n",
       "      <td>98074</td>\n",
       "      <td>winter</td>\n",
       "      <td>500000.00</td>\n",
       "      <td>645000.00</td>\n",
       "      <td>buy</td>\n",
       "      <td>650000.00</td>\n",
       "      <td>150000.00</td>\n",
       "      <td>spring</td>\n",
       "    </tr>\n",
       "    <tr>\n",
       "      <th>15</th>\n",
       "      <td>3575302245</td>\n",
       "      <td>98074</td>\n",
       "      <td>spring</td>\n",
       "      <td>500000.00</td>\n",
       "      <td>645000.00</td>\n",
       "      <td>buy</td>\n",
       "      <td>650000.00</td>\n",
       "      <td>150000.00</td>\n",
       "      <td>spring</td>\n",
       "    </tr>\n",
       "    <tr>\n",
       "      <th>16</th>\n",
       "      <td>7202330030</td>\n",
       "      <td>98053</td>\n",
       "      <td>summer</td>\n",
       "      <td>500000.00</td>\n",
       "      <td>635000.00</td>\n",
       "      <td>buy</td>\n",
       "      <td>650000.00</td>\n",
       "      <td>150000.00</td>\n",
       "      <td>autumn,spring,summer</td>\n",
       "    </tr>\n",
       "    <tr>\n",
       "      <th>17</th>\n",
       "      <td>2561340020</td>\n",
       "      <td>98074</td>\n",
       "      <td>winter</td>\n",
       "      <td>500000.00</td>\n",
       "      <td>645000.00</td>\n",
       "      <td>buy</td>\n",
       "      <td>650000.00</td>\n",
       "      <td>150000.00</td>\n",
       "      <td>spring</td>\n",
       "    </tr>\n",
       "    <tr>\n",
       "      <th>18</th>\n",
       "      <td>7202340390</td>\n",
       "      <td>98053</td>\n",
       "      <td>spring</td>\n",
       "      <td>499000.00</td>\n",
       "      <td>635000.00</td>\n",
       "      <td>buy</td>\n",
       "      <td>648700.00</td>\n",
       "      <td>149700.00</td>\n",
       "      <td>autumn,spring,summer</td>\n",
       "    </tr>\n",
       "    <tr>\n",
       "      <th>19</th>\n",
       "      <td>8682310460</td>\n",
       "      <td>98053</td>\n",
       "      <td>summer</td>\n",
       "      <td>498800.00</td>\n",
       "      <td>635000.00</td>\n",
       "      <td>buy</td>\n",
       "      <td>648440.00</td>\n",
       "      <td>149640.00</td>\n",
       "      <td>autumn,spring,summer</td>\n",
       "    </tr>\n",
       "    <tr>\n",
       "      <th>20</th>\n",
       "      <td>7202340530</td>\n",
       "      <td>98053</td>\n",
       "      <td>spring</td>\n",
       "      <td>498000.00</td>\n",
       "      <td>635000.00</td>\n",
       "      <td>buy</td>\n",
       "      <td>647400.00</td>\n",
       "      <td>149400.00</td>\n",
       "      <td>autumn,spring,summer</td>\n",
       "    </tr>\n",
       "  </tbody>\n",
       "</table>\n",
       "</div>"
      ],
      "text/plain": [
       "            id  zipcode  season     price  price_median status  sell_price  \\\n",
       "0   7511200020    98053  summer 509900.00     635000.00    buy   662870.00   \n",
       "1   8682282180    98053  autumn 509000.00     635000.00    buy   661700.00   \n",
       "2   8682250350    98053  autumn 507000.00     635000.00    buy   659100.00   \n",
       "3   8562901010    98074  autumn 505000.00     645000.00    buy   656500.00   \n",
       "4   8078430360    98074  autumn 505000.00     645000.00    buy   656500.00   \n",
       "5   2525069041    98053  summer 505000.00     635000.00    buy   656500.00   \n",
       "6   8682262240    98053  spring 505000.00     635000.00    buy   656500.00   \n",
       "7   8682260850    98053  summer 504975.00     635000.00    buy   656467.50   \n",
       "8   7715800430    98074  autumn 502000.00     645000.00    buy   652600.00   \n",
       "9   6902000100    98074  summer 500000.00     645000.00    buy   650000.00   \n",
       "10  1785400770    98074  summer 500000.00     645000.00    buy   650000.00   \n",
       "11  2413910190    98053  winter 500000.00     635000.00    buy   650000.00   \n",
       "12  7504460200    98074  summer 500000.00     645000.00    buy   650000.00   \n",
       "13  3325069025    98074  spring 500000.00     645000.00    buy   650000.00   \n",
       "14  1939050110    98074  winter 500000.00     645000.00    buy   650000.00   \n",
       "15  3575302245    98074  spring 500000.00     645000.00    buy   650000.00   \n",
       "16  7202330030    98053  summer 500000.00     635000.00    buy   650000.00   \n",
       "17  2561340020    98074  winter 500000.00     645000.00    buy   650000.00   \n",
       "18  7202340390    98053  spring 499000.00     635000.00    buy   648700.00   \n",
       "19  8682310460    98053  summer 498800.00     635000.00    buy   648440.00   \n",
       "20  7202340530    98053  spring 498000.00     635000.00    buy   647400.00   \n",
       "\n",
       "      profit           best_season  \n",
       "0  152970.00         autumn,spring  \n",
       "1  152700.00         autumn,spring  \n",
       "2  152100.00         autumn,spring  \n",
       "3  151500.00                spring  \n",
       "4  151500.00                spring  \n",
       "5  151500.00         autumn,spring  \n",
       "6  151500.00         autumn,spring  \n",
       "7  151492.50         autumn,spring  \n",
       "8  150600.00                spring  \n",
       "9  150000.00                spring  \n",
       "10 150000.00                spring  \n",
       "11 150000.00  autumn,spring,summer  \n",
       "12 150000.00                spring  \n",
       "13 150000.00                spring  \n",
       "14 150000.00                spring  \n",
       "15 150000.00                spring  \n",
       "16 150000.00  autumn,spring,summer  \n",
       "17 150000.00                spring  \n",
       "18 149700.00  autumn,spring,summer  \n",
       "19 149640.00  autumn,spring,summer  \n",
       "20 149400.00  autumn,spring,summer  "
      ]
     },
     "execution_count": 168,
     "metadata": {},
     "output_type": "execute_result"
    }
   ],
   "source": [
    "#Por lucratividade\n",
    "sample = report2[(report2['best_season'] != 'no_season') & (report2['status'] == 'buy')].sort_values('profit', ascending=False)\n",
    "sample = sample.iloc[0:21,:].copy()\n",
    "sample.reset_index(drop=True)"
   ]
  },
  {
   "cell_type": "code",
   "execution_count": 170,
   "metadata": {
    "ExecuteTime": {
     "end_time": "2021-08-10T19:50:17.230591Z",
     "start_time": "2021-08-10T19:50:17.205207Z"
    },
    "code_folding": [],
    "hidden": true,
    "hide_input": true
   },
   "outputs": [
    {
     "data": {
      "text/html": [
       "<div>\n",
       "<style scoped>\n",
       "    .dataframe tbody tr th:only-of-type {\n",
       "        vertical-align: middle;\n",
       "    }\n",
       "\n",
       "    .dataframe tbody tr th {\n",
       "        vertical-align: top;\n",
       "    }\n",
       "\n",
       "    .dataframe thead th {\n",
       "        text-align: right;\n",
       "    }\n",
       "</style>\n",
       "<table border=\"1\" class=\"dataframe\">\n",
       "  <thead>\n",
       "    <tr style=\"text-align: right;\">\n",
       "      <th></th>\n",
       "      <th>Valor USD</th>\n",
       "    </tr>\n",
       "  </thead>\n",
       "  <tbody>\n",
       "    <tr>\n",
       "      <th>Investimento Inicial</th>\n",
       "      <td>10548675.00</td>\n",
       "    </tr>\n",
       "    <tr>\n",
       "      <th>Lucro Esperado</th>\n",
       "      <td>3164602.50</td>\n",
       "    </tr>\n",
       "  </tbody>\n",
       "</table>\n",
       "</div>"
      ],
      "text/plain": [
       "                       Valor USD\n",
       "Investimento Inicial 10548675.00\n",
       "Lucro Esperado        3164602.50"
      ]
     },
     "execution_count": 170,
     "metadata": {},
     "output_type": "execute_result"
    }
   ],
   "source": [
    "#Lucratividade / Investimento e Lucro Esperado\n",
    "dic = {\"Investimento Inicial\": sample['price'].sum(), 'Lucro Esperado': sample['profit'].sum()}\n",
    "capital = pd.Series(dic).to_frame('Valor USD')\n",
    "capital"
   ]
  },
  {
   "cell_type": "markdown",
   "metadata": {
    "hidden": true
   },
   "source": [
    "### 5.3.2 Top 20 low-investment "
   ]
  },
  {
   "cell_type": "code",
   "execution_count": 171,
   "metadata": {
    "ExecuteTime": {
     "end_time": "2021-08-10T19:51:33.694529Z",
     "start_time": "2021-08-10T19:51:33.640821Z"
    },
    "code_folding": [],
    "hidden": true,
    "hide_input": true
   },
   "outputs": [
    {
     "data": {
      "text/html": [
       "<div>\n",
       "<style scoped>\n",
       "    .dataframe tbody tr th:only-of-type {\n",
       "        vertical-align: middle;\n",
       "    }\n",
       "\n",
       "    .dataframe tbody tr th {\n",
       "        vertical-align: top;\n",
       "    }\n",
       "\n",
       "    .dataframe thead th {\n",
       "        text-align: right;\n",
       "    }\n",
       "</style>\n",
       "<table border=\"1\" class=\"dataframe\">\n",
       "  <thead>\n",
       "    <tr style=\"text-align: right;\">\n",
       "      <th></th>\n",
       "      <th>id</th>\n",
       "      <th>zipcode</th>\n",
       "      <th>season</th>\n",
       "      <th>price</th>\n",
       "      <th>price_median</th>\n",
       "      <th>status</th>\n",
       "      <th>sell_price</th>\n",
       "      <th>profit</th>\n",
       "      <th>best_season</th>\n",
       "    </tr>\n",
       "  </thead>\n",
       "  <tbody>\n",
       "    <tr>\n",
       "      <th>0</th>\n",
       "      <td>1721801591</td>\n",
       "      <td>98146</td>\n",
       "      <td>winter</td>\n",
       "      <td>89950.00</td>\n",
       "      <td>312000.00</td>\n",
       "      <td>buy</td>\n",
       "      <td>116935.00</td>\n",
       "      <td>26985.00</td>\n",
       "      <td>autumn,spring,summer,winter</td>\n",
       "    </tr>\n",
       "    <tr>\n",
       "      <th>1</th>\n",
       "      <td>6929602721</td>\n",
       "      <td>98198</td>\n",
       "      <td>spring</td>\n",
       "      <td>95000.00</td>\n",
       "      <td>266750.00</td>\n",
       "      <td>buy</td>\n",
       "      <td>123500.00</td>\n",
       "      <td>28500.00</td>\n",
       "      <td>autumn,spring,summer,winter</td>\n",
       "    </tr>\n",
       "    <tr>\n",
       "      <th>2</th>\n",
       "      <td>2724200705</td>\n",
       "      <td>98198</td>\n",
       "      <td>autumn</td>\n",
       "      <td>95000.00</td>\n",
       "      <td>266750.00</td>\n",
       "      <td>buy</td>\n",
       "      <td>123500.00</td>\n",
       "      <td>28500.00</td>\n",
       "      <td>autumn,spring,summer,winter</td>\n",
       "    </tr>\n",
       "    <tr>\n",
       "      <th>3</th>\n",
       "      <td>7813200115</td>\n",
       "      <td>98178</td>\n",
       "      <td>summer</td>\n",
       "      <td>100000.00</td>\n",
       "      <td>279500.00</td>\n",
       "      <td>buy</td>\n",
       "      <td>130000.00</td>\n",
       "      <td>30000.00</td>\n",
       "      <td>autumn,spring,summer,winter</td>\n",
       "    </tr>\n",
       "    <tr>\n",
       "      <th>4</th>\n",
       "      <td>7211402105</td>\n",
       "      <td>98146</td>\n",
       "      <td>autumn</td>\n",
       "      <td>106000.00</td>\n",
       "      <td>312000.00</td>\n",
       "      <td>buy</td>\n",
       "      <td>137800.00</td>\n",
       "      <td>31800.00</td>\n",
       "      <td>autumn,spring,summer,winter</td>\n",
       "    </tr>\n",
       "    <tr>\n",
       "      <th>5</th>\n",
       "      <td>5111400086</td>\n",
       "      <td>98038</td>\n",
       "      <td>spring</td>\n",
       "      <td>110000.00</td>\n",
       "      <td>342500.00</td>\n",
       "      <td>buy</td>\n",
       "      <td>143000.00</td>\n",
       "      <td>33000.00</td>\n",
       "      <td>autumn,spring,summer,winter</td>\n",
       "    </tr>\n",
       "    <tr>\n",
       "      <th>6</th>\n",
       "      <td>7889600230</td>\n",
       "      <td>98146</td>\n",
       "      <td>autumn</td>\n",
       "      <td>114000.00</td>\n",
       "      <td>312000.00</td>\n",
       "      <td>buy</td>\n",
       "      <td>148200.00</td>\n",
       "      <td>34200.00</td>\n",
       "      <td>autumn,spring,summer,winter</td>\n",
       "    </tr>\n",
       "    <tr>\n",
       "      <th>7</th>\n",
       "      <td>892000025</td>\n",
       "      <td>98146</td>\n",
       "      <td>summer</td>\n",
       "      <td>114975.00</td>\n",
       "      <td>312000.00</td>\n",
       "      <td>buy</td>\n",
       "      <td>149467.50</td>\n",
       "      <td>34492.50</td>\n",
       "      <td>autumn,spring,summer,winter</td>\n",
       "    </tr>\n",
       "    <tr>\n",
       "      <th>8</th>\n",
       "      <td>623049232</td>\n",
       "      <td>98146</td>\n",
       "      <td>summer</td>\n",
       "      <td>115000.00</td>\n",
       "      <td>312000.00</td>\n",
       "      <td>buy</td>\n",
       "      <td>149500.00</td>\n",
       "      <td>34500.00</td>\n",
       "      <td>autumn,spring,summer,winter</td>\n",
       "    </tr>\n",
       "    <tr>\n",
       "      <th>9</th>\n",
       "      <td>8151600101</td>\n",
       "      <td>98146</td>\n",
       "      <td>winter</td>\n",
       "      <td>115000.00</td>\n",
       "      <td>312000.00</td>\n",
       "      <td>buy</td>\n",
       "      <td>149500.00</td>\n",
       "      <td>34500.00</td>\n",
       "      <td>autumn,spring,summer,winter</td>\n",
       "    </tr>\n",
       "    <tr>\n",
       "      <th>10</th>\n",
       "      <td>7889601320</td>\n",
       "      <td>98146</td>\n",
       "      <td>summer</td>\n",
       "      <td>115000.00</td>\n",
       "      <td>312000.00</td>\n",
       "      <td>buy</td>\n",
       "      <td>149500.00</td>\n",
       "      <td>34500.00</td>\n",
       "      <td>autumn,spring,summer,winter</td>\n",
       "    </tr>\n",
       "    <tr>\n",
       "      <th>11</th>\n",
       "      <td>1545807810</td>\n",
       "      <td>98038</td>\n",
       "      <td>autumn</td>\n",
       "      <td>118000.00</td>\n",
       "      <td>342500.00</td>\n",
       "      <td>buy</td>\n",
       "      <td>153400.00</td>\n",
       "      <td>35400.00</td>\n",
       "      <td>autumn,spring,summer,winter</td>\n",
       "    </tr>\n",
       "    <tr>\n",
       "      <th>12</th>\n",
       "      <td>3352402250</td>\n",
       "      <td>98178</td>\n",
       "      <td>autumn</td>\n",
       "      <td>119900.00</td>\n",
       "      <td>279500.00</td>\n",
       "      <td>buy</td>\n",
       "      <td>155870.00</td>\n",
       "      <td>35970.00</td>\n",
       "      <td>autumn,spring,summer,winter</td>\n",
       "    </tr>\n",
       "    <tr>\n",
       "      <th>13</th>\n",
       "      <td>7893203565</td>\n",
       "      <td>98198</td>\n",
       "      <td>autumn</td>\n",
       "      <td>120000.00</td>\n",
       "      <td>266750.00</td>\n",
       "      <td>buy</td>\n",
       "      <td>156000.00</td>\n",
       "      <td>36000.00</td>\n",
       "      <td>autumn,spring,summer,winter</td>\n",
       "    </tr>\n",
       "    <tr>\n",
       "      <th>14</th>\n",
       "      <td>8151600470</td>\n",
       "      <td>98146</td>\n",
       "      <td>summer</td>\n",
       "      <td>121800.00</td>\n",
       "      <td>312000.00</td>\n",
       "      <td>buy</td>\n",
       "      <td>158340.00</td>\n",
       "      <td>36540.00</td>\n",
       "      <td>autumn,spring,summer,winter</td>\n",
       "    </tr>\n",
       "    <tr>\n",
       "      <th>15</th>\n",
       "      <td>7454000145</td>\n",
       "      <td>98126</td>\n",
       "      <td>winter</td>\n",
       "      <td>122000.00</td>\n",
       "      <td>396587.50</td>\n",
       "      <td>buy</td>\n",
       "      <td>158600.00</td>\n",
       "      <td>36600.00</td>\n",
       "      <td>autumn,spring,summer,winter</td>\n",
       "    </tr>\n",
       "    <tr>\n",
       "      <th>16</th>\n",
       "      <td>6303401150</td>\n",
       "      <td>98146</td>\n",
       "      <td>autumn</td>\n",
       "      <td>125000.00</td>\n",
       "      <td>312000.00</td>\n",
       "      <td>buy</td>\n",
       "      <td>162500.00</td>\n",
       "      <td>37500.00</td>\n",
       "      <td>autumn,spring,summer,winter</td>\n",
       "    </tr>\n",
       "    <tr>\n",
       "      <th>17</th>\n",
       "      <td>723049530</td>\n",
       "      <td>98146</td>\n",
       "      <td>spring</td>\n",
       "      <td>126500.00</td>\n",
       "      <td>312000.00</td>\n",
       "      <td>buy</td>\n",
       "      <td>164450.00</td>\n",
       "      <td>37950.00</td>\n",
       "      <td>autumn,spring,summer,winter</td>\n",
       "    </tr>\n",
       "    <tr>\n",
       "      <th>18</th>\n",
       "      <td>421049114</td>\n",
       "      <td>98003</td>\n",
       "      <td>autumn</td>\n",
       "      <td>128000.00</td>\n",
       "      <td>269500.00</td>\n",
       "      <td>buy</td>\n",
       "      <td>166400.00</td>\n",
       "      <td>38400.00</td>\n",
       "      <td>autumn,spring,summer,winter</td>\n",
       "    </tr>\n",
       "    <tr>\n",
       "      <th>19</th>\n",
       "      <td>2500600289</td>\n",
       "      <td>98198</td>\n",
       "      <td>spring</td>\n",
       "      <td>130000.00</td>\n",
       "      <td>266750.00</td>\n",
       "      <td>buy</td>\n",
       "      <td>169000.00</td>\n",
       "      <td>39000.00</td>\n",
       "      <td>autumn,spring,summer,winter</td>\n",
       "    </tr>\n",
       "    <tr>\n",
       "      <th>20</th>\n",
       "      <td>7973202712</td>\n",
       "      <td>98146</td>\n",
       "      <td>spring</td>\n",
       "      <td>130000.00</td>\n",
       "      <td>312000.00</td>\n",
       "      <td>buy</td>\n",
       "      <td>169000.00</td>\n",
       "      <td>39000.00</td>\n",
       "      <td>autumn,spring,summer,winter</td>\n",
       "    </tr>\n",
       "  </tbody>\n",
       "</table>\n",
       "</div>"
      ],
      "text/plain": [
       "            id  zipcode  season     price  price_median status  sell_price  \\\n",
       "0   1721801591    98146  winter  89950.00     312000.00    buy   116935.00   \n",
       "1   6929602721    98198  spring  95000.00     266750.00    buy   123500.00   \n",
       "2   2724200705    98198  autumn  95000.00     266750.00    buy   123500.00   \n",
       "3   7813200115    98178  summer 100000.00     279500.00    buy   130000.00   \n",
       "4   7211402105    98146  autumn 106000.00     312000.00    buy   137800.00   \n",
       "5   5111400086    98038  spring 110000.00     342500.00    buy   143000.00   \n",
       "6   7889600230    98146  autumn 114000.00     312000.00    buy   148200.00   \n",
       "7    892000025    98146  summer 114975.00     312000.00    buy   149467.50   \n",
       "8    623049232    98146  summer 115000.00     312000.00    buy   149500.00   \n",
       "9   8151600101    98146  winter 115000.00     312000.00    buy   149500.00   \n",
       "10  7889601320    98146  summer 115000.00     312000.00    buy   149500.00   \n",
       "11  1545807810    98038  autumn 118000.00     342500.00    buy   153400.00   \n",
       "12  3352402250    98178  autumn 119900.00     279500.00    buy   155870.00   \n",
       "13  7893203565    98198  autumn 120000.00     266750.00    buy   156000.00   \n",
       "14  8151600470    98146  summer 121800.00     312000.00    buy   158340.00   \n",
       "15  7454000145    98126  winter 122000.00     396587.50    buy   158600.00   \n",
       "16  6303401150    98146  autumn 125000.00     312000.00    buy   162500.00   \n",
       "17   723049530    98146  spring 126500.00     312000.00    buy   164450.00   \n",
       "18   421049114    98003  autumn 128000.00     269500.00    buy   166400.00   \n",
       "19  2500600289    98198  spring 130000.00     266750.00    buy   169000.00   \n",
       "20  7973202712    98146  spring 130000.00     312000.00    buy   169000.00   \n",
       "\n",
       "     profit                  best_season  \n",
       "0  26985.00  autumn,spring,summer,winter  \n",
       "1  28500.00  autumn,spring,summer,winter  \n",
       "2  28500.00  autumn,spring,summer,winter  \n",
       "3  30000.00  autumn,spring,summer,winter  \n",
       "4  31800.00  autumn,spring,summer,winter  \n",
       "5  33000.00  autumn,spring,summer,winter  \n",
       "6  34200.00  autumn,spring,summer,winter  \n",
       "7  34492.50  autumn,spring,summer,winter  \n",
       "8  34500.00  autumn,spring,summer,winter  \n",
       "9  34500.00  autumn,spring,summer,winter  \n",
       "10 34500.00  autumn,spring,summer,winter  \n",
       "11 35400.00  autumn,spring,summer,winter  \n",
       "12 35970.00  autumn,spring,summer,winter  \n",
       "13 36000.00  autumn,spring,summer,winter  \n",
       "14 36540.00  autumn,spring,summer,winter  \n",
       "15 36600.00  autumn,spring,summer,winter  \n",
       "16 37500.00  autumn,spring,summer,winter  \n",
       "17 37950.00  autumn,spring,summer,winter  \n",
       "18 38400.00  autumn,spring,summer,winter  \n",
       "19 39000.00  autumn,spring,summer,winter  \n",
       "20 39000.00  autumn,spring,summer,winter  "
      ]
     },
     "execution_count": 171,
     "metadata": {},
     "output_type": "execute_result"
    }
   ],
   "source": [
    "#Baixo investimento\n",
    "sample2 = report2[(report2['best_season'] != 'no_season') & (report2['status'] == 'buy')].sort_values('price', ascending=True)\n",
    "sample2 = sample2.iloc[0:21,:].copy()\n",
    "sample2.reset_index(drop=True)"
   ]
  },
  {
   "cell_type": "code",
   "execution_count": 172,
   "metadata": {
    "ExecuteTime": {
     "end_time": "2021-08-10T19:51:54.756103Z",
     "start_time": "2021-08-10T19:51:54.725825Z"
    },
    "code_folding": [],
    "hidden": true,
    "hide_input": true
   },
   "outputs": [
    {
     "data": {
      "text/html": [
       "<div>\n",
       "<style scoped>\n",
       "    .dataframe tbody tr th:only-of-type {\n",
       "        vertical-align: middle;\n",
       "    }\n",
       "\n",
       "    .dataframe tbody tr th {\n",
       "        vertical-align: top;\n",
       "    }\n",
       "\n",
       "    .dataframe thead th {\n",
       "        text-align: right;\n",
       "    }\n",
       "</style>\n",
       "<table border=\"1\" class=\"dataframe\">\n",
       "  <thead>\n",
       "    <tr style=\"text-align: right;\">\n",
       "      <th></th>\n",
       "      <th>Valor USD</th>\n",
       "    </tr>\n",
       "  </thead>\n",
       "  <tbody>\n",
       "    <tr>\n",
       "      <th>Investimento Inicial</th>\n",
       "      <td>2411125.00</td>\n",
       "    </tr>\n",
       "    <tr>\n",
       "      <th>Lucro Esperado</th>\n",
       "      <td>723337.50</td>\n",
       "    </tr>\n",
       "  </tbody>\n",
       "</table>\n",
       "</div>"
      ],
      "text/plain": [
       "                      Valor USD\n",
       "Investimento Inicial 2411125.00\n",
       "Lucro Esperado        723337.50"
      ]
     },
     "execution_count": 172,
     "metadata": {},
     "output_type": "execute_result"
    }
   ],
   "source": [
    "#Baixo investimento / Investimento e Lucro Esperado\n",
    "dic2 = {\"Investimento Inicial\": sample2['price'].sum(), 'Lucro Esperado': sample2['profit'].sum()}\n",
    "capital2 = pd.Series(dic2).to_frame('Valor USD')\n",
    "capital2"
   ]
  },
  {
   "cell_type": "markdown",
   "metadata": {
    "hidden": true
   },
   "source": [
    "### 5.3.3 Top 20 to renovated by profit\n",
    "*O valor da reforma calculado: 8% do valor da compra de imóveis em condição 2 e 10% para imóveis em condições 1*"
   ]
  },
  {
   "cell_type": "code",
   "execution_count": 176,
   "metadata": {
    "ExecuteTime": {
     "end_time": "2021-08-10T19:54:15.098078Z",
     "start_time": "2021-08-10T19:54:14.987729Z"
    },
    "code_folding": [],
    "hidden": true,
    "hide_input": true
   },
   "outputs": [
    {
     "data": {
      "text/html": [
       "<div>\n",
       "<style scoped>\n",
       "    .dataframe tbody tr th:only-of-type {\n",
       "        vertical-align: middle;\n",
       "    }\n",
       "\n",
       "    .dataframe tbody tr th {\n",
       "        vertical-align: top;\n",
       "    }\n",
       "\n",
       "    .dataframe thead th {\n",
       "        text-align: right;\n",
       "    }\n",
       "</style>\n",
       "<table border=\"1\" class=\"dataframe\">\n",
       "  <thead>\n",
       "    <tr style=\"text-align: right;\">\n",
       "      <th></th>\n",
       "      <th>id</th>\n",
       "      <th>zipcode</th>\n",
       "      <th>season</th>\n",
       "      <th>price</th>\n",
       "      <th>condition</th>\n",
       "      <th>renovate_cost</th>\n",
       "      <th>sell_price</th>\n",
       "      <th>profit_adjusted</th>\n",
       "    </tr>\n",
       "  </thead>\n",
       "  <tbody>\n",
       "    <tr>\n",
       "      <th>0</th>\n",
       "      <td>3623500135</td>\n",
       "      <td>98040</td>\n",
       "      <td>spring</td>\n",
       "      <td>800000.00</td>\n",
       "      <td>2</td>\n",
       "      <td>64000.00</td>\n",
       "      <td>1040000.00</td>\n",
       "      <td>176000.00</td>\n",
       "    </tr>\n",
       "    <tr>\n",
       "      <th>1</th>\n",
       "      <td>5459500165</td>\n",
       "      <td>98040</td>\n",
       "      <td>summer</td>\n",
       "      <td>623000.00</td>\n",
       "      <td>2</td>\n",
       "      <td>49840.00</td>\n",
       "      <td>809900.00</td>\n",
       "      <td>137060.00</td>\n",
       "    </tr>\n",
       "    <tr>\n",
       "      <th>2</th>\n",
       "      <td>6788200605</td>\n",
       "      <td>98112</td>\n",
       "      <td>winter</td>\n",
       "      <td>575000.00</td>\n",
       "      <td>2</td>\n",
       "      <td>46000.00</td>\n",
       "      <td>747500.00</td>\n",
       "      <td>126500.00</td>\n",
       "    </tr>\n",
       "    <tr>\n",
       "      <th>3</th>\n",
       "      <td>6072760390</td>\n",
       "      <td>98006</td>\n",
       "      <td>spring</td>\n",
       "      <td>547500.00</td>\n",
       "      <td>2</td>\n",
       "      <td>43800.00</td>\n",
       "      <td>711750.00</td>\n",
       "      <td>120450.00</td>\n",
       "    </tr>\n",
       "    <tr>\n",
       "      <th>4</th>\n",
       "      <td>3886902445</td>\n",
       "      <td>98033</td>\n",
       "      <td>winter</td>\n",
       "      <td>535000.00</td>\n",
       "      <td>1</td>\n",
       "      <td>53500.00</td>\n",
       "      <td>695500.00</td>\n",
       "      <td>107000.00</td>\n",
       "    </tr>\n",
       "    <tr>\n",
       "      <th>5</th>\n",
       "      <td>3578400950</td>\n",
       "      <td>98074</td>\n",
       "      <td>summer</td>\n",
       "      <td>492450.00</td>\n",
       "      <td>2</td>\n",
       "      <td>39396.00</td>\n",
       "      <td>640185.00</td>\n",
       "      <td>108339.00</td>\n",
       "    </tr>\n",
       "    <tr>\n",
       "      <th>6</th>\n",
       "      <td>9828701745</td>\n",
       "      <td>98112</td>\n",
       "      <td>winter</td>\n",
       "      <td>480000.00</td>\n",
       "      <td>2</td>\n",
       "      <td>38400.00</td>\n",
       "      <td>624000.00</td>\n",
       "      <td>105600.00</td>\n",
       "    </tr>\n",
       "    <tr>\n",
       "      <th>7</th>\n",
       "      <td>6205500030</td>\n",
       "      <td>98005</td>\n",
       "      <td>autumn</td>\n",
       "      <td>480000.00</td>\n",
       "      <td>2</td>\n",
       "      <td>38400.00</td>\n",
       "      <td>624000.00</td>\n",
       "      <td>105600.00</td>\n",
       "    </tr>\n",
       "    <tr>\n",
       "      <th>8</th>\n",
       "      <td>6672700120</td>\n",
       "      <td>98052</td>\n",
       "      <td>autumn</td>\n",
       "      <td>459000.00</td>\n",
       "      <td>2</td>\n",
       "      <td>36720.00</td>\n",
       "      <td>596700.00</td>\n",
       "      <td>100980.00</td>\n",
       "    </tr>\n",
       "    <tr>\n",
       "      <th>9</th>\n",
       "      <td>1868901275</td>\n",
       "      <td>98115</td>\n",
       "      <td>winter</td>\n",
       "      <td>455000.00</td>\n",
       "      <td>2</td>\n",
       "      <td>36400.00</td>\n",
       "      <td>591500.00</td>\n",
       "      <td>100100.00</td>\n",
       "    </tr>\n",
       "    <tr>\n",
       "      <th>10</th>\n",
       "      <td>9187200245</td>\n",
       "      <td>98122</td>\n",
       "      <td>winter</td>\n",
       "      <td>441000.00</td>\n",
       "      <td>1</td>\n",
       "      <td>44100.00</td>\n",
       "      <td>573300.00</td>\n",
       "      <td>88200.00</td>\n",
       "    </tr>\n",
       "    <tr>\n",
       "      <th>11</th>\n",
       "      <td>9187200095</td>\n",
       "      <td>98122</td>\n",
       "      <td>autumn</td>\n",
       "      <td>432500.00</td>\n",
       "      <td>1</td>\n",
       "      <td>43250.00</td>\n",
       "      <td>562250.00</td>\n",
       "      <td>86500.00</td>\n",
       "    </tr>\n",
       "    <tr>\n",
       "      <th>12</th>\n",
       "      <td>2767800065</td>\n",
       "      <td>98107</td>\n",
       "      <td>winter</td>\n",
       "      <td>429000.00</td>\n",
       "      <td>2</td>\n",
       "      <td>34320.00</td>\n",
       "      <td>557700.00</td>\n",
       "      <td>94380.00</td>\n",
       "    </tr>\n",
       "    <tr>\n",
       "      <th>13</th>\n",
       "      <td>2128000160</td>\n",
       "      <td>98033</td>\n",
       "      <td>autumn</td>\n",
       "      <td>429000.00</td>\n",
       "      <td>2</td>\n",
       "      <td>34320.00</td>\n",
       "      <td>557700.00</td>\n",
       "      <td>94380.00</td>\n",
       "    </tr>\n",
       "    <tr>\n",
       "      <th>14</th>\n",
       "      <td>5015001680</td>\n",
       "      <td>98112</td>\n",
       "      <td>spring</td>\n",
       "      <td>427000.00</td>\n",
       "      <td>1</td>\n",
       "      <td>42700.00</td>\n",
       "      <td>555100.00</td>\n",
       "      <td>85400.00</td>\n",
       "    </tr>\n",
       "    <tr>\n",
       "      <th>15</th>\n",
       "      <td>2425700022</td>\n",
       "      <td>98004</td>\n",
       "      <td>autumn</td>\n",
       "      <td>425000.00</td>\n",
       "      <td>2</td>\n",
       "      <td>34000.00</td>\n",
       "      <td>552500.00</td>\n",
       "      <td>93500.00</td>\n",
       "    </tr>\n",
       "    <tr>\n",
       "      <th>16</th>\n",
       "      <td>7518505160</td>\n",
       "      <td>98117</td>\n",
       "      <td>autumn</td>\n",
       "      <td>417000.00</td>\n",
       "      <td>2</td>\n",
       "      <td>33360.00</td>\n",
       "      <td>542100.00</td>\n",
       "      <td>91740.00</td>\n",
       "    </tr>\n",
       "    <tr>\n",
       "      <th>17</th>\n",
       "      <td>6817800330</td>\n",
       "      <td>98074</td>\n",
       "      <td>summer</td>\n",
       "      <td>405000.00</td>\n",
       "      <td>2</td>\n",
       "      <td>32400.00</td>\n",
       "      <td>526500.00</td>\n",
       "      <td>89100.00</td>\n",
       "    </tr>\n",
       "    <tr>\n",
       "      <th>18</th>\n",
       "      <td>6844702290</td>\n",
       "      <td>98115</td>\n",
       "      <td>spring</td>\n",
       "      <td>400000.00</td>\n",
       "      <td>2</td>\n",
       "      <td>32000.00</td>\n",
       "      <td>520000.00</td>\n",
       "      <td>88000.00</td>\n",
       "    </tr>\n",
       "    <tr>\n",
       "      <th>19</th>\n",
       "      <td>2206900065</td>\n",
       "      <td>98006</td>\n",
       "      <td>spring</td>\n",
       "      <td>380000.00</td>\n",
       "      <td>1</td>\n",
       "      <td>38000.00</td>\n",
       "      <td>494000.00</td>\n",
       "      <td>76000.00</td>\n",
       "    </tr>\n",
       "    <tr>\n",
       "      <th>20</th>\n",
       "      <td>5175800060</td>\n",
       "      <td>98006</td>\n",
       "      <td>summer</td>\n",
       "      <td>365000.00</td>\n",
       "      <td>1</td>\n",
       "      <td>36500.00</td>\n",
       "      <td>474500.00</td>\n",
       "      <td>73000.00</td>\n",
       "    </tr>\n",
       "  </tbody>\n",
       "</table>\n",
       "</div>"
      ],
      "text/plain": [
       "            id  zipcode  season     price  condition  renovate_cost  \\\n",
       "0   3623500135    98040  spring 800000.00          2       64000.00   \n",
       "1   5459500165    98040  summer 623000.00          2       49840.00   \n",
       "2   6788200605    98112  winter 575000.00          2       46000.00   \n",
       "3   6072760390    98006  spring 547500.00          2       43800.00   \n",
       "4   3886902445    98033  winter 535000.00          1       53500.00   \n",
       "5   3578400950    98074  summer 492450.00          2       39396.00   \n",
       "6   9828701745    98112  winter 480000.00          2       38400.00   \n",
       "7   6205500030    98005  autumn 480000.00          2       38400.00   \n",
       "8   6672700120    98052  autumn 459000.00          2       36720.00   \n",
       "9   1868901275    98115  winter 455000.00          2       36400.00   \n",
       "10  9187200245    98122  winter 441000.00          1       44100.00   \n",
       "11  9187200095    98122  autumn 432500.00          1       43250.00   \n",
       "12  2767800065    98107  winter 429000.00          2       34320.00   \n",
       "13  2128000160    98033  autumn 429000.00          2       34320.00   \n",
       "14  5015001680    98112  spring 427000.00          1       42700.00   \n",
       "15  2425700022    98004  autumn 425000.00          2       34000.00   \n",
       "16  7518505160    98117  autumn 417000.00          2       33360.00   \n",
       "17  6817800330    98074  summer 405000.00          2       32400.00   \n",
       "18  6844702290    98115  spring 400000.00          2       32000.00   \n",
       "19  2206900065    98006  spring 380000.00          1       38000.00   \n",
       "20  5175800060    98006  summer 365000.00          1       36500.00   \n",
       "\n",
       "    sell_price  profit_adjusted  \n",
       "0   1040000.00        176000.00  \n",
       "1    809900.00        137060.00  \n",
       "2    747500.00        126500.00  \n",
       "3    711750.00        120450.00  \n",
       "4    695500.00        107000.00  \n",
       "5    640185.00        108339.00  \n",
       "6    624000.00        105600.00  \n",
       "7    624000.00        105600.00  \n",
       "8    596700.00        100980.00  \n",
       "9    591500.00        100100.00  \n",
       "10   573300.00         88200.00  \n",
       "11   562250.00         86500.00  \n",
       "12   557700.00         94380.00  \n",
       "13   557700.00         94380.00  \n",
       "14   555100.00         85400.00  \n",
       "15   552500.00         93500.00  \n",
       "16   542100.00         91740.00  \n",
       "17   526500.00         89100.00  \n",
       "18   520000.00         88000.00  \n",
       "19   494000.00         76000.00  \n",
       "20   474500.00         73000.00  "
      ]
     },
     "execution_count": 176,
     "metadata": {},
     "output_type": "execute_result"
    }
   ],
   "source": [
    "#Imóveis para Reforma com maior ganho\n",
    "report3 = df9[(df9['best_season'] != 'no_season') & (df9['status'] == 'dont buy')]\n",
    "report3 = report3[report3['condition'] < 3].sort_values('profit',ascending=False)\n",
    "report3 = report3[['id', 'zipcode', 'season', 'price', 'price_median', 'condition', 'sell_price', 'profit', 'best_season']]\n",
    "sample3 = report3.iloc[0:21,:].copy().reset_index()\n",
    "sample3 = sample3.drop('index', axis=1)\n",
    "for i in range(len(sample3)):\n",
    "    if sample3.loc[i, 'condition'] == 2:\n",
    "        sample3.loc[i, 'renovate_cost'] = sample3.loc[i, 'price'] * 0.08\n",
    "    else:\n",
    "        sample3.loc[i, 'renovate_cost'] = sample3.loc[i, 'price'] * 0.10\n",
    "\n",
    "for i in range(len(sample3)):\n",
    "    sample3.loc[i, 'profit_adjusted'] = sample3.loc[i, 'profit'] - sample3.loc[i, 'renovate_cost']\n",
    "    \n",
    "sample3 = sample3[['id','zipcode','season','price','condition','renovate_cost','sell_price','profit_adjusted']]\n",
    "sample3"
   ]
  },
  {
   "cell_type": "code",
   "execution_count": 177,
   "metadata": {
    "ExecuteTime": {
     "end_time": "2021-08-10T19:54:24.540042Z",
     "start_time": "2021-08-10T19:54:24.509772Z"
    },
    "code_folding": [
     0
    ],
    "hidden": true,
    "hide_input": true
   },
   "outputs": [
    {
     "data": {
      "text/html": [
       "<div>\n",
       "<style scoped>\n",
       "    .dataframe tbody tr th:only-of-type {\n",
       "        vertical-align: middle;\n",
       "    }\n",
       "\n",
       "    .dataframe tbody tr th {\n",
       "        vertical-align: top;\n",
       "    }\n",
       "\n",
       "    .dataframe thead th {\n",
       "        text-align: right;\n",
       "    }\n",
       "</style>\n",
       "<table border=\"1\" class=\"dataframe\">\n",
       "  <thead>\n",
       "    <tr style=\"text-align: right;\">\n",
       "      <th></th>\n",
       "      <th>Valor USD</th>\n",
       "    </tr>\n",
       "  </thead>\n",
       "  <tbody>\n",
       "    <tr>\n",
       "      <th>Investimento Inicial</th>\n",
       "      <td>9997450.00</td>\n",
       "    </tr>\n",
       "    <tr>\n",
       "      <th>Investimento em reforma</th>\n",
       "      <td>851406.00</td>\n",
       "    </tr>\n",
       "    <tr>\n",
       "      <th>Lucro Esperado</th>\n",
       "      <td>2147829.00</td>\n",
       "    </tr>\n",
       "  </tbody>\n",
       "</table>\n",
       "</div>"
      ],
      "text/plain": [
       "                         Valor USD\n",
       "Investimento Inicial    9997450.00\n",
       "Investimento em reforma  851406.00\n",
       "Lucro Esperado          2147829.00"
      ]
     },
     "execution_count": 177,
     "metadata": {},
     "output_type": "execute_result"
    }
   ],
   "source": [
    "#Imóveis para Reforma com maior ganho / Investimento e Lucro Esperado\n",
    "dic3 = {\"Investimento Inicial\": sample3['price'].sum(),\n",
    "            \"Investimento em reforma\": sample3['renovate_cost'].sum(), 'Lucro Esperado': sample3['profit_adjusted'].sum()}\n",
    "capital3 = pd.Series(dic3).to_frame('Valor USD')\n",
    "capital3"
   ]
  }
 ],
 "metadata": {
  "kernelspec": {
   "display_name": "Python 3",
   "language": "python",
   "name": "python3"
  },
  "language_info": {
   "codemirror_mode": {
    "name": "ipython",
    "version": 3
   },
   "file_extension": ".py",
   "mimetype": "text/x-python",
   "name": "python",
   "nbconvert_exporter": "python",
   "pygments_lexer": "ipython3",
   "version": "3.8.5"
  }
 },
 "nbformat": 4,
 "nbformat_minor": 4
}
